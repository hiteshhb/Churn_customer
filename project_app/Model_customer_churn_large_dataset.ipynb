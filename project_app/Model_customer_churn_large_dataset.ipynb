{
 "cells": [
  {
   "cell_type": "markdown",
   "id": "5a30562c",
   "metadata": {},
   "source": [
    "## Project Name: customer_churn_large_dataset"
   ]
  },
  {
   "cell_type": "markdown",
   "id": "7984edd2",
   "metadata": {},
   "source": [
    "### Project Type:Supervised Machine Learning Model using Classification"
   ]
  },
  {
   "cell_type": "markdown",
   "id": "92029c63",
   "metadata": {},
   "source": [
    "## Step 1:Problem Statement"
   ]
  },
  {
   "cell_type": "raw",
   "id": "716c821e",
   "metadata": {},
   "source": [
    "Develop a machine learning model to predict customer churn based on historical customer data. You will follow a typical machine learning project pipeline, from data preprocessing to model deployment."
   ]
  },
  {
   "cell_type": "markdown",
   "id": "fb7ab842",
   "metadata": {},
   "source": [
    "#### Main Goal of Our Project:"
   ]
  },
  {
   "cell_type": "raw",
   "id": "637b30a4",
   "metadata": {},
   "source": [
    "This project established model to predict customer churn based on historical customer data using supervised Machine Learning Classification Algorithams.\n",
    "\n",
    "Note: Where positive response (1) means customer is churn and negative response (0) means customer is not churn."
   ]
  },
  {
   "cell_type": "markdown",
   "id": "94642c5d",
   "metadata": {},
   "source": [
    "## Step 2:Data Gathering "
   ]
  },
  {
   "cell_type": "markdown",
   "id": "b7d02662",
   "metadata": {},
   "source": [
    "#### Importing Necessary Libraries"
   ]
  },
  {
   "cell_type": "code",
   "execution_count": 1,
   "id": "b3f28b4c",
   "metadata": {},
   "outputs": [],
   "source": [
    "import pandas as pd\n",
    "import numpy as np\n",
    "\n",
    "# Data visualization libraries\n",
    "import seaborn as sns\n",
    "import matplotlib.pyplot as plt\n",
    "\n",
    "# for checking Multicollinearity\n",
    "from statsmodels.stats.outliers_influence import variance_inflation_factor\n",
    "\n",
    "# Preprocessing libraries\n",
    "from sklearn.preprocessing import StandardScaler, MinMaxScaler, OrdinalEncoder, PolynomialFeatures\n",
    "\n",
    "# for model implementation\n",
    "from sklearn.linear_model import LogisticRegression\n",
    "from sklearn.neighbors import KNeighborsClassifier\n",
    "from sklearn.impute import KNNImputer\n",
    "from sklearn.tree import DecisionTreeClassifier, plot_tree\n",
    "from sklearn.ensemble import RandomForestClassifier, AdaBoostClassifier\n",
    "from sklearn.svm import SVC\n",
    "from sklearn.naive_bayes import GaussianNB, BernoulliNB\n",
    "\n",
    "# Model selection libraries\n",
    "from sklearn.model_selection import train_test_split, GridSearchCV, RandomizedSearchCV\n",
    "from sklearn.model_selection import cross_validate, cross_val_score\n",
    "\n",
    "# for performance metrics\n",
    "from sklearn.metrics import classification_report,confusion_matrix,accuracy_score, ConfusionMatrixDisplay, accuracy_score\n",
    "from sklearn.metrics import roc_auc_score, log_loss, precision_score, f1_score, recall_score, auc, roc_curve\n",
    "\n",
    "\n",
    "\n",
    "# data storing libraries\n",
    "import json\n",
    "import pickle\n",
    "\n",
    "import warnings\n",
    "warnings.filterwarnings(\"ignore\")\n",
    "\n",
    "%matplotlib inline"
   ]
  },
  {
   "cell_type": "code",
   "execution_count": 2,
   "id": "e10cbabf",
   "metadata": {},
   "outputs": [
    {
     "data": {
      "text/html": [
       "<div>\n",
       "<style scoped>\n",
       "    .dataframe tbody tr th:only-of-type {\n",
       "        vertical-align: middle;\n",
       "    }\n",
       "\n",
       "    .dataframe tbody tr th {\n",
       "        vertical-align: top;\n",
       "    }\n",
       "\n",
       "    .dataframe thead th {\n",
       "        text-align: right;\n",
       "    }\n",
       "</style>\n",
       "<table border=\"1\" class=\"dataframe\">\n",
       "  <thead>\n",
       "    <tr style=\"text-align: right;\">\n",
       "      <th></th>\n",
       "      <th>CustomerID</th>\n",
       "      <th>Name</th>\n",
       "      <th>Age</th>\n",
       "      <th>Gender</th>\n",
       "      <th>Location</th>\n",
       "      <th>Subscription_Length_Months</th>\n",
       "      <th>Monthly_Bill</th>\n",
       "      <th>Total_Usage_GB</th>\n",
       "      <th>Churn</th>\n",
       "    </tr>\n",
       "  </thead>\n",
       "  <tbody>\n",
       "    <tr>\n",
       "      <th>0</th>\n",
       "      <td>1</td>\n",
       "      <td>Customer_1</td>\n",
       "      <td>63</td>\n",
       "      <td>Male</td>\n",
       "      <td>Los Angeles</td>\n",
       "      <td>17</td>\n",
       "      <td>73.36</td>\n",
       "      <td>236</td>\n",
       "      <td>0</td>\n",
       "    </tr>\n",
       "    <tr>\n",
       "      <th>1</th>\n",
       "      <td>2</td>\n",
       "      <td>Customer_2</td>\n",
       "      <td>62</td>\n",
       "      <td>Female</td>\n",
       "      <td>New York</td>\n",
       "      <td>1</td>\n",
       "      <td>48.76</td>\n",
       "      <td>172</td>\n",
       "      <td>0</td>\n",
       "    </tr>\n",
       "    <tr>\n",
       "      <th>2</th>\n",
       "      <td>3</td>\n",
       "      <td>Customer_3</td>\n",
       "      <td>24</td>\n",
       "      <td>Female</td>\n",
       "      <td>Los Angeles</td>\n",
       "      <td>5</td>\n",
       "      <td>85.47</td>\n",
       "      <td>460</td>\n",
       "      <td>0</td>\n",
       "    </tr>\n",
       "    <tr>\n",
       "      <th>3</th>\n",
       "      <td>4</td>\n",
       "      <td>Customer_4</td>\n",
       "      <td>36</td>\n",
       "      <td>Female</td>\n",
       "      <td>Miami</td>\n",
       "      <td>3</td>\n",
       "      <td>97.94</td>\n",
       "      <td>297</td>\n",
       "      <td>1</td>\n",
       "    </tr>\n",
       "    <tr>\n",
       "      <th>4</th>\n",
       "      <td>5</td>\n",
       "      <td>Customer_5</td>\n",
       "      <td>46</td>\n",
       "      <td>Female</td>\n",
       "      <td>Miami</td>\n",
       "      <td>19</td>\n",
       "      <td>58.14</td>\n",
       "      <td>266</td>\n",
       "      <td>0</td>\n",
       "    </tr>\n",
       "    <tr>\n",
       "      <th>...</th>\n",
       "      <td>...</td>\n",
       "      <td>...</td>\n",
       "      <td>...</td>\n",
       "      <td>...</td>\n",
       "      <td>...</td>\n",
       "      <td>...</td>\n",
       "      <td>...</td>\n",
       "      <td>...</td>\n",
       "      <td>...</td>\n",
       "    </tr>\n",
       "    <tr>\n",
       "      <th>99995</th>\n",
       "      <td>99996</td>\n",
       "      <td>Customer_99996</td>\n",
       "      <td>33</td>\n",
       "      <td>Male</td>\n",
       "      <td>Houston</td>\n",
       "      <td>23</td>\n",
       "      <td>55.13</td>\n",
       "      <td>226</td>\n",
       "      <td>1</td>\n",
       "    </tr>\n",
       "    <tr>\n",
       "      <th>99996</th>\n",
       "      <td>99997</td>\n",
       "      <td>Customer_99997</td>\n",
       "      <td>62</td>\n",
       "      <td>Female</td>\n",
       "      <td>New York</td>\n",
       "      <td>19</td>\n",
       "      <td>61.65</td>\n",
       "      <td>351</td>\n",
       "      <td>0</td>\n",
       "    </tr>\n",
       "    <tr>\n",
       "      <th>99997</th>\n",
       "      <td>99998</td>\n",
       "      <td>Customer_99998</td>\n",
       "      <td>64</td>\n",
       "      <td>Male</td>\n",
       "      <td>Chicago</td>\n",
       "      <td>17</td>\n",
       "      <td>96.11</td>\n",
       "      <td>251</td>\n",
       "      <td>1</td>\n",
       "    </tr>\n",
       "    <tr>\n",
       "      <th>99998</th>\n",
       "      <td>99999</td>\n",
       "      <td>Customer_99999</td>\n",
       "      <td>51</td>\n",
       "      <td>Female</td>\n",
       "      <td>New York</td>\n",
       "      <td>20</td>\n",
       "      <td>49.25</td>\n",
       "      <td>434</td>\n",
       "      <td>1</td>\n",
       "    </tr>\n",
       "    <tr>\n",
       "      <th>99999</th>\n",
       "      <td>100000</td>\n",
       "      <td>Customer_100000</td>\n",
       "      <td>27</td>\n",
       "      <td>Female</td>\n",
       "      <td>Los Angeles</td>\n",
       "      <td>19</td>\n",
       "      <td>76.57</td>\n",
       "      <td>173</td>\n",
       "      <td>1</td>\n",
       "    </tr>\n",
       "  </tbody>\n",
       "</table>\n",
       "<p>100000 rows × 9 columns</p>\n",
       "</div>"
      ],
      "text/plain": [
       "       CustomerID             Name  Age  Gender     Location  \\\n",
       "0               1       Customer_1   63    Male  Los Angeles   \n",
       "1               2       Customer_2   62  Female     New York   \n",
       "2               3       Customer_3   24  Female  Los Angeles   \n",
       "3               4       Customer_4   36  Female        Miami   \n",
       "4               5       Customer_5   46  Female        Miami   \n",
       "...           ...              ...  ...     ...          ...   \n",
       "99995       99996   Customer_99996   33    Male      Houston   \n",
       "99996       99997   Customer_99997   62  Female     New York   \n",
       "99997       99998   Customer_99998   64    Male      Chicago   \n",
       "99998       99999   Customer_99999   51  Female     New York   \n",
       "99999      100000  Customer_100000   27  Female  Los Angeles   \n",
       "\n",
       "       Subscription_Length_Months  Monthly_Bill  Total_Usage_GB  Churn  \n",
       "0                              17         73.36             236      0  \n",
       "1                               1         48.76             172      0  \n",
       "2                               5         85.47             460      0  \n",
       "3                               3         97.94             297      1  \n",
       "4                              19         58.14             266      0  \n",
       "...                           ...           ...             ...    ...  \n",
       "99995                          23         55.13             226      1  \n",
       "99996                          19         61.65             351      0  \n",
       "99997                          17         96.11             251      1  \n",
       "99998                          20         49.25             434      1  \n",
       "99999                          19         76.57             173      1  \n",
       "\n",
       "[100000 rows x 9 columns]"
      ]
     },
     "execution_count": 2,
     "metadata": {},
     "output_type": "execute_result"
    }
   ],
   "source": [
    "df = pd.read_excel(\"customer_churn_large_dataset.xlsx\")\n",
    "df"
   ]
  },
  {
   "cell_type": "markdown",
   "id": "6a0fe7f2",
   "metadata": {},
   "source": [
    "## Step 3:Exploratory Data Analysis"
   ]
  },
  {
   "cell_type": "raw",
   "id": "a55f90af",
   "metadata": {},
   "source": [
    "In EDA generally we are going to perform following operations:\n",
    "    1. Detecting Missing values.\n",
    "    2. Converting categorical data to numerical.(One-Hot or Label Encoding)  \n",
    "    3. Converting Dtype Object to int or float(most preffered).\n",
    "    4. Imputation of Missing values."
   ]
  },
  {
   "cell_type": "code",
   "execution_count": 3,
   "id": "e7649131",
   "metadata": {},
   "outputs": [
    {
     "name": "stdout",
     "output_type": "stream",
     "text": [
      "<class 'pandas.core.frame.DataFrame'>\n",
      "RangeIndex: 100000 entries, 0 to 99999\n",
      "Data columns (total 9 columns):\n",
      " #   Column                      Non-Null Count   Dtype  \n",
      "---  ------                      --------------   -----  \n",
      " 0   CustomerID                  100000 non-null  int64  \n",
      " 1   Name                        100000 non-null  object \n",
      " 2   Age                         100000 non-null  int64  \n",
      " 3   Gender                      100000 non-null  object \n",
      " 4   Location                    100000 non-null  object \n",
      " 5   Subscription_Length_Months  100000 non-null  int64  \n",
      " 6   Monthly_Bill                100000 non-null  float64\n",
      " 7   Total_Usage_GB              100000 non-null  int64  \n",
      " 8   Churn                       100000 non-null  int64  \n",
      "dtypes: float64(1), int64(5), object(3)\n",
      "memory usage: 6.9+ MB\n"
     ]
    }
   ],
   "source": [
    "#All details about dataset\n",
    "df.info()"
   ]
  },
  {
   "cell_type": "raw",
   "id": "a1fbb9e2",
   "metadata": {},
   "source": [
    "Note: 6 Features are numerical and 3 fetaures are categorical, so we need to repalce it from object to int or float so that we can used this data for building machine learning model to get good accuracy."
   ]
  },
  {
   "cell_type": "code",
   "execution_count": 4,
   "id": "82ad6da7",
   "metadata": {},
   "outputs": [
    {
     "data": {
      "text/html": [
       "<div>\n",
       "<style scoped>\n",
       "    .dataframe tbody tr th:only-of-type {\n",
       "        vertical-align: middle;\n",
       "    }\n",
       "\n",
       "    .dataframe tbody tr th {\n",
       "        vertical-align: top;\n",
       "    }\n",
       "\n",
       "    .dataframe thead th {\n",
       "        text-align: right;\n",
       "    }\n",
       "</style>\n",
       "<table border=\"1\" class=\"dataframe\">\n",
       "  <thead>\n",
       "    <tr style=\"text-align: right;\">\n",
       "      <th></th>\n",
       "      <th>CustomerID</th>\n",
       "      <th>Age</th>\n",
       "      <th>Subscription_Length_Months</th>\n",
       "      <th>Monthly_Bill</th>\n",
       "      <th>Total_Usage_GB</th>\n",
       "      <th>Churn</th>\n",
       "    </tr>\n",
       "  </thead>\n",
       "  <tbody>\n",
       "    <tr>\n",
       "      <th>count</th>\n",
       "      <td>100000.000000</td>\n",
       "      <td>100000.000000</td>\n",
       "      <td>100000.000000</td>\n",
       "      <td>100000.000000</td>\n",
       "      <td>100000.000000</td>\n",
       "      <td>100000.000000</td>\n",
       "    </tr>\n",
       "    <tr>\n",
       "      <th>mean</th>\n",
       "      <td>50000.500000</td>\n",
       "      <td>44.027020</td>\n",
       "      <td>12.490100</td>\n",
       "      <td>65.053197</td>\n",
       "      <td>274.393650</td>\n",
       "      <td>0.497790</td>\n",
       "    </tr>\n",
       "    <tr>\n",
       "      <th>std</th>\n",
       "      <td>28867.657797</td>\n",
       "      <td>15.280283</td>\n",
       "      <td>6.926461</td>\n",
       "      <td>20.230696</td>\n",
       "      <td>130.463063</td>\n",
       "      <td>0.499998</td>\n",
       "    </tr>\n",
       "    <tr>\n",
       "      <th>min</th>\n",
       "      <td>1.000000</td>\n",
       "      <td>18.000000</td>\n",
       "      <td>1.000000</td>\n",
       "      <td>30.000000</td>\n",
       "      <td>50.000000</td>\n",
       "      <td>0.000000</td>\n",
       "    </tr>\n",
       "    <tr>\n",
       "      <th>25%</th>\n",
       "      <td>25000.750000</td>\n",
       "      <td>31.000000</td>\n",
       "      <td>6.000000</td>\n",
       "      <td>47.540000</td>\n",
       "      <td>161.000000</td>\n",
       "      <td>0.000000</td>\n",
       "    </tr>\n",
       "    <tr>\n",
       "      <th>50%</th>\n",
       "      <td>50000.500000</td>\n",
       "      <td>44.000000</td>\n",
       "      <td>12.000000</td>\n",
       "      <td>65.010000</td>\n",
       "      <td>274.000000</td>\n",
       "      <td>0.000000</td>\n",
       "    </tr>\n",
       "    <tr>\n",
       "      <th>75%</th>\n",
       "      <td>75000.250000</td>\n",
       "      <td>57.000000</td>\n",
       "      <td>19.000000</td>\n",
       "      <td>82.640000</td>\n",
       "      <td>387.000000</td>\n",
       "      <td>1.000000</td>\n",
       "    </tr>\n",
       "    <tr>\n",
       "      <th>max</th>\n",
       "      <td>100000.000000</td>\n",
       "      <td>70.000000</td>\n",
       "      <td>24.000000</td>\n",
       "      <td>100.000000</td>\n",
       "      <td>500.000000</td>\n",
       "      <td>1.000000</td>\n",
       "    </tr>\n",
       "  </tbody>\n",
       "</table>\n",
       "</div>"
      ],
      "text/plain": [
       "          CustomerID            Age  Subscription_Length_Months  \\\n",
       "count  100000.000000  100000.000000               100000.000000   \n",
       "mean    50000.500000      44.027020                   12.490100   \n",
       "std     28867.657797      15.280283                    6.926461   \n",
       "min         1.000000      18.000000                    1.000000   \n",
       "25%     25000.750000      31.000000                    6.000000   \n",
       "50%     50000.500000      44.000000                   12.000000   \n",
       "75%     75000.250000      57.000000                   19.000000   \n",
       "max    100000.000000      70.000000                   24.000000   \n",
       "\n",
       "        Monthly_Bill  Total_Usage_GB          Churn  \n",
       "count  100000.000000   100000.000000  100000.000000  \n",
       "mean       65.053197      274.393650       0.497790  \n",
       "std        20.230696      130.463063       0.499998  \n",
       "min        30.000000       50.000000       0.000000  \n",
       "25%        47.540000      161.000000       0.000000  \n",
       "50%        65.010000      274.000000       0.000000  \n",
       "75%        82.640000      387.000000       1.000000  \n",
       "max       100.000000      500.000000       1.000000  "
      ]
     },
     "execution_count": 4,
     "metadata": {},
     "output_type": "execute_result"
    }
   ],
   "source": [
    "#summarizing statistical data of dataset\n",
    "df.describe()"
   ]
  },
  {
   "cell_type": "code",
   "execution_count": 5,
   "id": "49ab4b35",
   "metadata": {},
   "outputs": [
    {
     "name": "stdout",
     "output_type": "stream",
     "text": [
      "Row count --> 100000\n",
      "coulmn count --> 9\n"
     ]
    }
   ],
   "source": [
    "print(\"Row count -->\",df.shape[0])\n",
    "print(\"coulmn count -->\",df.shape[1])"
   ]
  },
  {
   "cell_type": "markdown",
   "id": "40f3c2a1",
   "metadata": {},
   "source": [
    "##### Analysis Of Target column"
   ]
  },
  {
   "cell_type": "code",
   "execution_count": 6,
   "id": "df3b6f17",
   "metadata": {},
   "outputs": [
    {
     "data": {
      "text/plain": [
       "0    50221\n",
       "1    49779\n",
       "Name: Churn, dtype: int64"
      ]
     },
     "execution_count": 6,
     "metadata": {},
     "output_type": "execute_result"
    }
   ],
   "source": [
    "df['Churn'].value_counts()"
   ]
  },
  {
   "cell_type": "raw",
   "id": "a534cf0a",
   "metadata": {},
   "source": [
    "Note: The target column is nearly balanced, with a high ratio of positive responses(1) to negative responses (0).\n",
    "Where positive response (1) means customer is churn and negative response (0) means customer is not churn."
   ]
  },
  {
   "cell_type": "code",
   "execution_count": 7,
   "id": "0b00dc28",
   "metadata": {},
   "outputs": [
    {
     "data": {
      "text/plain": [
       "<AxesSubplot:xlabel='Churn', ylabel='count'>"
      ]
     },
     "execution_count": 7,
     "metadata": {},
     "output_type": "execute_result"
    },
    {
     "data": {
      "image/png": "[encoded data removed]",
      "text/plain": [
       "<Figure size 640x480 with 1 Axes>"
      ]
     },
     "metadata": {},
     "output_type": "display_data"
    }
   ],
   "source": [
    "#visualization of target column\n",
    "sns.countplot(df['Churn'])"
   ]
  },
  {
   "cell_type": "markdown",
   "id": "85c1d40e",
   "metadata": {},
   "source": [
    "##### checking Missing values in our data"
   ]
  },
  {
   "cell_type": "code",
   "execution_count": 8,
   "id": "eb575214",
   "metadata": {},
   "outputs": [
    {
     "data": {
      "text/plain": [
       "CustomerID                    0\n",
       "Name                          0\n",
       "Age                           0\n",
       "Gender                        0\n",
       "Location                      0\n",
       "Subscription_Length_Months    0\n",
       "Monthly_Bill                  0\n",
       "Total_Usage_GB                0\n",
       "Churn                         0\n",
       "dtype: int64"
      ]
     },
     "execution_count": 8,
     "metadata": {},
     "output_type": "execute_result"
    }
   ],
   "source": [
    "#null values-NAN\n",
    "df.isna().sum()"
   ]
  },
  {
   "cell_type": "raw",
   "id": "fef73ae4",
   "metadata": {},
   "source": [
    "Note:There are no any null values in dataset.\n",
    "So, there is no any operation to impute missing values."
   ]
  },
  {
   "cell_type": "markdown",
   "id": "2d111688",
   "metadata": {},
   "source": [
    "##### Checking Duplicate Rows in our dataset"
   ]
  },
  {
   "cell_type": "code",
   "execution_count": 9,
   "id": "064e99be",
   "metadata": {},
   "outputs": [
    {
     "data": {
      "text/plain": [
       "0"
      ]
     },
     "execution_count": 9,
     "metadata": {},
     "output_type": "execute_result"
    }
   ],
   "source": [
    "df.duplicated().sum()"
   ]
  },
  {
   "cell_type": "raw",
   "id": "bc8c1d6c",
   "metadata": {},
   "source": [
    "Note :- There are no any rows in the dataset that are exact duplicates of each other"
   ]
  },
  {
   "cell_type": "code",
   "execution_count": 10,
   "id": "b829ba75",
   "metadata": {},
   "outputs": [
    {
     "data": {
      "text/plain": [
       "Index(['CustomerID', 'Name', 'Age', 'Gender', 'Location',\n",
       "       'Subscription_Length_Months', 'Monthly_Bill', 'Total_Usage_GB',\n",
       "       'Churn'],\n",
       "      dtype='object')"
      ]
     },
     "execution_count": 10,
     "metadata": {},
     "output_type": "execute_result"
    }
   ],
   "source": [
    "df.columns"
   ]
  },
  {
   "cell_type": "markdown",
   "id": "80aff356",
   "metadata": {},
   "source": [
    "# Analysing each feature"
   ]
  },
  {
   "cell_type": "markdown",
   "id": "092a9cd3",
   "metadata": {},
   "source": [
    "## 1. CustomerID"
   ]
  },
  {
   "cell_type": "code",
   "execution_count": 11,
   "id": "04fec4b8",
   "metadata": {},
   "outputs": [
    {
     "data": {
      "text/plain": [
       "array([     1,      2,      3, ...,  99998,  99999, 100000], dtype=int64)"
      ]
     },
     "execution_count": 11,
     "metadata": {},
     "output_type": "execute_result"
    }
   ],
   "source": [
    "df['CustomerID'].unique()"
   ]
  },
  {
   "cell_type": "code",
   "execution_count": 12,
   "id": "bcd5544a",
   "metadata": {},
   "outputs": [
    {
     "data": {
      "text/plain": [
       "1         1\n",
       "66651     1\n",
       "66673     1\n",
       "66672     1\n",
       "66671     1\n",
       "         ..\n",
       "33332     1\n",
       "33331     1\n",
       "33330     1\n",
       "33329     1\n",
       "100000    1\n",
       "Name: CustomerID, Length: 100000, dtype: int64"
      ]
     },
     "execution_count": 12,
     "metadata": {},
     "output_type": "execute_result"
    }
   ],
   "source": [
    "df['CustomerID'].value_counts()"
   ]
  },
  {
   "cell_type": "code",
   "execution_count": 13,
   "id": "fe1db247",
   "metadata": {},
   "outputs": [],
   "source": [
    "# Feature \"CustomerID\" contains all unique ordinal values, So these values are no useful to build model. \n",
    "# Hence we are droping it in Feature Engineering"
   ]
  },
  {
   "cell_type": "markdown",
   "id": "4e584672",
   "metadata": {},
   "source": [
    "## 2. Name"
   ]
  },
  {
   "cell_type": "code",
   "execution_count": 14,
   "id": "5b7a21ba",
   "metadata": {},
   "outputs": [
    {
     "data": {
      "text/plain": [
       "array(['Customer_1', 'Customer_2', 'Customer_3', ..., 'Customer_99998',\n",
       "       'Customer_99999', 'Customer_100000'], dtype=object)"
      ]
     },
     "execution_count": 14,
     "metadata": {},
     "output_type": "execute_result"
    }
   ],
   "source": [
    "df['Name'].unique()"
   ]
  },
  {
   "cell_type": "code",
   "execution_count": 15,
   "id": "91089d92",
   "metadata": {},
   "outputs": [
    {
     "data": {
      "text/plain": [
       "Customer_1         1\n",
       "Customer_66651     1\n",
       "Customer_66673     1\n",
       "Customer_66672     1\n",
       "Customer_66671     1\n",
       "                  ..\n",
       "Customer_33332     1\n",
       "Customer_33331     1\n",
       "Customer_33330     1\n",
       "Customer_33329     1\n",
       "Customer_100000    1\n",
       "Name: Name, Length: 100000, dtype: int64"
      ]
     },
     "execution_count": 15,
     "metadata": {},
     "output_type": "execute_result"
    }
   ],
   "source": [
    "df['Name'].value_counts()"
   ]
  },
  {
   "cell_type": "code",
   "execution_count": 16,
   "id": "989078fa",
   "metadata": {},
   "outputs": [],
   "source": [
    "# Feature \"Name\" contains all unique ordinal values, So these values are no useful to build model. \n",
    "# Hence we are droping it in Feature Engineering"
   ]
  },
  {
   "cell_type": "markdown",
   "id": "60b792f3",
   "metadata": {},
   "source": [
    "## 3. Age"
   ]
  },
  {
   "cell_type": "code",
   "execution_count": 17,
   "id": "8d174682",
   "metadata": {},
   "outputs": [
    {
     "data": {
      "text/plain": [
       "array([63, 62, 24, 36, 46, 67, 30, 20, 53, 50, 44, 34, 28, 42, 55, 43, 31,\n",
       "       41, 58, 64, 70, 18, 25, 27, 66, 29, 60, 26, 45, 19, 37, 49, 38, 57,\n",
       "       47, 48, 40, 21, 33, 51, 35, 69, 61, 52, 39, 56, 59, 65, 22, 54, 68,\n",
       "       32, 23], dtype=int64)"
      ]
     },
     "execution_count": 17,
     "metadata": {},
     "output_type": "execute_result"
    }
   ],
   "source": [
    "df['Age'].unique()"
   ]
  },
  {
   "cell_type": "code",
   "execution_count": 18,
   "id": "f4b251d5",
   "metadata": {
    "scrolled": true
   },
   "outputs": [
    {
     "data": {
      "text/plain": [
       "33    2046\n",
       "50    1996\n",
       "38    1970\n",
       "63    1942\n",
       "57    1942\n",
       "19    1941\n",
       "41    1939\n",
       "42    1930\n",
       "51    1929\n",
       "59    1928\n",
       "27    1924\n",
       "66    1922\n",
       "70    1921\n",
       "44    1916\n",
       "69    1912\n",
       "61    1909\n",
       "60    1904\n",
       "31    1901\n",
       "55    1900\n",
       "21    1897\n",
       "54    1896\n",
       "53    1895\n",
       "48    1895\n",
       "39    1891\n",
       "23    1887\n",
       "20    1886\n",
       "29    1885\n",
       "28    1881\n",
       "24    1876\n",
       "58    1876\n",
       "40    1875\n",
       "30    1875\n",
       "26    1874\n",
       "56    1872\n",
       "25    1871\n",
       "37    1870\n",
       "62    1867\n",
       "46    1865\n",
       "68    1863\n",
       "43    1863\n",
       "36    1859\n",
       "49    1854\n",
       "64    1848\n",
       "47    1847\n",
       "35    1845\n",
       "18    1839\n",
       "65    1833\n",
       "45    1827\n",
       "52    1824\n",
       "32    1810\n",
       "67    1798\n",
       "34    1797\n",
       "22    1787\n",
       "Name: Age, dtype: int64"
      ]
     },
     "execution_count": 18,
     "metadata": {},
     "output_type": "execute_result"
    }
   ],
   "source": [
    "df['Age'].value_counts()"
   ]
  },
  {
   "cell_type": "markdown",
   "id": "27a8289b",
   "metadata": {},
   "source": [
    "## 4. Gender"
   ]
  },
  {
   "cell_type": "code",
   "execution_count": 19,
   "id": "24a461c9",
   "metadata": {},
   "outputs": [
    {
     "data": {
      "text/plain": [
       "array(['Male', 'Female'], dtype=object)"
      ]
     },
     "execution_count": 19,
     "metadata": {},
     "output_type": "execute_result"
    }
   ],
   "source": [
    "df['Gender'].unique()"
   ]
  },
  {
   "cell_type": "code",
   "execution_count": 20,
   "id": "06a95b20",
   "metadata": {},
   "outputs": [
    {
     "data": {
      "text/plain": [
       "{'Female': 50216, 'Male': 49784}"
      ]
     },
     "execution_count": 20,
     "metadata": {},
     "output_type": "execute_result"
    }
   ],
   "source": [
    "dict(df['Gender'].value_counts())"
   ]
  },
  {
   "cell_type": "code",
   "execution_count": 21,
   "id": "105d17fc",
   "metadata": {},
   "outputs": [],
   "source": [
    "# Here Catagorical data is ordinal and efficiently converting \n",
    "# into numerical at this stage by label encoding\n",
    "df['Gender'].replace({'Female': 0, 'Male': 1}, inplace=True)"
   ]
  },
  {
   "cell_type": "markdown",
   "id": "f9133444",
   "metadata": {},
   "source": [
    "## 5. Location"
   ]
  },
  {
   "cell_type": "code",
   "execution_count": 22,
   "id": "1e2c123f",
   "metadata": {},
   "outputs": [
    {
     "data": {
      "text/plain": [
       "array(['Los Angeles', 'New York', 'Miami', 'Chicago', 'Houston'],\n",
       "      dtype=object)"
      ]
     },
     "execution_count": 22,
     "metadata": {},
     "output_type": "execute_result"
    }
   ],
   "source": [
    "df['Location'].unique()"
   ]
  },
  {
   "cell_type": "code",
   "execution_count": 23,
   "id": "e46d059c",
   "metadata": {},
   "outputs": [
    {
     "data": {
      "text/plain": [
       "Houston        20157\n",
       "Los Angeles    20041\n",
       "Miami          20031\n",
       "Chicago        19958\n",
       "New York       19813\n",
       "Name: Location, dtype: int64"
      ]
     },
     "execution_count": 23,
     "metadata": {},
     "output_type": "execute_result"
    }
   ],
   "source": [
    "df['Location'].value_counts()"
   ]
  },
  {
   "cell_type": "code",
   "execution_count": 24,
   "id": "fc1a1a44",
   "metadata": {},
   "outputs": [
    {
     "data": {
      "text/html": [
       "<div>\n",
       "<style scoped>\n",
       "    .dataframe tbody tr th:only-of-type {\n",
       "        vertical-align: middle;\n",
       "    }\n",
       "\n",
       "    .dataframe tbody tr th {\n",
       "        vertical-align: top;\n",
       "    }\n",
       "\n",
       "    .dataframe thead th {\n",
       "        text-align: right;\n",
       "    }\n",
       "</style>\n",
       "<table border=\"1\" class=\"dataframe\">\n",
       "  <thead>\n",
       "    <tr style=\"text-align: right;\">\n",
       "      <th></th>\n",
       "      <th>CustomerID</th>\n",
       "      <th>Name</th>\n",
       "      <th>Age</th>\n",
       "      <th>Gender</th>\n",
       "      <th>Subscription_Length_Months</th>\n",
       "      <th>Monthly_Bill</th>\n",
       "      <th>Total_Usage_GB</th>\n",
       "      <th>Churn</th>\n",
       "      <th>Location_Chicago</th>\n",
       "      <th>Location_Houston</th>\n",
       "      <th>Location_Los Angeles</th>\n",
       "      <th>Location_Miami</th>\n",
       "      <th>Location_New York</th>\n",
       "    </tr>\n",
       "  </thead>\n",
       "  <tbody>\n",
       "    <tr>\n",
       "      <th>0</th>\n",
       "      <td>1</td>\n",
       "      <td>Customer_1</td>\n",
       "      <td>63</td>\n",
       "      <td>1</td>\n",
       "      <td>17</td>\n",
       "      <td>73.36</td>\n",
       "      <td>236</td>\n",
       "      <td>0</td>\n",
       "      <td>0</td>\n",
       "      <td>0</td>\n",
       "      <td>1</td>\n",
       "      <td>0</td>\n",
       "      <td>0</td>\n",
       "    </tr>\n",
       "    <tr>\n",
       "      <th>1</th>\n",
       "      <td>2</td>\n",
       "      <td>Customer_2</td>\n",
       "      <td>62</td>\n",
       "      <td>0</td>\n",
       "      <td>1</td>\n",
       "      <td>48.76</td>\n",
       "      <td>172</td>\n",
       "      <td>0</td>\n",
       "      <td>0</td>\n",
       "      <td>0</td>\n",
       "      <td>0</td>\n",
       "      <td>0</td>\n",
       "      <td>1</td>\n",
       "    </tr>\n",
       "    <tr>\n",
       "      <th>2</th>\n",
       "      <td>3</td>\n",
       "      <td>Customer_3</td>\n",
       "      <td>24</td>\n",
       "      <td>0</td>\n",
       "      <td>5</td>\n",
       "      <td>85.47</td>\n",
       "      <td>460</td>\n",
       "      <td>0</td>\n",
       "      <td>0</td>\n",
       "      <td>0</td>\n",
       "      <td>1</td>\n",
       "      <td>0</td>\n",
       "      <td>0</td>\n",
       "    </tr>\n",
       "    <tr>\n",
       "      <th>3</th>\n",
       "      <td>4</td>\n",
       "      <td>Customer_4</td>\n",
       "      <td>36</td>\n",
       "      <td>0</td>\n",
       "      <td>3</td>\n",
       "      <td>97.94</td>\n",
       "      <td>297</td>\n",
       "      <td>1</td>\n",
       "      <td>0</td>\n",
       "      <td>0</td>\n",
       "      <td>0</td>\n",
       "      <td>1</td>\n",
       "      <td>0</td>\n",
       "    </tr>\n",
       "    <tr>\n",
       "      <th>4</th>\n",
       "      <td>5</td>\n",
       "      <td>Customer_5</td>\n",
       "      <td>46</td>\n",
       "      <td>0</td>\n",
       "      <td>19</td>\n",
       "      <td>58.14</td>\n",
       "      <td>266</td>\n",
       "      <td>0</td>\n",
       "      <td>0</td>\n",
       "      <td>0</td>\n",
       "      <td>0</td>\n",
       "      <td>1</td>\n",
       "      <td>0</td>\n",
       "    </tr>\n",
       "  </tbody>\n",
       "</table>\n",
       "</div>"
      ],
      "text/plain": [
       "   CustomerID        Name  Age  Gender  Subscription_Length_Months  \\\n",
       "0           1  Customer_1   63       1                          17   \n",
       "1           2  Customer_2   62       0                           1   \n",
       "2           3  Customer_3   24       0                           5   \n",
       "3           4  Customer_4   36       0                           3   \n",
       "4           5  Customer_5   46       0                          19   \n",
       "\n",
       "   Monthly_Bill  Total_Usage_GB  Churn  Location_Chicago  Location_Houston  \\\n",
       "0         73.36             236      0                 0                 0   \n",
       "1         48.76             172      0                 0                 0   \n",
       "2         85.47             460      0                 0                 0   \n",
       "3         97.94             297      1                 0                 0   \n",
       "4         58.14             266      0                 0                 0   \n",
       "\n",
       "   Location_Los Angeles  Location_Miami  Location_New York  \n",
       "0                     1               0                  0  \n",
       "1                     0               0                  1  \n",
       "2                     1               0                  0  \n",
       "3                     0               1                  0  \n",
       "4                     0               1                  0  "
      ]
     },
     "execution_count": 24,
     "metadata": {},
     "output_type": "execute_result"
    }
   ],
   "source": [
    "# Here Catagorical data is nominal and efficiently converting \n",
    "# into numerical by One-Hot encoding\n",
    "df=pd.get_dummies(df,columns=['Location'])\n",
    "df.head(5)"
   ]
  },
  {
   "cell_type": "markdown",
   "id": "368461a7",
   "metadata": {},
   "source": [
    "## 6. Subscription_Length_Months"
   ]
  },
  {
   "cell_type": "code",
   "execution_count": 25,
   "id": "f58f09e8",
   "metadata": {},
   "outputs": [
    {
     "data": {
      "text/plain": [
       "array([17,  1,  5,  3, 19, 15, 10, 12, 20, 13,  8, 23,  2,  4, 18,  9, 14,\n",
       "       16,  6,  7, 24, 22, 11, 21], dtype=int64)"
      ]
     },
     "execution_count": 25,
     "metadata": {},
     "output_type": "execute_result"
    }
   ],
   "source": [
    "df['Subscription_Length_Months'].unique()"
   ]
  },
  {
   "cell_type": "code",
   "execution_count": 26,
   "id": "18b073a7",
   "metadata": {},
   "outputs": [
    {
     "data": {
      "text/plain": [
       "20    4303\n",
       "22    4267\n",
       "1     4247\n",
       "16    4229\n",
       "2     4228\n",
       "14    4213\n",
       "7     4211\n",
       "11    4200\n",
       "6     4184\n",
       "5     4171\n",
       "18    4171\n",
       "12    4155\n",
       "21    4154\n",
       "13    4154\n",
       "10    4151\n",
       "3     4136\n",
       "9     4134\n",
       "15    4122\n",
       "24    4113\n",
       "8     4106\n",
       "19    4106\n",
       "4     4098\n",
       "23    4083\n",
       "17    4064\n",
       "Name: Subscription_Length_Months, dtype: int64"
      ]
     },
     "execution_count": 26,
     "metadata": {},
     "output_type": "execute_result"
    }
   ],
   "source": [
    "df['Subscription_Length_Months'].value_counts()"
   ]
  },
  {
   "cell_type": "markdown",
   "id": "b6e295c3",
   "metadata": {},
   "source": [
    "## 7. Monthly_Bill"
   ]
  },
  {
   "cell_type": "code",
   "execution_count": 27,
   "id": "72f260fa",
   "metadata": {},
   "outputs": [
    {
     "data": {
      "text/plain": [
       "array([73.36, 48.76, 85.47, ..., 75.21, 41.98, 83.55])"
      ]
     },
     "execution_count": 27,
     "metadata": {},
     "output_type": "execute_result"
    }
   ],
   "source": [
    "df['Monthly_Bill'].unique()"
   ]
  },
  {
   "cell_type": "code",
   "execution_count": 28,
   "id": "8ad4df8d",
   "metadata": {},
   "outputs": [
    {
     "data": {
      "text/plain": [
       "84.37     34\n",
       "61.99     29\n",
       "38.26     28\n",
       "66.38     28\n",
       "56.17     28\n",
       "          ..\n",
       "77.04      4\n",
       "91.04      3\n",
       "64.01      3\n",
       "36.55      3\n",
       "100.00     3\n",
       "Name: Monthly_Bill, Length: 7001, dtype: int64"
      ]
     },
     "execution_count": 28,
     "metadata": {},
     "output_type": "execute_result"
    }
   ],
   "source": [
    "df['Monthly_Bill'].value_counts()"
   ]
  },
  {
   "cell_type": "markdown",
   "id": "c91832a4",
   "metadata": {},
   "source": [
    "## 8. Total_Usage_GB"
   ]
  },
  {
   "cell_type": "code",
   "execution_count": 29,
   "id": "5f999951",
   "metadata": {},
   "outputs": [
    {
     "data": {
      "text/plain": [
       "array([236, 172, 460, 297, 266, 456, 269, 396, 150, 383, 442, 295, 148,\n",
       "       239, 233, 231, 198, 354, 429, 243, 270, 389, 226, 393,  89, 183,\n",
       "       135, 185, 151, 115, 194, 278, 423, 202, 495, 162, 101, 294, 122,\n",
       "       305, 212, 220, 253, 411, 447, 218, 221, 166,  64,  67, 391, 232,\n",
       "       298, 334, 326, 459, 371, 299, 376, 214, 329,  50, 444, 113,  76,\n",
       "       134, 184, 319, 235,  85, 332,  73, 369, 308, 446, 321,  83, 114,\n",
       "       296, 102, 215, 169, 225, 140,  84, 463, 402, 468, 375, 366, 404,\n",
       "       471, 204, 320, 178, 149, 361, 304, 281, 177, 117, 137, 322, 427,\n",
       "       403, 237, 439, 336, 344, 288, 257, 196, 365, 419, 111, 192, 244,\n",
       "       287, 395, 213, 109, 286, 283, 230, 491, 274, 335, 462, 407, 126,\n",
       "       199, 351, 261, 496, 480, 400, 303, 197, 181, 474, 348, 112, 457,\n",
       "        54, 397, 100, 318, 242, 327, 476, 256, 241, 466, 438,  51, 165,\n",
       "       120, 493,  59, 188, 339, 167, 301, 209, 311, 190, 345, 284, 390,\n",
       "        72, 258, 358, 136, 280,  55, 309, 388,  52, 478, 401, 472,  65,\n",
       "       163, 488, 497,  71, 216, 229, 271, 223, 263, 255, 145, 203, 372,\n",
       "       443, 306, 307, 386, 448, 377, 482, 324, 357, 187, 394, 123, 106,\n",
       "        80, 211,  78, 499, 498, 424, 325, 119, 143, 153, 437, 492, 406,\n",
       "        69, 272, 352, 125,  82, 160, 333, 104, 247, 405, 353,  63, 289,\n",
       "        88, 346,  91, 385, 380, 431, 364,  79, 300, 374,  86, 290, 265,\n",
       "       433, 469, 453, 224, 421, 251, 485, 180, 171,  95,  93, 350,  58,\n",
       "       200, 420, 132, 428, 479,  96, 103, 129, 417,  99, 430,  75,  53,\n",
       "       382, 412, 268, 410,  94, 315, 387, 116, 489, 108, 208, 313, 127,\n",
       "       222, 451,  56, 139, 282, 138, 141, 156, 373, 157, 467,  68, 414,\n",
       "       360, 144, 273, 217, 189, 118, 155,  62, 413, 154, 458, 449, 490,\n",
       "       464, 379, 254, 131,  92, 195, 450, 347, 191, 425, 432, 384,  57,\n",
       "       494, 173, 210, 363, 130, 487, 455, 105, 399, 323,  61, 341, 426,\n",
       "       240, 302, 176, 152, 331, 440, 276,  87, 291, 193,  90, 500, 170,\n",
       "       174, 182, 359, 408, 454, 158, 328, 436, 312, 338,  60, 362, 205,\n",
       "       416, 483, 415, 477, 484, 252, 250, 164, 146, 161, 234, 473, 317,\n",
       "        77, 267, 342, 110, 343, 133, 330, 367, 147,  81, 277, 310, 392,\n",
       "       349, 314, 107, 259, 228, 168, 246, 219,  98, 121, 142, 238, 206,\n",
       "        97, 381, 245, 175, 124, 292, 340, 316, 465, 470, 475, 248, 445,\n",
       "       452, 249, 337,  66, 418, 201, 227, 422, 481, 355, 279, 435, 275,\n",
       "       260,  70, 186, 159, 368, 179, 262, 370,  74, 378, 128, 461, 293,\n",
       "       441, 434, 207, 356, 398, 285, 409, 486, 264], dtype=int64)"
      ]
     },
     "execution_count": 29,
     "metadata": {},
     "output_type": "execute_result"
    }
   ],
   "source": [
    "df['Total_Usage_GB'].unique()"
   ]
  },
  {
   "cell_type": "code",
   "execution_count": 30,
   "id": "2b13fffb",
   "metadata": {},
   "outputs": [
    {
     "data": {
      "text/plain": [
       "72     270\n",
       "232    261\n",
       "86     260\n",
       "218    259\n",
       "153    256\n",
       "      ... \n",
       "174    187\n",
       "328    187\n",
       "418    186\n",
       "180    173\n",
       "390    172\n",
       "Name: Total_Usage_GB, Length: 451, dtype: int64"
      ]
     },
     "execution_count": 30,
     "metadata": {},
     "output_type": "execute_result"
    }
   ],
   "source": [
    "df['Total_Usage_GB'].value_counts()"
   ]
  },
  {
   "cell_type": "markdown",
   "id": "e97153c6",
   "metadata": {},
   "source": [
    "## 9. Churn (Target Variable)"
   ]
  },
  {
   "cell_type": "code",
   "execution_count": 31,
   "id": "a2811ab2",
   "metadata": {},
   "outputs": [
    {
     "data": {
      "text/plain": [
       "array([0, 1], dtype=int64)"
      ]
     },
     "execution_count": 31,
     "metadata": {},
     "output_type": "execute_result"
    }
   ],
   "source": [
    "df['Churn'].unique()"
   ]
  },
  {
   "cell_type": "code",
   "execution_count": 32,
   "id": "48eb5d6c",
   "metadata": {},
   "outputs": [
    {
     "data": {
      "text/plain": [
       "0    50221\n",
       "1    49779\n",
       "Name: Churn, dtype: int64"
      ]
     },
     "execution_count": 32,
     "metadata": {},
     "output_type": "execute_result"
    }
   ],
   "source": [
    "df['Churn'].value_counts()"
   ]
  },
  {
   "cell_type": "markdown",
   "id": "43cdf385",
   "metadata": {},
   "source": [
    "# ------------------------------------------------------------------------------------------------------"
   ]
  },
  {
   "cell_type": "markdown",
   "id": "8c332420",
   "metadata": {},
   "source": [
    "# Step 4: Feature Engineering"
   ]
  },
  {
   "cell_type": "raw",
   "id": "18318bb1",
   "metadata": {},
   "source": [
    "In Feature Engineering generally we are going to perform following operations:\n",
    "    1. Droping unique value features.\n",
    "    2. Handle the Outliers.\n",
    "        Here it is done in two stages\n",
    "            a) Detecting the outliers.\n",
    "            b) Imputation for outliers\n",
    "        For easy of process we creating two functions for this stages.\n",
    "Note: Here IQR method is used for detection and imputation for outlier."
   ]
  },
  {
   "cell_type": "code",
   "execution_count": 33,
   "id": "79b94b33",
   "metadata": {},
   "outputs": [],
   "source": [
    "# 1. Function for Outlier Detection by giving column name as argument\n",
    "\n",
    "def detect_outlier(column):\n",
    "    \"\"\"IQR Method is used to detect Outliers and also finding the other parameters: \n",
    "           q1, q2, q3, mean, median, uppertail, lowertail, useful_data, outliers\"\"\"\n",
    "    \n",
    "    print('Boxplot before imputation:')\n",
    "    sns.boxplot(x= df[column])\n",
    "    plt.show(close=None)\n",
    "    \n",
    "    global q1,q2,q3,uppertail,lowertail,good_data,outliers \n",
    "        # so we can use them outside into the impute function\n",
    "\n",
    "    q1= df[column].quantile(.25)\n",
    "    q2= df[column].quantile(.50)\n",
    "    q3= df[column].quantile(.75)\n",
    "    IQR= q3-q1\n",
    "    uppertail= q3 + 1.5 * IQR\n",
    "    lowertail= q1 - 1.5 * IQR\n",
    "\n",
    "    good_data = df.loc[(df[column] <= uppertail) & \n",
    "                       (df[column] >= lowertail),column]  # use 'and' condition for good data\n",
    "    \n",
    "    outliers = df.loc[(df[column] > uppertail) | \n",
    "                      (df[column] < lowertail),  column]  # use 'or' condition for outliers\n",
    "    \n",
    "    print(\"Outliers:\\n\",outliers)\n",
    "    print('--------'*10)\n",
    "    print(f\"Other Parameters from good-data of feature '{column}':\")\n",
    "    print(\"1. Maximum value:\",good_data.max()); print(\"2. Minimum value:\",good_data.min())\n",
    "    print(\"3. Uppertail value:\",uppertail)    ; print(\"4. Lowertail value:\",lowertail)\n",
    "    print(\"5. Mean value:\",good_data.mean())  ; print(\"6. Median value:\",good_data.median())\n",
    "    print(f\"7. For Total datapoints: Q1= {q1}, Q2= {q2}, Q3= {q3}\")"
   ]
  },
  {
   "cell_type": "code",
   "execution_count": 34,
   "id": "5619d39e",
   "metadata": {},
   "outputs": [],
   "source": [
    "# 2. Function for impute the outlier by giving argument column name, \n",
    "# upper value for outliers beyond uppertail\n",
    "# lower value for outliers below lowertail\n",
    "\n",
    "def impute_outlier(column, upper=None, lower=None):\n",
    "    \n",
    "    \"\"\"Imputing the outliers by max, min, uppertail, lowertail, mean, \n",
    "    median of good data(Uppertail to lowertail range) in upper & lower arguments\"\"\"\n",
    "    \n",
    "    if upper=='max':\n",
    "        df.loc[(df[column] > uppertail), column] = good_data.max()\n",
    "    if upper=='uppertail':\n",
    "        df.loc[(df[column] > uppertail), column] = uppertail\n",
    "    if upper=='mean':\n",
    "        df.loc[(df[column] > uppertail), column] = good_data.mean() \n",
    "    if upper=='median':\n",
    "        df.loc[(df[column] > uppertail), column] = good_data.median()\n",
    "    if lower=='min':\n",
    "        df.loc[(df[column] < lowertail), column] = good_data.min()\n",
    "    if lower=='lowertail':\n",
    "        df.loc[(df[column] < lowertail), column] = lowertail\n",
    "    if lower=='mean':\n",
    "        df.loc[(df[column] < lowertail), column] = good_data.mean()     \n",
    "    if lower=='median':\n",
    "        df.loc[(df[column] < lowertail), column] = good_data.median()\n",
    "        \n",
    "    print('Boxplot After Outlier imputation:')    \n",
    "    sns.boxplot(x= df[column])\n",
    "    plt.show(close=None)\n",
    "    \n",
    "    outliers1 = df.loc[(df[column] > uppertail) | \n",
    "                       (df[column] < lowertail),  column]   # use 'or' condition for outliers\n",
    "    print(\"Outliers After Imputation:\\n\",outliers1)"
   ]
  },
  {
   "cell_type": "markdown",
   "id": "89ad9274",
   "metadata": {},
   "source": [
    "## 1. Droping unique value features."
   ]
  },
  {
   "cell_type": "code",
   "execution_count": 35,
   "id": "b6c65f93",
   "metadata": {},
   "outputs": [],
   "source": [
    "df.drop(['CustomerID', 'Name'], axis=1, inplace=True)"
   ]
  },
  {
   "cell_type": "code",
   "execution_count": 36,
   "id": "d3d9936e",
   "metadata": {},
   "outputs": [
    {
     "data": {
      "text/html": [
       "<div>\n",
       "<style scoped>\n",
       "    .dataframe tbody tr th:only-of-type {\n",
       "        vertical-align: middle;\n",
       "    }\n",
       "\n",
       "    .dataframe tbody tr th {\n",
       "        vertical-align: top;\n",
       "    }\n",
       "\n",
       "    .dataframe thead th {\n",
       "        text-align: right;\n",
       "    }\n",
       "</style>\n",
       "<table border=\"1\" class=\"dataframe\">\n",
       "  <thead>\n",
       "    <tr style=\"text-align: right;\">\n",
       "      <th></th>\n",
       "      <th>Age</th>\n",
       "      <th>Gender</th>\n",
       "      <th>Subscription_Length_Months</th>\n",
       "      <th>Monthly_Bill</th>\n",
       "      <th>Total_Usage_GB</th>\n",
       "      <th>Churn</th>\n",
       "      <th>Location_Chicago</th>\n",
       "      <th>Location_Houston</th>\n",
       "      <th>Location_Los Angeles</th>\n",
       "      <th>Location_Miami</th>\n",
       "      <th>Location_New York</th>\n",
       "    </tr>\n",
       "  </thead>\n",
       "  <tbody>\n",
       "    <tr>\n",
       "      <th>0</th>\n",
       "      <td>63</td>\n",
       "      <td>1</td>\n",
       "      <td>17</td>\n",
       "      <td>73.36</td>\n",
       "      <td>236</td>\n",
       "      <td>0</td>\n",
       "      <td>0</td>\n",
       "      <td>0</td>\n",
       "      <td>1</td>\n",
       "      <td>0</td>\n",
       "      <td>0</td>\n",
       "    </tr>\n",
       "    <tr>\n",
       "      <th>1</th>\n",
       "      <td>62</td>\n",
       "      <td>0</td>\n",
       "      <td>1</td>\n",
       "      <td>48.76</td>\n",
       "      <td>172</td>\n",
       "      <td>0</td>\n",
       "      <td>0</td>\n",
       "      <td>0</td>\n",
       "      <td>0</td>\n",
       "      <td>0</td>\n",
       "      <td>1</td>\n",
       "    </tr>\n",
       "    <tr>\n",
       "      <th>2</th>\n",
       "      <td>24</td>\n",
       "      <td>0</td>\n",
       "      <td>5</td>\n",
       "      <td>85.47</td>\n",
       "      <td>460</td>\n",
       "      <td>0</td>\n",
       "      <td>0</td>\n",
       "      <td>0</td>\n",
       "      <td>1</td>\n",
       "      <td>0</td>\n",
       "      <td>0</td>\n",
       "    </tr>\n",
       "    <tr>\n",
       "      <th>3</th>\n",
       "      <td>36</td>\n",
       "      <td>0</td>\n",
       "      <td>3</td>\n",
       "      <td>97.94</td>\n",
       "      <td>297</td>\n",
       "      <td>1</td>\n",
       "      <td>0</td>\n",
       "      <td>0</td>\n",
       "      <td>0</td>\n",
       "      <td>1</td>\n",
       "      <td>0</td>\n",
       "    </tr>\n",
       "    <tr>\n",
       "      <th>4</th>\n",
       "      <td>46</td>\n",
       "      <td>0</td>\n",
       "      <td>19</td>\n",
       "      <td>58.14</td>\n",
       "      <td>266</td>\n",
       "      <td>0</td>\n",
       "      <td>0</td>\n",
       "      <td>0</td>\n",
       "      <td>0</td>\n",
       "      <td>1</td>\n",
       "      <td>0</td>\n",
       "    </tr>\n",
       "    <tr>\n",
       "      <th>...</th>\n",
       "      <td>...</td>\n",
       "      <td>...</td>\n",
       "      <td>...</td>\n",
       "      <td>...</td>\n",
       "      <td>...</td>\n",
       "      <td>...</td>\n",
       "      <td>...</td>\n",
       "      <td>...</td>\n",
       "      <td>...</td>\n",
       "      <td>...</td>\n",
       "      <td>...</td>\n",
       "    </tr>\n",
       "    <tr>\n",
       "      <th>99995</th>\n",
       "      <td>33</td>\n",
       "      <td>1</td>\n",
       "      <td>23</td>\n",
       "      <td>55.13</td>\n",
       "      <td>226</td>\n",
       "      <td>1</td>\n",
       "      <td>0</td>\n",
       "      <td>1</td>\n",
       "      <td>0</td>\n",
       "      <td>0</td>\n",
       "      <td>0</td>\n",
       "    </tr>\n",
       "    <tr>\n",
       "      <th>99996</th>\n",
       "      <td>62</td>\n",
       "      <td>0</td>\n",
       "      <td>19</td>\n",
       "      <td>61.65</td>\n",
       "      <td>351</td>\n",
       "      <td>0</td>\n",
       "      <td>0</td>\n",
       "      <td>0</td>\n",
       "      <td>0</td>\n",
       "      <td>0</td>\n",
       "      <td>1</td>\n",
       "    </tr>\n",
       "    <tr>\n",
       "      <th>99997</th>\n",
       "      <td>64</td>\n",
       "      <td>1</td>\n",
       "      <td>17</td>\n",
       "      <td>96.11</td>\n",
       "      <td>251</td>\n",
       "      <td>1</td>\n",
       "      <td>1</td>\n",
       "      <td>0</td>\n",
       "      <td>0</td>\n",
       "      <td>0</td>\n",
       "      <td>0</td>\n",
       "    </tr>\n",
       "    <tr>\n",
       "      <th>99998</th>\n",
       "      <td>51</td>\n",
       "      <td>0</td>\n",
       "      <td>20</td>\n",
       "      <td>49.25</td>\n",
       "      <td>434</td>\n",
       "      <td>1</td>\n",
       "      <td>0</td>\n",
       "      <td>0</td>\n",
       "      <td>0</td>\n",
       "      <td>0</td>\n",
       "      <td>1</td>\n",
       "    </tr>\n",
       "    <tr>\n",
       "      <th>99999</th>\n",
       "      <td>27</td>\n",
       "      <td>0</td>\n",
       "      <td>19</td>\n",
       "      <td>76.57</td>\n",
       "      <td>173</td>\n",
       "      <td>1</td>\n",
       "      <td>0</td>\n",
       "      <td>0</td>\n",
       "      <td>1</td>\n",
       "      <td>0</td>\n",
       "      <td>0</td>\n",
       "    </tr>\n",
       "  </tbody>\n",
       "</table>\n",
       "<p>100000 rows × 11 columns</p>\n",
       "</div>"
      ],
      "text/plain": [
       "       Age  Gender  Subscription_Length_Months  Monthly_Bill  Total_Usage_GB  \\\n",
       "0       63       1                          17         73.36             236   \n",
       "1       62       0                           1         48.76             172   \n",
       "2       24       0                           5         85.47             460   \n",
       "3       36       0                           3         97.94             297   \n",
       "4       46       0                          19         58.14             266   \n",
       "...    ...     ...                         ...           ...             ...   \n",
       "99995   33       1                          23         55.13             226   \n",
       "99996   62       0                          19         61.65             351   \n",
       "99997   64       1                          17         96.11             251   \n",
       "99998   51       0                          20         49.25             434   \n",
       "99999   27       0                          19         76.57             173   \n",
       "\n",
       "       Churn  Location_Chicago  Location_Houston  Location_Los Angeles  \\\n",
       "0          0                 0                 0                     1   \n",
       "1          0                 0                 0                     0   \n",
       "2          0                 0                 0                     1   \n",
       "3          1                 0                 0                     0   \n",
       "4          0                 0                 0                     0   \n",
       "...      ...               ...               ...                   ...   \n",
       "99995      1                 0                 1                     0   \n",
       "99996      0                 0                 0                     0   \n",
       "99997      1                 1                 0                     0   \n",
       "99998      1                 0                 0                     0   \n",
       "99999      1                 0                 0                     1   \n",
       "\n",
       "       Location_Miami  Location_New York  \n",
       "0                   0                  0  \n",
       "1                   0                  1  \n",
       "2                   0                  0  \n",
       "3                   1                  0  \n",
       "4                   1                  0  \n",
       "...               ...                ...  \n",
       "99995               0                  0  \n",
       "99996               0                  1  \n",
       "99997               0                  0  \n",
       "99998               0                  1  \n",
       "99999               0                  0  \n",
       "\n",
       "[100000 rows x 11 columns]"
      ]
     },
     "execution_count": 36,
     "metadata": {},
     "output_type": "execute_result"
    }
   ],
   "source": [
    "df"
   ]
  },
  {
   "cell_type": "code",
   "execution_count": 37,
   "id": "5718c6db",
   "metadata": {},
   "outputs": [
    {
     "data": {
      "text/plain": [
       "Index(['Age', 'Gender', 'Subscription_Length_Months', 'Monthly_Bill',\n",
       "       'Total_Usage_GB', 'Churn', 'Location_Chicago', 'Location_Houston',\n",
       "       'Location_Los Angeles', 'Location_Miami', 'Location_New York'],\n",
       "      dtype='object')"
      ]
     },
     "execution_count": 37,
     "metadata": {},
     "output_type": "execute_result"
    }
   ],
   "source": [
    "df.columns"
   ]
  },
  {
   "cell_type": "code",
   "execution_count": 38,
   "id": "9ad1ae59",
   "metadata": {},
   "outputs": [
    {
     "name": "stdout",
     "output_type": "stream",
     "text": [
      "<class 'pandas.core.frame.DataFrame'>\n",
      "RangeIndex: 100000 entries, 0 to 99999\n",
      "Data columns (total 11 columns):\n",
      " #   Column                      Non-Null Count   Dtype  \n",
      "---  ------                      --------------   -----  \n",
      " 0   Age                         100000 non-null  int64  \n",
      " 1   Gender                      100000 non-null  int64  \n",
      " 2   Subscription_Length_Months  100000 non-null  int64  \n",
      " 3   Monthly_Bill                100000 non-null  float64\n",
      " 4   Total_Usage_GB              100000 non-null  int64  \n",
      " 5   Churn                       100000 non-null  int64  \n",
      " 6   Location_Chicago            100000 non-null  uint8  \n",
      " 7   Location_Houston            100000 non-null  uint8  \n",
      " 8   Location_Los Angeles        100000 non-null  uint8  \n",
      " 9   Location_Miami              100000 non-null  uint8  \n",
      " 10  Location_New York           100000 non-null  uint8  \n",
      "dtypes: float64(1), int64(5), uint8(5)\n",
      "memory usage: 5.1 MB\n"
     ]
    }
   ],
   "source": [
    "df.info()"
   ]
  },
  {
   "cell_type": "markdown",
   "id": "29330048",
   "metadata": {},
   "source": [
    "## 2. Detection and imputation for outlier."
   ]
  },
  {
   "cell_type": "code",
   "execution_count": 39,
   "id": "94903843",
   "metadata": {
    "scrolled": false
   },
   "outputs": [
    {
     "data": {
      "text/plain": [
       "<AxesSubplot:>"
      ]
     },
     "execution_count": 39,
     "metadata": {},
     "output_type": "execute_result"
    },
    {
     "data": {
      "image/png": "[encoded data removed]",
      "text/plain": [
       "<Figure size 1500x800 with 1 Axes>"
      ]
     },
     "metadata": {},
     "output_type": "display_data"
    }
   ],
   "source": [
    "df.boxplot(figsize=(15,8))"
   ]
  },
  {
   "cell_type": "code",
   "execution_count": 40,
   "id": "95218d65",
   "metadata": {},
   "outputs": [],
   "source": [
    "# As shown in above boxplot there is no outliers are detected.\n",
    "# Now cross checking it by IQI Method using the detect_outlier function."
   ]
  },
  {
   "cell_type": "markdown",
   "id": "f2ac4141",
   "metadata": {},
   "source": [
    "## 1. Age"
   ]
  },
  {
   "cell_type": "code",
   "execution_count": 41,
   "id": "a75e40d0",
   "metadata": {},
   "outputs": [
    {
     "name": "stdout",
     "output_type": "stream",
     "text": [
      "Boxplot before imputation:\n"
     ]
    },
    {
     "data": {
      "image/png": "[encoded data removed]",
      "text/plain": [
       "<Figure size 640x480 with 1 Axes>"
      ]
     },
     "metadata": {},
     "output_type": "display_data"
    },
    {
     "name": "stdout",
     "output_type": "stream",
     "text": [
      "Outliers:\n",
      " Series([], Name: Age, dtype: int64)\n",
      "--------------------------------------------------------------------------------\n",
      "Other Parameters from good-data of feature 'Age':\n",
      "1. Maximum value: 70\n",
      "2. Minimum value: 18\n",
      "3. Uppertail value: 96.0\n",
      "4. Lowertail value: -8.0\n",
      "5. Mean value: 44.02702\n",
      "6. Median value: 44.0\n",
      "7. For Total datapoints: Q1= 31.0, Q2= 44.0, Q3= 57.0\n"
     ]
    }
   ],
   "source": [
    "detect_outlier('Age')"
   ]
  },
  {
   "cell_type": "markdown",
   "id": "1d85de2e",
   "metadata": {},
   "source": [
    "## 2. Gender"
   ]
  },
  {
   "cell_type": "code",
   "execution_count": 42,
   "id": "139e7286",
   "metadata": {},
   "outputs": [
    {
     "name": "stdout",
     "output_type": "stream",
     "text": [
      "Boxplot before imputation:\n"
     ]
    },
    {
     "data": {
      "image/png": "[encoded data removed]",
      "text/plain": [
       "<Figure size 640x480 with 1 Axes>"
      ]
     },
     "metadata": {},
     "output_type": "display_data"
    },
    {
     "name": "stdout",
     "output_type": "stream",
     "text": [
      "Outliers:\n",
      " Series([], Name: Gender, dtype: int64)\n",
      "--------------------------------------------------------------------------------\n",
      "Other Parameters from good-data of feature 'Gender':\n",
      "1. Maximum value: 1\n",
      "2. Minimum value: 0\n",
      "3. Uppertail value: 2.5\n",
      "4. Lowertail value: -1.5\n",
      "5. Mean value: 0.49784\n",
      "6. Median value: 0.0\n",
      "7. For Total datapoints: Q1= 0.0, Q2= 0.0, Q3= 1.0\n"
     ]
    }
   ],
   "source": [
    "detect_outlier('Gender')"
   ]
  },
  {
   "cell_type": "markdown",
   "id": "4d561f7f",
   "metadata": {},
   "source": [
    "## 3. Subscription_Length_Months"
   ]
  },
  {
   "cell_type": "code",
   "execution_count": 43,
   "id": "75f1e35a",
   "metadata": {},
   "outputs": [
    {
     "name": "stdout",
     "output_type": "stream",
     "text": [
      "Boxplot before imputation:\n"
     ]
    },
    {
     "data": {
      "image/png": "[encoded data removed]",
      "text/plain": [
       "<Figure size 640x480 with 1 Axes>"
      ]
     },
     "metadata": {},
     "output_type": "display_data"
    },
    {
     "name": "stdout",
     "output_type": "stream",
     "text": [
      "Outliers:\n",
      " Series([], Name: Subscription_Length_Months, dtype: int64)\n",
      "--------------------------------------------------------------------------------\n",
      "Other Parameters from good-data of feature 'Subscription_Length_Months':\n",
      "1. Maximum value: 24\n",
      "2. Minimum value: 1\n",
      "3. Uppertail value: 38.5\n",
      "4. Lowertail value: -13.5\n",
      "5. Mean value: 12.4901\n",
      "6. Median value: 12.0\n",
      "7. For Total datapoints: Q1= 6.0, Q2= 12.0, Q3= 19.0\n"
     ]
    }
   ],
   "source": [
    "detect_outlier('Subscription_Length_Months')"
   ]
  },
  {
   "cell_type": "markdown",
   "id": "7aae91f3",
   "metadata": {},
   "source": [
    "## 4. Monthly_Bill"
   ]
  },
  {
   "cell_type": "code",
   "execution_count": 44,
   "id": "946165c6",
   "metadata": {},
   "outputs": [
    {
     "name": "stdout",
     "output_type": "stream",
     "text": [
      "Boxplot before imputation:\n"
     ]
    },
    {
     "data": {
      "image/png": "[encoded data removed]",
      "text/plain": [
       "<Figure size 640x480 with 1 Axes>"
      ]
     },
     "metadata": {},
     "output_type": "display_data"
    },
    {
     "name": "stdout",
     "output_type": "stream",
     "text": [
      "Outliers:\n",
      " Series([], Name: Monthly_Bill, dtype: float64)\n",
      "--------------------------------------------------------------------------------\n",
      "Other Parameters from good-data of feature 'Monthly_Bill':\n",
      "1. Maximum value: 100.0\n",
      "2. Minimum value: 30.0\n",
      "3. Uppertail value: 135.29000000000002\n",
      "4. Lowertail value: -5.1100000000000065\n",
      "5. Mean value: 65.05319680000062\n",
      "6. Median value: 65.01\n",
      "7. For Total datapoints: Q1= 47.54, Q2= 65.01, Q3= 82.64\n"
     ]
    }
   ],
   "source": [
    "detect_outlier('Monthly_Bill')"
   ]
  },
  {
   "cell_type": "markdown",
   "id": "357043c7",
   "metadata": {},
   "source": [
    "## 5. Total_Usage_GB"
   ]
  },
  {
   "cell_type": "code",
   "execution_count": 45,
   "id": "a532c163",
   "metadata": {},
   "outputs": [
    {
     "name": "stdout",
     "output_type": "stream",
     "text": [
      "Boxplot before imputation:\n"
     ]
    },
    {
     "data": {
      "image/png": "[encoded data removed]",
      "text/plain": [
       "<Figure size 640x480 with 1 Axes>"
      ]
     },
     "metadata": {},
     "output_type": "display_data"
    },
    {
     "name": "stdout",
     "output_type": "stream",
     "text": [
      "Outliers:\n",
      " Series([], Name: Total_Usage_GB, dtype: int64)\n",
      "--------------------------------------------------------------------------------\n",
      "Other Parameters from good-data of feature 'Total_Usage_GB':\n",
      "1. Maximum value: 500\n",
      "2. Minimum value: 50\n",
      "3. Uppertail value: 726.0\n",
      "4. Lowertail value: -178.0\n",
      "5. Mean value: 274.39365\n",
      "6. Median value: 274.0\n",
      "7. For Total datapoints: Q1= 161.0, Q2= 274.0, Q3= 387.0\n"
     ]
    }
   ],
   "source": [
    "detect_outlier('Total_Usage_GB')"
   ]
  },
  {
   "cell_type": "markdown",
   "id": "ae632350",
   "metadata": {},
   "source": [
    "## 6. Churn (Target Feature)"
   ]
  },
  {
   "cell_type": "code",
   "execution_count": 46,
   "id": "29b35d53",
   "metadata": {},
   "outputs": [
    {
     "name": "stdout",
     "output_type": "stream",
     "text": [
      "Boxplot before imputation:\n"
     ]
    },
    {
     "data": {
      "image/png": "[encoded data removed]",
      "text/plain": [
       "<Figure size 640x480 with 1 Axes>"
      ]
     },
     "metadata": {},
     "output_type": "display_data"
    },
    {
     "name": "stdout",
     "output_type": "stream",
     "text": [
      "Outliers:\n",
      " Series([], Name: Churn, dtype: int64)\n",
      "--------------------------------------------------------------------------------\n",
      "Other Parameters from good-data of feature 'Churn':\n",
      "1. Maximum value: 1\n",
      "2. Minimum value: 0\n",
      "3. Uppertail value: 2.5\n",
      "4. Lowertail value: -1.5\n",
      "5. Mean value: 0.49779\n",
      "6. Median value: 0.0\n",
      "7. For Total datapoints: Q1= 0.0, Q2= 0.0, Q3= 1.0\n"
     ]
    }
   ],
   "source": [
    "detect_outlier('Churn')"
   ]
  },
  {
   "cell_type": "code",
   "execution_count": 47,
   "id": "38ef0b82",
   "metadata": {},
   "outputs": [],
   "source": [
    "# Conclusion from outlier detection: There is no outliers in dataset."
   ]
  },
  {
   "cell_type": "markdown",
   "id": "b37aa7f4",
   "metadata": {},
   "source": [
    "# Step5: Feature selection"
   ]
  },
  {
   "cell_type": "markdown",
   "id": "73b3988f",
   "metadata": {},
   "source": [
    "### 1.Filter Method\n",
    "##### 1.1 Using Pearson corrleation"
   ]
  },
  {
   "cell_type": "code",
   "execution_count": 48,
   "id": "75391f6b",
   "metadata": {},
   "outputs": [
    {
     "data": {
      "text/plain": [
       "<AxesSubplot:>"
      ]
     },
     "execution_count": 48,
     "metadata": {},
     "output_type": "execute_result"
    },
    {
     "data": {
      "image/png": "[encoded data removed]",
      "text/plain": [
       "<Figure size 2000x200 with 2 Axes>"
      ]
     },
     "metadata": {},
     "output_type": "display_data"
    }
   ],
   "source": [
    "#1.Using Pearson corrleation\n",
    "corr=df.corr().loc[['Churn']]\n",
    "plt.figure(figsize=(20,2))\n",
    "sns.heatmap(corr, annot=True)"
   ]
  },
  {
   "cell_type": "markdown",
   "id": "c07bb95b",
   "metadata": {},
   "source": [
    "##### 1.2 Using Kendall corrleation"
   ]
  },
  {
   "cell_type": "code",
   "execution_count": 49,
   "id": "325268db",
   "metadata": {},
   "outputs": [
    {
     "data": {
      "text/plain": [
       "<AxesSubplot:>"
      ]
     },
     "execution_count": 49,
     "metadata": {},
     "output_type": "execute_result"
    },
    {
     "data": {
      "image/png": "[encoded data removed]",
      "text/plain": [
       "<Figure size 2000x200 with 2 Axes>"
      ]
     },
     "metadata": {},
     "output_type": "display_data"
    }
   ],
   "source": [
    "corr = df.corr(method='kendall').loc[['Churn']]\n",
    "plt.figure(figsize=(20,2))\n",
    "sns.heatmap(corr, annot=True)"
   ]
  },
  {
   "cell_type": "markdown",
   "id": "66a7eec8",
   "metadata": {},
   "source": [
    "##### 1.3 varianceThreshold"
   ]
  },
  {
   "cell_type": "code",
   "execution_count": 50,
   "id": "b1bdb626",
   "metadata": {},
   "outputs": [],
   "source": [
    "x1 = df.drop(['Churn'], axis=1)\n",
    "y1=df['Churn']"
   ]
  },
  {
   "cell_type": "code",
   "execution_count": 51,
   "id": "c25ad78f",
   "metadata": {},
   "outputs": [
    {
     "name": "stdout",
     "output_type": "stream",
     "text": [
      "['Age' 'Gender' 'Subscription_Length_Months' 'Monthly_Bill'\n",
      " 'Total_Usage_GB' 'Churn' 'Location_Chicago' 'Location_Houston'\n",
      " 'Location_Los Angeles' 'Location_Miami' 'Location_New York'] 11\n"
     ]
    }
   ],
   "source": [
    "from sklearn.feature_selection import VarianceThreshold\n",
    "\n",
    "var_th = VarianceThreshold(threshold=0.0)\n",
    "var_th.fit_transform(df)\n",
    "print(var_th.get_feature_names_out(), len(var_th.get_feature_names_out()))"
   ]
  },
  {
   "cell_type": "code",
   "execution_count": 52,
   "id": "fa8c0831",
   "metadata": {},
   "outputs": [
    {
     "data": {
      "text/plain": [
       "array([ True,  True,  True,  True,  True,  True,  True,  True,  True,\n",
       "        True,  True])"
      ]
     },
     "execution_count": 52,
     "metadata": {},
     "output_type": "execute_result"
    }
   ],
   "source": [
    "var_th.get_support()"
   ]
  },
  {
   "cell_type": "code",
   "execution_count": 53,
   "id": "18496b4d",
   "metadata": {},
   "outputs": [],
   "source": [
    "# It shows that there is no zero variance threshold."
   ]
  },
  {
   "cell_type": "markdown",
   "id": "14513fd9",
   "metadata": {},
   "source": [
    "##### 1.4 VIF(Variance Inflation Factor)"
   ]
  },
  {
   "cell_type": "code",
   "execution_count": 54,
   "id": "5b50be37",
   "metadata": {},
   "outputs": [
    {
     "name": "stdout",
     "output_type": "stream",
     "text": [
      "VIF Factors:\n"
     ]
    },
    {
     "data": {
      "text/html": [
       "<div>\n",
       "<style scoped>\n",
       "    .dataframe tbody tr th:only-of-type {\n",
       "        vertical-align: middle;\n",
       "    }\n",
       "\n",
       "    .dataframe tbody tr th {\n",
       "        vertical-align: top;\n",
       "    }\n",
       "\n",
       "    .dataframe thead th {\n",
       "        text-align: right;\n",
       "    }\n",
       "</style>\n",
       "<table border=\"1\" class=\"dataframe\">\n",
       "  <thead>\n",
       "    <tr style=\"text-align: right;\">\n",
       "      <th></th>\n",
       "      <th>VIF_Factor</th>\n",
       "    </tr>\n",
       "  </thead>\n",
       "  <tbody>\n",
       "    <tr>\n",
       "      <th>Location_Houston</th>\n",
       "      <td>6.500591</td>\n",
       "    </tr>\n",
       "    <tr>\n",
       "      <th>Location_Miami</th>\n",
       "      <td>6.463627</td>\n",
       "    </tr>\n",
       "    <tr>\n",
       "      <th>Location_Los Angeles</th>\n",
       "      <td>6.453350</td>\n",
       "    </tr>\n",
       "    <tr>\n",
       "      <th>Location_Chicago</th>\n",
       "      <td>6.439758</td>\n",
       "    </tr>\n",
       "    <tr>\n",
       "      <th>Location_New York</th>\n",
       "      <td>6.393780</td>\n",
       "    </tr>\n",
       "    <tr>\n",
       "      <th>Monthly_Bill</th>\n",
       "      <td>1.000095</td>\n",
       "    </tr>\n",
       "    <tr>\n",
       "      <th>Subscription_Length_Months</th>\n",
       "      <td>1.000093</td>\n",
       "    </tr>\n",
       "    <tr>\n",
       "      <th>Age</th>\n",
       "      <td>1.000082</td>\n",
       "    </tr>\n",
       "    <tr>\n",
       "      <th>Gender</th>\n",
       "      <td>1.000048</td>\n",
       "    </tr>\n",
       "    <tr>\n",
       "      <th>Total_Usage_GB</th>\n",
       "      <td>1.000034</td>\n",
       "    </tr>\n",
       "  </tbody>\n",
       "</table>\n",
       "</div>"
      ],
      "text/plain": [
       "                            VIF_Factor\n",
       "Location_Houston              6.500591\n",
       "Location_Miami                6.463627\n",
       "Location_Los Angeles          6.453350\n",
       "Location_Chicago              6.439758\n",
       "Location_New York             6.393780\n",
       "Monthly_Bill                  1.000095\n",
       "Subscription_Length_Months    1.000093\n",
       "Age                           1.000082\n",
       "Gender                        1.000048\n",
       "Total_Usage_GB                1.000034"
      ]
     },
     "metadata": {},
     "output_type": "display_data"
    },
    {
     "name": "stdout",
     "output_type": "stream",
     "text": [
      "\n",
      "Visualisation of VIF Factors:\n",
      "AxesSubplot(0.125,0.11;0.775x0.77)\n"
     ]
    },
    {
     "data": {
      "image/png": "[encoded data removed]",
      "text/plain": [
       "<Figure size 640x480 with 1 Axes>"
      ]
     },
     "metadata": {},
     "output_type": "display_data"
    }
   ],
   "source": [
    "vif_factors_list=[]\n",
    "\n",
    "for i in range(len(x1.columns)):\n",
    "    vif=variance_inflation_factor(x1,i)\n",
    "    vif_factors_list.append(vif)\n",
    "    \n",
    "vif_factors=pd.DataFrame(vif_factors_list, index=x1.columns, \n",
    "                         columns=['VIF_Factor']).sort_values(['VIF_Factor'],ascending=False)\n",
    "print(\"VIF Factors:\")\n",
    "display(vif_factors)\n",
    "print()\n",
    "print(\"Visualisation of VIF Factors:\")\n",
    "print(vif_factors.sort_values(['VIF_Factor']).plot(kind = 'barh'))"
   ]
  },
  {
   "cell_type": "code",
   "execution_count": 55,
   "id": "6719c200",
   "metadata": {},
   "outputs": [],
   "source": [
    "# From above plot the VIF factors are in moderate range."
   ]
  },
  {
   "cell_type": "markdown",
   "id": "c0bef371",
   "metadata": {},
   "source": [
    "##### 1.5 Annova Test-(F-Test)"
   ]
  },
  {
   "cell_type": "code",
   "execution_count": 56,
   "id": "a2e61a3a",
   "metadata": {},
   "outputs": [],
   "source": [
    "from sklearn.feature_selection import f_classif"
   ]
  },
  {
   "cell_type": "code",
   "execution_count": 57,
   "id": "901e989e",
   "metadata": {},
   "outputs": [
    {
     "data": {
      "text/html": [
       "<div>\n",
       "<style scoped>\n",
       "    .dataframe tbody tr th:only-of-type {\n",
       "        vertical-align: middle;\n",
       "    }\n",
       "\n",
       "    .dataframe tbody tr th {\n",
       "        vertical-align: top;\n",
       "    }\n",
       "\n",
       "    .dataframe thead th {\n",
       "        text-align: right;\n",
       "    }\n",
       "</style>\n",
       "<table border=\"1\" class=\"dataframe\">\n",
       "  <thead>\n",
       "    <tr style=\"text-align: right;\">\n",
       "      <th></th>\n",
       "      <th>f_val</th>\n",
       "      <th>p_val</th>\n",
       "    </tr>\n",
       "  </thead>\n",
       "  <tbody>\n",
       "    <tr>\n",
       "      <th>Age</th>\n",
       "      <td>0.242999</td>\n",
       "      <td>0.62205</td>\n",
       "    </tr>\n",
       "    <tr>\n",
       "      <th>Gender</th>\n",
       "      <td>0.449834</td>\n",
       "      <td>0.50242</td>\n",
       "    </tr>\n",
       "    <tr>\n",
       "      <th>Subscription_Length_Months</th>\n",
       "      <td>0.542063</td>\n",
       "      <td>0.46158</td>\n",
       "    </tr>\n",
       "    <tr>\n",
       "      <th>Monthly_Bill</th>\n",
       "      <td>0.004465</td>\n",
       "      <td>0.94673</td>\n",
       "    </tr>\n",
       "    <tr>\n",
       "      <th>Total_Usage_GB</th>\n",
       "      <td>0.807423</td>\n",
       "      <td>0.36889</td>\n",
       "    </tr>\n",
       "    <tr>\n",
       "      <th>Location_Chicago</th>\n",
       "      <td>0.025579</td>\n",
       "      <td>0.87293</td>\n",
       "    </tr>\n",
       "    <tr>\n",
       "      <th>Location_Houston</th>\n",
       "      <td>4.526703</td>\n",
       "      <td>0.03337</td>\n",
       "    </tr>\n",
       "    <tr>\n",
       "      <th>Location_Los Angeles</th>\n",
       "      <td>2.310564</td>\n",
       "      <td>0.12850</td>\n",
       "    </tr>\n",
       "    <tr>\n",
       "      <th>Location_Miami</th>\n",
       "      <td>2.740999</td>\n",
       "      <td>0.09781</td>\n",
       "    </tr>\n",
       "    <tr>\n",
       "      <th>Location_New York</th>\n",
       "      <td>3.404714</td>\n",
       "      <td>0.06501</td>\n",
       "    </tr>\n",
       "  </tbody>\n",
       "</table>\n",
       "</div>"
      ],
      "text/plain": [
       "                               f_val    p_val\n",
       "Age                         0.242999  0.62205\n",
       "Gender                      0.449834  0.50242\n",
       "Subscription_Length_Months  0.542063  0.46158\n",
       "Monthly_Bill                0.004465  0.94673\n",
       "Total_Usage_GB              0.807423  0.36889\n",
       "Location_Chicago            0.025579  0.87293\n",
       "Location_Houston            4.526703  0.03337\n",
       "Location_Los Angeles        2.310564  0.12850\n",
       "Location_Miami              2.740999  0.09781\n",
       "Location_New York           3.404714  0.06501"
      ]
     },
     "execution_count": 57,
     "metadata": {},
     "output_type": "execute_result"
    }
   ],
   "source": [
    "f_val, p_val = f_classif(x1, y1)\n",
    "\n",
    "df0 = pd.DataFrame({\"f_val\":f_val, \"p_val\":np.around(p_val,5)}, index=x1.columns)\n",
    "df0"
   ]
  },
  {
   "cell_type": "code",
   "execution_count": 58,
   "id": "5b80e352",
   "metadata": {},
   "outputs": [],
   "source": [
    "# From above test p_val of Location_Houston is less than 0.05. So, only feature Location_Houston and Churn are dependent."
   ]
  },
  {
   "cell_type": "markdown",
   "id": "08eb4dc0",
   "metadata": {},
   "source": [
    "###### 1.6 information Gain"
   ]
  },
  {
   "cell_type": "code",
   "execution_count": 59,
   "id": "e66a066c",
   "metadata": {},
   "outputs": [],
   "source": [
    "from sklearn.feature_selection import mutual_info_classif, mutual_info_regression"
   ]
  },
  {
   "cell_type": "code",
   "execution_count": 60,
   "id": "8ee6e53b",
   "metadata": {},
   "outputs": [
    {
     "data": {
      "text/plain": [
       "<AxesSubplot:>"
      ]
     },
     "execution_count": 60,
     "metadata": {},
     "output_type": "execute_result"
    },
    {
     "data": {
      "image/png": "[encoded data removed]",
      "text/plain": [
       "<Figure size 640x480 with 1 Axes>"
      ]
     },
     "metadata": {},
     "output_type": "display_data"
    }
   ],
   "source": [
    "array1 = mutual_info_regression(x1,y1)\n",
    "\n",
    "s2 = pd.Series(array1, index=x1.columns)\n",
    "s2.sort_values().plot(kind = 'barh')"
   ]
  },
  {
   "cell_type": "markdown",
   "id": "82a48710",
   "metadata": {},
   "source": [
    "#### 2. Wrapper Method"
   ]
  },
  {
   "cell_type": "markdown",
   "id": "a8e0163c",
   "metadata": {},
   "source": [
    "##### 2.1 Bi-directional Feature Selection"
   ]
  },
  {
   "cell_type": "code",
   "execution_count": 63,
   "id": "43b63700",
   "metadata": {},
   "outputs": [],
   "source": [
    "from mlxtend.feature_selection import SequentialFeatureSelector"
   ]
  },
  {
   "cell_type": "code",
   "execution_count": 64,
   "id": "ad30577a",
   "metadata": {},
   "outputs": [
    {
     "data": {
      "text/html": [
       "<style>#sk-container-id-1 {color: black;}#sk-container-id-1 pre{padding: 0;}#sk-container-id-1 div.sk-toggleable {background-color: white;}#sk-container-id-1 label.sk-toggleable__label {cursor: pointer;display: block;width: 100%;margin-bottom: 0;padding: 0.3em;box-sizing: border-box;text-align: center;}#sk-container-id-1 label.sk-toggleable__label-arrow:before {content: \"▸\";float: left;margin-right: 0.25em;color: #696969;}#sk-container-id-1 label.sk-toggleable__label-arrow:hover:before {color: black;}#sk-container-id-1 div.sk-estimator:hover label.sk-toggleable__label-arrow:before {color: black;}#sk-container-id-1 div.sk-toggleable__content {max-height: 0;max-width: 0;overflow: hidden;text-align: left;background-color: #f0f8ff;}#sk-container-id-1 div.sk-toggleable__content pre {margin: 0.2em;color: black;border-radius: 0.25em;background-color: #f0f8ff;}#sk-container-id-1 input.sk-toggleable__control:checked~div.sk-toggleable__content {max-height: 200px;max-width: 100%;overflow: auto;}#sk-container-id-1 input.sk-toggleable__control:checked~label.sk-toggleable__label-arrow:before {content: \"▾\";}#sk-container-id-1 div.sk-estimator input.sk-toggleable__control:checked~label.sk-toggleable__label {background-color: #d4ebff;}#sk-container-id-1 div.sk-label input.sk-toggleable__control:checked~label.sk-toggleable__label {background-color: #d4ebff;}#sk-container-id-1 input.sk-hidden--visually {border: 0;clip: rect(1px 1px 1px 1px);clip: rect(1px, 1px, 1px, 1px);height: 1px;margin: -1px;overflow: hidden;padding: 0;position: absolute;width: 1px;}#sk-container-id-1 div.sk-estimator {font-family: monospace;background-color: #f0f8ff;border: 1px dotted black;border-radius: 0.25em;box-sizing: border-box;margin-bottom: 0.5em;}#sk-container-id-1 div.sk-estimator:hover {background-color: #d4ebff;}#sk-container-id-1 div.sk-parallel-item::after {content: \"\";width: 100%;border-bottom: 1px solid gray;flex-grow: 1;}#sk-container-id-1 div.sk-label:hover label.sk-toggleable__label {background-color: #d4ebff;}#sk-container-id-1 div.sk-serial::before {content: \"\";position: absolute;border-left: 1px solid gray;box-sizing: border-box;top: 0;bottom: 0;left: 50%;z-index: 0;}#sk-container-id-1 div.sk-serial {display: flex;flex-direction: column;align-items: center;background-color: white;padding-right: 0.2em;padding-left: 0.2em;position: relative;}#sk-container-id-1 div.sk-item {position: relative;z-index: 1;}#sk-container-id-1 div.sk-parallel {display: flex;align-items: stretch;justify-content: center;background-color: white;position: relative;}#sk-container-id-1 div.sk-item::before, #sk-container-id-1 div.sk-parallel-item::before {content: \"\";position: absolute;border-left: 1px solid gray;box-sizing: border-box;top: 0;bottom: 0;left: 50%;z-index: -1;}#sk-container-id-1 div.sk-parallel-item {display: flex;flex-direction: column;z-index: 1;position: relative;background-color: white;}#sk-container-id-1 div.sk-parallel-item:first-child::after {align-self: flex-end;width: 50%;}#sk-container-id-1 div.sk-parallel-item:last-child::after {align-self: flex-start;width: 50%;}#sk-container-id-1 div.sk-parallel-item:only-child::after {width: 0;}#sk-container-id-1 div.sk-dashed-wrapped {border: 1px dashed gray;margin: 0 0.4em 0.5em 0.4em;box-sizing: border-box;padding-bottom: 0.4em;background-color: white;}#sk-container-id-1 div.sk-label label {font-family: monospace;font-weight: bold;display: inline-block;line-height: 1.2em;}#sk-container-id-1 div.sk-label-container {text-align: center;}#sk-container-id-1 div.sk-container {/* jupyter's `normalize.less` sets `[hidden] { display: none; }` but bootstrap.min.css set `[hidden] { display: none !important; }` so we also need the `!important` here to be able to override the default hidden behavior on the sphinx rendered scikit-learn.org. See: https://github.com/scikit-learn/scikit-learn/issues/21755 */display: inline-block !important;position: relative;}#sk-container-id-1 div.sk-text-repr-fallback {display: none;}</style><div id=\"sk-container-id-1\" class=\"sk-top-container\"><div class=\"sk-text-repr-fallback\"><pre>SequentialFeatureSelector(estimator=LogisticRegression(), k_features=(10, 10),\n",
       "                          n_jobs=-2, scoring=&#x27;accuracy&#x27;)</pre><b>In a Jupyter environment, please rerun this cell to show the HTML representation or trust the notebook. <br />On GitHub, the HTML representation is unable to render, please try loading this page with nbviewer.org.</b></div><div class=\"sk-container\" hidden><div class=\"sk-item sk-dashed-wrapped\"><div class=\"sk-label-container\"><div class=\"sk-label sk-toggleable\"><input class=\"sk-toggleable__control sk-hidden--visually\" id=\"sk-estimator-id-1\" type=\"checkbox\" ><label for=\"sk-estimator-id-1\" class=\"sk-toggleable__label sk-toggleable__label-arrow\">SequentialFeatureSelector</label><div class=\"sk-toggleable__content\"><pre>SequentialFeatureSelector(estimator=LogisticRegression(), k_features=(10, 10),\n",
       "                          n_jobs=-2, scoring=&#x27;accuracy&#x27;)</pre></div></div></div><div class=\"sk-parallel\"><div class=\"sk-parallel-item\"><div class=\"sk-item\"><div class=\"sk-label-container\"><div class=\"sk-label sk-toggleable\"><input class=\"sk-toggleable__control sk-hidden--visually\" id=\"sk-estimator-id-2\" type=\"checkbox\" ><label for=\"sk-estimator-id-2\" class=\"sk-toggleable__label sk-toggleable__label-arrow\">estimator: LogisticRegression</label><div class=\"sk-toggleable__content\"><pre>LogisticRegression()</pre></div></div></div><div class=\"sk-serial\"><div class=\"sk-item\"><div class=\"sk-estimator sk-toggleable\"><input class=\"sk-toggleable__control sk-hidden--visually\" id=\"sk-estimator-id-3\" type=\"checkbox\" ><label for=\"sk-estimator-id-3\" class=\"sk-toggleable__label sk-toggleable__label-arrow\">LogisticRegression</label><div class=\"sk-toggleable__content\"><pre>LogisticRegression()</pre></div></div></div></div></div></div></div></div></div></div>"
      ],
      "text/plain": [
       "SequentialFeatureSelector(estimator=LogisticRegression(), k_features=(10, 10),\n",
       "                          n_jobs=-2, scoring='accuracy')"
      ]
     },
     "execution_count": 64,
     "metadata": {},
     "output_type": "execute_result"
    }
   ],
   "source": [
    "log =LogisticRegression()\n",
    "\n",
    "sfs = SequentialFeatureSelector(log, k_features= 10, forward=True, cv=5, n_jobs=-2)\n",
    "\n",
    "sfs.fit(x1, y1)"
   ]
  },
  {
   "cell_type": "code",
   "execution_count": 65,
   "id": "01d00b9f",
   "metadata": {},
   "outputs": [
    {
     "data": {
      "text/html": [
       "<div>\n",
       "<style scoped>\n",
       "    .dataframe tbody tr th:only-of-type {\n",
       "        vertical-align: middle;\n",
       "    }\n",
       "\n",
       "    .dataframe tbody tr th {\n",
       "        vertical-align: top;\n",
       "    }\n",
       "\n",
       "    .dataframe thead th {\n",
       "        text-align: right;\n",
       "    }\n",
       "</style>\n",
       "<table border=\"1\" class=\"dataframe\">\n",
       "  <thead>\n",
       "    <tr style=\"text-align: right;\">\n",
       "      <th></th>\n",
       "      <th>feature_idx</th>\n",
       "      <th>cv_scores</th>\n",
       "      <th>avg_score</th>\n",
       "      <th>feature_names</th>\n",
       "    </tr>\n",
       "  </thead>\n",
       "  <tbody>\n",
       "    <tr>\n",
       "      <th>1</th>\n",
       "      <td>(9,)</td>\n",
       "      <td>[0.5031, 0.50305, 0.50315, 0.50125, 0.50775]</td>\n",
       "      <td>0.50366</td>\n",
       "      <td>(Location_New York,)</td>\n",
       "    </tr>\n",
       "    <tr>\n",
       "      <th>2</th>\n",
       "      <td>(8, 9)</td>\n",
       "      <td>[0.5049, 0.5034, 0.50205, 0.50395, 0.51005]</td>\n",
       "      <td>0.50487</td>\n",
       "      <td>(Location_Miami, Location_New York)</td>\n",
       "    </tr>\n",
       "    <tr>\n",
       "      <th>3</th>\n",
       "      <td>(6, 8, 9)</td>\n",
       "      <td>[0.5049, 0.5034, 0.50205, 0.50395, 0.51005]</td>\n",
       "      <td>0.50487</td>\n",
       "      <td>(Location_Houston, Location_Miami, Location_Ne...</td>\n",
       "    </tr>\n",
       "    <tr>\n",
       "      <th>4</th>\n",
       "      <td>(3, 6, 8, 9)</td>\n",
       "      <td>[0.5049, 0.5034, 0.50205, 0.5038, 0.5108]</td>\n",
       "      <td>0.50499</td>\n",
       "      <td>(Monthly_Bill, Location_Houston, Location_Miam...</td>\n",
       "    </tr>\n",
       "    <tr>\n",
       "      <th>5</th>\n",
       "      <td>(0, 3, 6, 8, 9)</td>\n",
       "      <td>[0.5048, 0.5034, 0.50205, 0.50395, 0.5115]</td>\n",
       "      <td>0.50514</td>\n",
       "      <td>(Age, Monthly_Bill, Location_Houston, Location...</td>\n",
       "    </tr>\n",
       "    <tr>\n",
       "      <th>6</th>\n",
       "      <td>(0, 3, 6, 7, 8, 9)</td>\n",
       "      <td>[0.50295, 0.5034, 0.50205, 0.50395, 0.51055]</td>\n",
       "      <td>0.50458</td>\n",
       "      <td>(Age, Monthly_Bill, Location_Houston, Location...</td>\n",
       "    </tr>\n",
       "    <tr>\n",
       "      <th>7</th>\n",
       "      <td>(0, 1, 3, 6, 7, 8, 9)</td>\n",
       "      <td>[0.5034, 0.5034, 0.5032, 0.50395, 0.5106]</td>\n",
       "      <td>0.50491</td>\n",
       "      <td>(Age, Gender, Monthly_Bill, Location_Houston, ...</td>\n",
       "    </tr>\n",
       "    <tr>\n",
       "      <th>8</th>\n",
       "      <td>(0, 1, 3, 5, 6, 7, 8, 9)</td>\n",
       "      <td>[0.50305, 0.4981, 0.50205, 0.5042, 0.51105]</td>\n",
       "      <td>0.50369</td>\n",
       "      <td>(Age, Gender, Monthly_Bill, Location_Chicago, ...</td>\n",
       "    </tr>\n",
       "    <tr>\n",
       "      <th>9</th>\n",
       "      <td>(0, 1, 2, 3, 5, 6, 7, 8, 9)</td>\n",
       "      <td>[0.50135, 0.4981, 0.502, 0.50275, 0.51085]</td>\n",
       "      <td>0.50301</td>\n",
       "      <td>(Age, Gender, Subscription_Length_Months, Mont...</td>\n",
       "    </tr>\n",
       "    <tr>\n",
       "      <th>10</th>\n",
       "      <td>(0, 1, 2, 3, 4, 5, 6, 7, 8, 9)</td>\n",
       "      <td>[0.5043, 0.4988, 0.5015, 0.49935, 0.5072]</td>\n",
       "      <td>0.50223</td>\n",
       "      <td>(Age, Gender, Subscription_Length_Months, Mont...</td>\n",
       "    </tr>\n",
       "  </tbody>\n",
       "</table>\n",
       "</div>"
      ],
      "text/plain": [
       "                       feature_idx  \\\n",
       "1                             (9,)   \n",
       "2                           (8, 9)   \n",
       "3                        (6, 8, 9)   \n",
       "4                     (3, 6, 8, 9)   \n",
       "5                  (0, 3, 6, 8, 9)   \n",
       "6               (0, 3, 6, 7, 8, 9)   \n",
       "7            (0, 1, 3, 6, 7, 8, 9)   \n",
       "8         (0, 1, 3, 5, 6, 7, 8, 9)   \n",
       "9      (0, 1, 2, 3, 5, 6, 7, 8, 9)   \n",
       "10  (0, 1, 2, 3, 4, 5, 6, 7, 8, 9)   \n",
       "\n",
       "                                       cv_scores avg_score  \\\n",
       "1   [0.5031, 0.50305, 0.50315, 0.50125, 0.50775]   0.50366   \n",
       "2    [0.5049, 0.5034, 0.50205, 0.50395, 0.51005]   0.50487   \n",
       "3    [0.5049, 0.5034, 0.50205, 0.50395, 0.51005]   0.50487   \n",
       "4      [0.5049, 0.5034, 0.50205, 0.5038, 0.5108]   0.50499   \n",
       "5     [0.5048, 0.5034, 0.50205, 0.50395, 0.5115]   0.50514   \n",
       "6   [0.50295, 0.5034, 0.50205, 0.50395, 0.51055]   0.50458   \n",
       "7      [0.5034, 0.5034, 0.5032, 0.50395, 0.5106]   0.50491   \n",
       "8    [0.50305, 0.4981, 0.50205, 0.5042, 0.51105]   0.50369   \n",
       "9     [0.50135, 0.4981, 0.502, 0.50275, 0.51085]   0.50301   \n",
       "10     [0.5043, 0.4988, 0.5015, 0.49935, 0.5072]   0.50223   \n",
       "\n",
       "                                        feature_names  \n",
       "1                                (Location_New York,)  \n",
       "2                 (Location_Miami, Location_New York)  \n",
       "3   (Location_Houston, Location_Miami, Location_Ne...  \n",
       "4   (Monthly_Bill, Location_Houston, Location_Miam...  \n",
       "5   (Age, Monthly_Bill, Location_Houston, Location...  \n",
       "6   (Age, Monthly_Bill, Location_Houston, Location...  \n",
       "7   (Age, Gender, Monthly_Bill, Location_Houston, ...  \n",
       "8   (Age, Gender, Monthly_Bill, Location_Chicago, ...  \n",
       "9   (Age, Gender, Subscription_Length_Months, Mont...  \n",
       "10  (Age, Gender, Subscription_Length_Months, Mont...  "
      ]
     },
     "execution_count": 65,
     "metadata": {},
     "output_type": "execute_result"
    }
   ],
   "source": [
    "df1=pd.DataFrame(sfs.subsets_).T\n",
    "df1"
   ]
  },
  {
   "cell_type": "code",
   "execution_count": 66,
   "id": "2f3031fe",
   "metadata": {},
   "outputs": [
    {
     "data": {
      "text/plain": [
       "4"
      ]
     },
     "execution_count": 66,
     "metadata": {},
     "output_type": "execute_result"
    }
   ],
   "source": [
    "a=(df1['avg_score'].values)\n",
    "max_index=np.where(a==a.max())[0][-1]\n",
    "max_index"
   ]
  },
  {
   "cell_type": "code",
   "execution_count": 67,
   "id": "353328c8",
   "metadata": {},
   "outputs": [
    {
     "name": "stdout",
     "output_type": "stream",
     "text": [
      "Highest accuracy= 0.50514\n"
     ]
    }
   ],
   "source": [
    "# Highest accuracy\n",
    "print(\"Highest accuracy=\", a.max())"
   ]
  },
  {
   "cell_type": "code",
   "execution_count": 68,
   "id": "a37d34de",
   "metadata": {},
   "outputs": [
    {
     "data": {
      "text/plain": [
       "['Age',\n",
       " 'Monthly_Bill',\n",
       " 'Location_Houston',\n",
       " 'Location_Miami',\n",
       " 'Location_New York']"
      ]
     },
     "execution_count": 68,
     "metadata": {},
     "output_type": "execute_result"
    }
   ],
   "source": [
    "# List of features which give highest accuracy by this method\n",
    "f1=list((df1.iloc[(max_index),[3]])[0])\n",
    "f1"
   ]
  },
  {
   "cell_type": "code",
   "execution_count": null,
   "id": "9f5c8196",
   "metadata": {},
   "outputs": [],
   "source": [
    "# Now storing this list\n",
    "f1 = ['Age', 'Monthly_Bill', 'Location_Houston', 'Location_Miami', 'Location_New York']"
   ]
  },
  {
   "cell_type": "code",
   "execution_count": 69,
   "id": "b80db33f",
   "metadata": {},
   "outputs": [
    {
     "data": {
      "text/html": [
       "<style>#sk-container-id-2 {color: black;}#sk-container-id-2 pre{padding: 0;}#sk-container-id-2 div.sk-toggleable {background-color: white;}#sk-container-id-2 label.sk-toggleable__label {cursor: pointer;display: block;width: 100%;margin-bottom: 0;padding: 0.3em;box-sizing: border-box;text-align: center;}#sk-container-id-2 label.sk-toggleable__label-arrow:before {content: \"▸\";float: left;margin-right: 0.25em;color: #696969;}#sk-container-id-2 label.sk-toggleable__label-arrow:hover:before {color: black;}#sk-container-id-2 div.sk-estimator:hover label.sk-toggleable__label-arrow:before {color: black;}#sk-container-id-2 div.sk-toggleable__content {max-height: 0;max-width: 0;overflow: hidden;text-align: left;background-color: #f0f8ff;}#sk-container-id-2 div.sk-toggleable__content pre {margin: 0.2em;color: black;border-radius: 0.25em;background-color: #f0f8ff;}#sk-container-id-2 input.sk-toggleable__control:checked~div.sk-toggleable__content {max-height: 200px;max-width: 100%;overflow: auto;}#sk-container-id-2 input.sk-toggleable__control:checked~label.sk-toggleable__label-arrow:before {content: \"▾\";}#sk-container-id-2 div.sk-estimator input.sk-toggleable__control:checked~label.sk-toggleable__label {background-color: #d4ebff;}#sk-container-id-2 div.sk-label input.sk-toggleable__control:checked~label.sk-toggleable__label {background-color: #d4ebff;}#sk-container-id-2 input.sk-hidden--visually {border: 0;clip: rect(1px 1px 1px 1px);clip: rect(1px, 1px, 1px, 1px);height: 1px;margin: -1px;overflow: hidden;padding: 0;position: absolute;width: 1px;}#sk-container-id-2 div.sk-estimator {font-family: monospace;background-color: #f0f8ff;border: 1px dotted black;border-radius: 0.25em;box-sizing: border-box;margin-bottom: 0.5em;}#sk-container-id-2 div.sk-estimator:hover {background-color: #d4ebff;}#sk-container-id-2 div.sk-parallel-item::after {content: \"\";width: 100%;border-bottom: 1px solid gray;flex-grow: 1;}#sk-container-id-2 div.sk-label:hover label.sk-toggleable__label {background-color: #d4ebff;}#sk-container-id-2 div.sk-serial::before {content: \"\";position: absolute;border-left: 1px solid gray;box-sizing: border-box;top: 0;bottom: 0;left: 50%;z-index: 0;}#sk-container-id-2 div.sk-serial {display: flex;flex-direction: column;align-items: center;background-color: white;padding-right: 0.2em;padding-left: 0.2em;position: relative;}#sk-container-id-2 div.sk-item {position: relative;z-index: 1;}#sk-container-id-2 div.sk-parallel {display: flex;align-items: stretch;justify-content: center;background-color: white;position: relative;}#sk-container-id-2 div.sk-item::before, #sk-container-id-2 div.sk-parallel-item::before {content: \"\";position: absolute;border-left: 1px solid gray;box-sizing: border-box;top: 0;bottom: 0;left: 50%;z-index: -1;}#sk-container-id-2 div.sk-parallel-item {display: flex;flex-direction: column;z-index: 1;position: relative;background-color: white;}#sk-container-id-2 div.sk-parallel-item:first-child::after {align-self: flex-end;width: 50%;}#sk-container-id-2 div.sk-parallel-item:last-child::after {align-self: flex-start;width: 50%;}#sk-container-id-2 div.sk-parallel-item:only-child::after {width: 0;}#sk-container-id-2 div.sk-dashed-wrapped {border: 1px dashed gray;margin: 0 0.4em 0.5em 0.4em;box-sizing: border-box;padding-bottom: 0.4em;background-color: white;}#sk-container-id-2 div.sk-label label {font-family: monospace;font-weight: bold;display: inline-block;line-height: 1.2em;}#sk-container-id-2 div.sk-label-container {text-align: center;}#sk-container-id-2 div.sk-container {/* jupyter's `normalize.less` sets `[hidden] { display: none; }` but bootstrap.min.css set `[hidden] { display: none !important; }` so we also need the `!important` here to be able to override the default hidden behavior on the sphinx rendered scikit-learn.org. See: https://github.com/scikit-learn/scikit-learn/issues/21755 */display: inline-block !important;position: relative;}#sk-container-id-2 div.sk-text-repr-fallback {display: none;}</style><div id=\"sk-container-id-2\" class=\"sk-top-container\"><div class=\"sk-text-repr-fallback\"><pre>SequentialFeatureSelector(estimator=LogisticRegression(), forward=False,\n",
       "                          k_features=(1, 1), n_jobs=-2, scoring=&#x27;accuracy&#x27;)</pre><b>In a Jupyter environment, please rerun this cell to show the HTML representation or trust the notebook. <br />On GitHub, the HTML representation is unable to render, please try loading this page with nbviewer.org.</b></div><div class=\"sk-container\" hidden><div class=\"sk-item sk-dashed-wrapped\"><div class=\"sk-label-container\"><div class=\"sk-label sk-toggleable\"><input class=\"sk-toggleable__control sk-hidden--visually\" id=\"sk-estimator-id-4\" type=\"checkbox\" ><label for=\"sk-estimator-id-4\" class=\"sk-toggleable__label sk-toggleable__label-arrow\">SequentialFeatureSelector</label><div class=\"sk-toggleable__content\"><pre>SequentialFeatureSelector(estimator=LogisticRegression(), forward=False,\n",
       "                          k_features=(1, 1), n_jobs=-2, scoring=&#x27;accuracy&#x27;)</pre></div></div></div><div class=\"sk-parallel\"><div class=\"sk-parallel-item\"><div class=\"sk-item\"><div class=\"sk-label-container\"><div class=\"sk-label sk-toggleable\"><input class=\"sk-toggleable__control sk-hidden--visually\" id=\"sk-estimator-id-5\" type=\"checkbox\" ><label for=\"sk-estimator-id-5\" class=\"sk-toggleable__label sk-toggleable__label-arrow\">estimator: LogisticRegression</label><div class=\"sk-toggleable__content\"><pre>LogisticRegression()</pre></div></div></div><div class=\"sk-serial\"><div class=\"sk-item\"><div class=\"sk-estimator sk-toggleable\"><input class=\"sk-toggleable__control sk-hidden--visually\" id=\"sk-estimator-id-6\" type=\"checkbox\" ><label for=\"sk-estimator-id-6\" class=\"sk-toggleable__label sk-toggleable__label-arrow\">LogisticRegression</label><div class=\"sk-toggleable__content\"><pre>LogisticRegression()</pre></div></div></div></div></div></div></div></div></div></div>"
      ],
      "text/plain": [
       "SequentialFeatureSelector(estimator=LogisticRegression(), forward=False,\n",
       "                          k_features=(1, 1), n_jobs=-2, scoring='accuracy')"
      ]
     },
     "execution_count": 69,
     "metadata": {},
     "output_type": "execute_result"
    }
   ],
   "source": [
    "log=LogisticRegression()\n",
    "\n",
    "sfs = SequentialFeatureSelector(log, k_features= 1, forward=False, cv=5, n_jobs=-2)\n",
    "\n",
    "sfs.fit(x1, y1)"
   ]
  },
  {
   "cell_type": "code",
   "execution_count": 70,
   "id": "38f3ed51",
   "metadata": {},
   "outputs": [
    {
     "data": {
      "text/html": [
       "<div>\n",
       "<style scoped>\n",
       "    .dataframe tbody tr th:only-of-type {\n",
       "        vertical-align: middle;\n",
       "    }\n",
       "\n",
       "    .dataframe tbody tr th {\n",
       "        vertical-align: top;\n",
       "    }\n",
       "\n",
       "    .dataframe thead th {\n",
       "        text-align: right;\n",
       "    }\n",
       "</style>\n",
       "<table border=\"1\" class=\"dataframe\">\n",
       "  <thead>\n",
       "    <tr style=\"text-align: right;\">\n",
       "      <th></th>\n",
       "      <th>feature_idx</th>\n",
       "      <th>cv_scores</th>\n",
       "      <th>avg_score</th>\n",
       "      <th>feature_names</th>\n",
       "    </tr>\n",
       "  </thead>\n",
       "  <tbody>\n",
       "    <tr>\n",
       "      <th>10</th>\n",
       "      <td>(0, 1, 2, 3, 4, 5, 6, 7, 8, 9)</td>\n",
       "      <td>[0.5043, 0.4988, 0.5015, 0.49935, 0.5072]</td>\n",
       "      <td>0.50223</td>\n",
       "      <td>(Age, Gender, Subscription_Length_Months, Mont...</td>\n",
       "    </tr>\n",
       "    <tr>\n",
       "      <th>9</th>\n",
       "      <td>(0, 1, 2, 3, 5, 6, 7, 8, 9)</td>\n",
       "      <td>[0.50135, 0.4981, 0.502, 0.50275, 0.51085]</td>\n",
       "      <td>0.50301</td>\n",
       "      <td>(Age, Gender, Subscription_Length_Months, Mont...</td>\n",
       "    </tr>\n",
       "    <tr>\n",
       "      <th>8</th>\n",
       "      <td>(0, 1, 3, 5, 6, 7, 8, 9)</td>\n",
       "      <td>[0.50305, 0.4981, 0.50205, 0.5042, 0.51105]</td>\n",
       "      <td>0.50369</td>\n",
       "      <td>(Age, Gender, Monthly_Bill, Location_Chicago, ...</td>\n",
       "    </tr>\n",
       "    <tr>\n",
       "      <th>7</th>\n",
       "      <td>(0, 1, 3, 6, 7, 8, 9)</td>\n",
       "      <td>[0.5034, 0.5034, 0.5032, 0.50395, 0.5106]</td>\n",
       "      <td>0.50491</td>\n",
       "      <td>(Age, Gender, Monthly_Bill, Location_Houston, ...</td>\n",
       "    </tr>\n",
       "    <tr>\n",
       "      <th>6</th>\n",
       "      <td>(0, 3, 6, 7, 8, 9)</td>\n",
       "      <td>[0.50295, 0.5034, 0.50205, 0.50395, 0.51055]</td>\n",
       "      <td>0.50458</td>\n",
       "      <td>(Age, Monthly_Bill, Location_Houston, Location...</td>\n",
       "    </tr>\n",
       "    <tr>\n",
       "      <th>5</th>\n",
       "      <td>(0, 3, 6, 8, 9)</td>\n",
       "      <td>[0.5048, 0.5034, 0.50205, 0.50395, 0.5115]</td>\n",
       "      <td>0.50514</td>\n",
       "      <td>(Age, Monthly_Bill, Location_Houston, Location...</td>\n",
       "    </tr>\n",
       "    <tr>\n",
       "      <th>4</th>\n",
       "      <td>(3, 6, 8, 9)</td>\n",
       "      <td>[0.5049, 0.5034, 0.50205, 0.5038, 0.5108]</td>\n",
       "      <td>0.50499</td>\n",
       "      <td>(Monthly_Bill, Location_Houston, Location_Miam...</td>\n",
       "    </tr>\n",
       "    <tr>\n",
       "      <th>3</th>\n",
       "      <td>(6, 8, 9)</td>\n",
       "      <td>[0.5049, 0.5034, 0.50205, 0.50395, 0.51005]</td>\n",
       "      <td>0.50487</td>\n",
       "      <td>(Location_Houston, Location_Miami, Location_Ne...</td>\n",
       "    </tr>\n",
       "    <tr>\n",
       "      <th>2</th>\n",
       "      <td>(8, 9)</td>\n",
       "      <td>[0.5049, 0.5034, 0.50205, 0.50395, 0.51005]</td>\n",
       "      <td>0.50487</td>\n",
       "      <td>(Location_Miami, Location_New York)</td>\n",
       "    </tr>\n",
       "    <tr>\n",
       "      <th>1</th>\n",
       "      <td>(9,)</td>\n",
       "      <td>[0.5031, 0.50305, 0.50315, 0.50125, 0.50775]</td>\n",
       "      <td>0.50366</td>\n",
       "      <td>(Location_New York,)</td>\n",
       "    </tr>\n",
       "  </tbody>\n",
       "</table>\n",
       "</div>"
      ],
      "text/plain": [
       "                       feature_idx  \\\n",
       "10  (0, 1, 2, 3, 4, 5, 6, 7, 8, 9)   \n",
       "9      (0, 1, 2, 3, 5, 6, 7, 8, 9)   \n",
       "8         (0, 1, 3, 5, 6, 7, 8, 9)   \n",
       "7            (0, 1, 3, 6, 7, 8, 9)   \n",
       "6               (0, 3, 6, 7, 8, 9)   \n",
       "5                  (0, 3, 6, 8, 9)   \n",
       "4                     (3, 6, 8, 9)   \n",
       "3                        (6, 8, 9)   \n",
       "2                           (8, 9)   \n",
       "1                             (9,)   \n",
       "\n",
       "                                       cv_scores avg_score  \\\n",
       "10     [0.5043, 0.4988, 0.5015, 0.49935, 0.5072]   0.50223   \n",
       "9     [0.50135, 0.4981, 0.502, 0.50275, 0.51085]   0.50301   \n",
       "8    [0.50305, 0.4981, 0.50205, 0.5042, 0.51105]   0.50369   \n",
       "7      [0.5034, 0.5034, 0.5032, 0.50395, 0.5106]   0.50491   \n",
       "6   [0.50295, 0.5034, 0.50205, 0.50395, 0.51055]   0.50458   \n",
       "5     [0.5048, 0.5034, 0.50205, 0.50395, 0.5115]   0.50514   \n",
       "4      [0.5049, 0.5034, 0.50205, 0.5038, 0.5108]   0.50499   \n",
       "3    [0.5049, 0.5034, 0.50205, 0.50395, 0.51005]   0.50487   \n",
       "2    [0.5049, 0.5034, 0.50205, 0.50395, 0.51005]   0.50487   \n",
       "1   [0.5031, 0.50305, 0.50315, 0.50125, 0.50775]   0.50366   \n",
       "\n",
       "                                        feature_names  \n",
       "10  (Age, Gender, Subscription_Length_Months, Mont...  \n",
       "9   (Age, Gender, Subscription_Length_Months, Mont...  \n",
       "8   (Age, Gender, Monthly_Bill, Location_Chicago, ...  \n",
       "7   (Age, Gender, Monthly_Bill, Location_Houston, ...  \n",
       "6   (Age, Monthly_Bill, Location_Houston, Location...  \n",
       "5   (Age, Monthly_Bill, Location_Houston, Location...  \n",
       "4   (Monthly_Bill, Location_Houston, Location_Miam...  \n",
       "3   (Location_Houston, Location_Miami, Location_Ne...  \n",
       "2                 (Location_Miami, Location_New York)  \n",
       "1                                (Location_New York,)  "
      ]
     },
     "execution_count": 70,
     "metadata": {},
     "output_type": "execute_result"
    }
   ],
   "source": [
    "df2=pd.DataFrame(sfs.subsets_).T\n",
    "df2"
   ]
  },
  {
   "cell_type": "code",
   "execution_count": 71,
   "id": "67991b18",
   "metadata": {
    "scrolled": true
   },
   "outputs": [
    {
     "data": {
      "text/plain": [
       "5"
      ]
     },
     "execution_count": 71,
     "metadata": {},
     "output_type": "execute_result"
    }
   ],
   "source": [
    "a=(df2['avg_score'].values)\n",
    "max_index=np.where(a==a.max())[0][0]\n",
    "max_index"
   ]
  },
  {
   "cell_type": "code",
   "execution_count": 72,
   "id": "a2ded546",
   "metadata": {},
   "outputs": [
    {
     "name": "stdout",
     "output_type": "stream",
     "text": [
      "Highest accuracy= 0.50514\n"
     ]
    }
   ],
   "source": [
    "# Highest accuracy\n",
    "print(\"Highest accuracy=\", a.max())"
   ]
  },
  {
   "cell_type": "code",
   "execution_count": 73,
   "id": "c1dea3cb",
   "metadata": {},
   "outputs": [
    {
     "data": {
      "text/plain": [
       "['Age',\n",
       " 'Monthly_Bill',\n",
       " 'Location_Houston',\n",
       " 'Location_Miami',\n",
       " 'Location_New York']"
      ]
     },
     "execution_count": 73,
     "metadata": {},
     "output_type": "execute_result"
    }
   ],
   "source": [
    "# List of features which give highest accuracy by this method\n",
    "f2=list((df2.iloc[(max_index),[3]])[0])\n",
    "f2          "
   ]
  },
  {
   "cell_type": "code",
   "execution_count": null,
   "id": "5baf7698",
   "metadata": {},
   "outputs": [],
   "source": [
    "# Now storing this list\n",
    "f2 = ['Age', 'Monthly_Bill', 'Location_Houston', 'Location_Miami', 'Location_New York']"
   ]
  },
  {
   "cell_type": "code",
   "execution_count": 74,
   "id": "092e5727",
   "metadata": {},
   "outputs": [
    {
     "data": {
      "text/html": [
       "<style>#sk-container-id-3 {color: black;}#sk-container-id-3 pre{padding: 0;}#sk-container-id-3 div.sk-toggleable {background-color: white;}#sk-container-id-3 label.sk-toggleable__label {cursor: pointer;display: block;width: 100%;margin-bottom: 0;padding: 0.3em;box-sizing: border-box;text-align: center;}#sk-container-id-3 label.sk-toggleable__label-arrow:before {content: \"▸\";float: left;margin-right: 0.25em;color: #696969;}#sk-container-id-3 label.sk-toggleable__label-arrow:hover:before {color: black;}#sk-container-id-3 div.sk-estimator:hover label.sk-toggleable__label-arrow:before {color: black;}#sk-container-id-3 div.sk-toggleable__content {max-height: 0;max-width: 0;overflow: hidden;text-align: left;background-color: #f0f8ff;}#sk-container-id-3 div.sk-toggleable__content pre {margin: 0.2em;color: black;border-radius: 0.25em;background-color: #f0f8ff;}#sk-container-id-3 input.sk-toggleable__control:checked~div.sk-toggleable__content {max-height: 200px;max-width: 100%;overflow: auto;}#sk-container-id-3 input.sk-toggleable__control:checked~label.sk-toggleable__label-arrow:before {content: \"▾\";}#sk-container-id-3 div.sk-estimator input.sk-toggleable__control:checked~label.sk-toggleable__label {background-color: #d4ebff;}#sk-container-id-3 div.sk-label input.sk-toggleable__control:checked~label.sk-toggleable__label {background-color: #d4ebff;}#sk-container-id-3 input.sk-hidden--visually {border: 0;clip: rect(1px 1px 1px 1px);clip: rect(1px, 1px, 1px, 1px);height: 1px;margin: -1px;overflow: hidden;padding: 0;position: absolute;width: 1px;}#sk-container-id-3 div.sk-estimator {font-family: monospace;background-color: #f0f8ff;border: 1px dotted black;border-radius: 0.25em;box-sizing: border-box;margin-bottom: 0.5em;}#sk-container-id-3 div.sk-estimator:hover {background-color: #d4ebff;}#sk-container-id-3 div.sk-parallel-item::after {content: \"\";width: 100%;border-bottom: 1px solid gray;flex-grow: 1;}#sk-container-id-3 div.sk-label:hover label.sk-toggleable__label {background-color: #d4ebff;}#sk-container-id-3 div.sk-serial::before {content: \"\";position: absolute;border-left: 1px solid gray;box-sizing: border-box;top: 0;bottom: 0;left: 50%;z-index: 0;}#sk-container-id-3 div.sk-serial {display: flex;flex-direction: column;align-items: center;background-color: white;padding-right: 0.2em;padding-left: 0.2em;position: relative;}#sk-container-id-3 div.sk-item {position: relative;z-index: 1;}#sk-container-id-3 div.sk-parallel {display: flex;align-items: stretch;justify-content: center;background-color: white;position: relative;}#sk-container-id-3 div.sk-item::before, #sk-container-id-3 div.sk-parallel-item::before {content: \"\";position: absolute;border-left: 1px solid gray;box-sizing: border-box;top: 0;bottom: 0;left: 50%;z-index: -1;}#sk-container-id-3 div.sk-parallel-item {display: flex;flex-direction: column;z-index: 1;position: relative;background-color: white;}#sk-container-id-3 div.sk-parallel-item:first-child::after {align-self: flex-end;width: 50%;}#sk-container-id-3 div.sk-parallel-item:last-child::after {align-self: flex-start;width: 50%;}#sk-container-id-3 div.sk-parallel-item:only-child::after {width: 0;}#sk-container-id-3 div.sk-dashed-wrapped {border: 1px dashed gray;margin: 0 0.4em 0.5em 0.4em;box-sizing: border-box;padding-bottom: 0.4em;background-color: white;}#sk-container-id-3 div.sk-label label {font-family: monospace;font-weight: bold;display: inline-block;line-height: 1.2em;}#sk-container-id-3 div.sk-label-container {text-align: center;}#sk-container-id-3 div.sk-container {/* jupyter's `normalize.less` sets `[hidden] { display: none; }` but bootstrap.min.css set `[hidden] { display: none !important; }` so we also need the `!important` here to be able to override the default hidden behavior on the sphinx rendered scikit-learn.org. See: https://github.com/scikit-learn/scikit-learn/issues/21755 */display: inline-block !important;position: relative;}#sk-container-id-3 div.sk-text-repr-fallback {display: none;}</style><div id=\"sk-container-id-3\" class=\"sk-top-container\"><div class=\"sk-text-repr-fallback\"><pre>SequentialFeatureSelector(estimator=KNeighborsClassifier(), k_features=(10, 10),\n",
       "                          n_jobs=-2, scoring=&#x27;accuracy&#x27;)</pre><b>In a Jupyter environment, please rerun this cell to show the HTML representation or trust the notebook. <br />On GitHub, the HTML representation is unable to render, please try loading this page with nbviewer.org.</b></div><div class=\"sk-container\" hidden><div class=\"sk-item sk-dashed-wrapped\"><div class=\"sk-label-container\"><div class=\"sk-label sk-toggleable\"><input class=\"sk-toggleable__control sk-hidden--visually\" id=\"sk-estimator-id-7\" type=\"checkbox\" ><label for=\"sk-estimator-id-7\" class=\"sk-toggleable__label sk-toggleable__label-arrow\">SequentialFeatureSelector</label><div class=\"sk-toggleable__content\"><pre>SequentialFeatureSelector(estimator=KNeighborsClassifier(), k_features=(10, 10),\n",
       "                          n_jobs=-2, scoring=&#x27;accuracy&#x27;)</pre></div></div></div><div class=\"sk-parallel\"><div class=\"sk-parallel-item\"><div class=\"sk-item\"><div class=\"sk-label-container\"><div class=\"sk-label sk-toggleable\"><input class=\"sk-toggleable__control sk-hidden--visually\" id=\"sk-estimator-id-8\" type=\"checkbox\" ><label for=\"sk-estimator-id-8\" class=\"sk-toggleable__label sk-toggleable__label-arrow\">estimator: KNeighborsClassifier</label><div class=\"sk-toggleable__content\"><pre>KNeighborsClassifier()</pre></div></div></div><div class=\"sk-serial\"><div class=\"sk-item\"><div class=\"sk-estimator sk-toggleable\"><input class=\"sk-toggleable__control sk-hidden--visually\" id=\"sk-estimator-id-9\" type=\"checkbox\" ><label for=\"sk-estimator-id-9\" class=\"sk-toggleable__label sk-toggleable__label-arrow\">KNeighborsClassifier</label><div class=\"sk-toggleable__content\"><pre>KNeighborsClassifier()</pre></div></div></div></div></div></div></div></div></div></div>"
      ],
      "text/plain": [
       "SequentialFeatureSelector(estimator=KNeighborsClassifier(), k_features=(10, 10),\n",
       "                          n_jobs=-2, scoring='accuracy')"
      ]
     },
     "execution_count": 74,
     "metadata": {},
     "output_type": "execute_result"
    }
   ],
   "source": [
    "knn = KNeighborsClassifier()\n",
    "\n",
    "sfs = SequentialFeatureSelector(knn, k_features= 10, forward=True, cv=5, n_jobs=-2) \n",
    "\n",
    "sfs.fit(x1, y1)"
   ]
  },
  {
   "cell_type": "code",
   "execution_count": 75,
   "id": "b83f584a",
   "metadata": {},
   "outputs": [
    {
     "data": {
      "text/html": [
       "<div>\n",
       "<style scoped>\n",
       "    .dataframe tbody tr th:only-of-type {\n",
       "        vertical-align: middle;\n",
       "    }\n",
       "\n",
       "    .dataframe tbody tr th {\n",
       "        vertical-align: top;\n",
       "    }\n",
       "\n",
       "    .dataframe thead th {\n",
       "        text-align: right;\n",
       "    }\n",
       "</style>\n",
       "<table border=\"1\" class=\"dataframe\">\n",
       "  <thead>\n",
       "    <tr style=\"text-align: right;\">\n",
       "      <th></th>\n",
       "      <th>feature_idx</th>\n",
       "      <th>cv_scores</th>\n",
       "      <th>avg_score</th>\n",
       "      <th>feature_names</th>\n",
       "    </tr>\n",
       "  </thead>\n",
       "  <tbody>\n",
       "    <tr>\n",
       "      <th>1</th>\n",
       "      <td>(9,)</td>\n",
       "      <td>[0.49775, 0.50305, 0.50315, 0.50125, 0.50775]</td>\n",
       "      <td>0.50259</td>\n",
       "      <td>(Location_New York,)</td>\n",
       "    </tr>\n",
       "    <tr>\n",
       "      <th>2</th>\n",
       "      <td>(8, 9)</td>\n",
       "      <td>[0.49775, 0.5034, 0.50205, 0.50395, 0.51005]</td>\n",
       "      <td>0.50344</td>\n",
       "      <td>(Location_Miami, Location_New York)</td>\n",
       "    </tr>\n",
       "    <tr>\n",
       "      <th>3</th>\n",
       "      <td>(6, 8, 9)</td>\n",
       "      <td>[0.49775, 0.5034, 0.50205, 0.50395, 0.51005]</td>\n",
       "      <td>0.50344</td>\n",
       "      <td>(Location_Houston, Location_Miami, Location_Ne...</td>\n",
       "    </tr>\n",
       "    <tr>\n",
       "      <th>4</th>\n",
       "      <td>(6, 7, 8, 9)</td>\n",
       "      <td>[0.49775, 0.4981, 0.50655, 0.5025, 0.5109]</td>\n",
       "      <td>0.50316</td>\n",
       "      <td>(Location_Houston, Location_Los Angeles, Locat...</td>\n",
       "    </tr>\n",
       "    <tr>\n",
       "      <th>5</th>\n",
       "      <td>(5, 6, 7, 8, 9)</td>\n",
       "      <td>[0.49775, 0.5031, 0.49725, 0.5049, 0.50535]</td>\n",
       "      <td>0.50167</td>\n",
       "      <td>(Location_Chicago, Location_Houston, Location_...</td>\n",
       "    </tr>\n",
       "    <tr>\n",
       "      <th>6</th>\n",
       "      <td>(1, 5, 6, 7, 8, 9)</td>\n",
       "      <td>[0.49775, 0.5015, 0.49505, 0.50825, 0.5007]</td>\n",
       "      <td>0.50065</td>\n",
       "      <td>(Gender, Location_Chicago, Location_Houston, L...</td>\n",
       "    </tr>\n",
       "    <tr>\n",
       "      <th>7</th>\n",
       "      <td>(0, 1, 5, 6, 7, 8, 9)</td>\n",
       "      <td>[0.50145, 0.5006, 0.5041, 0.50475, 0.5017]</td>\n",
       "      <td>0.50252</td>\n",
       "      <td>(Age, Gender, Location_Chicago, Location_Houst...</td>\n",
       "    </tr>\n",
       "    <tr>\n",
       "      <th>8</th>\n",
       "      <td>(0, 1, 4, 5, 6, 7, 8, 9)</td>\n",
       "      <td>[0.5014, 0.49915, 0.49855, 0.5042, 0.50175]</td>\n",
       "      <td>0.50101</td>\n",
       "      <td>(Age, Gender, Total_Usage_GB, Location_Chicago...</td>\n",
       "    </tr>\n",
       "    <tr>\n",
       "      <th>9</th>\n",
       "      <td>(0, 1, 3, 4, 5, 6, 7, 8, 9)</td>\n",
       "      <td>[0.50175, 0.49685, 0.50165, 0.5037, 0.5051]</td>\n",
       "      <td>0.50181</td>\n",
       "      <td>(Age, Gender, Monthly_Bill, Total_Usage_GB, Lo...</td>\n",
       "    </tr>\n",
       "    <tr>\n",
       "      <th>10</th>\n",
       "      <td>(0, 1, 2, 3, 4, 5, 6, 7, 8, 9)</td>\n",
       "      <td>[0.4993, 0.49665, 0.5095, 0.50395, 0.49965]</td>\n",
       "      <td>0.50181</td>\n",
       "      <td>(Age, Gender, Subscription_Length_Months, Mont...</td>\n",
       "    </tr>\n",
       "  </tbody>\n",
       "</table>\n",
       "</div>"
      ],
      "text/plain": [
       "                       feature_idx  \\\n",
       "1                             (9,)   \n",
       "2                           (8, 9)   \n",
       "3                        (6, 8, 9)   \n",
       "4                     (6, 7, 8, 9)   \n",
       "5                  (5, 6, 7, 8, 9)   \n",
       "6               (1, 5, 6, 7, 8, 9)   \n",
       "7            (0, 1, 5, 6, 7, 8, 9)   \n",
       "8         (0, 1, 4, 5, 6, 7, 8, 9)   \n",
       "9      (0, 1, 3, 4, 5, 6, 7, 8, 9)   \n",
       "10  (0, 1, 2, 3, 4, 5, 6, 7, 8, 9)   \n",
       "\n",
       "                                        cv_scores avg_score  \\\n",
       "1   [0.49775, 0.50305, 0.50315, 0.50125, 0.50775]   0.50259   \n",
       "2    [0.49775, 0.5034, 0.50205, 0.50395, 0.51005]   0.50344   \n",
       "3    [0.49775, 0.5034, 0.50205, 0.50395, 0.51005]   0.50344   \n",
       "4      [0.49775, 0.4981, 0.50655, 0.5025, 0.5109]   0.50316   \n",
       "5     [0.49775, 0.5031, 0.49725, 0.5049, 0.50535]   0.50167   \n",
       "6     [0.49775, 0.5015, 0.49505, 0.50825, 0.5007]   0.50065   \n",
       "7      [0.50145, 0.5006, 0.5041, 0.50475, 0.5017]   0.50252   \n",
       "8     [0.5014, 0.49915, 0.49855, 0.5042, 0.50175]   0.50101   \n",
       "9     [0.50175, 0.49685, 0.50165, 0.5037, 0.5051]   0.50181   \n",
       "10    [0.4993, 0.49665, 0.5095, 0.50395, 0.49965]   0.50181   \n",
       "\n",
       "                                        feature_names  \n",
       "1                                (Location_New York,)  \n",
       "2                 (Location_Miami, Location_New York)  \n",
       "3   (Location_Houston, Location_Miami, Location_Ne...  \n",
       "4   (Location_Houston, Location_Los Angeles, Locat...  \n",
       "5   (Location_Chicago, Location_Houston, Location_...  \n",
       "6   (Gender, Location_Chicago, Location_Houston, L...  \n",
       "7   (Age, Gender, Location_Chicago, Location_Houst...  \n",
       "8   (Age, Gender, Total_Usage_GB, Location_Chicago...  \n",
       "9   (Age, Gender, Monthly_Bill, Total_Usage_GB, Lo...  \n",
       "10  (Age, Gender, Subscription_Length_Months, Mont...  "
      ]
     },
     "execution_count": 75,
     "metadata": {},
     "output_type": "execute_result"
    }
   ],
   "source": [
    "df3=pd.DataFrame(sfs.subsets_).T\n",
    "df3"
   ]
  },
  {
   "cell_type": "code",
   "execution_count": 76,
   "id": "94ea844f",
   "metadata": {},
   "outputs": [
    {
     "data": {
      "text/plain": [
       "2"
      ]
     },
     "execution_count": 76,
     "metadata": {},
     "output_type": "execute_result"
    }
   ],
   "source": [
    "a=(df3['avg_score'].values)\n",
    "max_index=np.where(a==a.max())[0][-1]\n",
    "max_index"
   ]
  },
  {
   "cell_type": "code",
   "execution_count": 77,
   "id": "c01a6888",
   "metadata": {},
   "outputs": [
    {
     "name": "stdout",
     "output_type": "stream",
     "text": [
      "Highest accuracy= 0.5034400000000001\n"
     ]
    }
   ],
   "source": [
    "# Highest accuracy\n",
    "print(\"Highest accuracy=\", a.max())"
   ]
  },
  {
   "cell_type": "code",
   "execution_count": 78,
   "id": "c83b8f39",
   "metadata": {},
   "outputs": [
    {
     "data": {
      "text/plain": [
       "['Location_Houston', 'Location_Miami', 'Location_New York']"
      ]
     },
     "execution_count": 78,
     "metadata": {},
     "output_type": "execute_result"
    }
   ],
   "source": [
    "# List of features which give highest accuracy by this method\n",
    "f3=list((df3.iloc[(max_index),[3]])[0])\n",
    "f3          "
   ]
  },
  {
   "cell_type": "code",
   "execution_count": null,
   "id": "af22789e",
   "metadata": {},
   "outputs": [],
   "source": [
    "# Now storing this list\n",
    "f3 = ['Location_Houston', 'Location_Miami', 'Location_New York']"
   ]
  },
  {
   "cell_type": "code",
   "execution_count": 79,
   "id": "d9a51901",
   "metadata": {},
   "outputs": [
    {
     "data": {
      "text/html": [
       "<style>#sk-container-id-4 {color: black;}#sk-container-id-4 pre{padding: 0;}#sk-container-id-4 div.sk-toggleable {background-color: white;}#sk-container-id-4 label.sk-toggleable__label {cursor: pointer;display: block;width: 100%;margin-bottom: 0;padding: 0.3em;box-sizing: border-box;text-align: center;}#sk-container-id-4 label.sk-toggleable__label-arrow:before {content: \"▸\";float: left;margin-right: 0.25em;color: #696969;}#sk-container-id-4 label.sk-toggleable__label-arrow:hover:before {color: black;}#sk-container-id-4 div.sk-estimator:hover label.sk-toggleable__label-arrow:before {color: black;}#sk-container-id-4 div.sk-toggleable__content {max-height: 0;max-width: 0;overflow: hidden;text-align: left;background-color: #f0f8ff;}#sk-container-id-4 div.sk-toggleable__content pre {margin: 0.2em;color: black;border-radius: 0.25em;background-color: #f0f8ff;}#sk-container-id-4 input.sk-toggleable__control:checked~div.sk-toggleable__content {max-height: 200px;max-width: 100%;overflow: auto;}#sk-container-id-4 input.sk-toggleable__control:checked~label.sk-toggleable__label-arrow:before {content: \"▾\";}#sk-container-id-4 div.sk-estimator input.sk-toggleable__control:checked~label.sk-toggleable__label {background-color: #d4ebff;}#sk-container-id-4 div.sk-label input.sk-toggleable__control:checked~label.sk-toggleable__label {background-color: #d4ebff;}#sk-container-id-4 input.sk-hidden--visually {border: 0;clip: rect(1px 1px 1px 1px);clip: rect(1px, 1px, 1px, 1px);height: 1px;margin: -1px;overflow: hidden;padding: 0;position: absolute;width: 1px;}#sk-container-id-4 div.sk-estimator {font-family: monospace;background-color: #f0f8ff;border: 1px dotted black;border-radius: 0.25em;box-sizing: border-box;margin-bottom: 0.5em;}#sk-container-id-4 div.sk-estimator:hover {background-color: #d4ebff;}#sk-container-id-4 div.sk-parallel-item::after {content: \"\";width: 100%;border-bottom: 1px solid gray;flex-grow: 1;}#sk-container-id-4 div.sk-label:hover label.sk-toggleable__label {background-color: #d4ebff;}#sk-container-id-4 div.sk-serial::before {content: \"\";position: absolute;border-left: 1px solid gray;box-sizing: border-box;top: 0;bottom: 0;left: 50%;z-index: 0;}#sk-container-id-4 div.sk-serial {display: flex;flex-direction: column;align-items: center;background-color: white;padding-right: 0.2em;padding-left: 0.2em;position: relative;}#sk-container-id-4 div.sk-item {position: relative;z-index: 1;}#sk-container-id-4 div.sk-parallel {display: flex;align-items: stretch;justify-content: center;background-color: white;position: relative;}#sk-container-id-4 div.sk-item::before, #sk-container-id-4 div.sk-parallel-item::before {content: \"\";position: absolute;border-left: 1px solid gray;box-sizing: border-box;top: 0;bottom: 0;left: 50%;z-index: -1;}#sk-container-id-4 div.sk-parallel-item {display: flex;flex-direction: column;z-index: 1;position: relative;background-color: white;}#sk-container-id-4 div.sk-parallel-item:first-child::after {align-self: flex-end;width: 50%;}#sk-container-id-4 div.sk-parallel-item:last-child::after {align-self: flex-start;width: 50%;}#sk-container-id-4 div.sk-parallel-item:only-child::after {width: 0;}#sk-container-id-4 div.sk-dashed-wrapped {border: 1px dashed gray;margin: 0 0.4em 0.5em 0.4em;box-sizing: border-box;padding-bottom: 0.4em;background-color: white;}#sk-container-id-4 div.sk-label label {font-family: monospace;font-weight: bold;display: inline-block;line-height: 1.2em;}#sk-container-id-4 div.sk-label-container {text-align: center;}#sk-container-id-4 div.sk-container {/* jupyter's `normalize.less` sets `[hidden] { display: none; }` but bootstrap.min.css set `[hidden] { display: none !important; }` so we also need the `!important` here to be able to override the default hidden behavior on the sphinx rendered scikit-learn.org. See: https://github.com/scikit-learn/scikit-learn/issues/21755 */display: inline-block !important;position: relative;}#sk-container-id-4 div.sk-text-repr-fallback {display: none;}</style><div id=\"sk-container-id-4\" class=\"sk-top-container\"><div class=\"sk-text-repr-fallback\"><pre>SequentialFeatureSelector(estimator=KNeighborsClassifier(), forward=False,\n",
       "                          k_features=(1, 1), n_jobs=-2, scoring=&#x27;accuracy&#x27;)</pre><b>In a Jupyter environment, please rerun this cell to show the HTML representation or trust the notebook. <br />On GitHub, the HTML representation is unable to render, please try loading this page with nbviewer.org.</b></div><div class=\"sk-container\" hidden><div class=\"sk-item sk-dashed-wrapped\"><div class=\"sk-label-container\"><div class=\"sk-label sk-toggleable\"><input class=\"sk-toggleable__control sk-hidden--visually\" id=\"sk-estimator-id-10\" type=\"checkbox\" ><label for=\"sk-estimator-id-10\" class=\"sk-toggleable__label sk-toggleable__label-arrow\">SequentialFeatureSelector</label><div class=\"sk-toggleable__content\"><pre>SequentialFeatureSelector(estimator=KNeighborsClassifier(), forward=False,\n",
       "                          k_features=(1, 1), n_jobs=-2, scoring=&#x27;accuracy&#x27;)</pre></div></div></div><div class=\"sk-parallel\"><div class=\"sk-parallel-item\"><div class=\"sk-item\"><div class=\"sk-label-container\"><div class=\"sk-label sk-toggleable\"><input class=\"sk-toggleable__control sk-hidden--visually\" id=\"sk-estimator-id-11\" type=\"checkbox\" ><label for=\"sk-estimator-id-11\" class=\"sk-toggleable__label sk-toggleable__label-arrow\">estimator: KNeighborsClassifier</label><div class=\"sk-toggleable__content\"><pre>KNeighborsClassifier()</pre></div></div></div><div class=\"sk-serial\"><div class=\"sk-item\"><div class=\"sk-estimator sk-toggleable\"><input class=\"sk-toggleable__control sk-hidden--visually\" id=\"sk-estimator-id-12\" type=\"checkbox\" ><label for=\"sk-estimator-id-12\" class=\"sk-toggleable__label sk-toggleable__label-arrow\">KNeighborsClassifier</label><div class=\"sk-toggleable__content\"><pre>KNeighborsClassifier()</pre></div></div></div></div></div></div></div></div></div></div>"
      ],
      "text/plain": [
       "SequentialFeatureSelector(estimator=KNeighborsClassifier(), forward=False,\n",
       "                          k_features=(1, 1), n_jobs=-2, scoring='accuracy')"
      ]
     },
     "execution_count": 79,
     "metadata": {},
     "output_type": "execute_result"
    }
   ],
   "source": [
    "knn = KNeighborsClassifier()\n",
    "\n",
    "sfs = SequentialFeatureSelector(knn, k_features= 1, forward=False, cv=5, n_jobs=-2)\n",
    "\n",
    "sfs.fit(x1, y1)"
   ]
  },
  {
   "cell_type": "code",
   "execution_count": 80,
   "id": "5b8ade61",
   "metadata": {},
   "outputs": [
    {
     "data": {
      "text/html": [
       "<div>\n",
       "<style scoped>\n",
       "    .dataframe tbody tr th:only-of-type {\n",
       "        vertical-align: middle;\n",
       "    }\n",
       "\n",
       "    .dataframe tbody tr th {\n",
       "        vertical-align: top;\n",
       "    }\n",
       "\n",
       "    .dataframe thead th {\n",
       "        text-align: right;\n",
       "    }\n",
       "</style>\n",
       "<table border=\"1\" class=\"dataframe\">\n",
       "  <thead>\n",
       "    <tr style=\"text-align: right;\">\n",
       "      <th></th>\n",
       "      <th>feature_idx</th>\n",
       "      <th>cv_scores</th>\n",
       "      <th>avg_score</th>\n",
       "      <th>feature_names</th>\n",
       "    </tr>\n",
       "  </thead>\n",
       "  <tbody>\n",
       "    <tr>\n",
       "      <th>10</th>\n",
       "      <td>(0, 1, 2, 3, 4, 5, 6, 7, 8, 9)</td>\n",
       "      <td>[0.4993, 0.49665, 0.5095, 0.50395, 0.49965]</td>\n",
       "      <td>0.50181</td>\n",
       "      <td>(Age, Gender, Subscription_Length_Months, Mont...</td>\n",
       "    </tr>\n",
       "    <tr>\n",
       "      <th>9</th>\n",
       "      <td>(0, 1, 2, 3, 4, 5, 7, 8, 9)</td>\n",
       "      <td>[0.49975, 0.4964, 0.5093, 0.5047, 0.5004]</td>\n",
       "      <td>0.50211</td>\n",
       "      <td>(Age, Gender, Subscription_Length_Months, Mont...</td>\n",
       "    </tr>\n",
       "    <tr>\n",
       "      <th>8</th>\n",
       "      <td>(0, 1, 2, 3, 4, 5, 8, 9)</td>\n",
       "      <td>[0.4997, 0.4974, 0.5089, 0.5046, 0.49995]</td>\n",
       "      <td>0.50211</td>\n",
       "      <td>(Age, Gender, Subscription_Length_Months, Mont...</td>\n",
       "    </tr>\n",
       "    <tr>\n",
       "      <th>7</th>\n",
       "      <td>(0, 1, 2, 3, 4, 5, 8)</td>\n",
       "      <td>[0.4975, 0.49695, 0.5096, 0.5046, 0.501]</td>\n",
       "      <td>0.50193</td>\n",
       "      <td>(Age, Gender, Subscription_Length_Months, Mont...</td>\n",
       "    </tr>\n",
       "    <tr>\n",
       "      <th>6</th>\n",
       "      <td>(0, 1, 2, 3, 4, 8)</td>\n",
       "      <td>[0.4986, 0.49795, 0.50865, 0.50455, 0.50035]</td>\n",
       "      <td>0.50202</td>\n",
       "      <td>(Age, Gender, Subscription_Length_Months, Mont...</td>\n",
       "    </tr>\n",
       "    <tr>\n",
       "      <th>5</th>\n",
       "      <td>(0, 2, 3, 4, 8)</td>\n",
       "      <td>[0.4973, 0.49865, 0.50845, 0.5041, 0.5001]</td>\n",
       "      <td>0.50172</td>\n",
       "      <td>(Age, Subscription_Length_Months, Monthly_Bill...</td>\n",
       "    </tr>\n",
       "    <tr>\n",
       "      <th>4</th>\n",
       "      <td>(0, 3, 4, 8)</td>\n",
       "      <td>[0.50105, 0.4973, 0.5026, 0.5027, 0.50515]</td>\n",
       "      <td>0.50176</td>\n",
       "      <td>(Age, Monthly_Bill, Total_Usage_GB, Location_M...</td>\n",
       "    </tr>\n",
       "    <tr>\n",
       "      <th>3</th>\n",
       "      <td>(0, 3, 4)</td>\n",
       "      <td>[0.5008, 0.49855, 0.5034, 0.5042, 0.50455]</td>\n",
       "      <td>0.5023</td>\n",
       "      <td>(Age, Monthly_Bill, Total_Usage_GB)</td>\n",
       "    </tr>\n",
       "    <tr>\n",
       "      <th>2</th>\n",
       "      <td>(0, 4)</td>\n",
       "      <td>[0.4967, 0.5018, 0.50175, 0.4996, 0.5073]</td>\n",
       "      <td>0.50143</td>\n",
       "      <td>(Age, Total_Usage_GB)</td>\n",
       "    </tr>\n",
       "    <tr>\n",
       "      <th>1</th>\n",
       "      <td>(4,)</td>\n",
       "      <td>[0.50425, 0.504, 0.50085, 0.4979, 0.50475]</td>\n",
       "      <td>0.50235</td>\n",
       "      <td>(Total_Usage_GB,)</td>\n",
       "    </tr>\n",
       "  </tbody>\n",
       "</table>\n",
       "</div>"
      ],
      "text/plain": [
       "                       feature_idx  \\\n",
       "10  (0, 1, 2, 3, 4, 5, 6, 7, 8, 9)   \n",
       "9      (0, 1, 2, 3, 4, 5, 7, 8, 9)   \n",
       "8         (0, 1, 2, 3, 4, 5, 8, 9)   \n",
       "7            (0, 1, 2, 3, 4, 5, 8)   \n",
       "6               (0, 1, 2, 3, 4, 8)   \n",
       "5                  (0, 2, 3, 4, 8)   \n",
       "4                     (0, 3, 4, 8)   \n",
       "3                        (0, 3, 4)   \n",
       "2                           (0, 4)   \n",
       "1                             (4,)   \n",
       "\n",
       "                                       cv_scores avg_score  \\\n",
       "10   [0.4993, 0.49665, 0.5095, 0.50395, 0.49965]   0.50181   \n",
       "9      [0.49975, 0.4964, 0.5093, 0.5047, 0.5004]   0.50211   \n",
       "8      [0.4997, 0.4974, 0.5089, 0.5046, 0.49995]   0.50211   \n",
       "7       [0.4975, 0.49695, 0.5096, 0.5046, 0.501]   0.50193   \n",
       "6   [0.4986, 0.49795, 0.50865, 0.50455, 0.50035]   0.50202   \n",
       "5     [0.4973, 0.49865, 0.50845, 0.5041, 0.5001]   0.50172   \n",
       "4     [0.50105, 0.4973, 0.5026, 0.5027, 0.50515]   0.50176   \n",
       "3     [0.5008, 0.49855, 0.5034, 0.5042, 0.50455]    0.5023   \n",
       "2      [0.4967, 0.5018, 0.50175, 0.4996, 0.5073]   0.50143   \n",
       "1     [0.50425, 0.504, 0.50085, 0.4979, 0.50475]   0.50235   \n",
       "\n",
       "                                        feature_names  \n",
       "10  (Age, Gender, Subscription_Length_Months, Mont...  \n",
       "9   (Age, Gender, Subscription_Length_Months, Mont...  \n",
       "8   (Age, Gender, Subscription_Length_Months, Mont...  \n",
       "7   (Age, Gender, Subscription_Length_Months, Mont...  \n",
       "6   (Age, Gender, Subscription_Length_Months, Mont...  \n",
       "5   (Age, Subscription_Length_Months, Monthly_Bill...  \n",
       "4   (Age, Monthly_Bill, Total_Usage_GB, Location_M...  \n",
       "3                 (Age, Monthly_Bill, Total_Usage_GB)  \n",
       "2                               (Age, Total_Usage_GB)  \n",
       "1                                   (Total_Usage_GB,)  "
      ]
     },
     "execution_count": 80,
     "metadata": {},
     "output_type": "execute_result"
    }
   ],
   "source": [
    "df4=pd.DataFrame(sfs.subsets_).T\n",
    "df4"
   ]
  },
  {
   "cell_type": "code",
   "execution_count": 81,
   "id": "3305aa39",
   "metadata": {},
   "outputs": [
    {
     "data": {
      "text/plain": [
       "9"
      ]
     },
     "execution_count": 81,
     "metadata": {},
     "output_type": "execute_result"
    }
   ],
   "source": [
    "a=(df4['avg_score'].values)\n",
    "max_index=np.where(a==a.max())[0][0]\n",
    "max_index"
   ]
  },
  {
   "cell_type": "code",
   "execution_count": 82,
   "id": "d5b13766",
   "metadata": {},
   "outputs": [
    {
     "name": "stdout",
     "output_type": "stream",
     "text": [
      "Highest accuracy= 0.50235\n"
     ]
    }
   ],
   "source": [
    "# Highest accuracy\n",
    "print(\"Highest accuracy=\", a.max())"
   ]
  },
  {
   "cell_type": "code",
   "execution_count": 83,
   "id": "63461ee6",
   "metadata": {},
   "outputs": [
    {
     "data": {
      "text/plain": [
       "['Total_Usage_GB']"
      ]
     },
     "execution_count": 83,
     "metadata": {},
     "output_type": "execute_result"
    }
   ],
   "source": [
    "# List of features which give highest accuracy by this method\n",
    "f4=list((df4.iloc[(max_index),[3]])[0])\n",
    "f4          "
   ]
  },
  {
   "cell_type": "code",
   "execution_count": null,
   "id": "aaf41497",
   "metadata": {},
   "outputs": [],
   "source": [
    "# Now storing this list\n",
    "f4 = ['Total_Usage_GB']"
   ]
  },
  {
   "cell_type": "code",
   "execution_count": 84,
   "id": "fe00c75f",
   "metadata": {},
   "outputs": [
    {
     "data": {
      "text/html": [
       "<style>#sk-container-id-5 {color: black;}#sk-container-id-5 pre{padding: 0;}#sk-container-id-5 div.sk-toggleable {background-color: white;}#sk-container-id-5 label.sk-toggleable__label {cursor: pointer;display: block;width: 100%;margin-bottom: 0;padding: 0.3em;box-sizing: border-box;text-align: center;}#sk-container-id-5 label.sk-toggleable__label-arrow:before {content: \"▸\";float: left;margin-right: 0.25em;color: #696969;}#sk-container-id-5 label.sk-toggleable__label-arrow:hover:before {color: black;}#sk-container-id-5 div.sk-estimator:hover label.sk-toggleable__label-arrow:before {color: black;}#sk-container-id-5 div.sk-toggleable__content {max-height: 0;max-width: 0;overflow: hidden;text-align: left;background-color: #f0f8ff;}#sk-container-id-5 div.sk-toggleable__content pre {margin: 0.2em;color: black;border-radius: 0.25em;background-color: #f0f8ff;}#sk-container-id-5 input.sk-toggleable__control:checked~div.sk-toggleable__content {max-height: 200px;max-width: 100%;overflow: auto;}#sk-container-id-5 input.sk-toggleable__control:checked~label.sk-toggleable__label-arrow:before {content: \"▾\";}#sk-container-id-5 div.sk-estimator input.sk-toggleable__control:checked~label.sk-toggleable__label {background-color: #d4ebff;}#sk-container-id-5 div.sk-label input.sk-toggleable__control:checked~label.sk-toggleable__label {background-color: #d4ebff;}#sk-container-id-5 input.sk-hidden--visually {border: 0;clip: rect(1px 1px 1px 1px);clip: rect(1px, 1px, 1px, 1px);height: 1px;margin: -1px;overflow: hidden;padding: 0;position: absolute;width: 1px;}#sk-container-id-5 div.sk-estimator {font-family: monospace;background-color: #f0f8ff;border: 1px dotted black;border-radius: 0.25em;box-sizing: border-box;margin-bottom: 0.5em;}#sk-container-id-5 div.sk-estimator:hover {background-color: #d4ebff;}#sk-container-id-5 div.sk-parallel-item::after {content: \"\";width: 100%;border-bottom: 1px solid gray;flex-grow: 1;}#sk-container-id-5 div.sk-label:hover label.sk-toggleable__label {background-color: #d4ebff;}#sk-container-id-5 div.sk-serial::before {content: \"\";position: absolute;border-left: 1px solid gray;box-sizing: border-box;top: 0;bottom: 0;left: 50%;z-index: 0;}#sk-container-id-5 div.sk-serial {display: flex;flex-direction: column;align-items: center;background-color: white;padding-right: 0.2em;padding-left: 0.2em;position: relative;}#sk-container-id-5 div.sk-item {position: relative;z-index: 1;}#sk-container-id-5 div.sk-parallel {display: flex;align-items: stretch;justify-content: center;background-color: white;position: relative;}#sk-container-id-5 div.sk-item::before, #sk-container-id-5 div.sk-parallel-item::before {content: \"\";position: absolute;border-left: 1px solid gray;box-sizing: border-box;top: 0;bottom: 0;left: 50%;z-index: -1;}#sk-container-id-5 div.sk-parallel-item {display: flex;flex-direction: column;z-index: 1;position: relative;background-color: white;}#sk-container-id-5 div.sk-parallel-item:first-child::after {align-self: flex-end;width: 50%;}#sk-container-id-5 div.sk-parallel-item:last-child::after {align-self: flex-start;width: 50%;}#sk-container-id-5 div.sk-parallel-item:only-child::after {width: 0;}#sk-container-id-5 div.sk-dashed-wrapped {border: 1px dashed gray;margin: 0 0.4em 0.5em 0.4em;box-sizing: border-box;padding-bottom: 0.4em;background-color: white;}#sk-container-id-5 div.sk-label label {font-family: monospace;font-weight: bold;display: inline-block;line-height: 1.2em;}#sk-container-id-5 div.sk-label-container {text-align: center;}#sk-container-id-5 div.sk-container {/* jupyter's `normalize.less` sets `[hidden] { display: none; }` but bootstrap.min.css set `[hidden] { display: none !important; }` so we also need the `!important` here to be able to override the default hidden behavior on the sphinx rendered scikit-learn.org. See: https://github.com/scikit-learn/scikit-learn/issues/21755 */display: inline-block !important;position: relative;}#sk-container-id-5 div.sk-text-repr-fallback {display: none;}</style><div id=\"sk-container-id-5\" class=\"sk-top-container\"><div class=\"sk-text-repr-fallback\"><pre>SequentialFeatureSelector(estimator=DecisionTreeClassifier(),\n",
       "                          k_features=(10, 10), n_jobs=-2, scoring=&#x27;accuracy&#x27;)</pre><b>In a Jupyter environment, please rerun this cell to show the HTML representation or trust the notebook. <br />On GitHub, the HTML representation is unable to render, please try loading this page with nbviewer.org.</b></div><div class=\"sk-container\" hidden><div class=\"sk-item sk-dashed-wrapped\"><div class=\"sk-label-container\"><div class=\"sk-label sk-toggleable\"><input class=\"sk-toggleable__control sk-hidden--visually\" id=\"sk-estimator-id-13\" type=\"checkbox\" ><label for=\"sk-estimator-id-13\" class=\"sk-toggleable__label sk-toggleable__label-arrow\">SequentialFeatureSelector</label><div class=\"sk-toggleable__content\"><pre>SequentialFeatureSelector(estimator=DecisionTreeClassifier(),\n",
       "                          k_features=(10, 10), n_jobs=-2, scoring=&#x27;accuracy&#x27;)</pre></div></div></div><div class=\"sk-parallel\"><div class=\"sk-parallel-item\"><div class=\"sk-item\"><div class=\"sk-label-container\"><div class=\"sk-label sk-toggleable\"><input class=\"sk-toggleable__control sk-hidden--visually\" id=\"sk-estimator-id-14\" type=\"checkbox\" ><label for=\"sk-estimator-id-14\" class=\"sk-toggleable__label sk-toggleable__label-arrow\">estimator: DecisionTreeClassifier</label><div class=\"sk-toggleable__content\"><pre>DecisionTreeClassifier()</pre></div></div></div><div class=\"sk-serial\"><div class=\"sk-item\"><div class=\"sk-estimator sk-toggleable\"><input class=\"sk-toggleable__control sk-hidden--visually\" id=\"sk-estimator-id-15\" type=\"checkbox\" ><label for=\"sk-estimator-id-15\" class=\"sk-toggleable__label sk-toggleable__label-arrow\">DecisionTreeClassifier</label><div class=\"sk-toggleable__content\"><pre>DecisionTreeClassifier()</pre></div></div></div></div></div></div></div></div></div></div>"
      ],
      "text/plain": [
       "SequentialFeatureSelector(estimator=DecisionTreeClassifier(),\n",
       "                          k_features=(10, 10), n_jobs=-2, scoring='accuracy')"
      ]
     },
     "execution_count": 84,
     "metadata": {},
     "output_type": "execute_result"
    }
   ],
   "source": [
    "dt = DecisionTreeClassifier()\n",
    "\n",
    "sfs = SequentialFeatureSelector(dt, k_features= 10, forward=True, cv=5, n_jobs=-2)\n",
    "sfs.fit(x1, y1)"
   ]
  },
  {
   "cell_type": "code",
   "execution_count": 85,
   "id": "d2dfdfd7",
   "metadata": {},
   "outputs": [
    {
     "data": {
      "text/html": [
       "<div>\n",
       "<style scoped>\n",
       "    .dataframe tbody tr th:only-of-type {\n",
       "        vertical-align: middle;\n",
       "    }\n",
       "\n",
       "    .dataframe tbody tr th {\n",
       "        vertical-align: top;\n",
       "    }\n",
       "\n",
       "    .dataframe thead th {\n",
       "        text-align: right;\n",
       "    }\n",
       "</style>\n",
       "<table border=\"1\" class=\"dataframe\">\n",
       "  <thead>\n",
       "    <tr style=\"text-align: right;\">\n",
       "      <th></th>\n",
       "      <th>feature_idx</th>\n",
       "      <th>cv_scores</th>\n",
       "      <th>avg_score</th>\n",
       "      <th>feature_names</th>\n",
       "    </tr>\n",
       "  </thead>\n",
       "  <tbody>\n",
       "    <tr>\n",
       "      <th>1</th>\n",
       "      <td>(9,)</td>\n",
       "      <td>[0.5031, 0.50305, 0.50315, 0.50125, 0.50775]</td>\n",
       "      <td>0.50366</td>\n",
       "      <td>(Location_New York,)</td>\n",
       "    </tr>\n",
       "    <tr>\n",
       "      <th>2</th>\n",
       "      <td>(8, 9)</td>\n",
       "      <td>[0.5049, 0.5034, 0.50205, 0.50395, 0.51005]</td>\n",
       "      <td>0.50487</td>\n",
       "      <td>(Location_Miami, Location_New York)</td>\n",
       "    </tr>\n",
       "    <tr>\n",
       "      <th>3</th>\n",
       "      <td>(6, 8, 9)</td>\n",
       "      <td>[0.5049, 0.5034, 0.50205, 0.50395, 0.51005]</td>\n",
       "      <td>0.50487</td>\n",
       "      <td>(Location_Houston, Location_Miami, Location_Ne...</td>\n",
       "    </tr>\n",
       "    <tr>\n",
       "      <th>4</th>\n",
       "      <td>(5, 6, 8, 9)</td>\n",
       "      <td>[0.5049, 0.4981, 0.50205, 0.50395, 0.51005]</td>\n",
       "      <td>0.50381</td>\n",
       "      <td>(Location_Chicago, Location_Houston, Location_...</td>\n",
       "    </tr>\n",
       "    <tr>\n",
       "      <th>5</th>\n",
       "      <td>(5, 6, 7, 8, 9)</td>\n",
       "      <td>[0.5049, 0.4981, 0.50205, 0.50395, 0.51005]</td>\n",
       "      <td>0.50381</td>\n",
       "      <td>(Location_Chicago, Location_Houston, Location_...</td>\n",
       "    </tr>\n",
       "    <tr>\n",
       "      <th>6</th>\n",
       "      <td>(3, 5, 6, 7, 8, 9)</td>\n",
       "      <td>[0.5012, 0.49855, 0.50435, 0.50385, 0.5035]</td>\n",
       "      <td>0.50229</td>\n",
       "      <td>(Monthly_Bill, Location_Chicago, Location_Hous...</td>\n",
       "    </tr>\n",
       "    <tr>\n",
       "      <th>7</th>\n",
       "      <td>(1, 3, 5, 6, 7, 8, 9)</td>\n",
       "      <td>[0.5023, 0.50065, 0.5042, 0.5043, 0.50315]</td>\n",
       "      <td>0.50292</td>\n",
       "      <td>(Gender, Monthly_Bill, Location_Chicago, Locat...</td>\n",
       "    </tr>\n",
       "    <tr>\n",
       "      <th>8</th>\n",
       "      <td>(1, 3, 4, 5, 6, 7, 8, 9)</td>\n",
       "      <td>[0.50815, 0.50415, 0.50125, 0.5006, 0.5057]</td>\n",
       "      <td>0.50397</td>\n",
       "      <td>(Gender, Monthly_Bill, Total_Usage_GB, Locatio...</td>\n",
       "    </tr>\n",
       "    <tr>\n",
       "      <th>9</th>\n",
       "      <td>(0, 1, 3, 4, 5, 6, 7, 8, 9)</td>\n",
       "      <td>[0.5006, 0.5016, 0.4998, 0.4973, 0.50575]</td>\n",
       "      <td>0.50101</td>\n",
       "      <td>(Age, Gender, Monthly_Bill, Total_Usage_GB, Lo...</td>\n",
       "    </tr>\n",
       "    <tr>\n",
       "      <th>10</th>\n",
       "      <td>(0, 1, 2, 3, 4, 5, 6, 7, 8, 9)</td>\n",
       "      <td>[0.5051, 0.50125, 0.50085, 0.5027, 0.49865]</td>\n",
       "      <td>0.50171</td>\n",
       "      <td>(Age, Gender, Subscription_Length_Months, Mont...</td>\n",
       "    </tr>\n",
       "  </tbody>\n",
       "</table>\n",
       "</div>"
      ],
      "text/plain": [
       "                       feature_idx  \\\n",
       "1                             (9,)   \n",
       "2                           (8, 9)   \n",
       "3                        (6, 8, 9)   \n",
       "4                     (5, 6, 8, 9)   \n",
       "5                  (5, 6, 7, 8, 9)   \n",
       "6               (3, 5, 6, 7, 8, 9)   \n",
       "7            (1, 3, 5, 6, 7, 8, 9)   \n",
       "8         (1, 3, 4, 5, 6, 7, 8, 9)   \n",
       "9      (0, 1, 3, 4, 5, 6, 7, 8, 9)   \n",
       "10  (0, 1, 2, 3, 4, 5, 6, 7, 8, 9)   \n",
       "\n",
       "                                       cv_scores avg_score  \\\n",
       "1   [0.5031, 0.50305, 0.50315, 0.50125, 0.50775]   0.50366   \n",
       "2    [0.5049, 0.5034, 0.50205, 0.50395, 0.51005]   0.50487   \n",
       "3    [0.5049, 0.5034, 0.50205, 0.50395, 0.51005]   0.50487   \n",
       "4    [0.5049, 0.4981, 0.50205, 0.50395, 0.51005]   0.50381   \n",
       "5    [0.5049, 0.4981, 0.50205, 0.50395, 0.51005]   0.50381   \n",
       "6    [0.5012, 0.49855, 0.50435, 0.50385, 0.5035]   0.50229   \n",
       "7     [0.5023, 0.50065, 0.5042, 0.5043, 0.50315]   0.50292   \n",
       "8    [0.50815, 0.50415, 0.50125, 0.5006, 0.5057]   0.50397   \n",
       "9      [0.5006, 0.5016, 0.4998, 0.4973, 0.50575]   0.50101   \n",
       "10   [0.5051, 0.50125, 0.50085, 0.5027, 0.49865]   0.50171   \n",
       "\n",
       "                                        feature_names  \n",
       "1                                (Location_New York,)  \n",
       "2                 (Location_Miami, Location_New York)  \n",
       "3   (Location_Houston, Location_Miami, Location_Ne...  \n",
       "4   (Location_Chicago, Location_Houston, Location_...  \n",
       "5   (Location_Chicago, Location_Houston, Location_...  \n",
       "6   (Monthly_Bill, Location_Chicago, Location_Hous...  \n",
       "7   (Gender, Monthly_Bill, Location_Chicago, Locat...  \n",
       "8   (Gender, Monthly_Bill, Total_Usage_GB, Locatio...  \n",
       "9   (Age, Gender, Monthly_Bill, Total_Usage_GB, Lo...  \n",
       "10  (Age, Gender, Subscription_Length_Months, Mont...  "
      ]
     },
     "execution_count": 85,
     "metadata": {},
     "output_type": "execute_result"
    }
   ],
   "source": [
    "df5=pd.DataFrame(sfs.subsets_).T\n",
    "df5"
   ]
  },
  {
   "cell_type": "code",
   "execution_count": 86,
   "id": "b6405034",
   "metadata": {},
   "outputs": [
    {
     "data": {
      "text/plain": [
       "2"
      ]
     },
     "execution_count": 86,
     "metadata": {},
     "output_type": "execute_result"
    }
   ],
   "source": [
    "a=(df5['avg_score'].values)\n",
    "max_index=np.where(a==a.max())[0][-1]\n",
    "max_index"
   ]
  },
  {
   "cell_type": "code",
   "execution_count": 87,
   "id": "cdeb19b8",
   "metadata": {},
   "outputs": [
    {
     "name": "stdout",
     "output_type": "stream",
     "text": [
      "Highest accuracy= 0.50487\n"
     ]
    }
   ],
   "source": [
    "# Highest accuracy\n",
    "print(\"Highest accuracy=\", a.max())"
   ]
  },
  {
   "cell_type": "code",
   "execution_count": 88,
   "id": "6d14398b",
   "metadata": {},
   "outputs": [
    {
     "data": {
      "text/plain": [
       "['Location_Houston', 'Location_Miami', 'Location_New York']"
      ]
     },
     "execution_count": 88,
     "metadata": {},
     "output_type": "execute_result"
    }
   ],
   "source": [
    "# List of features which give highest accuracy by this method\n",
    "f5=list((df5.iloc[(max_index),[3]])[0])\n",
    "f5          "
   ]
  },
  {
   "cell_type": "code",
   "execution_count": null,
   "id": "36968864",
   "metadata": {},
   "outputs": [],
   "source": [
    "# Now storing this list\n",
    "f5 = ['Location_Houston', 'Location_Miami', 'Location_New York']"
   ]
  },
  {
   "cell_type": "code",
   "execution_count": 89,
   "id": "2370a137",
   "metadata": {},
   "outputs": [
    {
     "data": {
      "text/html": [
       "<style>#sk-container-id-6 {color: black;}#sk-container-id-6 pre{padding: 0;}#sk-container-id-6 div.sk-toggleable {background-color: white;}#sk-container-id-6 label.sk-toggleable__label {cursor: pointer;display: block;width: 100%;margin-bottom: 0;padding: 0.3em;box-sizing: border-box;text-align: center;}#sk-container-id-6 label.sk-toggleable__label-arrow:before {content: \"▸\";float: left;margin-right: 0.25em;color: #696969;}#sk-container-id-6 label.sk-toggleable__label-arrow:hover:before {color: black;}#sk-container-id-6 div.sk-estimator:hover label.sk-toggleable__label-arrow:before {color: black;}#sk-container-id-6 div.sk-toggleable__content {max-height: 0;max-width: 0;overflow: hidden;text-align: left;background-color: #f0f8ff;}#sk-container-id-6 div.sk-toggleable__content pre {margin: 0.2em;color: black;border-radius: 0.25em;background-color: #f0f8ff;}#sk-container-id-6 input.sk-toggleable__control:checked~div.sk-toggleable__content {max-height: 200px;max-width: 100%;overflow: auto;}#sk-container-id-6 input.sk-toggleable__control:checked~label.sk-toggleable__label-arrow:before {content: \"▾\";}#sk-container-id-6 div.sk-estimator input.sk-toggleable__control:checked~label.sk-toggleable__label {background-color: #d4ebff;}#sk-container-id-6 div.sk-label input.sk-toggleable__control:checked~label.sk-toggleable__label {background-color: #d4ebff;}#sk-container-id-6 input.sk-hidden--visually {border: 0;clip: rect(1px 1px 1px 1px);clip: rect(1px, 1px, 1px, 1px);height: 1px;margin: -1px;overflow: hidden;padding: 0;position: absolute;width: 1px;}#sk-container-id-6 div.sk-estimator {font-family: monospace;background-color: #f0f8ff;border: 1px dotted black;border-radius: 0.25em;box-sizing: border-box;margin-bottom: 0.5em;}#sk-container-id-6 div.sk-estimator:hover {background-color: #d4ebff;}#sk-container-id-6 div.sk-parallel-item::after {content: \"\";width: 100%;border-bottom: 1px solid gray;flex-grow: 1;}#sk-container-id-6 div.sk-label:hover label.sk-toggleable__label {background-color: #d4ebff;}#sk-container-id-6 div.sk-serial::before {content: \"\";position: absolute;border-left: 1px solid gray;box-sizing: border-box;top: 0;bottom: 0;left: 50%;z-index: 0;}#sk-container-id-6 div.sk-serial {display: flex;flex-direction: column;align-items: center;background-color: white;padding-right: 0.2em;padding-left: 0.2em;position: relative;}#sk-container-id-6 div.sk-item {position: relative;z-index: 1;}#sk-container-id-6 div.sk-parallel {display: flex;align-items: stretch;justify-content: center;background-color: white;position: relative;}#sk-container-id-6 div.sk-item::before, #sk-container-id-6 div.sk-parallel-item::before {content: \"\";position: absolute;border-left: 1px solid gray;box-sizing: border-box;top: 0;bottom: 0;left: 50%;z-index: -1;}#sk-container-id-6 div.sk-parallel-item {display: flex;flex-direction: column;z-index: 1;position: relative;background-color: white;}#sk-container-id-6 div.sk-parallel-item:first-child::after {align-self: flex-end;width: 50%;}#sk-container-id-6 div.sk-parallel-item:last-child::after {align-self: flex-start;width: 50%;}#sk-container-id-6 div.sk-parallel-item:only-child::after {width: 0;}#sk-container-id-6 div.sk-dashed-wrapped {border: 1px dashed gray;margin: 0 0.4em 0.5em 0.4em;box-sizing: border-box;padding-bottom: 0.4em;background-color: white;}#sk-container-id-6 div.sk-label label {font-family: monospace;font-weight: bold;display: inline-block;line-height: 1.2em;}#sk-container-id-6 div.sk-label-container {text-align: center;}#sk-container-id-6 div.sk-container {/* jupyter's `normalize.less` sets `[hidden] { display: none; }` but bootstrap.min.css set `[hidden] { display: none !important; }` so we also need the `!important` here to be able to override the default hidden behavior on the sphinx rendered scikit-learn.org. See: https://github.com/scikit-learn/scikit-learn/issues/21755 */display: inline-block !important;position: relative;}#sk-container-id-6 div.sk-text-repr-fallback {display: none;}</style><div id=\"sk-container-id-6\" class=\"sk-top-container\"><div class=\"sk-text-repr-fallback\"><pre>SequentialFeatureSelector(estimator=DecisionTreeClassifier(), forward=False,\n",
       "                          k_features=(1, 1), n_jobs=-2, scoring=&#x27;accuracy&#x27;)</pre><b>In a Jupyter environment, please rerun this cell to show the HTML representation or trust the notebook. <br />On GitHub, the HTML representation is unable to render, please try loading this page with nbviewer.org.</b></div><div class=\"sk-container\" hidden><div class=\"sk-item sk-dashed-wrapped\"><div class=\"sk-label-container\"><div class=\"sk-label sk-toggleable\"><input class=\"sk-toggleable__control sk-hidden--visually\" id=\"sk-estimator-id-16\" type=\"checkbox\" ><label for=\"sk-estimator-id-16\" class=\"sk-toggleable__label sk-toggleable__label-arrow\">SequentialFeatureSelector</label><div class=\"sk-toggleable__content\"><pre>SequentialFeatureSelector(estimator=DecisionTreeClassifier(), forward=False,\n",
       "                          k_features=(1, 1), n_jobs=-2, scoring=&#x27;accuracy&#x27;)</pre></div></div></div><div class=\"sk-parallel\"><div class=\"sk-parallel-item\"><div class=\"sk-item\"><div class=\"sk-label-container\"><div class=\"sk-label sk-toggleable\"><input class=\"sk-toggleable__control sk-hidden--visually\" id=\"sk-estimator-id-17\" type=\"checkbox\" ><label for=\"sk-estimator-id-17\" class=\"sk-toggleable__label sk-toggleable__label-arrow\">estimator: DecisionTreeClassifier</label><div class=\"sk-toggleable__content\"><pre>DecisionTreeClassifier()</pre></div></div></div><div class=\"sk-serial\"><div class=\"sk-item\"><div class=\"sk-estimator sk-toggleable\"><input class=\"sk-toggleable__control sk-hidden--visually\" id=\"sk-estimator-id-18\" type=\"checkbox\" ><label for=\"sk-estimator-id-18\" class=\"sk-toggleable__label sk-toggleable__label-arrow\">DecisionTreeClassifier</label><div class=\"sk-toggleable__content\"><pre>DecisionTreeClassifier()</pre></div></div></div></div></div></div></div></div></div></div>"
      ],
      "text/plain": [
       "SequentialFeatureSelector(estimator=DecisionTreeClassifier(), forward=False,\n",
       "                          k_features=(1, 1), n_jobs=-2, scoring='accuracy')"
      ]
     },
     "execution_count": 89,
     "metadata": {},
     "output_type": "execute_result"
    }
   ],
   "source": [
    "dt = DecisionTreeClassifier()\n",
    "\n",
    "sfs = SequentialFeatureSelector(dt, k_features= 1, forward=False, cv=5, n_jobs=-2)\n",
    "\n",
    "sfs.fit(x1, y1)"
   ]
  },
  {
   "cell_type": "code",
   "execution_count": 90,
   "id": "46126537",
   "metadata": {},
   "outputs": [
    {
     "data": {
      "text/html": [
       "<div>\n",
       "<style scoped>\n",
       "    .dataframe tbody tr th:only-of-type {\n",
       "        vertical-align: middle;\n",
       "    }\n",
       "\n",
       "    .dataframe tbody tr th {\n",
       "        vertical-align: top;\n",
       "    }\n",
       "\n",
       "    .dataframe thead th {\n",
       "        text-align: right;\n",
       "    }\n",
       "</style>\n",
       "<table border=\"1\" class=\"dataframe\">\n",
       "  <thead>\n",
       "    <tr style=\"text-align: right;\">\n",
       "      <th></th>\n",
       "      <th>feature_idx</th>\n",
       "      <th>cv_scores</th>\n",
       "      <th>avg_score</th>\n",
       "      <th>feature_names</th>\n",
       "    </tr>\n",
       "  </thead>\n",
       "  <tbody>\n",
       "    <tr>\n",
       "      <th>10</th>\n",
       "      <td>(0, 1, 2, 3, 4, 5, 6, 7, 8, 9)</td>\n",
       "      <td>[0.50645, 0.50305, 0.5002, 0.50505, 0.50275]</td>\n",
       "      <td>0.5035</td>\n",
       "      <td>(Age, Gender, Subscription_Length_Months, Mont...</td>\n",
       "    </tr>\n",
       "    <tr>\n",
       "      <th>9</th>\n",
       "      <td>(0, 1, 2, 3, 4, 5, 6, 8, 9)</td>\n",
       "      <td>[0.506, 0.5038, 0.501, 0.50495, 0.49995]</td>\n",
       "      <td>0.50314</td>\n",
       "      <td>(Age, Gender, Subscription_Length_Months, Mont...</td>\n",
       "    </tr>\n",
       "    <tr>\n",
       "      <th>8</th>\n",
       "      <td>(0, 1, 2, 3, 4, 5, 6, 8)</td>\n",
       "      <td>[0.50425, 0.50635, 0.50115, 0.50585, 0.5002]</td>\n",
       "      <td>0.50356</td>\n",
       "      <td>(Age, Gender, Subscription_Length_Months, Mont...</td>\n",
       "    </tr>\n",
       "    <tr>\n",
       "      <th>7</th>\n",
       "      <td>(0, 1, 2, 3, 4, 5, 8)</td>\n",
       "      <td>[0.5022, 0.50335, 0.49965, 0.50515, 0.5026]</td>\n",
       "      <td>0.50259</td>\n",
       "      <td>(Age, Gender, Subscription_Length_Months, Mont...</td>\n",
       "    </tr>\n",
       "    <tr>\n",
       "      <th>6</th>\n",
       "      <td>(0, 1, 2, 3, 4, 5)</td>\n",
       "      <td>[0.5045, 0.4932, 0.50535, 0.50215, 0.50525]</td>\n",
       "      <td>0.50209</td>\n",
       "      <td>(Age, Gender, Subscription_Length_Months, Mont...</td>\n",
       "    </tr>\n",
       "    <tr>\n",
       "      <th>5</th>\n",
       "      <td>(0, 1, 2, 4, 5)</td>\n",
       "      <td>[0.49875, 0.49485, 0.50195, 0.5086, 0.50625]</td>\n",
       "      <td>0.50208</td>\n",
       "      <td>(Age, Gender, Subscription_Length_Months, Tota...</td>\n",
       "    </tr>\n",
       "    <tr>\n",
       "      <th>4</th>\n",
       "      <td>(0, 1, 4, 5)</td>\n",
       "      <td>[0.4989, 0.505, 0.50145, 0.50155, 0.50295]</td>\n",
       "      <td>0.50197</td>\n",
       "      <td>(Age, Gender, Total_Usage_GB, Location_Chicago)</td>\n",
       "    </tr>\n",
       "    <tr>\n",
       "      <th>3</th>\n",
       "      <td>(0, 1, 5)</td>\n",
       "      <td>[0.49855, 0.50085, 0.5044, 0.50085, 0.49985]</td>\n",
       "      <td>0.5009</td>\n",
       "      <td>(Age, Gender, Location_Chicago)</td>\n",
       "    </tr>\n",
       "    <tr>\n",
       "      <th>2</th>\n",
       "      <td>(0, 1)</td>\n",
       "      <td>[0.50385, 0.5037, 0.50805, 0.50455, 0.5057]</td>\n",
       "      <td>0.50517</td>\n",
       "      <td>(Age, Gender)</td>\n",
       "    </tr>\n",
       "    <tr>\n",
       "      <th>1</th>\n",
       "      <td>(0,)</td>\n",
       "      <td>[0.5014, 0.50435, 0.5061, 0.4989, 0.5027]</td>\n",
       "      <td>0.50269</td>\n",
       "      <td>(Age,)</td>\n",
       "    </tr>\n",
       "  </tbody>\n",
       "</table>\n",
       "</div>"
      ],
      "text/plain": [
       "                       feature_idx  \\\n",
       "10  (0, 1, 2, 3, 4, 5, 6, 7, 8, 9)   \n",
       "9      (0, 1, 2, 3, 4, 5, 6, 8, 9)   \n",
       "8         (0, 1, 2, 3, 4, 5, 6, 8)   \n",
       "7            (0, 1, 2, 3, 4, 5, 8)   \n",
       "6               (0, 1, 2, 3, 4, 5)   \n",
       "5                  (0, 1, 2, 4, 5)   \n",
       "4                     (0, 1, 4, 5)   \n",
       "3                        (0, 1, 5)   \n",
       "2                           (0, 1)   \n",
       "1                             (0,)   \n",
       "\n",
       "                                       cv_scores avg_score  \\\n",
       "10  [0.50645, 0.50305, 0.5002, 0.50505, 0.50275]    0.5035   \n",
       "9       [0.506, 0.5038, 0.501, 0.50495, 0.49995]   0.50314   \n",
       "8   [0.50425, 0.50635, 0.50115, 0.50585, 0.5002]   0.50356   \n",
       "7    [0.5022, 0.50335, 0.49965, 0.50515, 0.5026]   0.50259   \n",
       "6    [0.5045, 0.4932, 0.50535, 0.50215, 0.50525]   0.50209   \n",
       "5   [0.49875, 0.49485, 0.50195, 0.5086, 0.50625]   0.50208   \n",
       "4     [0.4989, 0.505, 0.50145, 0.50155, 0.50295]   0.50197   \n",
       "3   [0.49855, 0.50085, 0.5044, 0.50085, 0.49985]    0.5009   \n",
       "2    [0.50385, 0.5037, 0.50805, 0.50455, 0.5057]   0.50517   \n",
       "1      [0.5014, 0.50435, 0.5061, 0.4989, 0.5027]   0.50269   \n",
       "\n",
       "                                        feature_names  \n",
       "10  (Age, Gender, Subscription_Length_Months, Mont...  \n",
       "9   (Age, Gender, Subscription_Length_Months, Mont...  \n",
       "8   (Age, Gender, Subscription_Length_Months, Mont...  \n",
       "7   (Age, Gender, Subscription_Length_Months, Mont...  \n",
       "6   (Age, Gender, Subscription_Length_Months, Mont...  \n",
       "5   (Age, Gender, Subscription_Length_Months, Tota...  \n",
       "4     (Age, Gender, Total_Usage_GB, Location_Chicago)  \n",
       "3                     (Age, Gender, Location_Chicago)  \n",
       "2                                       (Age, Gender)  \n",
       "1                                              (Age,)  "
      ]
     },
     "execution_count": 90,
     "metadata": {},
     "output_type": "execute_result"
    }
   ],
   "source": [
    "df6=pd.DataFrame(sfs.subsets_).T\n",
    "df6"
   ]
  },
  {
   "cell_type": "code",
   "execution_count": 91,
   "id": "7bdfec3c",
   "metadata": {},
   "outputs": [
    {
     "data": {
      "text/plain": [
       "8"
      ]
     },
     "execution_count": 91,
     "metadata": {},
     "output_type": "execute_result"
    }
   ],
   "source": [
    "a=(df6['avg_score'].values)\n",
    "max_index=np.where(a==a.max())[0][0]\n",
    "max_index"
   ]
  },
  {
   "cell_type": "code",
   "execution_count": 92,
   "id": "ebe2dc0e",
   "metadata": {},
   "outputs": [
    {
     "name": "stdout",
     "output_type": "stream",
     "text": [
      "Highest accuracy= 0.50517\n"
     ]
    }
   ],
   "source": [
    "# Highest accuracy\n",
    "print(\"Highest accuracy=\", a.max())"
   ]
  },
  {
   "cell_type": "code",
   "execution_count": 93,
   "id": "6499cd65",
   "metadata": {},
   "outputs": [
    {
     "data": {
      "text/plain": [
       "['Age', 'Gender']"
      ]
     },
     "execution_count": 93,
     "metadata": {},
     "output_type": "execute_result"
    }
   ],
   "source": [
    "# List of features which give highest accuracy by this method\n",
    "f6=list((df6.iloc[(max_index),[3]])[0])\n",
    "f6          "
   ]
  },
  {
   "cell_type": "code",
   "execution_count": 62,
   "id": "ab456e57",
   "metadata": {},
   "outputs": [],
   "source": [
    "# Now storing this list\n",
    "f6 = ['Age', 'Gender']"
   ]
  },
  {
   "cell_type": "markdown",
   "id": "9b8698ca",
   "metadata": {},
   "source": [
    "## Conclusion: "
   ]
  },
  {
   "cell_type": "code",
   "execution_count": 63,
   "id": "f80ff4ad",
   "metadata": {},
   "outputs": [
    {
     "data": {
      "text/plain": [
       "' \\n    From the above Feature selection techniques, it is conclude that there is \\n    not much significant effect are on accuracy change, wheather it lies within 50% to 51%.\\n    So, we are go with all features in this scenario.\\n'"
      ]
     },
     "execution_count": 63,
     "metadata": {},
     "output_type": "execute_result"
    }
   ],
   "source": [
    "\"\"\" \n",
    "    From the above Feature selection techniques, it is conclude that there is \n",
    "    not much significant effect are on accuracy change, wheather it lies within 50% to 51%.\n",
    "    So, we are go with all features in this scenario.\n",
    "\"\"\""
   ]
  },
  {
   "cell_type": "markdown",
   "id": "d0f9bb38",
   "metadata": {},
   "source": [
    "## Scalling the dataset for KNN Algorithm"
   ]
  },
  {
   "cell_type": "code",
   "execution_count": 64,
   "id": "6231203e",
   "metadata": {},
   "outputs": [
    {
     "data": {
      "text/html": [
       "<div>\n",
       "<style scoped>\n",
       "    .dataframe tbody tr th:only-of-type {\n",
       "        vertical-align: middle;\n",
       "    }\n",
       "\n",
       "    .dataframe tbody tr th {\n",
       "        vertical-align: top;\n",
       "    }\n",
       "\n",
       "    .dataframe thead th {\n",
       "        text-align: right;\n",
       "    }\n",
       "</style>\n",
       "<table border=\"1\" class=\"dataframe\">\n",
       "  <thead>\n",
       "    <tr style=\"text-align: right;\">\n",
       "      <th></th>\n",
       "      <th>Age</th>\n",
       "      <th>Gender</th>\n",
       "      <th>Subscription_Length_Months</th>\n",
       "      <th>Monthly_Bill</th>\n",
       "      <th>Total_Usage_GB</th>\n",
       "      <th>Location_Chicago</th>\n",
       "      <th>Location_Houston</th>\n",
       "      <th>Location_Los Angeles</th>\n",
       "      <th>Location_Miami</th>\n",
       "      <th>Location_New York</th>\n",
       "    </tr>\n",
       "  </thead>\n",
       "  <tbody>\n",
       "    <tr>\n",
       "      <th>0</th>\n",
       "      <td>63</td>\n",
       "      <td>1</td>\n",
       "      <td>17</td>\n",
       "      <td>73.36</td>\n",
       "      <td>236</td>\n",
       "      <td>0</td>\n",
       "      <td>0</td>\n",
       "      <td>1</td>\n",
       "      <td>0</td>\n",
       "      <td>0</td>\n",
       "    </tr>\n",
       "    <tr>\n",
       "      <th>1</th>\n",
       "      <td>62</td>\n",
       "      <td>0</td>\n",
       "      <td>1</td>\n",
       "      <td>48.76</td>\n",
       "      <td>172</td>\n",
       "      <td>0</td>\n",
       "      <td>0</td>\n",
       "      <td>0</td>\n",
       "      <td>0</td>\n",
       "      <td>1</td>\n",
       "    </tr>\n",
       "    <tr>\n",
       "      <th>2</th>\n",
       "      <td>24</td>\n",
       "      <td>0</td>\n",
       "      <td>5</td>\n",
       "      <td>85.47</td>\n",
       "      <td>460</td>\n",
       "      <td>0</td>\n",
       "      <td>0</td>\n",
       "      <td>1</td>\n",
       "      <td>0</td>\n",
       "      <td>0</td>\n",
       "    </tr>\n",
       "    <tr>\n",
       "      <th>3</th>\n",
       "      <td>36</td>\n",
       "      <td>0</td>\n",
       "      <td>3</td>\n",
       "      <td>97.94</td>\n",
       "      <td>297</td>\n",
       "      <td>0</td>\n",
       "      <td>0</td>\n",
       "      <td>0</td>\n",
       "      <td>1</td>\n",
       "      <td>0</td>\n",
       "    </tr>\n",
       "    <tr>\n",
       "      <th>4</th>\n",
       "      <td>46</td>\n",
       "      <td>0</td>\n",
       "      <td>19</td>\n",
       "      <td>58.14</td>\n",
       "      <td>266</td>\n",
       "      <td>0</td>\n",
       "      <td>0</td>\n",
       "      <td>0</td>\n",
       "      <td>1</td>\n",
       "      <td>0</td>\n",
       "    </tr>\n",
       "    <tr>\n",
       "      <th>...</th>\n",
       "      <td>...</td>\n",
       "      <td>...</td>\n",
       "      <td>...</td>\n",
       "      <td>...</td>\n",
       "      <td>...</td>\n",
       "      <td>...</td>\n",
       "      <td>...</td>\n",
       "      <td>...</td>\n",
       "      <td>...</td>\n",
       "      <td>...</td>\n",
       "    </tr>\n",
       "    <tr>\n",
       "      <th>99995</th>\n",
       "      <td>33</td>\n",
       "      <td>1</td>\n",
       "      <td>23</td>\n",
       "      <td>55.13</td>\n",
       "      <td>226</td>\n",
       "      <td>0</td>\n",
       "      <td>1</td>\n",
       "      <td>0</td>\n",
       "      <td>0</td>\n",
       "      <td>0</td>\n",
       "    </tr>\n",
       "    <tr>\n",
       "      <th>99996</th>\n",
       "      <td>62</td>\n",
       "      <td>0</td>\n",
       "      <td>19</td>\n",
       "      <td>61.65</td>\n",
       "      <td>351</td>\n",
       "      <td>0</td>\n",
       "      <td>0</td>\n",
       "      <td>0</td>\n",
       "      <td>0</td>\n",
       "      <td>1</td>\n",
       "    </tr>\n",
       "    <tr>\n",
       "      <th>99997</th>\n",
       "      <td>64</td>\n",
       "      <td>1</td>\n",
       "      <td>17</td>\n",
       "      <td>96.11</td>\n",
       "      <td>251</td>\n",
       "      <td>1</td>\n",
       "      <td>0</td>\n",
       "      <td>0</td>\n",
       "      <td>0</td>\n",
       "      <td>0</td>\n",
       "    </tr>\n",
       "    <tr>\n",
       "      <th>99998</th>\n",
       "      <td>51</td>\n",
       "      <td>0</td>\n",
       "      <td>20</td>\n",
       "      <td>49.25</td>\n",
       "      <td>434</td>\n",
       "      <td>0</td>\n",
       "      <td>0</td>\n",
       "      <td>0</td>\n",
       "      <td>0</td>\n",
       "      <td>1</td>\n",
       "    </tr>\n",
       "    <tr>\n",
       "      <th>99999</th>\n",
       "      <td>27</td>\n",
       "      <td>0</td>\n",
       "      <td>19</td>\n",
       "      <td>76.57</td>\n",
       "      <td>173</td>\n",
       "      <td>0</td>\n",
       "      <td>0</td>\n",
       "      <td>1</td>\n",
       "      <td>0</td>\n",
       "      <td>0</td>\n",
       "    </tr>\n",
       "  </tbody>\n",
       "</table>\n",
       "<p>100000 rows × 10 columns</p>\n",
       "</div>"
      ],
      "text/plain": [
       "       Age  Gender  Subscription_Length_Months  Monthly_Bill  Total_Usage_GB  \\\n",
       "0       63       1                          17         73.36             236   \n",
       "1       62       0                           1         48.76             172   \n",
       "2       24       0                           5         85.47             460   \n",
       "3       36       0                           3         97.94             297   \n",
       "4       46       0                          19         58.14             266   \n",
       "...    ...     ...                         ...           ...             ...   \n",
       "99995   33       1                          23         55.13             226   \n",
       "99996   62       0                          19         61.65             351   \n",
       "99997   64       1                          17         96.11             251   \n",
       "99998   51       0                          20         49.25             434   \n",
       "99999   27       0                          19         76.57             173   \n",
       "\n",
       "       Location_Chicago  Location_Houston  Location_Los Angeles  \\\n",
       "0                     0                 0                     1   \n",
       "1                     0                 0                     0   \n",
       "2                     0                 0                     1   \n",
       "3                     0                 0                     0   \n",
       "4                     0                 0                     0   \n",
       "...                 ...               ...                   ...   \n",
       "99995                 0                 1                     0   \n",
       "99996                 0                 0                     0   \n",
       "99997                 1                 0                     0   \n",
       "99998                 0                 0                     0   \n",
       "99999                 0                 0                     1   \n",
       "\n",
       "       Location_Miami  Location_New York  \n",
       "0                   0                  0  \n",
       "1                   0                  1  \n",
       "2                   0                  0  \n",
       "3                   1                  0  \n",
       "4                   1                  0  \n",
       "...               ...                ...  \n",
       "99995               0                  0  \n",
       "99996               0                  1  \n",
       "99997               0                  0  \n",
       "99998               0                  1  \n",
       "99999               0                  0  \n",
       "\n",
       "[100000 rows x 10 columns]"
      ]
     },
     "execution_count": 64,
     "metadata": {},
     "output_type": "execute_result"
    }
   ],
   "source": [
    "x = df.drop(\"Churn\", axis=1)\n",
    "y = df['Churn']\n",
    "x"
   ]
  },
  {
   "cell_type": "markdown",
   "id": "49d2d69a",
   "metadata": {},
   "source": [
    "##### 1.standrdization"
   ]
  },
  {
   "cell_type": "code",
   "execution_count": 65,
   "id": "497a035f",
   "metadata": {},
   "outputs": [
    {
     "data": {
      "text/html": [
       "<div>\n",
       "<style scoped>\n",
       "    .dataframe tbody tr th:only-of-type {\n",
       "        vertical-align: middle;\n",
       "    }\n",
       "\n",
       "    .dataframe tbody tr th {\n",
       "        vertical-align: top;\n",
       "    }\n",
       "\n",
       "    .dataframe thead th {\n",
       "        text-align: right;\n",
       "    }\n",
       "</style>\n",
       "<table border=\"1\" class=\"dataframe\">\n",
       "  <thead>\n",
       "    <tr style=\"text-align: right;\">\n",
       "      <th></th>\n",
       "      <th>Age</th>\n",
       "      <th>Gender</th>\n",
       "      <th>Subscription_Length_Months</th>\n",
       "      <th>Monthly_Bill</th>\n",
       "      <th>Total_Usage_GB</th>\n",
       "      <th>Location_Chicago</th>\n",
       "      <th>Location_Houston</th>\n",
       "      <th>Location_Los Angeles</th>\n",
       "      <th>Location_Miami</th>\n",
       "      <th>Location_New York</th>\n",
       "    </tr>\n",
       "  </thead>\n",
       "  <tbody>\n",
       "    <tr>\n",
       "      <th>0</th>\n",
       "      <td>1.241670</td>\n",
       "      <td>1.004329</td>\n",
       "      <td>0.651115</td>\n",
       "      <td>0.410606</td>\n",
       "      <td>-0.294289</td>\n",
       "      <td>-0.499344</td>\n",
       "      <td>-0.502452</td>\n",
       "      <td>1.997441</td>\n",
       "      <td>-0.500484</td>\n",
       "      <td>-0.497076</td>\n",
       "    </tr>\n",
       "    <tr>\n",
       "      <th>1</th>\n",
       "      <td>1.176226</td>\n",
       "      <td>-0.995689</td>\n",
       "      <td>-1.658879</td>\n",
       "      <td>-0.805374</td>\n",
       "      <td>-0.784852</td>\n",
       "      <td>-0.499344</td>\n",
       "      <td>-0.502452</td>\n",
       "      <td>-0.500641</td>\n",
       "      <td>-0.500484</td>\n",
       "      <td>2.011763</td>\n",
       "    </tr>\n",
       "    <tr>\n",
       "      <th>2</th>\n",
       "      <td>-1.310651</td>\n",
       "      <td>-0.995689</td>\n",
       "      <td>-1.081380</td>\n",
       "      <td>1.009204</td>\n",
       "      <td>1.422681</td>\n",
       "      <td>-0.499344</td>\n",
       "      <td>-0.502452</td>\n",
       "      <td>1.997441</td>\n",
       "      <td>-0.500484</td>\n",
       "      <td>-0.497076</td>\n",
       "    </tr>\n",
       "    <tr>\n",
       "      <th>3</th>\n",
       "      <td>-0.525321</td>\n",
       "      <td>-0.995689</td>\n",
       "      <td>-1.370129</td>\n",
       "      <td>1.625597</td>\n",
       "      <td>0.173279</td>\n",
       "      <td>-0.499344</td>\n",
       "      <td>-0.502452</td>\n",
       "      <td>-0.500641</td>\n",
       "      <td>1.998065</td>\n",
       "      <td>-0.497076</td>\n",
       "    </tr>\n",
       "    <tr>\n",
       "      <th>4</th>\n",
       "      <td>0.129120</td>\n",
       "      <td>-0.995689</td>\n",
       "      <td>0.939864</td>\n",
       "      <td>-0.341720</td>\n",
       "      <td>-0.064338</td>\n",
       "      <td>-0.499344</td>\n",
       "      <td>-0.502452</td>\n",
       "      <td>-0.500641</td>\n",
       "      <td>1.998065</td>\n",
       "      <td>-0.497076</td>\n",
       "    </tr>\n",
       "    <tr>\n",
       "      <th>...</th>\n",
       "      <td>...</td>\n",
       "      <td>...</td>\n",
       "      <td>...</td>\n",
       "      <td>...</td>\n",
       "      <td>...</td>\n",
       "      <td>...</td>\n",
       "      <td>...</td>\n",
       "      <td>...</td>\n",
       "      <td>...</td>\n",
       "      <td>...</td>\n",
       "    </tr>\n",
       "    <tr>\n",
       "      <th>99995</th>\n",
       "      <td>-0.721654</td>\n",
       "      <td>1.004329</td>\n",
       "      <td>1.517363</td>\n",
       "      <td>-0.490504</td>\n",
       "      <td>-0.370939</td>\n",
       "      <td>-0.499344</td>\n",
       "      <td>1.990240</td>\n",
       "      <td>-0.500641</td>\n",
       "      <td>-0.500484</td>\n",
       "      <td>-0.497076</td>\n",
       "    </tr>\n",
       "    <tr>\n",
       "      <th>99996</th>\n",
       "      <td>1.176226</td>\n",
       "      <td>-0.995689</td>\n",
       "      <td>0.939864</td>\n",
       "      <td>-0.168220</td>\n",
       "      <td>0.587191</td>\n",
       "      <td>-0.499344</td>\n",
       "      <td>-0.502452</td>\n",
       "      <td>-0.500641</td>\n",
       "      <td>-0.500484</td>\n",
       "      <td>2.011763</td>\n",
       "    </tr>\n",
       "    <tr>\n",
       "      <th>99997</th>\n",
       "      <td>1.307115</td>\n",
       "      <td>1.004329</td>\n",
       "      <td>0.651115</td>\n",
       "      <td>1.535140</td>\n",
       "      <td>-0.179313</td>\n",
       "      <td>2.002629</td>\n",
       "      <td>-0.502452</td>\n",
       "      <td>-0.500641</td>\n",
       "      <td>-0.500484</td>\n",
       "      <td>-0.497076</td>\n",
       "    </tr>\n",
       "    <tr>\n",
       "      <th>99998</th>\n",
       "      <td>0.456341</td>\n",
       "      <td>-0.995689</td>\n",
       "      <td>1.084239</td>\n",
       "      <td>-0.781153</td>\n",
       "      <td>1.223390</td>\n",
       "      <td>-0.499344</td>\n",
       "      <td>-0.502452</td>\n",
       "      <td>-0.500641</td>\n",
       "      <td>-0.500484</td>\n",
       "      <td>2.011763</td>\n",
       "    </tr>\n",
       "    <tr>\n",
       "      <th>99999</th>\n",
       "      <td>-1.114319</td>\n",
       "      <td>-0.995689</td>\n",
       "      <td>0.939864</td>\n",
       "      <td>0.569277</td>\n",
       "      <td>-0.777187</td>\n",
       "      <td>-0.499344</td>\n",
       "      <td>-0.502452</td>\n",
       "      <td>1.997441</td>\n",
       "      <td>-0.500484</td>\n",
       "      <td>-0.497076</td>\n",
       "    </tr>\n",
       "  </tbody>\n",
       "</table>\n",
       "<p>100000 rows × 10 columns</p>\n",
       "</div>"
      ],
      "text/plain": [
       "            Age    Gender  Subscription_Length_Months  Monthly_Bill  \\\n",
       "0      1.241670  1.004329                    0.651115      0.410606   \n",
       "1      1.176226 -0.995689                   -1.658879     -0.805374   \n",
       "2     -1.310651 -0.995689                   -1.081380      1.009204   \n",
       "3     -0.525321 -0.995689                   -1.370129      1.625597   \n",
       "4      0.129120 -0.995689                    0.939864     -0.341720   \n",
       "...         ...       ...                         ...           ...   \n",
       "99995 -0.721654  1.004329                    1.517363     -0.490504   \n",
       "99996  1.176226 -0.995689                    0.939864     -0.168220   \n",
       "99997  1.307115  1.004329                    0.651115      1.535140   \n",
       "99998  0.456341 -0.995689                    1.084239     -0.781153   \n",
       "99999 -1.114319 -0.995689                    0.939864      0.569277   \n",
       "\n",
       "       Total_Usage_GB  Location_Chicago  Location_Houston  \\\n",
       "0           -0.294289         -0.499344         -0.502452   \n",
       "1           -0.784852         -0.499344         -0.502452   \n",
       "2            1.422681         -0.499344         -0.502452   \n",
       "3            0.173279         -0.499344         -0.502452   \n",
       "4           -0.064338         -0.499344         -0.502452   \n",
       "...               ...               ...               ...   \n",
       "99995       -0.370939         -0.499344          1.990240   \n",
       "99996        0.587191         -0.499344         -0.502452   \n",
       "99997       -0.179313          2.002629         -0.502452   \n",
       "99998        1.223390         -0.499344         -0.502452   \n",
       "99999       -0.777187         -0.499344         -0.502452   \n",
       "\n",
       "       Location_Los Angeles  Location_Miami  Location_New York  \n",
       "0                  1.997441       -0.500484          -0.497076  \n",
       "1                 -0.500641       -0.500484           2.011763  \n",
       "2                  1.997441       -0.500484          -0.497076  \n",
       "3                 -0.500641        1.998065          -0.497076  \n",
       "4                 -0.500641        1.998065          -0.497076  \n",
       "...                     ...             ...                ...  \n",
       "99995             -0.500641       -0.500484          -0.497076  \n",
       "99996             -0.500641       -0.500484           2.011763  \n",
       "99997             -0.500641       -0.500484          -0.497076  \n",
       "99998             -0.500641       -0.500484           2.011763  \n",
       "99999              1.997441       -0.500484          -0.497076  \n",
       "\n",
       "[100000 rows x 10 columns]"
      ]
     },
     "execution_count": 65,
     "metadata": {},
     "output_type": "execute_result"
    }
   ],
   "source": [
    "# Standardization Method-1 (Short & easy steps)\n",
    "\n",
    "std_scaler = StandardScaler()\n",
    "\n",
    "x_std = std_scaler.fit_transform(x)\n",
    "x_std = pd.DataFrame(x_std, columns=x.columns)\n",
    "x_std"
   ]
  },
  {
   "cell_type": "markdown",
   "id": "1c43d652",
   "metadata": {},
   "source": [
    "# 2.Normalization"
   ]
  },
  {
   "cell_type": "code",
   "execution_count": 66,
   "id": "846ba74a",
   "metadata": {
    "scrolled": false
   },
   "outputs": [
    {
     "data": {
      "text/html": [
       "<div>\n",
       "<style scoped>\n",
       "    .dataframe tbody tr th:only-of-type {\n",
       "        vertical-align: middle;\n",
       "    }\n",
       "\n",
       "    .dataframe tbody tr th {\n",
       "        vertical-align: top;\n",
       "    }\n",
       "\n",
       "    .dataframe thead th {\n",
       "        text-align: right;\n",
       "    }\n",
       "</style>\n",
       "<table border=\"1\" class=\"dataframe\">\n",
       "  <thead>\n",
       "    <tr style=\"text-align: right;\">\n",
       "      <th></th>\n",
       "      <th>Age</th>\n",
       "      <th>Gender</th>\n",
       "      <th>Subscription_Length_Months</th>\n",
       "      <th>Monthly_Bill</th>\n",
       "      <th>Total_Usage_GB</th>\n",
       "      <th>Location_Chicago</th>\n",
       "      <th>Location_Houston</th>\n",
       "      <th>Location_Los Angeles</th>\n",
       "      <th>Location_Miami</th>\n",
       "      <th>Location_New York</th>\n",
       "    </tr>\n",
       "  </thead>\n",
       "  <tbody>\n",
       "    <tr>\n",
       "      <th>0</th>\n",
       "      <td>0.865385</td>\n",
       "      <td>1.0</td>\n",
       "      <td>0.695652</td>\n",
       "      <td>0.619429</td>\n",
       "      <td>0.413333</td>\n",
       "      <td>0.0</td>\n",
       "      <td>0.0</td>\n",
       "      <td>1.0</td>\n",
       "      <td>0.0</td>\n",
       "      <td>0.0</td>\n",
       "    </tr>\n",
       "    <tr>\n",
       "      <th>1</th>\n",
       "      <td>0.846154</td>\n",
       "      <td>0.0</td>\n",
       "      <td>0.000000</td>\n",
       "      <td>0.268000</td>\n",
       "      <td>0.271111</td>\n",
       "      <td>0.0</td>\n",
       "      <td>0.0</td>\n",
       "      <td>0.0</td>\n",
       "      <td>0.0</td>\n",
       "      <td>1.0</td>\n",
       "    </tr>\n",
       "    <tr>\n",
       "      <th>2</th>\n",
       "      <td>0.115385</td>\n",
       "      <td>0.0</td>\n",
       "      <td>0.173913</td>\n",
       "      <td>0.792429</td>\n",
       "      <td>0.911111</td>\n",
       "      <td>0.0</td>\n",
       "      <td>0.0</td>\n",
       "      <td>1.0</td>\n",
       "      <td>0.0</td>\n",
       "      <td>0.0</td>\n",
       "    </tr>\n",
       "    <tr>\n",
       "      <th>3</th>\n",
       "      <td>0.346154</td>\n",
       "      <td>0.0</td>\n",
       "      <td>0.086957</td>\n",
       "      <td>0.970571</td>\n",
       "      <td>0.548889</td>\n",
       "      <td>0.0</td>\n",
       "      <td>0.0</td>\n",
       "      <td>0.0</td>\n",
       "      <td>1.0</td>\n",
       "      <td>0.0</td>\n",
       "    </tr>\n",
       "    <tr>\n",
       "      <th>4</th>\n",
       "      <td>0.538462</td>\n",
       "      <td>0.0</td>\n",
       "      <td>0.782609</td>\n",
       "      <td>0.402000</td>\n",
       "      <td>0.480000</td>\n",
       "      <td>0.0</td>\n",
       "      <td>0.0</td>\n",
       "      <td>0.0</td>\n",
       "      <td>1.0</td>\n",
       "      <td>0.0</td>\n",
       "    </tr>\n",
       "    <tr>\n",
       "      <th>...</th>\n",
       "      <td>...</td>\n",
       "      <td>...</td>\n",
       "      <td>...</td>\n",
       "      <td>...</td>\n",
       "      <td>...</td>\n",
       "      <td>...</td>\n",
       "      <td>...</td>\n",
       "      <td>...</td>\n",
       "      <td>...</td>\n",
       "      <td>...</td>\n",
       "    </tr>\n",
       "    <tr>\n",
       "      <th>99995</th>\n",
       "      <td>0.288462</td>\n",
       "      <td>1.0</td>\n",
       "      <td>0.956522</td>\n",
       "      <td>0.359000</td>\n",
       "      <td>0.391111</td>\n",
       "      <td>0.0</td>\n",
       "      <td>1.0</td>\n",
       "      <td>0.0</td>\n",
       "      <td>0.0</td>\n",
       "      <td>0.0</td>\n",
       "    </tr>\n",
       "    <tr>\n",
       "      <th>99996</th>\n",
       "      <td>0.846154</td>\n",
       "      <td>0.0</td>\n",
       "      <td>0.782609</td>\n",
       "      <td>0.452143</td>\n",
       "      <td>0.668889</td>\n",
       "      <td>0.0</td>\n",
       "      <td>0.0</td>\n",
       "      <td>0.0</td>\n",
       "      <td>0.0</td>\n",
       "      <td>1.0</td>\n",
       "    </tr>\n",
       "    <tr>\n",
       "      <th>99997</th>\n",
       "      <td>0.884615</td>\n",
       "      <td>1.0</td>\n",
       "      <td>0.695652</td>\n",
       "      <td>0.944429</td>\n",
       "      <td>0.446667</td>\n",
       "      <td>1.0</td>\n",
       "      <td>0.0</td>\n",
       "      <td>0.0</td>\n",
       "      <td>0.0</td>\n",
       "      <td>0.0</td>\n",
       "    </tr>\n",
       "    <tr>\n",
       "      <th>99998</th>\n",
       "      <td>0.634615</td>\n",
       "      <td>0.0</td>\n",
       "      <td>0.826087</td>\n",
       "      <td>0.275000</td>\n",
       "      <td>0.853333</td>\n",
       "      <td>0.0</td>\n",
       "      <td>0.0</td>\n",
       "      <td>0.0</td>\n",
       "      <td>0.0</td>\n",
       "      <td>1.0</td>\n",
       "    </tr>\n",
       "    <tr>\n",
       "      <th>99999</th>\n",
       "      <td>0.173077</td>\n",
       "      <td>0.0</td>\n",
       "      <td>0.782609</td>\n",
       "      <td>0.665286</td>\n",
       "      <td>0.273333</td>\n",
       "      <td>0.0</td>\n",
       "      <td>0.0</td>\n",
       "      <td>1.0</td>\n",
       "      <td>0.0</td>\n",
       "      <td>0.0</td>\n",
       "    </tr>\n",
       "  </tbody>\n",
       "</table>\n",
       "<p>100000 rows × 10 columns</p>\n",
       "</div>"
      ],
      "text/plain": [
       "            Age  Gender  Subscription_Length_Months  Monthly_Bill  \\\n",
       "0      0.865385     1.0                    0.695652      0.619429   \n",
       "1      0.846154     0.0                    0.000000      0.268000   \n",
       "2      0.115385     0.0                    0.173913      0.792429   \n",
       "3      0.346154     0.0                    0.086957      0.970571   \n",
       "4      0.538462     0.0                    0.782609      0.402000   \n",
       "...         ...     ...                         ...           ...   \n",
       "99995  0.288462     1.0                    0.956522      0.359000   \n",
       "99996  0.846154     0.0                    0.782609      0.452143   \n",
       "99997  0.884615     1.0                    0.695652      0.944429   \n",
       "99998  0.634615     0.0                    0.826087      0.275000   \n",
       "99999  0.173077     0.0                    0.782609      0.665286   \n",
       "\n",
       "       Total_Usage_GB  Location_Chicago  Location_Houston  \\\n",
       "0            0.413333               0.0               0.0   \n",
       "1            0.271111               0.0               0.0   \n",
       "2            0.911111               0.0               0.0   \n",
       "3            0.548889               0.0               0.0   \n",
       "4            0.480000               0.0               0.0   \n",
       "...               ...               ...               ...   \n",
       "99995        0.391111               0.0               1.0   \n",
       "99996        0.668889               0.0               0.0   \n",
       "99997        0.446667               1.0               0.0   \n",
       "99998        0.853333               0.0               0.0   \n",
       "99999        0.273333               0.0               0.0   \n",
       "\n",
       "       Location_Los Angeles  Location_Miami  Location_New York  \n",
       "0                       1.0             0.0                0.0  \n",
       "1                       0.0             0.0                1.0  \n",
       "2                       1.0             0.0                0.0  \n",
       "3                       0.0             1.0                0.0  \n",
       "4                       0.0             1.0                0.0  \n",
       "...                     ...             ...                ...  \n",
       "99995                   0.0             0.0                0.0  \n",
       "99996                   0.0             0.0                1.0  \n",
       "99997                   0.0             0.0                0.0  \n",
       "99998                   0.0             0.0                1.0  \n",
       "99999                   1.0             0.0                0.0  \n",
       "\n",
       "[100000 rows x 10 columns]"
      ]
     },
     "execution_count": 66,
     "metadata": {},
     "output_type": "execute_result"
    }
   ],
   "source": [
    "# Normalization Method-1 (Short & easy steps)\n",
    "\n",
    "norm_scaler = MinMaxScaler()\n",
    "\n",
    "x_norm = norm_scaler.fit_transform(x)\n",
    "x_norm = pd.DataFrame(x_norm, columns=x.columns)\n",
    "x_norm"
   ]
  },
  {
   "cell_type": "markdown",
   "id": "a3afbb6b",
   "metadata": {},
   "source": [
    "# Step 6: Model Building & Evaluation"
   ]
  },
  {
   "cell_type": "markdown",
   "id": "bfc8f99e",
   "metadata": {},
   "source": [
    "# [1] Logistic Regression"
   ]
  },
  {
   "cell_type": "markdown",
   "id": "01614ac3",
   "metadata": {},
   "source": [
    "##### Train Test spliting of data"
   ]
  },
  {
   "cell_type": "code",
   "execution_count": 67,
   "id": "e30713ab",
   "metadata": {},
   "outputs": [],
   "source": [
    "x_train, x_test, y_train, y_test = train_test_split(x, y, test_size=0.25, random_state=10, stratify=y)"
   ]
  },
  {
   "cell_type": "code",
   "execution_count": 68,
   "id": "1aed29bb",
   "metadata": {},
   "outputs": [
    {
     "data": {
      "text/html": [
       "<style>#sk-container-id-1 {color: black;}#sk-container-id-1 pre{padding: 0;}#sk-container-id-1 div.sk-toggleable {background-color: white;}#sk-container-id-1 label.sk-toggleable__label {cursor: pointer;display: block;width: 100%;margin-bottom: 0;padding: 0.3em;box-sizing: border-box;text-align: center;}#sk-container-id-1 label.sk-toggleable__label-arrow:before {content: \"▸\";float: left;margin-right: 0.25em;color: #696969;}#sk-container-id-1 label.sk-toggleable__label-arrow:hover:before {color: black;}#sk-container-id-1 div.sk-estimator:hover label.sk-toggleable__label-arrow:before {color: black;}#sk-container-id-1 div.sk-toggleable__content {max-height: 0;max-width: 0;overflow: hidden;text-align: left;background-color: #f0f8ff;}#sk-container-id-1 div.sk-toggleable__content pre {margin: 0.2em;color: black;border-radius: 0.25em;background-color: #f0f8ff;}#sk-container-id-1 input.sk-toggleable__control:checked~div.sk-toggleable__content {max-height: 200px;max-width: 100%;overflow: auto;}#sk-container-id-1 input.sk-toggleable__control:checked~label.sk-toggleable__label-arrow:before {content: \"▾\";}#sk-container-id-1 div.sk-estimator input.sk-toggleable__control:checked~label.sk-toggleable__label {background-color: #d4ebff;}#sk-container-id-1 div.sk-label input.sk-toggleable__control:checked~label.sk-toggleable__label {background-color: #d4ebff;}#sk-container-id-1 input.sk-hidden--visually {border: 0;clip: rect(1px 1px 1px 1px);clip: rect(1px, 1px, 1px, 1px);height: 1px;margin: -1px;overflow: hidden;padding: 0;position: absolute;width: 1px;}#sk-container-id-1 div.sk-estimator {font-family: monospace;background-color: #f0f8ff;border: 1px dotted black;border-radius: 0.25em;box-sizing: border-box;margin-bottom: 0.5em;}#sk-container-id-1 div.sk-estimator:hover {background-color: #d4ebff;}#sk-container-id-1 div.sk-parallel-item::after {content: \"\";width: 100%;border-bottom: 1px solid gray;flex-grow: 1;}#sk-container-id-1 div.sk-label:hover label.sk-toggleable__label {background-color: #d4ebff;}#sk-container-id-1 div.sk-serial::before {content: \"\";position: absolute;border-left: 1px solid gray;box-sizing: border-box;top: 0;bottom: 0;left: 50%;z-index: 0;}#sk-container-id-1 div.sk-serial {display: flex;flex-direction: column;align-items: center;background-color: white;padding-right: 0.2em;padding-left: 0.2em;position: relative;}#sk-container-id-1 div.sk-item {position: relative;z-index: 1;}#sk-container-id-1 div.sk-parallel {display: flex;align-items: stretch;justify-content: center;background-color: white;position: relative;}#sk-container-id-1 div.sk-item::before, #sk-container-id-1 div.sk-parallel-item::before {content: \"\";position: absolute;border-left: 1px solid gray;box-sizing: border-box;top: 0;bottom: 0;left: 50%;z-index: -1;}#sk-container-id-1 div.sk-parallel-item {display: flex;flex-direction: column;z-index: 1;position: relative;background-color: white;}#sk-container-id-1 div.sk-parallel-item:first-child::after {align-self: flex-end;width: 50%;}#sk-container-id-1 div.sk-parallel-item:last-child::after {align-self: flex-start;width: 50%;}#sk-container-id-1 div.sk-parallel-item:only-child::after {width: 0;}#sk-container-id-1 div.sk-dashed-wrapped {border: 1px dashed gray;margin: 0 0.4em 0.5em 0.4em;box-sizing: border-box;padding-bottom: 0.4em;background-color: white;}#sk-container-id-1 div.sk-label label {font-family: monospace;font-weight: bold;display: inline-block;line-height: 1.2em;}#sk-container-id-1 div.sk-label-container {text-align: center;}#sk-container-id-1 div.sk-container {/* jupyter's `normalize.less` sets `[hidden] { display: none; }` but bootstrap.min.css set `[hidden] { display: none !important; }` so we also need the `!important` here to be able to override the default hidden behavior on the sphinx rendered scikit-learn.org. See: https://github.com/scikit-learn/scikit-learn/issues/21755 */display: inline-block !important;position: relative;}#sk-container-id-1 div.sk-text-repr-fallback {display: none;}</style><div id=\"sk-container-id-1\" class=\"sk-top-container\"><div class=\"sk-text-repr-fallback\"><pre>LogisticRegression()</pre><b>In a Jupyter environment, please rerun this cell to show the HTML representation or trust the notebook. <br />On GitHub, the HTML representation is unable to render, please try loading this page with nbviewer.org.</b></div><div class=\"sk-container\" hidden><div class=\"sk-item\"><div class=\"sk-estimator sk-toggleable\"><input class=\"sk-toggleable__control sk-hidden--visually\" id=\"sk-estimator-id-1\" type=\"checkbox\" checked><label for=\"sk-estimator-id-1\" class=\"sk-toggleable__label sk-toggleable__label-arrow\">LogisticRegression</label><div class=\"sk-toggleable__content\"><pre>LogisticRegression()</pre></div></div></div></div></div>"
      ],
      "text/plain": [
       "LogisticRegression()"
      ]
     },
     "execution_count": 68,
     "metadata": {},
     "output_type": "execute_result"
    }
   ],
   "source": [
    "#Model fitting\n",
    "# Create an instance\n",
    "\n",
    "log_model = LogisticRegression()\n",
    "log_model.fit(x_train, y_train)"
   ]
  },
  {
   "cell_type": "code",
   "execution_count": 69,
   "id": "15294f00",
   "metadata": {},
   "outputs": [
    {
     "name": "stdout",
     "output_type": "stream",
     "text": [
      "Confusion Matrix:\n",
      " [[22332 15334]\n",
      " [21852 15482]]\n",
      "*********************************************\n",
      "Accuracy:  0.5041866666666667\n",
      "*********************************************\n",
      "Classification Report:\n",
      "               precision    recall  f1-score   support\n",
      "\n",
      "           0       0.51      0.59      0.55     37666\n",
      "           1       0.50      0.41      0.45     37334\n",
      "\n",
      "    accuracy                           0.50     75000\n",
      "   macro avg       0.50      0.50      0.50     75000\n",
      "weighted avg       0.50      0.50      0.50     75000\n",
      "\n"
     ]
    }
   ],
   "source": [
    "# Training Accuracy\n",
    "y_pred_train = log_model.predict(x_train)\n",
    "\n",
    "cnf_matrix = confusion_matrix(y_train, y_pred_train,labels=log_model.classes_)\n",
    "print(\"Confusion Matrix:\\n\", cnf_matrix)\n",
    "print(\"*\"*45)\n",
    "\n",
    "accuracy_train_log = accuracy_score(y_train, y_pred_train)\n",
    "print(\"Accuracy: \",accuracy_train_log)\n",
    "print(\"*\"*45)\n",
    "\n",
    "clf_report = classification_report(y_train, y_pred_train)\n",
    "print(\"Classification Report:\\n\",clf_report)"
   ]
  },
  {
   "cell_type": "code",
   "execution_count": 70,
   "id": "f173e0cd",
   "metadata": {},
   "outputs": [
    {
     "data": {
      "image/png": "[encoded data removed]",
      "text/plain": [
       "<Figure size 640x480 with 2 Axes>"
      ]
     },
     "metadata": {},
     "output_type": "display_data"
    }
   ],
   "source": [
    "disp = ConfusionMatrixDisplay(confusion_matrix=cnf_matrix, display_labels=log_model.classes_)\n",
    "disp.plot()\n",
    "plt.show()"
   ]
  },
  {
   "cell_type": "code",
   "execution_count": 71,
   "id": "a693c1c0",
   "metadata": {},
   "outputs": [
    {
     "name": "stdout",
     "output_type": "stream",
     "text": [
      "Confusion Matrix:\n",
      " [[7354 5201]\n",
      " [7189 5256]]\n",
      "*********************************************\n",
      "Accuracy:  0.5044\n",
      "*********************************************\n",
      "Classification Report:\n",
      "               precision    recall  f1-score   support\n",
      "\n",
      "           0       0.51      0.59      0.54     12555\n",
      "           1       0.50      0.42      0.46     12445\n",
      "\n",
      "    accuracy                           0.50     25000\n",
      "   macro avg       0.50      0.50      0.50     25000\n",
      "weighted avg       0.50      0.50      0.50     25000\n",
      "\n"
     ]
    }
   ],
   "source": [
    "# testing Accuracy\n",
    "y_pred = log_model.predict(x_test)\n",
    "\n",
    "cnf_matrix = confusion_matrix(y_test, y_pred)\n",
    "print(\"Confusion Matrix:\\n\", cnf_matrix)\n",
    "print(\"*\"*45)\n",
    "\n",
    "# visualization also\n",
    "\n",
    "accuracy_test_log = accuracy_score(y_test, y_pred)\n",
    "print(\"Accuracy: \",accuracy_test_log)\n",
    "print(\"*\"*45)\n",
    "\n",
    "clf_report = classification_report(y_test, y_pred)\n",
    "print(\"Classification Report:\\n\",clf_report)"
   ]
  },
  {
   "cell_type": "code",
   "execution_count": 72,
   "id": "85aba068",
   "metadata": {},
   "outputs": [
    {
     "data": {
      "image/png": "[encoded data removed]",
      "text/plain": [
       "<Figure size 640x480 with 2 Axes>"
      ]
     },
     "metadata": {},
     "output_type": "display_data"
    }
   ],
   "source": [
    "disp = ConfusionMatrixDisplay(confusion_matrix=cnf_matrix, display_labels=log_model.classes_)\n",
    "disp.plot()\n",
    "plt.show()"
   ]
  },
  {
   "cell_type": "code",
   "execution_count": 73,
   "id": "7054f146",
   "metadata": {},
   "outputs": [],
   "source": [
    "#AUC-ROC Curve for logistic Regression"
   ]
  },
  {
   "cell_type": "code",
   "execution_count": 74,
   "id": "be8ef9df",
   "metadata": {},
   "outputs": [],
   "source": [
    "y_train_pred_prob = log_model.predict_proba(x_train)   # Plot AUC- ROC curve on Training data\n",
    "y_train_pred_prob[:,1]\n",
    "\n",
    "\n",
    "fpr, tpr, thresh = roc_curve(y_train, y_train_pred_prob[:,1])"
   ]
  },
  {
   "cell_type": "code",
   "execution_count": 75,
   "id": "b86285c6",
   "metadata": {},
   "outputs": [
    {
     "data": {
      "text/plain": [
       "Text(0.5, 1.0, 'Reciever Operating Characteristics Curve')"
      ]
     },
     "execution_count": 75,
     "metadata": {},
     "output_type": "execute_result"
    },
    {
     "data": {
      "image/png": "[encoded data removed]",
      "text/plain": [
       "<Figure size 640x480 with 1 Axes>"
      ]
     },
     "metadata": {},
     "output_type": "display_data"
    }
   ],
   "source": [
    "plt.plot(fpr, tpr)\n",
    "\n",
    "plt.xlabel(\"False positive rate (FPR) -->\")\n",
    "plt.ylabel(\"True positive rate (TPR) -->\")\n",
    "plt.title(\"Reciever Operating Characteristics Curve\")"
   ]
  },
  {
   "cell_type": "code",
   "execution_count": 76,
   "id": "c1b4ce4a",
   "metadata": {},
   "outputs": [
    {
     "data": {
      "text/plain": [
       "0.5059425840027341"
      ]
     },
     "execution_count": 76,
     "metadata": {},
     "output_type": "execute_result"
    }
   ],
   "source": [
    "auc_value = auc(fpr, tpr)\n",
    "auc_value"
   ]
  },
  {
   "cell_type": "code",
   "execution_count": 77,
   "id": "275bfdbf",
   "metadata": {},
   "outputs": [
    {
     "data": {
      "text/html": [
       "<div>\n",
       "<style scoped>\n",
       "    .dataframe tbody tr th:only-of-type {\n",
       "        vertical-align: middle;\n",
       "    }\n",
       "\n",
       "    .dataframe tbody tr th {\n",
       "        vertical-align: top;\n",
       "    }\n",
       "\n",
       "    .dataframe thead th {\n",
       "        text-align: right;\n",
       "    }\n",
       "</style>\n",
       "<table border=\"1\" class=\"dataframe\">\n",
       "  <thead>\n",
       "    <tr style=\"text-align: right;\">\n",
       "      <th></th>\n",
       "      <th>Accuracy</th>\n",
       "      <th>recall</th>\n",
       "      <th>Precision</th>\n",
       "      <th>F1-Score</th>\n",
       "    </tr>\n",
       "  </thead>\n",
       "  <tbody>\n",
       "    <tr>\n",
       "      <th>0.1</th>\n",
       "      <td>0.4978</td>\n",
       "      <td>1.000000</td>\n",
       "      <td>0.49780</td>\n",
       "      <td>0.664708</td>\n",
       "    </tr>\n",
       "    <tr>\n",
       "      <th>0.2</th>\n",
       "      <td>0.4978</td>\n",
       "      <td>1.000000</td>\n",
       "      <td>0.49780</td>\n",
       "      <td>0.664708</td>\n",
       "    </tr>\n",
       "    <tr>\n",
       "      <th>0.3</th>\n",
       "      <td>0.4978</td>\n",
       "      <td>1.000000</td>\n",
       "      <td>0.49780</td>\n",
       "      <td>0.664708</td>\n",
       "    </tr>\n",
       "    <tr>\n",
       "      <th>0.4</th>\n",
       "      <td>0.4978</td>\n",
       "      <td>1.000000</td>\n",
       "      <td>0.49780</td>\n",
       "      <td>0.664708</td>\n",
       "    </tr>\n",
       "    <tr>\n",
       "      <th>0.5</th>\n",
       "      <td>0.5044</td>\n",
       "      <td>0.422338</td>\n",
       "      <td>0.50263</td>\n",
       "      <td>0.458999</td>\n",
       "    </tr>\n",
       "    <tr>\n",
       "      <th>0.6</th>\n",
       "      <td>0.5022</td>\n",
       "      <td>0.000000</td>\n",
       "      <td>0.00000</td>\n",
       "      <td>0.000000</td>\n",
       "    </tr>\n",
       "    <tr>\n",
       "      <th>0.7</th>\n",
       "      <td>0.5022</td>\n",
       "      <td>0.000000</td>\n",
       "      <td>0.00000</td>\n",
       "      <td>0.000000</td>\n",
       "    </tr>\n",
       "    <tr>\n",
       "      <th>0.8</th>\n",
       "      <td>0.5022</td>\n",
       "      <td>0.000000</td>\n",
       "      <td>0.00000</td>\n",
       "      <td>0.000000</td>\n",
       "    </tr>\n",
       "    <tr>\n",
       "      <th>0.9</th>\n",
       "      <td>0.5022</td>\n",
       "      <td>0.000000</td>\n",
       "      <td>0.00000</td>\n",
       "      <td>0.000000</td>\n",
       "    </tr>\n",
       "  </tbody>\n",
       "</table>\n",
       "</div>"
      ],
      "text/plain": [
       "     Accuracy    recall  Precision  F1-Score\n",
       "0.1    0.4978  1.000000    0.49780  0.664708\n",
       "0.2    0.4978  1.000000    0.49780  0.664708\n",
       "0.3    0.4978  1.000000    0.49780  0.664708\n",
       "0.4    0.4978  1.000000    0.49780  0.664708\n",
       "0.5    0.5044  0.422338    0.50263  0.458999\n",
       "0.6    0.5022  0.000000    0.00000  0.000000\n",
       "0.7    0.5022  0.000000    0.00000  0.000000\n",
       "0.8    0.5022  0.000000    0.00000  0.000000\n",
       "0.9    0.5022  0.000000    0.00000  0.000000"
      ]
     },
     "execution_count": 77,
     "metadata": {},
     "output_type": "execute_result"
    }
   ],
   "source": [
    "df1 = pd.DataFrame()\n",
    "threshold = [0.1, 0.2, 0.3, 0.4, 0.5, 0.6, 0.7, 0.8, 0.9]\n",
    "for i in  threshold:\n",
    "    preds = (log_model.predict_proba(x_test)[:,1] > i).astype(int)\n",
    "\n",
    "    df2 = pd.DataFrame(data=[accuracy_score(y_test, preds), recall_score(y_test, preds), precision_score(y_test, preds), f1_score(y_test, preds)],\n",
    "                index=[\"Accuracy\", \"recall\", \"Precision\", \"F1-Score\"])\n",
    "    \n",
    "    df1 = pd.concat([df1,df2], axis = 1)\n",
    "else:\n",
    "    df1.columns=threshold\n",
    "    \n",
    "df1.T"
   ]
  },
  {
   "cell_type": "code",
   "execution_count": 78,
   "id": "d0019a83",
   "metadata": {},
   "outputs": [],
   "source": [
    "# Here as per buiseness requirement, we can tune the value of \n",
    "# threshould to obtain better value of recall precision, f1_score."
   ]
  },
  {
   "cell_type": "markdown",
   "id": "6f404695",
   "metadata": {},
   "source": [
    "### Results of logistic regression"
   ]
  },
  {
   "cell_type": "code",
   "execution_count": 79,
   "id": "82364ff1",
   "metadata": {},
   "outputs": [
    {
     "data": {
      "text/html": [
       "<div>\n",
       "<style scoped>\n",
       "    .dataframe tbody tr th:only-of-type {\n",
       "        vertical-align: middle;\n",
       "    }\n",
       "\n",
       "    .dataframe tbody tr th {\n",
       "        vertical-align: top;\n",
       "    }\n",
       "\n",
       "    .dataframe thead th {\n",
       "        text-align: right;\n",
       "    }\n",
       "</style>\n",
       "<table border=\"1\" class=\"dataframe\">\n",
       "  <thead>\n",
       "    <tr style=\"text-align: right;\">\n",
       "      <th></th>\n",
       "      <th>Model</th>\n",
       "      <th>Accuracy (Train)</th>\n",
       "      <th>Accuracy (Test)</th>\n",
       "      <th>Precision (Test)</th>\n",
       "      <th>Recall (Test)</th>\n",
       "      <th>F1 Score (Test)</th>\n",
       "    </tr>\n",
       "  </thead>\n",
       "  <tbody>\n",
       "    <tr>\n",
       "      <th>0</th>\n",
       "      <td>Logistic Regression Model</td>\n",
       "      <td>0.504187</td>\n",
       "      <td>0.5044</td>\n",
       "      <td>0.50263</td>\n",
       "      <td>0.422338</td>\n",
       "      <td>0.458999</td>\n",
       "    </tr>\n",
       "  </tbody>\n",
       "</table>\n",
       "</div>"
      ],
      "text/plain": [
       "                       Model  Accuracy (Train)  Accuracy (Test)  \\\n",
       "0  Logistic Regression Model          0.504187           0.5044   \n",
       "\n",
       "   Precision (Test)  Recall (Test)  F1 Score (Test)  \n",
       "0           0.50263       0.422338         0.458999  "
      ]
     },
     "metadata": {},
     "output_type": "display_data"
    }
   ],
   "source": [
    "results_log=pd.DataFrame(\n",
    "{'Model':['Logistic Regression Model'],\n",
    " 'Accuracy (Train)':[accuracy_train_log],\n",
    " 'Accuracy (Test)':[accuracy_test_log],\n",
    " 'Precision (Test)':[precision_score(y_test, y_pred)],\n",
    " 'Recall (Test)':[recall_score(y_test, y_pred)],\n",
    " 'F1 Score (Test)':[f1_score(y_test, y_pred)],\n",
    "})\n",
    "display(results_log)"
   ]
  },
  {
   "cell_type": "markdown",
   "id": "f19aa779",
   "metadata": {},
   "source": [
    "# [2] K-Nearest Neighbour "
   ]
  },
  {
   "cell_type": "markdown",
   "id": "dd4fc0c5",
   "metadata": {},
   "source": [
    "## 1) Standardization"
   ]
  },
  {
   "cell_type": "markdown",
   "id": "54c621ea",
   "metadata": {},
   "source": [
    "##### Train Test spliting of data"
   ]
  },
  {
   "cell_type": "code",
   "execution_count": 80,
   "id": "62047ee7",
   "metadata": {},
   "outputs": [],
   "source": [
    "x_train, x_test, y_train, y_test = train_test_split(x_std, y, test_size=0.25, random_state=10, stratify=y)"
   ]
  },
  {
   "cell_type": "code",
   "execution_count": 81,
   "id": "ad4055a8",
   "metadata": {},
   "outputs": [
    {
     "data": {
      "text/html": [
       "<style>#sk-container-id-2 {color: black;}#sk-container-id-2 pre{padding: 0;}#sk-container-id-2 div.sk-toggleable {background-color: white;}#sk-container-id-2 label.sk-toggleable__label {cursor: pointer;display: block;width: 100%;margin-bottom: 0;padding: 0.3em;box-sizing: border-box;text-align: center;}#sk-container-id-2 label.sk-toggleable__label-arrow:before {content: \"▸\";float: left;margin-right: 0.25em;color: #696969;}#sk-container-id-2 label.sk-toggleable__label-arrow:hover:before {color: black;}#sk-container-id-2 div.sk-estimator:hover label.sk-toggleable__label-arrow:before {color: black;}#sk-container-id-2 div.sk-toggleable__content {max-height: 0;max-width: 0;overflow: hidden;text-align: left;background-color: #f0f8ff;}#sk-container-id-2 div.sk-toggleable__content pre {margin: 0.2em;color: black;border-radius: 0.25em;background-color: #f0f8ff;}#sk-container-id-2 input.sk-toggleable__control:checked~div.sk-toggleable__content {max-height: 200px;max-width: 100%;overflow: auto;}#sk-container-id-2 input.sk-toggleable__control:checked~label.sk-toggleable__label-arrow:before {content: \"▾\";}#sk-container-id-2 div.sk-estimator input.sk-toggleable__control:checked~label.sk-toggleable__label {background-color: #d4ebff;}#sk-container-id-2 div.sk-label input.sk-toggleable__control:checked~label.sk-toggleable__label {background-color: #d4ebff;}#sk-container-id-2 input.sk-hidden--visually {border: 0;clip: rect(1px 1px 1px 1px);clip: rect(1px, 1px, 1px, 1px);height: 1px;margin: -1px;overflow: hidden;padding: 0;position: absolute;width: 1px;}#sk-container-id-2 div.sk-estimator {font-family: monospace;background-color: #f0f8ff;border: 1px dotted black;border-radius: 0.25em;box-sizing: border-box;margin-bottom: 0.5em;}#sk-container-id-2 div.sk-estimator:hover {background-color: #d4ebff;}#sk-container-id-2 div.sk-parallel-item::after {content: \"\";width: 100%;border-bottom: 1px solid gray;flex-grow: 1;}#sk-container-id-2 div.sk-label:hover label.sk-toggleable__label {background-color: #d4ebff;}#sk-container-id-2 div.sk-serial::before {content: \"\";position: absolute;border-left: 1px solid gray;box-sizing: border-box;top: 0;bottom: 0;left: 50%;z-index: 0;}#sk-container-id-2 div.sk-serial {display: flex;flex-direction: column;align-items: center;background-color: white;padding-right: 0.2em;padding-left: 0.2em;position: relative;}#sk-container-id-2 div.sk-item {position: relative;z-index: 1;}#sk-container-id-2 div.sk-parallel {display: flex;align-items: stretch;justify-content: center;background-color: white;position: relative;}#sk-container-id-2 div.sk-item::before, #sk-container-id-2 div.sk-parallel-item::before {content: \"\";position: absolute;border-left: 1px solid gray;box-sizing: border-box;top: 0;bottom: 0;left: 50%;z-index: -1;}#sk-container-id-2 div.sk-parallel-item {display: flex;flex-direction: column;z-index: 1;position: relative;background-color: white;}#sk-container-id-2 div.sk-parallel-item:first-child::after {align-self: flex-end;width: 50%;}#sk-container-id-2 div.sk-parallel-item:last-child::after {align-self: flex-start;width: 50%;}#sk-container-id-2 div.sk-parallel-item:only-child::after {width: 0;}#sk-container-id-2 div.sk-dashed-wrapped {border: 1px dashed gray;margin: 0 0.4em 0.5em 0.4em;box-sizing: border-box;padding-bottom: 0.4em;background-color: white;}#sk-container-id-2 div.sk-label label {font-family: monospace;font-weight: bold;display: inline-block;line-height: 1.2em;}#sk-container-id-2 div.sk-label-container {text-align: center;}#sk-container-id-2 div.sk-container {/* jupyter's `normalize.less` sets `[hidden] { display: none; }` but bootstrap.min.css set `[hidden] { display: none !important; }` so we also need the `!important` here to be able to override the default hidden behavior on the sphinx rendered scikit-learn.org. See: https://github.com/scikit-learn/scikit-learn/issues/21755 */display: inline-block !important;position: relative;}#sk-container-id-2 div.sk-text-repr-fallback {display: none;}</style><div id=\"sk-container-id-2\" class=\"sk-top-container\"><div class=\"sk-text-repr-fallback\"><pre>KNeighborsClassifier()</pre><b>In a Jupyter environment, please rerun this cell to show the HTML representation or trust the notebook. <br />On GitHub, the HTML representation is unable to render, please try loading this page with nbviewer.org.</b></div><div class=\"sk-container\" hidden><div class=\"sk-item\"><div class=\"sk-estimator sk-toggleable\"><input class=\"sk-toggleable__control sk-hidden--visually\" id=\"sk-estimator-id-2\" type=\"checkbox\" checked><label for=\"sk-estimator-id-2\" class=\"sk-toggleable__label sk-toggleable__label-arrow\">KNeighborsClassifier</label><div class=\"sk-toggleable__content\"><pre>KNeighborsClassifier()</pre></div></div></div></div></div>"
      ],
      "text/plain": [
       "KNeighborsClassifier()"
      ]
     },
     "execution_count": 81,
     "metadata": {},
     "output_type": "execute_result"
    }
   ],
   "source": [
    "# create an instance of model\n",
    "\n",
    "knn_std = KNeighborsClassifier()\n",
    "knn_std.fit(x_train, y_train)"
   ]
  },
  {
   "cell_type": "code",
   "execution_count": 82,
   "id": "e00dd6fc",
   "metadata": {},
   "outputs": [
    {
     "name": "stdout",
     "output_type": "stream",
     "text": [
      "Confusion Matrix -->\n",
      " [[26113 11553]\n",
      " [11846 25488]]\n",
      "************************************************************\n",
      "Accuracy is --> 0.6880133333333334\n",
      "************************************************************\n",
      "Classification report -->\n",
      "               precision    recall  f1-score   support\n",
      "\n",
      "           0       0.69      0.69      0.69     37666\n",
      "           1       0.69      0.68      0.69     37334\n",
      "\n",
      "    accuracy                           0.69     75000\n",
      "   macro avg       0.69      0.69      0.69     75000\n",
      "weighted avg       0.69      0.69      0.69     75000\n",
      "\n"
     ]
    }
   ],
   "source": [
    "# Training Data\n",
    "\n",
    "y_pred_train = knn_std.predict(x_train)\n",
    "\n",
    "cnf_matrix = confusion_matrix(y_train, y_pred_train)\n",
    "print(\"Confusion Matrix -->\\n\", cnf_matrix)\n",
    "print(\"*\"*60)\n",
    "\n",
    "accurracy_train_knn_std = accuracy_score(y_train, y_pred_train)\n",
    "print(\"Accuracy is -->\", accurracy_train_knn_std)\n",
    "print(\"*\"*60)\n",
    "\n",
    "clf_report = classification_report(y_train, y_pred_train)\n",
    "print(\"Classification report -->\\n\",clf_report)"
   ]
  },
  {
   "cell_type": "code",
   "execution_count": 83,
   "id": "06a5f5d4",
   "metadata": {},
   "outputs": [
    {
     "name": "stdout",
     "output_type": "stream",
     "text": [
      "Confusion Matrix -->\n",
      " [[6273 6282]\n",
      " [6303 6142]]\n",
      "************************************************************\n",
      "Accuracy is --> 0.4966\n",
      "************************************************************\n",
      "Classification report -->\n",
      "               precision    recall  f1-score   support\n",
      "\n",
      "           0       0.50      0.50      0.50     12555\n",
      "           1       0.49      0.49      0.49     12445\n",
      "\n",
      "    accuracy                           0.50     25000\n",
      "   macro avg       0.50      0.50      0.50     25000\n",
      "weighted avg       0.50      0.50      0.50     25000\n",
      "\n"
     ]
    }
   ],
   "source": [
    "# Testing Data\n",
    "\n",
    "y_pred = knn_std.predict(x_test)\n",
    "\n",
    "cnf_matrix = confusion_matrix(y_test, y_pred)\n",
    "print(\"Confusion Matrix -->\\n\", cnf_matrix)\n",
    "print(\"*\"*60)\n",
    "\n",
    "accurracy_test_knn_std = accuracy_score(y_test, y_pred)\n",
    "print(\"Accuracy is -->\", accurracy_test_knn_std)\n",
    "print(\"*\"*60)\n",
    "\n",
    "clf_report = classification_report(y_test, y_pred)\n",
    "print(\"Classification report -->\\n\",clf_report)\n",
    "\n",
    "precision_knn_std = precision_score(y_test, y_pred)\n",
    "recall_knn_std = recall_score(y_test, y_pred)\n",
    "f1_score_knn_std = f1_score(y_test, y_pred)"
   ]
  },
  {
   "cell_type": "markdown",
   "id": "e52b1b71",
   "metadata": {},
   "source": [
    "# Hyperparameter Tunning"
   ]
  },
  {
   "cell_type": "code",
   "execution_count": 84,
   "id": "fa6bcb43",
   "metadata": {},
   "outputs": [
    {
     "data": {
      "text/html": [
       "<style>#sk-container-id-3 {color: black;}#sk-container-id-3 pre{padding: 0;}#sk-container-id-3 div.sk-toggleable {background-color: white;}#sk-container-id-3 label.sk-toggleable__label {cursor: pointer;display: block;width: 100%;margin-bottom: 0;padding: 0.3em;box-sizing: border-box;text-align: center;}#sk-container-id-3 label.sk-toggleable__label-arrow:before {content: \"▸\";float: left;margin-right: 0.25em;color: #696969;}#sk-container-id-3 label.sk-toggleable__label-arrow:hover:before {color: black;}#sk-container-id-3 div.sk-estimator:hover label.sk-toggleable__label-arrow:before {color: black;}#sk-container-id-3 div.sk-toggleable__content {max-height: 0;max-width: 0;overflow: hidden;text-align: left;background-color: #f0f8ff;}#sk-container-id-3 div.sk-toggleable__content pre {margin: 0.2em;color: black;border-radius: 0.25em;background-color: #f0f8ff;}#sk-container-id-3 input.sk-toggleable__control:checked~div.sk-toggleable__content {max-height: 200px;max-width: 100%;overflow: auto;}#sk-container-id-3 input.sk-toggleable__control:checked~label.sk-toggleable__label-arrow:before {content: \"▾\";}#sk-container-id-3 div.sk-estimator input.sk-toggleable__control:checked~label.sk-toggleable__label {background-color: #d4ebff;}#sk-container-id-3 div.sk-label input.sk-toggleable__control:checked~label.sk-toggleable__label {background-color: #d4ebff;}#sk-container-id-3 input.sk-hidden--visually {border: 0;clip: rect(1px 1px 1px 1px);clip: rect(1px, 1px, 1px, 1px);height: 1px;margin: -1px;overflow: hidden;padding: 0;position: absolute;width: 1px;}#sk-container-id-3 div.sk-estimator {font-family: monospace;background-color: #f0f8ff;border: 1px dotted black;border-radius: 0.25em;box-sizing: border-box;margin-bottom: 0.5em;}#sk-container-id-3 div.sk-estimator:hover {background-color: #d4ebff;}#sk-container-id-3 div.sk-parallel-item::after {content: \"\";width: 100%;border-bottom: 1px solid gray;flex-grow: 1;}#sk-container-id-3 div.sk-label:hover label.sk-toggleable__label {background-color: #d4ebff;}#sk-container-id-3 div.sk-serial::before {content: \"\";position: absolute;border-left: 1px solid gray;box-sizing: border-box;top: 0;bottom: 0;left: 50%;z-index: 0;}#sk-container-id-3 div.sk-serial {display: flex;flex-direction: column;align-items: center;background-color: white;padding-right: 0.2em;padding-left: 0.2em;position: relative;}#sk-container-id-3 div.sk-item {position: relative;z-index: 1;}#sk-container-id-3 div.sk-parallel {display: flex;align-items: stretch;justify-content: center;background-color: white;position: relative;}#sk-container-id-3 div.sk-item::before, #sk-container-id-3 div.sk-parallel-item::before {content: \"\";position: absolute;border-left: 1px solid gray;box-sizing: border-box;top: 0;bottom: 0;left: 50%;z-index: -1;}#sk-container-id-3 div.sk-parallel-item {display: flex;flex-direction: column;z-index: 1;position: relative;background-color: white;}#sk-container-id-3 div.sk-parallel-item:first-child::after {align-self: flex-end;width: 50%;}#sk-container-id-3 div.sk-parallel-item:last-child::after {align-self: flex-start;width: 50%;}#sk-container-id-3 div.sk-parallel-item:only-child::after {width: 0;}#sk-container-id-3 div.sk-dashed-wrapped {border: 1px dashed gray;margin: 0 0.4em 0.5em 0.4em;box-sizing: border-box;padding-bottom: 0.4em;background-color: white;}#sk-container-id-3 div.sk-label label {font-family: monospace;font-weight: bold;display: inline-block;line-height: 1.2em;}#sk-container-id-3 div.sk-label-container {text-align: center;}#sk-container-id-3 div.sk-container {/* jupyter's `normalize.less` sets `[hidden] { display: none; }` but bootstrap.min.css set `[hidden] { display: none !important; }` so we also need the `!important` here to be able to override the default hidden behavior on the sphinx rendered scikit-learn.org. See: https://github.com/scikit-learn/scikit-learn/issues/21755 */display: inline-block !important;position: relative;}#sk-container-id-3 div.sk-text-repr-fallback {display: none;}</style><div id=\"sk-container-id-3\" class=\"sk-top-container\"><div class=\"sk-text-repr-fallback\"><pre>GridSearchCV(cv=7, estimator=KNeighborsClassifier(), n_jobs=-1,\n",
       "             param_grid={&#x27;n_neighbors&#x27;: array([ 3,  4,  5,  6,  7,  8,  9, 10, 11, 12, 13, 14]),\n",
       "                         &#x27;p&#x27;: [1, 2]})</pre><b>In a Jupyter environment, please rerun this cell to show the HTML representation or trust the notebook. <br />On GitHub, the HTML representation is unable to render, please try loading this page with nbviewer.org.</b></div><div class=\"sk-container\" hidden><div class=\"sk-item sk-dashed-wrapped\"><div class=\"sk-label-container\"><div class=\"sk-label sk-toggleable\"><input class=\"sk-toggleable__control sk-hidden--visually\" id=\"sk-estimator-id-3\" type=\"checkbox\" ><label for=\"sk-estimator-id-3\" class=\"sk-toggleable__label sk-toggleable__label-arrow\">GridSearchCV</label><div class=\"sk-toggleable__content\"><pre>GridSearchCV(cv=7, estimator=KNeighborsClassifier(), n_jobs=-1,\n",
       "             param_grid={&#x27;n_neighbors&#x27;: array([ 3,  4,  5,  6,  7,  8,  9, 10, 11, 12, 13, 14]),\n",
       "                         &#x27;p&#x27;: [1, 2]})</pre></div></div></div><div class=\"sk-parallel\"><div class=\"sk-parallel-item\"><div class=\"sk-item\"><div class=\"sk-label-container\"><div class=\"sk-label sk-toggleable\"><input class=\"sk-toggleable__control sk-hidden--visually\" id=\"sk-estimator-id-4\" type=\"checkbox\" ><label for=\"sk-estimator-id-4\" class=\"sk-toggleable__label sk-toggleable__label-arrow\">estimator: KNeighborsClassifier</label><div class=\"sk-toggleable__content\"><pre>KNeighborsClassifier()</pre></div></div></div><div class=\"sk-serial\"><div class=\"sk-item\"><div class=\"sk-estimator sk-toggleable\"><input class=\"sk-toggleable__control sk-hidden--visually\" id=\"sk-estimator-id-5\" type=\"checkbox\" ><label for=\"sk-estimator-id-5\" class=\"sk-toggleable__label sk-toggleable__label-arrow\">KNeighborsClassifier</label><div class=\"sk-toggleable__content\"><pre>KNeighborsClassifier()</pre></div></div></div></div></div></div></div></div></div></div>"
      ],
      "text/plain": [
       "GridSearchCV(cv=7, estimator=KNeighborsClassifier(), n_jobs=-1,\n",
       "             param_grid={'n_neighbors': array([ 3,  4,  5,  6,  7,  8,  9, 10, 11, 12, 13, 14]),\n",
       "                         'p': [1, 2]})"
      ]
     },
     "execution_count": 84,
     "metadata": {},
     "output_type": "execute_result"
    }
   ],
   "source": [
    "param_grid = {\"n_neighbors\" : np.arange(3,15),\n",
    "                  \"p\": [1,2]} # Param_grid\n",
    "\n",
    "gscv_knn_std = GridSearchCV(knn_std, param_grid, cv=7, n_jobs=-1)\n",
    "\n",
    "gscv_knn_std.fit(x_train, y_train) "
   ]
  },
  {
   "cell_type": "code",
   "execution_count": 85,
   "id": "42d891be",
   "metadata": {},
   "outputs": [
    {
     "data": {
      "text/plain": [
       "{'n_neighbors': 4, 'p': 2}"
      ]
     },
     "execution_count": 85,
     "metadata": {},
     "output_type": "execute_result"
    }
   ],
   "source": [
    "gscv_knn_std.best_params_"
   ]
  },
  {
   "cell_type": "code",
   "execution_count": 86,
   "id": "f3c05b1c",
   "metadata": {},
   "outputs": [
    {
     "name": "stdout",
     "output_type": "stream",
     "text": [
      "Confusion Matrix -->\n",
      " [[32926  4740]\n",
      " [18719 18615]]\n",
      "************************************************************\n",
      "Accuracy is --> 0.6872133333333333\n",
      "************************************************************\n",
      "Classification report -->\n",
      "               precision    recall  f1-score   support\n",
      "\n",
      "           0       0.64      0.87      0.74     37666\n",
      "           1       0.80      0.50      0.61     37334\n",
      "\n",
      "    accuracy                           0.69     75000\n",
      "   macro avg       0.72      0.69      0.68     75000\n",
      "weighted avg       0.72      0.69      0.68     75000\n",
      "\n"
     ]
    }
   ],
   "source": [
    "# Training Data\n",
    "\n",
    "y_pred_train = gscv_knn_std.predict(x_train)\n",
    "\n",
    "cnf_matrix = confusion_matrix(y_train, y_pred_train)\n",
    "print(\"Confusion Matrix -->\\n\", cnf_matrix)\n",
    "print(\"*\"*60)\n",
    "\n",
    "accurracy_train_gscv_knn_std = accuracy_score(y_train, y_pred_train)\n",
    "print(\"Accuracy is -->\", accurracy_train_gscv_knn_std)\n",
    "print(\"*\"*60)\n",
    "\n",
    "clf_report = classification_report(y_train, y_pred_train)\n",
    "print(\"Classification report -->\\n\",clf_report)"
   ]
  },
  {
   "cell_type": "code",
   "execution_count": 87,
   "id": "8c3c5b8e",
   "metadata": {
    "scrolled": true
   },
   "outputs": [
    {
     "name": "stdout",
     "output_type": "stream",
     "text": [
      "Confusion Matrix -->\n",
      " [[8622 3933]\n",
      " [8569 3876]]\n",
      "************************************************************\n",
      "Accuracy is --> 0.49992\n",
      "************************************************************\n",
      "Classification report -->\n",
      "               precision    recall  f1-score   support\n",
      "\n",
      "           0       0.50      0.69      0.58     12555\n",
      "           1       0.50      0.31      0.38     12445\n",
      "\n",
      "    accuracy                           0.50     25000\n",
      "   macro avg       0.50      0.50      0.48     25000\n",
      "weighted avg       0.50      0.50      0.48     25000\n",
      "\n"
     ]
    }
   ],
   "source": [
    "# Testing Accuracy\n",
    "\n",
    "y_pred = gscv_knn_std.predict(x_test)\n",
    "\n",
    "cnf_matrix = confusion_matrix(y_test, y_pred)\n",
    "print(\"Confusion Matrix -->\\n\", cnf_matrix)\n",
    "print(\"*\"*60)\n",
    "\n",
    "accurracy_test_gscv_knn_std = accuracy_score(y_test, y_pred)\n",
    "print(\"Accuracy is -->\", accurracy_test_gscv_knn_std)\n",
    "print(\"*\"*60)\n",
    "\n",
    "clf_report = classification_report(y_test, y_pred)\n",
    "print(\"Classification report -->\\n\",clf_report)\n",
    "\n",
    "precision_gscv_knn_std = precision_score(y_test, y_pred)\n",
    "recall_gscv_knn_std = recall_score(y_test, y_pred)\n",
    "f1_score_gscv_knn_std = f1_score(y_test, y_pred)"
   ]
  },
  {
   "cell_type": "code",
   "execution_count": null,
   "id": "66e2e6d9",
   "metadata": {},
   "outputs": [],
   "source": []
  },
  {
   "cell_type": "markdown",
   "id": "76ca65b6",
   "metadata": {},
   "source": [
    "## 2) Normalization"
   ]
  },
  {
   "cell_type": "markdown",
   "id": "10d50aad",
   "metadata": {},
   "source": [
    "##### Train Test spliting of data"
   ]
  },
  {
   "cell_type": "code",
   "execution_count": 88,
   "id": "0d523745",
   "metadata": {},
   "outputs": [
    {
     "data": {
      "text/html": [
       "<div>\n",
       "<style scoped>\n",
       "    .dataframe tbody tr th:only-of-type {\n",
       "        vertical-align: middle;\n",
       "    }\n",
       "\n",
       "    .dataframe tbody tr th {\n",
       "        vertical-align: top;\n",
       "    }\n",
       "\n",
       "    .dataframe thead th {\n",
       "        text-align: right;\n",
       "    }\n",
       "</style>\n",
       "<table border=\"1\" class=\"dataframe\">\n",
       "  <thead>\n",
       "    <tr style=\"text-align: right;\">\n",
       "      <th></th>\n",
       "      <th>Age</th>\n",
       "      <th>Gender</th>\n",
       "      <th>Subscription_Length_Months</th>\n",
       "      <th>Monthly_Bill</th>\n",
       "      <th>Total_Usage_GB</th>\n",
       "      <th>Location_Chicago</th>\n",
       "      <th>Location_Houston</th>\n",
       "      <th>Location_Los Angeles</th>\n",
       "      <th>Location_Miami</th>\n",
       "      <th>Location_New York</th>\n",
       "    </tr>\n",
       "  </thead>\n",
       "  <tbody>\n",
       "    <tr>\n",
       "      <th>77974</th>\n",
       "      <td>0.903846</td>\n",
       "      <td>0.0</td>\n",
       "      <td>0.956522</td>\n",
       "      <td>0.806571</td>\n",
       "      <td>0.217778</td>\n",
       "      <td>0.0</td>\n",
       "      <td>0.0</td>\n",
       "      <td>0.0</td>\n",
       "      <td>1.0</td>\n",
       "      <td>0.0</td>\n",
       "    </tr>\n",
       "    <tr>\n",
       "      <th>73069</th>\n",
       "      <td>0.480769</td>\n",
       "      <td>0.0</td>\n",
       "      <td>0.695652</td>\n",
       "      <td>0.938857</td>\n",
       "      <td>0.228889</td>\n",
       "      <td>0.0</td>\n",
       "      <td>0.0</td>\n",
       "      <td>1.0</td>\n",
       "      <td>0.0</td>\n",
       "      <td>0.0</td>\n",
       "    </tr>\n",
       "    <tr>\n",
       "      <th>26531</th>\n",
       "      <td>0.230769</td>\n",
       "      <td>1.0</td>\n",
       "      <td>0.521739</td>\n",
       "      <td>0.299429</td>\n",
       "      <td>0.577778</td>\n",
       "      <td>0.0</td>\n",
       "      <td>1.0</td>\n",
       "      <td>0.0</td>\n",
       "      <td>0.0</td>\n",
       "      <td>0.0</td>\n",
       "    </tr>\n",
       "    <tr>\n",
       "      <th>924</th>\n",
       "      <td>0.788462</td>\n",
       "      <td>1.0</td>\n",
       "      <td>0.521739</td>\n",
       "      <td>0.806429</td>\n",
       "      <td>0.142222</td>\n",
       "      <td>1.0</td>\n",
       "      <td>0.0</td>\n",
       "      <td>0.0</td>\n",
       "      <td>0.0</td>\n",
       "      <td>0.0</td>\n",
       "    </tr>\n",
       "    <tr>\n",
       "      <th>59010</th>\n",
       "      <td>0.576923</td>\n",
       "      <td>0.0</td>\n",
       "      <td>0.173913</td>\n",
       "      <td>0.413286</td>\n",
       "      <td>0.866667</td>\n",
       "      <td>0.0</td>\n",
       "      <td>0.0</td>\n",
       "      <td>1.0</td>\n",
       "      <td>0.0</td>\n",
       "      <td>0.0</td>\n",
       "    </tr>\n",
       "    <tr>\n",
       "      <th>...</th>\n",
       "      <td>...</td>\n",
       "      <td>...</td>\n",
       "      <td>...</td>\n",
       "      <td>...</td>\n",
       "      <td>...</td>\n",
       "      <td>...</td>\n",
       "      <td>...</td>\n",
       "      <td>...</td>\n",
       "      <td>...</td>\n",
       "      <td>...</td>\n",
       "    </tr>\n",
       "    <tr>\n",
       "      <th>35338</th>\n",
       "      <td>0.634615</td>\n",
       "      <td>0.0</td>\n",
       "      <td>0.826087</td>\n",
       "      <td>0.645000</td>\n",
       "      <td>0.875556</td>\n",
       "      <td>0.0</td>\n",
       "      <td>0.0</td>\n",
       "      <td>0.0</td>\n",
       "      <td>0.0</td>\n",
       "      <td>1.0</td>\n",
       "    </tr>\n",
       "    <tr>\n",
       "      <th>14674</th>\n",
       "      <td>0.173077</td>\n",
       "      <td>0.0</td>\n",
       "      <td>0.086957</td>\n",
       "      <td>0.476571</td>\n",
       "      <td>0.566667</td>\n",
       "      <td>0.0</td>\n",
       "      <td>0.0</td>\n",
       "      <td>1.0</td>\n",
       "      <td>0.0</td>\n",
       "      <td>0.0</td>\n",
       "    </tr>\n",
       "    <tr>\n",
       "      <th>49765</th>\n",
       "      <td>0.750000</td>\n",
       "      <td>1.0</td>\n",
       "      <td>0.434783</td>\n",
       "      <td>0.552857</td>\n",
       "      <td>0.568889</td>\n",
       "      <td>1.0</td>\n",
       "      <td>0.0</td>\n",
       "      <td>0.0</td>\n",
       "      <td>0.0</td>\n",
       "      <td>0.0</td>\n",
       "    </tr>\n",
       "    <tr>\n",
       "      <th>54745</th>\n",
       "      <td>0.673077</td>\n",
       "      <td>0.0</td>\n",
       "      <td>0.217391</td>\n",
       "      <td>0.470571</td>\n",
       "      <td>0.393333</td>\n",
       "      <td>0.0</td>\n",
       "      <td>0.0</td>\n",
       "      <td>1.0</td>\n",
       "      <td>0.0</td>\n",
       "      <td>0.0</td>\n",
       "    </tr>\n",
       "    <tr>\n",
       "      <th>90838</th>\n",
       "      <td>0.596154</td>\n",
       "      <td>1.0</td>\n",
       "      <td>0.913043</td>\n",
       "      <td>0.911429</td>\n",
       "      <td>0.764444</td>\n",
       "      <td>0.0</td>\n",
       "      <td>0.0</td>\n",
       "      <td>0.0</td>\n",
       "      <td>0.0</td>\n",
       "      <td>1.0</td>\n",
       "    </tr>\n",
       "  </tbody>\n",
       "</table>\n",
       "<p>75000 rows × 10 columns</p>\n",
       "</div>"
      ],
      "text/plain": [
       "            Age  Gender  Subscription_Length_Months  Monthly_Bill  \\\n",
       "77974  0.903846     0.0                    0.956522      0.806571   \n",
       "73069  0.480769     0.0                    0.695652      0.938857   \n",
       "26531  0.230769     1.0                    0.521739      0.299429   \n",
       "924    0.788462     1.0                    0.521739      0.806429   \n",
       "59010  0.576923     0.0                    0.173913      0.413286   \n",
       "...         ...     ...                         ...           ...   \n",
       "35338  0.634615     0.0                    0.826087      0.645000   \n",
       "14674  0.173077     0.0                    0.086957      0.476571   \n",
       "49765  0.750000     1.0                    0.434783      0.552857   \n",
       "54745  0.673077     0.0                    0.217391      0.470571   \n",
       "90838  0.596154     1.0                    0.913043      0.911429   \n",
       "\n",
       "       Total_Usage_GB  Location_Chicago  Location_Houston  \\\n",
       "77974        0.217778               0.0               0.0   \n",
       "73069        0.228889               0.0               0.0   \n",
       "26531        0.577778               0.0               1.0   \n",
       "924          0.142222               1.0               0.0   \n",
       "59010        0.866667               0.0               0.0   \n",
       "...               ...               ...               ...   \n",
       "35338        0.875556               0.0               0.0   \n",
       "14674        0.566667               0.0               0.0   \n",
       "49765        0.568889               1.0               0.0   \n",
       "54745        0.393333               0.0               0.0   \n",
       "90838        0.764444               0.0               0.0   \n",
       "\n",
       "       Location_Los Angeles  Location_Miami  Location_New York  \n",
       "77974                   0.0             1.0                0.0  \n",
       "73069                   1.0             0.0                0.0  \n",
       "26531                   0.0             0.0                0.0  \n",
       "924                     0.0             0.0                0.0  \n",
       "59010                   1.0             0.0                0.0  \n",
       "...                     ...             ...                ...  \n",
       "35338                   0.0             0.0                1.0  \n",
       "14674                   1.0             0.0                0.0  \n",
       "49765                   0.0             0.0                0.0  \n",
       "54745                   1.0             0.0                0.0  \n",
       "90838                   0.0             0.0                1.0  \n",
       "\n",
       "[75000 rows x 10 columns]"
      ]
     },
     "execution_count": 88,
     "metadata": {},
     "output_type": "execute_result"
    }
   ],
   "source": [
    "x_train, x_test, y_train, y_test = train_test_split(x_norm, y, test_size=0.25, random_state=10, stratify=y)\n",
    "x_train"
   ]
  },
  {
   "cell_type": "code",
   "execution_count": 89,
   "id": "e0107e00",
   "metadata": {},
   "outputs": [
    {
     "data": {
      "text/html": [
       "<style>#sk-container-id-4 {color: black;}#sk-container-id-4 pre{padding: 0;}#sk-container-id-4 div.sk-toggleable {background-color: white;}#sk-container-id-4 label.sk-toggleable__label {cursor: pointer;display: block;width: 100%;margin-bottom: 0;padding: 0.3em;box-sizing: border-box;text-align: center;}#sk-container-id-4 label.sk-toggleable__label-arrow:before {content: \"▸\";float: left;margin-right: 0.25em;color: #696969;}#sk-container-id-4 label.sk-toggleable__label-arrow:hover:before {color: black;}#sk-container-id-4 div.sk-estimator:hover label.sk-toggleable__label-arrow:before {color: black;}#sk-container-id-4 div.sk-toggleable__content {max-height: 0;max-width: 0;overflow: hidden;text-align: left;background-color: #f0f8ff;}#sk-container-id-4 div.sk-toggleable__content pre {margin: 0.2em;color: black;border-radius: 0.25em;background-color: #f0f8ff;}#sk-container-id-4 input.sk-toggleable__control:checked~div.sk-toggleable__content {max-height: 200px;max-width: 100%;overflow: auto;}#sk-container-id-4 input.sk-toggleable__control:checked~label.sk-toggleable__label-arrow:before {content: \"▾\";}#sk-container-id-4 div.sk-estimator input.sk-toggleable__control:checked~label.sk-toggleable__label {background-color: #d4ebff;}#sk-container-id-4 div.sk-label input.sk-toggleable__control:checked~label.sk-toggleable__label {background-color: #d4ebff;}#sk-container-id-4 input.sk-hidden--visually {border: 0;clip: rect(1px 1px 1px 1px);clip: rect(1px, 1px, 1px, 1px);height: 1px;margin: -1px;overflow: hidden;padding: 0;position: absolute;width: 1px;}#sk-container-id-4 div.sk-estimator {font-family: monospace;background-color: #f0f8ff;border: 1px dotted black;border-radius: 0.25em;box-sizing: border-box;margin-bottom: 0.5em;}#sk-container-id-4 div.sk-estimator:hover {background-color: #d4ebff;}#sk-container-id-4 div.sk-parallel-item::after {content: \"\";width: 100%;border-bottom: 1px solid gray;flex-grow: 1;}#sk-container-id-4 div.sk-label:hover label.sk-toggleable__label {background-color: #d4ebff;}#sk-container-id-4 div.sk-serial::before {content: \"\";position: absolute;border-left: 1px solid gray;box-sizing: border-box;top: 0;bottom: 0;left: 50%;z-index: 0;}#sk-container-id-4 div.sk-serial {display: flex;flex-direction: column;align-items: center;background-color: white;padding-right: 0.2em;padding-left: 0.2em;position: relative;}#sk-container-id-4 div.sk-item {position: relative;z-index: 1;}#sk-container-id-4 div.sk-parallel {display: flex;align-items: stretch;justify-content: center;background-color: white;position: relative;}#sk-container-id-4 div.sk-item::before, #sk-container-id-4 div.sk-parallel-item::before {content: \"\";position: absolute;border-left: 1px solid gray;box-sizing: border-box;top: 0;bottom: 0;left: 50%;z-index: -1;}#sk-container-id-4 div.sk-parallel-item {display: flex;flex-direction: column;z-index: 1;position: relative;background-color: white;}#sk-container-id-4 div.sk-parallel-item:first-child::after {align-self: flex-end;width: 50%;}#sk-container-id-4 div.sk-parallel-item:last-child::after {align-self: flex-start;width: 50%;}#sk-container-id-4 div.sk-parallel-item:only-child::after {width: 0;}#sk-container-id-4 div.sk-dashed-wrapped {border: 1px dashed gray;margin: 0 0.4em 0.5em 0.4em;box-sizing: border-box;padding-bottom: 0.4em;background-color: white;}#sk-container-id-4 div.sk-label label {font-family: monospace;font-weight: bold;display: inline-block;line-height: 1.2em;}#sk-container-id-4 div.sk-label-container {text-align: center;}#sk-container-id-4 div.sk-container {/* jupyter's `normalize.less` sets `[hidden] { display: none; }` but bootstrap.min.css set `[hidden] { display: none !important; }` so we also need the `!important` here to be able to override the default hidden behavior on the sphinx rendered scikit-learn.org. See: https://github.com/scikit-learn/scikit-learn/issues/21755 */display: inline-block !important;position: relative;}#sk-container-id-4 div.sk-text-repr-fallback {display: none;}</style><div id=\"sk-container-id-4\" class=\"sk-top-container\"><div class=\"sk-text-repr-fallback\"><pre>KNeighborsClassifier()</pre><b>In a Jupyter environment, please rerun this cell to show the HTML representation or trust the notebook. <br />On GitHub, the HTML representation is unable to render, please try loading this page with nbviewer.org.</b></div><div class=\"sk-container\" hidden><div class=\"sk-item\"><div class=\"sk-estimator sk-toggleable\"><input class=\"sk-toggleable__control sk-hidden--visually\" id=\"sk-estimator-id-6\" type=\"checkbox\" checked><label for=\"sk-estimator-id-6\" class=\"sk-toggleable__label sk-toggleable__label-arrow\">KNeighborsClassifier</label><div class=\"sk-toggleable__content\"><pre>KNeighborsClassifier()</pre></div></div></div></div></div>"
      ],
      "text/plain": [
       "KNeighborsClassifier()"
      ]
     },
     "execution_count": 89,
     "metadata": {},
     "output_type": "execute_result"
    }
   ],
   "source": [
    "# create an instance of model\n",
    "\n",
    "knn_norm = KNeighborsClassifier()\n",
    "knn_norm.fit(x_train, y_train)"
   ]
  },
  {
   "cell_type": "code",
   "execution_count": 90,
   "id": "0893fcc3",
   "metadata": {},
   "outputs": [
    {
     "name": "stdout",
     "output_type": "stream",
     "text": [
      "Confusion Matrix -->\n",
      " [[26059 11607]\n",
      " [11813 25521]]\n",
      "************************************************************\n",
      "Accuracy is --> 0.6877333333333333\n",
      "************************************************************\n",
      "Classification report -->\n",
      "               precision    recall  f1-score   support\n",
      "\n",
      "           0       0.69      0.69      0.69     37666\n",
      "           1       0.69      0.68      0.69     37334\n",
      "\n",
      "    accuracy                           0.69     75000\n",
      "   macro avg       0.69      0.69      0.69     75000\n",
      "weighted avg       0.69      0.69      0.69     75000\n",
      "\n"
     ]
    }
   ],
   "source": [
    "# Training Data\n",
    "\n",
    "y_pred_train = knn_norm.predict(x_train)\n",
    "\n",
    "cnf_matrix = confusion_matrix(y_train, y_pred_train)\n",
    "print(\"Confusion Matrix -->\\n\", cnf_matrix)\n",
    "print(\"*\"*60)\n",
    "\n",
    "accurracy_train_knn_norm = accuracy_score(y_train, y_pred_train)\n",
    "print(\"Accuracy is -->\", accurracy_train_knn_norm)\n",
    "print(\"*\"*60)\n",
    "\n",
    "clf_report = classification_report(y_train, y_pred_train)\n",
    "print(\"Classification report -->\\n\",clf_report)"
   ]
  },
  {
   "cell_type": "code",
   "execution_count": 91,
   "id": "52f94669",
   "metadata": {},
   "outputs": [
    {
     "name": "stdout",
     "output_type": "stream",
     "text": [
      "Confusion Matrix -->\n",
      " [[6289 6266]\n",
      " [6305 6140]]\n",
      "************************************************************\n",
      "Accuracy is --> 0.49716\n",
      "************************************************************\n",
      "Classification report -->\n",
      "               precision    recall  f1-score   support\n",
      "\n",
      "           0       0.50      0.50      0.50     12555\n",
      "           1       0.49      0.49      0.49     12445\n",
      "\n",
      "    accuracy                           0.50     25000\n",
      "   macro avg       0.50      0.50      0.50     25000\n",
      "weighted avg       0.50      0.50      0.50     25000\n",
      "\n"
     ]
    }
   ],
   "source": [
    "# Testing Data\n",
    "\n",
    "y_pred = knn_norm.predict(x_test)\n",
    "\n",
    "cnf_matrix = confusion_matrix(y_test, y_pred)\n",
    "print(\"Confusion Matrix -->\\n\", cnf_matrix)\n",
    "print(\"*\"*60)\n",
    "\n",
    "accurracy_test_knn_norm = accuracy_score(y_test, y_pred)\n",
    "print(\"Accuracy is -->\", accurracy_test_knn_norm)\n",
    "print(\"*\"*60)\n",
    "\n",
    "clf_report = classification_report(y_test, y_pred)\n",
    "print(\"Classification report -->\\n\",clf_report)\n",
    "\n",
    "precision_knn_norm = precision_score(y_test, y_pred)\n",
    "recall_knn_norm = recall_score(y_test, y_pred)\n",
    "f1_score_knn_norm = f1_score(y_test, y_pred)"
   ]
  },
  {
   "cell_type": "markdown",
   "id": "b84f8099",
   "metadata": {},
   "source": [
    "# Hyperparameter Tunning"
   ]
  },
  {
   "cell_type": "code",
   "execution_count": 92,
   "id": "27c723c9",
   "metadata": {},
   "outputs": [
    {
     "data": {
      "text/html": [
       "<style>#sk-container-id-5 {color: black;}#sk-container-id-5 pre{padding: 0;}#sk-container-id-5 div.sk-toggleable {background-color: white;}#sk-container-id-5 label.sk-toggleable__label {cursor: pointer;display: block;width: 100%;margin-bottom: 0;padding: 0.3em;box-sizing: border-box;text-align: center;}#sk-container-id-5 label.sk-toggleable__label-arrow:before {content: \"▸\";float: left;margin-right: 0.25em;color: #696969;}#sk-container-id-5 label.sk-toggleable__label-arrow:hover:before {color: black;}#sk-container-id-5 div.sk-estimator:hover label.sk-toggleable__label-arrow:before {color: black;}#sk-container-id-5 div.sk-toggleable__content {max-height: 0;max-width: 0;overflow: hidden;text-align: left;background-color: #f0f8ff;}#sk-container-id-5 div.sk-toggleable__content pre {margin: 0.2em;color: black;border-radius: 0.25em;background-color: #f0f8ff;}#sk-container-id-5 input.sk-toggleable__control:checked~div.sk-toggleable__content {max-height: 200px;max-width: 100%;overflow: auto;}#sk-container-id-5 input.sk-toggleable__control:checked~label.sk-toggleable__label-arrow:before {content: \"▾\";}#sk-container-id-5 div.sk-estimator input.sk-toggleable__control:checked~label.sk-toggleable__label {background-color: #d4ebff;}#sk-container-id-5 div.sk-label input.sk-toggleable__control:checked~label.sk-toggleable__label {background-color: #d4ebff;}#sk-container-id-5 input.sk-hidden--visually {border: 0;clip: rect(1px 1px 1px 1px);clip: rect(1px, 1px, 1px, 1px);height: 1px;margin: -1px;overflow: hidden;padding: 0;position: absolute;width: 1px;}#sk-container-id-5 div.sk-estimator {font-family: monospace;background-color: #f0f8ff;border: 1px dotted black;border-radius: 0.25em;box-sizing: border-box;margin-bottom: 0.5em;}#sk-container-id-5 div.sk-estimator:hover {background-color: #d4ebff;}#sk-container-id-5 div.sk-parallel-item::after {content: \"\";width: 100%;border-bottom: 1px solid gray;flex-grow: 1;}#sk-container-id-5 div.sk-label:hover label.sk-toggleable__label {background-color: #d4ebff;}#sk-container-id-5 div.sk-serial::before {content: \"\";position: absolute;border-left: 1px solid gray;box-sizing: border-box;top: 0;bottom: 0;left: 50%;z-index: 0;}#sk-container-id-5 div.sk-serial {display: flex;flex-direction: column;align-items: center;background-color: white;padding-right: 0.2em;padding-left: 0.2em;position: relative;}#sk-container-id-5 div.sk-item {position: relative;z-index: 1;}#sk-container-id-5 div.sk-parallel {display: flex;align-items: stretch;justify-content: center;background-color: white;position: relative;}#sk-container-id-5 div.sk-item::before, #sk-container-id-5 div.sk-parallel-item::before {content: \"\";position: absolute;border-left: 1px solid gray;box-sizing: border-box;top: 0;bottom: 0;left: 50%;z-index: -1;}#sk-container-id-5 div.sk-parallel-item {display: flex;flex-direction: column;z-index: 1;position: relative;background-color: white;}#sk-container-id-5 div.sk-parallel-item:first-child::after {align-self: flex-end;width: 50%;}#sk-container-id-5 div.sk-parallel-item:last-child::after {align-self: flex-start;width: 50%;}#sk-container-id-5 div.sk-parallel-item:only-child::after {width: 0;}#sk-container-id-5 div.sk-dashed-wrapped {border: 1px dashed gray;margin: 0 0.4em 0.5em 0.4em;box-sizing: border-box;padding-bottom: 0.4em;background-color: white;}#sk-container-id-5 div.sk-label label {font-family: monospace;font-weight: bold;display: inline-block;line-height: 1.2em;}#sk-container-id-5 div.sk-label-container {text-align: center;}#sk-container-id-5 div.sk-container {/* jupyter's `normalize.less` sets `[hidden] { display: none; }` but bootstrap.min.css set `[hidden] { display: none !important; }` so we also need the `!important` here to be able to override the default hidden behavior on the sphinx rendered scikit-learn.org. See: https://github.com/scikit-learn/scikit-learn/issues/21755 */display: inline-block !important;position: relative;}#sk-container-id-5 div.sk-text-repr-fallback {display: none;}</style><div id=\"sk-container-id-5\" class=\"sk-top-container\"><div class=\"sk-text-repr-fallback\"><pre>GridSearchCV(cv=7, estimator=KNeighborsClassifier(), n_jobs=-1,\n",
       "             param_grid={&#x27;n_neighbors&#x27;: array([ 3,  4,  5,  6,  7,  8,  9, 10, 11, 12, 13, 14]),\n",
       "                         &#x27;p&#x27;: [1, 2]})</pre><b>In a Jupyter environment, please rerun this cell to show the HTML representation or trust the notebook. <br />On GitHub, the HTML representation is unable to render, please try loading this page with nbviewer.org.</b></div><div class=\"sk-container\" hidden><div class=\"sk-item sk-dashed-wrapped\"><div class=\"sk-label-container\"><div class=\"sk-label sk-toggleable\"><input class=\"sk-toggleable__control sk-hidden--visually\" id=\"sk-estimator-id-7\" type=\"checkbox\" ><label for=\"sk-estimator-id-7\" class=\"sk-toggleable__label sk-toggleable__label-arrow\">GridSearchCV</label><div class=\"sk-toggleable__content\"><pre>GridSearchCV(cv=7, estimator=KNeighborsClassifier(), n_jobs=-1,\n",
       "             param_grid={&#x27;n_neighbors&#x27;: array([ 3,  4,  5,  6,  7,  8,  9, 10, 11, 12, 13, 14]),\n",
       "                         &#x27;p&#x27;: [1, 2]})</pre></div></div></div><div class=\"sk-parallel\"><div class=\"sk-parallel-item\"><div class=\"sk-item\"><div class=\"sk-label-container\"><div class=\"sk-label sk-toggleable\"><input class=\"sk-toggleable__control sk-hidden--visually\" id=\"sk-estimator-id-8\" type=\"checkbox\" ><label for=\"sk-estimator-id-8\" class=\"sk-toggleable__label sk-toggleable__label-arrow\">estimator: KNeighborsClassifier</label><div class=\"sk-toggleable__content\"><pre>KNeighborsClassifier()</pre></div></div></div><div class=\"sk-serial\"><div class=\"sk-item\"><div class=\"sk-estimator sk-toggleable\"><input class=\"sk-toggleable__control sk-hidden--visually\" id=\"sk-estimator-id-9\" type=\"checkbox\" ><label for=\"sk-estimator-id-9\" class=\"sk-toggleable__label sk-toggleable__label-arrow\">KNeighborsClassifier</label><div class=\"sk-toggleable__content\"><pre>KNeighborsClassifier()</pre></div></div></div></div></div></div></div></div></div></div>"
      ],
      "text/plain": [
       "GridSearchCV(cv=7, estimator=KNeighborsClassifier(), n_jobs=-1,\n",
       "             param_grid={'n_neighbors': array([ 3,  4,  5,  6,  7,  8,  9, 10, 11, 12, 13, 14]),\n",
       "                         'p': [1, 2]})"
      ]
     },
     "execution_count": 92,
     "metadata": {},
     "output_type": "execute_result"
    }
   ],
   "source": [
    "param_grid = {\"n_neighbors\" : np.arange(3,15),\n",
    "                  \"p\": [1,2]} # Param_grid\n",
    "\n",
    "gscv_knn_norm = GridSearchCV(knn_norm, param_grid, cv=7, n_jobs=-1)\n",
    "\n",
    "gscv_knn_norm.fit(x_train, y_train) "
   ]
  },
  {
   "cell_type": "code",
   "execution_count": 93,
   "id": "340510bf",
   "metadata": {},
   "outputs": [
    {
     "data": {
      "text/plain": [
       "{'n_neighbors': 6, 'p': 1}"
      ]
     },
     "execution_count": 93,
     "metadata": {},
     "output_type": "execute_result"
    }
   ],
   "source": [
    "gscv_knn_norm.best_params_"
   ]
  },
  {
   "cell_type": "code",
   "execution_count": 94,
   "id": "c055b4c4",
   "metadata": {},
   "outputs": [
    {
     "name": "stdout",
     "output_type": "stream",
     "text": [
      "Confusion Matrix -->\n",
      " [[30737  6929]\n",
      " [18755 18579]]\n",
      "************************************************************\n",
      "Accuracy is --> 0.6575466666666666\n",
      "************************************************************\n",
      "Classification report -->\n",
      "               precision    recall  f1-score   support\n",
      "\n",
      "           0       0.62      0.82      0.71     37666\n",
      "           1       0.73      0.50      0.59     37334\n",
      "\n",
      "    accuracy                           0.66     75000\n",
      "   macro avg       0.67      0.66      0.65     75000\n",
      "weighted avg       0.67      0.66      0.65     75000\n",
      "\n"
     ]
    }
   ],
   "source": [
    "# Training Data\n",
    "\n",
    "y_pred_train = gscv_knn_norm.predict(x_train)\n",
    "\n",
    "cnf_matrix = confusion_matrix(y_train, y_pred_train)\n",
    "print(\"Confusion Matrix -->\\n\", cnf_matrix)\n",
    "print(\"*\"*60)\n",
    "\n",
    "accurracy_train_gscv_knn_norm = accuracy_score(y_train, y_pred_train)\n",
    "print(\"Accuracy is -->\", accurracy_train_gscv_knn_norm)\n",
    "print(\"*\"*60)\n",
    "\n",
    "clf_report = classification_report(y_train, y_pred_train)\n",
    "print(\"Classification report -->\\n\",clf_report)"
   ]
  },
  {
   "cell_type": "code",
   "execution_count": 95,
   "id": "ad54ebce",
   "metadata": {
    "scrolled": true
   },
   "outputs": [
    {
     "name": "stdout",
     "output_type": "stream",
     "text": [
      "Confusion Matrix -->\n",
      " [[8264 4291]\n",
      " [8270 4175]]\n",
      "************************************************************\n",
      "Accuracy is --> 0.49756\n",
      "************************************************************\n",
      "Classification report -->\n",
      "               precision    recall  f1-score   support\n",
      "\n",
      "           0       0.50      0.66      0.57     12555\n",
      "           1       0.49      0.34      0.40     12445\n",
      "\n",
      "    accuracy                           0.50     25000\n",
      "   macro avg       0.50      0.50      0.48     25000\n",
      "weighted avg       0.50      0.50      0.48     25000\n",
      "\n"
     ]
    }
   ],
   "source": [
    "# Testing Accuracy\n",
    "\n",
    "y_pred = gscv_knn_norm.predict(x_test)\n",
    "\n",
    "cnf_matrix = confusion_matrix(y_test, y_pred)\n",
    "print(\"Confusion Matrix -->\\n\", cnf_matrix)\n",
    "print(\"*\"*60)\n",
    "\n",
    "accurracy_test_gscv_knn_norm = accuracy_score(y_test, y_pred)\n",
    "print(\"Accuracy is -->\", accurracy_test_gscv_knn_norm)\n",
    "print(\"*\"*60)\n",
    "\n",
    "clf_report = classification_report(y_test, y_pred)\n",
    "print(\"Classification report -->\\n\",clf_report)\n",
    "\n",
    "precision_gscv_knn_norm = precision_score(y_test, y_pred)\n",
    "recall_gscv_knn_norm = recall_score(y_test, y_pred)\n",
    "f1_score_gscv_knn_norm = f1_score(y_test, y_pred)"
   ]
  },
  {
   "cell_type": "markdown",
   "id": "a8b0b4b5",
   "metadata": {},
   "source": [
    "### Results of knn"
   ]
  },
  {
   "cell_type": "code",
   "execution_count": 96,
   "id": "57d56d77",
   "metadata": {},
   "outputs": [
    {
     "data": {
      "text/html": [
       "<div>\n",
       "<style scoped>\n",
       "    .dataframe tbody tr th:only-of-type {\n",
       "        vertical-align: middle;\n",
       "    }\n",
       "\n",
       "    .dataframe tbody tr th {\n",
       "        vertical-align: top;\n",
       "    }\n",
       "\n",
       "    .dataframe thead th {\n",
       "        text-align: right;\n",
       "    }\n",
       "</style>\n",
       "<table border=\"1\" class=\"dataframe\">\n",
       "  <thead>\n",
       "    <tr style=\"text-align: right;\">\n",
       "      <th></th>\n",
       "      <th>Model</th>\n",
       "      <th>Accuracy (Train)</th>\n",
       "      <th>Accuracy (Test)</th>\n",
       "      <th>Precision (Test)</th>\n",
       "      <th>Recall (Test)</th>\n",
       "      <th>F1 Score (Test)</th>\n",
       "    </tr>\n",
       "  </thead>\n",
       "  <tbody>\n",
       "    <tr>\n",
       "      <th>0</th>\n",
       "      <td>Standardize KNN</td>\n",
       "      <td>0.688013</td>\n",
       "      <td>0.49660</td>\n",
       "      <td>0.494366</td>\n",
       "      <td>0.493532</td>\n",
       "      <td>0.493948</td>\n",
       "    </tr>\n",
       "    <tr>\n",
       "      <th>1</th>\n",
       "      <td>Normalized KNN</td>\n",
       "      <td>0.687733</td>\n",
       "      <td>0.49716</td>\n",
       "      <td>0.494922</td>\n",
       "      <td>0.493371</td>\n",
       "      <td>0.494145</td>\n",
       "    </tr>\n",
       "    <tr>\n",
       "      <th>2</th>\n",
       "      <td>GSCV STD KNN</td>\n",
       "      <td>0.687213</td>\n",
       "      <td>0.49992</td>\n",
       "      <td>0.496350</td>\n",
       "      <td>0.311450</td>\n",
       "      <td>0.382739</td>\n",
       "    </tr>\n",
       "    <tr>\n",
       "      <th>3</th>\n",
       "      <td>GSCV Normal KNN</td>\n",
       "      <td>0.657547</td>\n",
       "      <td>0.49756</td>\n",
       "      <td>0.493149</td>\n",
       "      <td>0.335476</td>\n",
       "      <td>0.399311</td>\n",
       "    </tr>\n",
       "  </tbody>\n",
       "</table>\n",
       "</div>"
      ],
      "text/plain": [
       "             Model  Accuracy (Train)  Accuracy (Test)  Precision (Test)  \\\n",
       "0  Standardize KNN          0.688013          0.49660          0.494366   \n",
       "1   Normalized KNN          0.687733          0.49716          0.494922   \n",
       "2     GSCV STD KNN          0.687213          0.49992          0.496350   \n",
       "3  GSCV Normal KNN          0.657547          0.49756          0.493149   \n",
       "\n",
       "   Recall (Test)  F1 Score (Test)  \n",
       "0       0.493532         0.493948  \n",
       "1       0.493371         0.494145  \n",
       "2       0.311450         0.382739  \n",
       "3       0.335476         0.399311  "
      ]
     },
     "metadata": {},
     "output_type": "display_data"
    }
   ],
   "source": [
    "results_knn=pd.DataFrame(\n",
    "{'Model':['Standardize KNN','Normalized KNN', 'GSCV STD KNN', 'GSCV Normal KNN' ],\n",
    " 'Accuracy (Train)':[accurracy_train_knn_std,accurracy_train_knn_norm,accurracy_train_gscv_knn_std,accurracy_train_gscv_knn_norm],\n",
    " 'Accuracy (Test)':[accurracy_test_knn_std, accurracy_test_knn_norm,accurracy_test_gscv_knn_std,accurracy_test_gscv_knn_norm],\n",
    " 'Precision (Test)':[precision_knn_std, precision_knn_norm, precision_gscv_knn_std, precision_gscv_knn_norm],\n",
    " 'Recall (Test)':[recall_knn_std, recall_knn_norm, recall_gscv_knn_std, recall_gscv_knn_norm],\n",
    " 'F1 Score (Test)':[f1_score_knn_std, f1_score_knn_norm, f1_score_gscv_knn_std, f1_score_gscv_knn_norm],\n",
    "})\n",
    "display(results_knn)"
   ]
  },
  {
   "cell_type": "code",
   "execution_count": null,
   "id": "79009854",
   "metadata": {},
   "outputs": [],
   "source": []
  },
  {
   "cell_type": "markdown",
   "id": "cbebd3d1",
   "metadata": {},
   "source": [
    "# [3] Decision Tree Algorithm"
   ]
  },
  {
   "cell_type": "markdown",
   "id": "a3023148",
   "metadata": {},
   "source": [
    "###  Spliting the Dataset"
   ]
  },
  {
   "cell_type": "code",
   "execution_count": 97,
   "id": "4e07869c",
   "metadata": {},
   "outputs": [],
   "source": [
    "x_train,x_test,y_train,y_test=train_test_split(x,y, test_size=0.25, random_state=12)"
   ]
  },
  {
   "cell_type": "code",
   "execution_count": 98,
   "id": "edbb50fa",
   "metadata": {},
   "outputs": [
    {
     "data": {
      "text/html": [
       "<style>#sk-container-id-6 {color: black;}#sk-container-id-6 pre{padding: 0;}#sk-container-id-6 div.sk-toggleable {background-color: white;}#sk-container-id-6 label.sk-toggleable__label {cursor: pointer;display: block;width: 100%;margin-bottom: 0;padding: 0.3em;box-sizing: border-box;text-align: center;}#sk-container-id-6 label.sk-toggleable__label-arrow:before {content: \"▸\";float: left;margin-right: 0.25em;color: #696969;}#sk-container-id-6 label.sk-toggleable__label-arrow:hover:before {color: black;}#sk-container-id-6 div.sk-estimator:hover label.sk-toggleable__label-arrow:before {color: black;}#sk-container-id-6 div.sk-toggleable__content {max-height: 0;max-width: 0;overflow: hidden;text-align: left;background-color: #f0f8ff;}#sk-container-id-6 div.sk-toggleable__content pre {margin: 0.2em;color: black;border-radius: 0.25em;background-color: #f0f8ff;}#sk-container-id-6 input.sk-toggleable__control:checked~div.sk-toggleable__content {max-height: 200px;max-width: 100%;overflow: auto;}#sk-container-id-6 input.sk-toggleable__control:checked~label.sk-toggleable__label-arrow:before {content: \"▾\";}#sk-container-id-6 div.sk-estimator input.sk-toggleable__control:checked~label.sk-toggleable__label {background-color: #d4ebff;}#sk-container-id-6 div.sk-label input.sk-toggleable__control:checked~label.sk-toggleable__label {background-color: #d4ebff;}#sk-container-id-6 input.sk-hidden--visually {border: 0;clip: rect(1px 1px 1px 1px);clip: rect(1px, 1px, 1px, 1px);height: 1px;margin: -1px;overflow: hidden;padding: 0;position: absolute;width: 1px;}#sk-container-id-6 div.sk-estimator {font-family: monospace;background-color: #f0f8ff;border: 1px dotted black;border-radius: 0.25em;box-sizing: border-box;margin-bottom: 0.5em;}#sk-container-id-6 div.sk-estimator:hover {background-color: #d4ebff;}#sk-container-id-6 div.sk-parallel-item::after {content: \"\";width: 100%;border-bottom: 1px solid gray;flex-grow: 1;}#sk-container-id-6 div.sk-label:hover label.sk-toggleable__label {background-color: #d4ebff;}#sk-container-id-6 div.sk-serial::before {content: \"\";position: absolute;border-left: 1px solid gray;box-sizing: border-box;top: 0;bottom: 0;left: 50%;z-index: 0;}#sk-container-id-6 div.sk-serial {display: flex;flex-direction: column;align-items: center;background-color: white;padding-right: 0.2em;padding-left: 0.2em;position: relative;}#sk-container-id-6 div.sk-item {position: relative;z-index: 1;}#sk-container-id-6 div.sk-parallel {display: flex;align-items: stretch;justify-content: center;background-color: white;position: relative;}#sk-container-id-6 div.sk-item::before, #sk-container-id-6 div.sk-parallel-item::before {content: \"\";position: absolute;border-left: 1px solid gray;box-sizing: border-box;top: 0;bottom: 0;left: 50%;z-index: -1;}#sk-container-id-6 div.sk-parallel-item {display: flex;flex-direction: column;z-index: 1;position: relative;background-color: white;}#sk-container-id-6 div.sk-parallel-item:first-child::after {align-self: flex-end;width: 50%;}#sk-container-id-6 div.sk-parallel-item:last-child::after {align-self: flex-start;width: 50%;}#sk-container-id-6 div.sk-parallel-item:only-child::after {width: 0;}#sk-container-id-6 div.sk-dashed-wrapped {border: 1px dashed gray;margin: 0 0.4em 0.5em 0.4em;box-sizing: border-box;padding-bottom: 0.4em;background-color: white;}#sk-container-id-6 div.sk-label label {font-family: monospace;font-weight: bold;display: inline-block;line-height: 1.2em;}#sk-container-id-6 div.sk-label-container {text-align: center;}#sk-container-id-6 div.sk-container {/* jupyter's `normalize.less` sets `[hidden] { display: none; }` but bootstrap.min.css set `[hidden] { display: none !important; }` so we also need the `!important` here to be able to override the default hidden behavior on the sphinx rendered scikit-learn.org. See: https://github.com/scikit-learn/scikit-learn/issues/21755 */display: inline-block !important;position: relative;}#sk-container-id-6 div.sk-text-repr-fallback {display: none;}</style><div id=\"sk-container-id-6\" class=\"sk-top-container\"><div class=\"sk-text-repr-fallback\"><pre>DecisionTreeClassifier(random_state=12)</pre><b>In a Jupyter environment, please rerun this cell to show the HTML representation or trust the notebook. <br />On GitHub, the HTML representation is unable to render, please try loading this page with nbviewer.org.</b></div><div class=\"sk-container\" hidden><div class=\"sk-item\"><div class=\"sk-estimator sk-toggleable\"><input class=\"sk-toggleable__control sk-hidden--visually\" id=\"sk-estimator-id-10\" type=\"checkbox\" checked><label for=\"sk-estimator-id-10\" class=\"sk-toggleable__label sk-toggleable__label-arrow\">DecisionTreeClassifier</label><div class=\"sk-toggleable__content\"><pre>DecisionTreeClassifier(random_state=12)</pre></div></div></div></div></div>"
      ],
      "text/plain": [
       "DecisionTreeClassifier(random_state=12)"
      ]
     },
     "execution_count": 98,
     "metadata": {},
     "output_type": "execute_result"
    }
   ],
   "source": [
    "# creating instance & model fitting\n",
    "dt_model=DecisionTreeClassifier(random_state=12)\n",
    "\n",
    "dt_model.fit(x_train, y_train)"
   ]
  },
  {
   "cell_type": "markdown",
   "id": "a62f5f4a",
   "metadata": {},
   "source": [
    "### Model Evaluation of DT"
   ]
  },
  {
   "cell_type": "code",
   "execution_count": 99,
   "id": "433e529a",
   "metadata": {},
   "outputs": [
    {
     "name": "stdout",
     "output_type": "stream",
     "text": [
      "Confusion Matrix -->\n",
      " [[37688     0]\n",
      " [    0 37312]]\n",
      "************************************************************\n",
      "Accuracy is --> 1.0\n",
      "************************************************************\n",
      "Classification report -->\n",
      "               precision    recall  f1-score   support\n",
      "\n",
      "           0       1.00      1.00      1.00     37688\n",
      "           1       1.00      1.00      1.00     37312\n",
      "\n",
      "    accuracy                           1.00     75000\n",
      "   macro avg       1.00      1.00      1.00     75000\n",
      "weighted avg       1.00      1.00      1.00     75000\n",
      "\n"
     ]
    }
   ],
   "source": [
    "# Evaluation of Training Data\n",
    "y_pred_train=dt_model.predict(x_train)\n",
    "\n",
    "cnf_matrix = confusion_matrix(y_train, y_pred_train)\n",
    "print(\"Confusion Matrix -->\\n\", cnf_matrix)\n",
    "print(\"*\"*60)\n",
    "\n",
    "accurracy_train_dt = accuracy_score(y_train, y_pred_train)\n",
    "print(\"Accuracy is -->\", accurracy_train_dt)\n",
    "print(\"*\"*60)\n",
    "\n",
    "clf_report = classification_report(y_train, y_pred_train)\n",
    "print(\"Classification report -->\\n\",clf_report)"
   ]
  },
  {
   "cell_type": "code",
   "execution_count": 100,
   "id": "52b1a0e6",
   "metadata": {},
   "outputs": [],
   "source": [
    "# In DT training model is always overfitted.\n",
    "# Hence we are doing prunning to overcome the overfitting."
   ]
  },
  {
   "cell_type": "code",
   "execution_count": 101,
   "id": "c3dfb8bd",
   "metadata": {},
   "outputs": [
    {
     "name": "stdout",
     "output_type": "stream",
     "text": [
      "Confusion Matrix -->\n",
      " [[6305 6228]\n",
      " [6323 6144]]\n",
      "************************************************************\n",
      "Accuracy is --> 0.49796\n",
      "************************************************************\n",
      "Classification report -->\n",
      "               precision    recall  f1-score   support\n",
      "\n",
      "           0       0.50      0.50      0.50     12533\n",
      "           1       0.50      0.49      0.49     12467\n",
      "\n",
      "    accuracy                           0.50     25000\n",
      "   macro avg       0.50      0.50      0.50     25000\n",
      "weighted avg       0.50      0.50      0.50     25000\n",
      "\n"
     ]
    }
   ],
   "source": [
    "# Evaluation of Testing Data\n",
    "y_pred=dt_model.predict(x_test)\n",
    "\n",
    "cnf_matrix = confusion_matrix(y_test, y_pred)\n",
    "print(\"Confusion Matrix -->\\n\", cnf_matrix)\n",
    "print(\"*\"*60)\n",
    "\n",
    "accurracy_test_dt = accuracy_score(y_test, y_pred)\n",
    "print(\"Accuracy is -->\", accurracy_test_dt)\n",
    "print(\"*\"*60)\n",
    "\n",
    "clf_report = classification_report(y_test, y_pred)\n",
    "print(\"Classification report -->\\n\",clf_report)\n",
    "\n",
    "precision_dt = precision_score(y_test, y_pred)\n",
    "recall_dt = recall_score(y_test, y_pred)\n",
    "f1_score_dt = f1_score(y_test, y_pred)"
   ]
  },
  {
   "cell_type": "code",
   "execution_count": 102,
   "id": "71df4546",
   "metadata": {},
   "outputs": [],
   "source": [
    "# plt.figure(figsize=(250, 250))\n",
    "# plot_tree(dt_model, feature_names=list(x.columns), filled=True, rounded=True, precision=3)\n",
    "# print()\n",
    "\n",
    "# It took high computation time, so skipping it for now."
   ]
  },
  {
   "cell_type": "markdown",
   "id": "244f4cd1",
   "metadata": {},
   "source": [
    "## Prunning Technique"
   ]
  },
  {
   "cell_type": "raw",
   "id": "814a6a8b",
   "metadata": {},
   "source": [
    "Cutting the branches of trees which is having less importance to improve performance of model.\n",
    "\n",
    "Use to avaoid overfitting\n",
    "\n",
    "Types:\n",
    "    1. Pre-Prunning - Hyperparameter Tunning\n",
    "    2. Post Prunning - after building the tree we are starting prun the branches of trees based on their importance/significance\n",
    "    \n",
    "    ccp_alpha --> Cost Complexity Prunning  # bydefault ccp_alpha = 0.0\n",
    "    \n",
    "                Greater --> Increase the number of nodes get prunned\n",
    "\n",
    "                smaller --> lesser tyhe number of node prunned"
   ]
  },
  {
   "cell_type": "markdown",
   "id": "5ab44ff0",
   "metadata": {},
   "source": [
    "## 1. Hyperparameter Tunning (Pre-Prunning)"
   ]
  },
  {
   "cell_type": "markdown",
   "id": "6943b991",
   "metadata": {},
   "source": [
    "### GridSearchCV "
   ]
  },
  {
   "cell_type": "code",
   "execution_count": 103,
   "id": "b5ddcae9",
   "metadata": {},
   "outputs": [
    {
     "name": "stdout",
     "output_type": "stream",
     "text": [
      "Required Time : 7.44464373588562 sec\n"
     ]
    }
   ],
   "source": [
    "import time\n",
    "t1 = time.time()\n",
    "\n",
    "# Defined param_grid\n",
    "param_grid = {\"criterion\":[\"gini\", \"entropy\"], \n",
    "              \"max_depth\": np.arange(3,10),\n",
    "              \"min_samples_split\": np.arange(1,15),\n",
    "              \"min_samples_leaf\": np.arange(2,15),\n",
    "             }                                          \n",
    "\n",
    "# Create Instance & Model Fitting\n",
    "gscv_dt = RandomizedSearchCV(dt_model, param_grid, cv=7, n_jobs=-1)\n",
    "gscv_dt.fit(x_train, y_train)\n",
    "\n",
    "t2 = time.time()\n",
    "print(\"Required Time :\", t2-t1, \"sec\")"
   ]
  },
  {
   "cell_type": "code",
   "execution_count": 114,
   "id": "5cf8065f",
   "metadata": {},
   "outputs": [
    {
     "data": {
      "text/plain": [
       "{'min_samples_split': 14,\n",
       " 'min_samples_leaf': 13,\n",
       " 'max_depth': 4,\n",
       " 'criterion': 'gini'}"
      ]
     },
     "execution_count": 114,
     "metadata": {},
     "output_type": "execute_result"
    }
   ],
   "source": [
    "# best parameters from gridsearchcv\n",
    "gscv_dt.best_params_"
   ]
  },
  {
   "cell_type": "markdown",
   "id": "f7a4488f",
   "metadata": {},
   "source": [
    "#### Model Evaluation of GridSearchCV "
   ]
  },
  {
   "cell_type": "code",
   "execution_count": 129,
   "id": "a2c9d7b1",
   "metadata": {},
   "outputs": [
    {
     "name": "stdout",
     "output_type": "stream",
     "text": [
      "Confusion Matrix -->\n",
      " [[35009  2679]\n",
      " [34252  3060]]\n",
      "************************************************************\n",
      "Accuracy is --> 0.5075866666666666\n",
      "************************************************************\n",
      "Classification report -->\n",
      "               precision    recall  f1-score   support\n",
      "\n",
      "           0       0.51      0.93      0.65     37688\n",
      "           1       0.53      0.08      0.14     37312\n",
      "\n",
      "    accuracy                           0.51     75000\n",
      "   macro avg       0.52      0.51      0.40     75000\n",
      "weighted avg       0.52      0.51      0.40     75000\n",
      "\n"
     ]
    }
   ],
   "source": [
    "# Evaluation of Training Data\n",
    "y_pred_train=gscv_dt.predict(x_train)\n",
    "\n",
    "cnf_matrix = confusion_matrix(y_train, y_pred_train)\n",
    "print(\"Confusion Matrix -->\\n\", cnf_matrix)\n",
    "print(\"*\"*60)\n",
    "\n",
    "accurracy_train_gscv_dt = accuracy_score(y_train, y_pred_train)\n",
    "print(\"Accuracy is -->\", accurracy_train_gscv_dt)\n",
    "print(\"*\"*60)\n",
    "\n",
    "clf_report = classification_report(y_train, y_pred_train)\n",
    "print(\"Classification report -->\\n\",clf_report)"
   ]
  },
  {
   "cell_type": "code",
   "execution_count": 116,
   "id": "1ff07fe2",
   "metadata": {
    "scrolled": true
   },
   "outputs": [
    {
     "name": "stdout",
     "output_type": "stream",
     "text": [
      "Confusion Matrix -->\n",
      " [[11615   918]\n",
      " [11515   952]]\n",
      "************************************************************\n",
      "Accuracy is --> 0.50268\n",
      "************************************************************\n",
      "Classification report -->\n",
      "               precision    recall  f1-score   support\n",
      "\n",
      "           0       0.50      0.93      0.65     12533\n",
      "           1       0.51      0.08      0.13     12467\n",
      "\n",
      "    accuracy                           0.50     25000\n",
      "   macro avg       0.51      0.50      0.39     25000\n",
      "weighted avg       0.51      0.50      0.39     25000\n",
      "\n"
     ]
    }
   ],
   "source": [
    "# Evaluation of Testing Data\n",
    "y_pred=gscv_dt.predict(x_test)\n",
    "\n",
    "cnf_matrix = confusion_matrix(y_test, y_pred)\n",
    "print(\"Confusion Matrix -->\\n\", cnf_matrix)\n",
    "print(\"*\"*60)\n",
    "\n",
    "accurracy_test_gscv_dt = accuracy_score(y_test, y_pred)\n",
    "print(\"Accuracy is -->\", accurracy_test_gscv_dt)\n",
    "print(\"*\"*60)\n",
    "\n",
    "clf_report = classification_report(y_test, y_pred)\n",
    "print(\"Classification report -->\\n\",clf_report)\n",
    "\n",
    "precision_gscv_dt = precision_score(y_test, y_pred)\n",
    "recall_gscv_dt = recall_score(y_test, y_pred)\n",
    "f1_score_gscv_dt = f1_score(y_test, y_pred)"
   ]
  },
  {
   "cell_type": "markdown",
   "id": "256612d8",
   "metadata": {},
   "source": [
    "## 2. Post-Prunning: Cost Complexity Prunning"
   ]
  },
  {
   "cell_type": "code",
   "execution_count": 117,
   "id": "08834a71",
   "metadata": {
    "scrolled": true
   },
   "outputs": [
    {
     "data": {
      "text/plain": [
       "array([0.00000000e+00, 7.11111111e-06, 7.40740741e-06, ...,\n",
       "       5.26073336e-05, 5.39981033e-05, 6.35421929e-05])"
      ]
     },
     "execution_count": 117,
     "metadata": {},
     "output_type": "execute_result"
    }
   ],
   "source": [
    "result = dt_model.cost_complexity_pruning_path(x_train, y_train)\n",
    "ccp_alpha_list = result['ccp_alphas']\n",
    "ccp_alpha_list"
   ]
  },
  {
   "cell_type": "code",
   "execution_count": 119,
   "id": "6f2a85bf",
   "metadata": {},
   "outputs": [],
   "source": [
    "# Here we are not calculating best ccp_alpha, because this task requires high computation time.\n",
    "# so skipping it for now."
   ]
  },
  {
   "cell_type": "code",
   "execution_count": 118,
   "id": "7d95fbb8",
   "metadata": {},
   "outputs": [],
   "source": [
    "# train_accuracy_list = []\n",
    "# test_accuracy_list = []\n",
    "\n",
    "# for i in ccp_alpha_list:\n",
    "#     decision_tree_model = DecisionTreeClassifier(ccp_alpha=i, random_state=12)\n",
    "#     decision_tree_model.fit(x_train, y_train)\n",
    "    \n",
    "#     training_accuracy = decision_tree_model.score(x_train, y_train)\n",
    "#     train_accuracy_list.append(training_accuracy)\n",
    "    \n",
    "#     testing_accuracy = decision_tree_model.score(x_test, y_test)\n",
    "#     test_accuracy_list.append(testing_accuracy)"
   ]
  },
  {
   "cell_type": "code",
   "execution_count": 120,
   "id": "a799cbed",
   "metadata": {},
   "outputs": [],
   "source": [
    "# fig, ax = plt.subplots()\n",
    "# ax.plot(ccp_alpha_list, train_accuracy_list, label = \"Training Data Accuracy\")\n",
    "# ax.plot(ccp_alpha_list, test_accuracy_list, label = \"Testing Data Accuracy\")\n",
    "# ax.legend()"
   ]
  },
  {
   "cell_type": "code",
   "execution_count": 121,
   "id": "c2940f29",
   "metadata": {},
   "outputs": [],
   "source": [
    "# max_test = test_accuracy_list.index(max(test_accuracy_list))\n",
    "# max_test"
   ]
  },
  {
   "cell_type": "code",
   "execution_count": 122,
   "id": "6c1df4dd",
   "metadata": {},
   "outputs": [],
   "source": [
    "# best_ccp = ccp_alpha_list[max_test]\n",
    "# best_ccp"
   ]
  },
  {
   "cell_type": "code",
   "execution_count": 123,
   "id": "0dc41309",
   "metadata": {},
   "outputs": [],
   "source": [
    "# # Now fit the model on best ccp\n",
    "# dt_reg_ccp = DecisionTreeRegressor(ccp_alpha= best_ccp,random_state=2)\n",
    "\n",
    "# dt_reg_ccp.fit(x_train, y_train)"
   ]
  },
  {
   "cell_type": "code",
   "execution_count": 124,
   "id": "795ee2b2",
   "metadata": {},
   "outputs": [],
   "source": [
    "# # Evaluation of Training Data\n",
    "# y_pred_train=dt_reg_ccp.predict(x_train)\n",
    "\n",
    "# cnf_matrix = confusion_matrix(y_train, y_pred_train)\n",
    "# print(\"Confusion Matrix -->\\n\", cnf_matrix)\n",
    "# print(\"*\"*60)\n",
    "\n",
    "# accurracy_train_ccp_dt = accuracy_score(y_train, y_pred_train)\n",
    "# print(\"Accuracy is -->\", accurracy_train_ccp_dt)\n",
    "# print(\"*\"*60)\n",
    "\n",
    "# clf_report = classification_report(y_train, y_pred_train)\n",
    "# print(\"Classification report -->\\n\",clf_report)"
   ]
  },
  {
   "cell_type": "code",
   "execution_count": 125,
   "id": "24e82c00",
   "metadata": {
    "scrolled": true
   },
   "outputs": [],
   "source": [
    "# # Evaluation of Testing Data\n",
    "# y_pred=dt_reg_ccp.predict(x_test)\n",
    "\n",
    "# cnf_matrix = confusion_matrix(y_test, y_pred)\n",
    "# print(\"Confusion Matrix -->\\n\", cnf_matrix)\n",
    "# print(\"*\"*60)\n",
    "\n",
    "# accurracy_test_ccp_dt = accuracy_score(y_test, y_pred)\n",
    "# print(\"Accuracy is -->\", accurracy_test_ccp_dt)\n",
    "# print(\"*\"*60)\n",
    "\n",
    "# clf_report = classification_report(y_test, y_pred)\n",
    "# print(\"Classification report -->\\n\",clf_report)\n",
    "\n",
    "# precision_ccp_dt = precision_score(y_test, y_pred)\n",
    "# recall_ccp_dt = recall_score(y_test, y_pred)\n",
    "# f1_score_ccp_dt = f1_score(y_test, y_pred)"
   ]
  },
  {
   "cell_type": "markdown",
   "id": "052a3bdf",
   "metadata": {},
   "source": [
    "### Feature Selection Techniques"
   ]
  },
  {
   "cell_type": "raw",
   "id": "e25127e3",
   "metadata": {},
   "source": [
    "3. Embedded Method --> DT feature importance method"
   ]
  },
  {
   "cell_type": "code",
   "execution_count": 126,
   "id": "e51fb3ed",
   "metadata": {},
   "outputs": [
    {
     "data": {
      "text/plain": [
       "array([0.16377582, 0.02977919, 0.16014208, 0.31456688, 0.2584925 ,\n",
       "       0.01795337, 0.00216925, 0.01766566, 0.01823395, 0.01722129])"
      ]
     },
     "execution_count": 126,
     "metadata": {},
     "output_type": "execute_result"
    }
   ],
   "source": [
    "array = dt_model.feature_importances_\n",
    "array"
   ]
  },
  {
   "cell_type": "code",
   "execution_count": 127,
   "id": "3e8da5a1",
   "metadata": {},
   "outputs": [
    {
     "data": {
      "image/png": "[encoded data removed]",
      "text/plain": [
       "<Figure size 640x480 with 1 Axes>"
      ]
     },
     "metadata": {},
     "output_type": "display_data"
    }
   ],
   "source": [
    "s1 = pd.Series(array * 100, index=x.columns)\n",
    "s1.sort_values().plot(kind = \"barh\")\n",
    "plt.show()"
   ]
  },
  {
   "cell_type": "markdown",
   "id": "718c35ba",
   "metadata": {},
   "source": [
    "# Results Summary :"
   ]
  },
  {
   "cell_type": "code",
   "execution_count": 131,
   "id": "a7cf8062",
   "metadata": {
    "scrolled": true
   },
   "outputs": [
    {
     "data": {
      "text/html": [
       "<div>\n",
       "<style scoped>\n",
       "    .dataframe tbody tr th:only-of-type {\n",
       "        vertical-align: middle;\n",
       "    }\n",
       "\n",
       "    .dataframe tbody tr th {\n",
       "        vertical-align: top;\n",
       "    }\n",
       "\n",
       "    .dataframe thead th {\n",
       "        text-align: right;\n",
       "    }\n",
       "</style>\n",
       "<table border=\"1\" class=\"dataframe\">\n",
       "  <thead>\n",
       "    <tr style=\"text-align: right;\">\n",
       "      <th></th>\n",
       "      <th>Model</th>\n",
       "      <th>Accuracy (Train)</th>\n",
       "      <th>Accuracy (Test)</th>\n",
       "      <th>Precision (Test)</th>\n",
       "      <th>Recall (Test)</th>\n",
       "      <th>F1 Score (Test)</th>\n",
       "    </tr>\n",
       "  </thead>\n",
       "  <tbody>\n",
       "    <tr>\n",
       "      <th>0</th>\n",
       "      <td>Regular DT Model</td>\n",
       "      <td>1.000000</td>\n",
       "      <td>0.49796</td>\n",
       "      <td>0.496605</td>\n",
       "      <td>0.492821</td>\n",
       "      <td>0.494706</td>\n",
       "    </tr>\n",
       "    <tr>\n",
       "      <th>1</th>\n",
       "      <td>gscv DT Model</td>\n",
       "      <td>0.507587</td>\n",
       "      <td>0.50268</td>\n",
       "      <td>0.509091</td>\n",
       "      <td>0.076362</td>\n",
       "      <td>0.132803</td>\n",
       "    </tr>\n",
       "  </tbody>\n",
       "</table>\n",
       "</div>"
      ],
      "text/plain": [
       "              Model  Accuracy (Train)  Accuracy (Test)  Precision (Test)  \\\n",
       "0  Regular DT Model          1.000000          0.49796          0.496605   \n",
       "1     gscv DT Model          0.507587          0.50268          0.509091   \n",
       "\n",
       "   Recall (Test)  F1 Score (Test)  \n",
       "0       0.492821         0.494706  \n",
       "1       0.076362         0.132803  "
      ]
     },
     "metadata": {},
     "output_type": "display_data"
    }
   ],
   "source": [
    "results_dt=pd.DataFrame(\n",
    "{'Model':['Regular DT Model','gscv DT Model'],\n",
    " 'Accuracy (Train)':[accurracy_train_dt, accurracy_train_gscv_dt],\n",
    " 'Accuracy (Test)':[accurracy_test_dt, accurracy_test_gscv_dt],\n",
    "  'Precision (Test)':[precision_dt, precision_gscv_dt],\n",
    " 'Recall (Test)':[recall_dt, recall_gscv_dt],\n",
    " 'F1 Score (Test)':[f1_score_dt, f1_score_gscv_dt],\n",
    "})\n",
    "display(results_dt)"
   ]
  },
  {
   "cell_type": "markdown",
   "id": "e78f44b0",
   "metadata": {},
   "source": [
    "# [4] Random Forest Algorithm"
   ]
  },
  {
   "cell_type": "markdown",
   "id": "48a0ed88",
   "metadata": {},
   "source": [
    "###  Spliting the Dataset"
   ]
  },
  {
   "cell_type": "code",
   "execution_count": 132,
   "id": "23be2823",
   "metadata": {},
   "outputs": [],
   "source": [
    "x_train,x_test,y_train,y_test=train_test_split(x,y, test_size=0.25, random_state=12)"
   ]
  },
  {
   "cell_type": "code",
   "execution_count": 133,
   "id": "1c55eb76",
   "metadata": {},
   "outputs": [
    {
     "data": {
      "text/html": [
       "<style>#sk-container-id-7 {color: black;}#sk-container-id-7 pre{padding: 0;}#sk-container-id-7 div.sk-toggleable {background-color: white;}#sk-container-id-7 label.sk-toggleable__label {cursor: pointer;display: block;width: 100%;margin-bottom: 0;padding: 0.3em;box-sizing: border-box;text-align: center;}#sk-container-id-7 label.sk-toggleable__label-arrow:before {content: \"▸\";float: left;margin-right: 0.25em;color: #696969;}#sk-container-id-7 label.sk-toggleable__label-arrow:hover:before {color: black;}#sk-container-id-7 div.sk-estimator:hover label.sk-toggleable__label-arrow:before {color: black;}#sk-container-id-7 div.sk-toggleable__content {max-height: 0;max-width: 0;overflow: hidden;text-align: left;background-color: #f0f8ff;}#sk-container-id-7 div.sk-toggleable__content pre {margin: 0.2em;color: black;border-radius: 0.25em;background-color: #f0f8ff;}#sk-container-id-7 input.sk-toggleable__control:checked~div.sk-toggleable__content {max-height: 200px;max-width: 100%;overflow: auto;}#sk-container-id-7 input.sk-toggleable__control:checked~label.sk-toggleable__label-arrow:before {content: \"▾\";}#sk-container-id-7 div.sk-estimator input.sk-toggleable__control:checked~label.sk-toggleable__label {background-color: #d4ebff;}#sk-container-id-7 div.sk-label input.sk-toggleable__control:checked~label.sk-toggleable__label {background-color: #d4ebff;}#sk-container-id-7 input.sk-hidden--visually {border: 0;clip: rect(1px 1px 1px 1px);clip: rect(1px, 1px, 1px, 1px);height: 1px;margin: -1px;overflow: hidden;padding: 0;position: absolute;width: 1px;}#sk-container-id-7 div.sk-estimator {font-family: monospace;background-color: #f0f8ff;border: 1px dotted black;border-radius: 0.25em;box-sizing: border-box;margin-bottom: 0.5em;}#sk-container-id-7 div.sk-estimator:hover {background-color: #d4ebff;}#sk-container-id-7 div.sk-parallel-item::after {content: \"\";width: 100%;border-bottom: 1px solid gray;flex-grow: 1;}#sk-container-id-7 div.sk-label:hover label.sk-toggleable__label {background-color: #d4ebff;}#sk-container-id-7 div.sk-serial::before {content: \"\";position: absolute;border-left: 1px solid gray;box-sizing: border-box;top: 0;bottom: 0;left: 50%;z-index: 0;}#sk-container-id-7 div.sk-serial {display: flex;flex-direction: column;align-items: center;background-color: white;padding-right: 0.2em;padding-left: 0.2em;position: relative;}#sk-container-id-7 div.sk-item {position: relative;z-index: 1;}#sk-container-id-7 div.sk-parallel {display: flex;align-items: stretch;justify-content: center;background-color: white;position: relative;}#sk-container-id-7 div.sk-item::before, #sk-container-id-7 div.sk-parallel-item::before {content: \"\";position: absolute;border-left: 1px solid gray;box-sizing: border-box;top: 0;bottom: 0;left: 50%;z-index: -1;}#sk-container-id-7 div.sk-parallel-item {display: flex;flex-direction: column;z-index: 1;position: relative;background-color: white;}#sk-container-id-7 div.sk-parallel-item:first-child::after {align-self: flex-end;width: 50%;}#sk-container-id-7 div.sk-parallel-item:last-child::after {align-self: flex-start;width: 50%;}#sk-container-id-7 div.sk-parallel-item:only-child::after {width: 0;}#sk-container-id-7 div.sk-dashed-wrapped {border: 1px dashed gray;margin: 0 0.4em 0.5em 0.4em;box-sizing: border-box;padding-bottom: 0.4em;background-color: white;}#sk-container-id-7 div.sk-label label {font-family: monospace;font-weight: bold;display: inline-block;line-height: 1.2em;}#sk-container-id-7 div.sk-label-container {text-align: center;}#sk-container-id-7 div.sk-container {/* jupyter's `normalize.less` sets `[hidden] { display: none; }` but bootstrap.min.css set `[hidden] { display: none !important; }` so we also need the `!important` here to be able to override the default hidden behavior on the sphinx rendered scikit-learn.org. See: https://github.com/scikit-learn/scikit-learn/issues/21755 */display: inline-block !important;position: relative;}#sk-container-id-7 div.sk-text-repr-fallback {display: none;}</style><div id=\"sk-container-id-7\" class=\"sk-top-container\"><div class=\"sk-text-repr-fallback\"><pre>RandomForestClassifier(random_state=12)</pre><b>In a Jupyter environment, please rerun this cell to show the HTML representation or trust the notebook. <br />On GitHub, the HTML representation is unable to render, please try loading this page with nbviewer.org.</b></div><div class=\"sk-container\" hidden><div class=\"sk-item\"><div class=\"sk-estimator sk-toggleable\"><input class=\"sk-toggleable__control sk-hidden--visually\" id=\"sk-estimator-id-11\" type=\"checkbox\" checked><label for=\"sk-estimator-id-11\" class=\"sk-toggleable__label sk-toggleable__label-arrow\">RandomForestClassifier</label><div class=\"sk-toggleable__content\"><pre>RandomForestClassifier(random_state=12)</pre></div></div></div></div></div>"
      ],
      "text/plain": [
       "RandomForestClassifier(random_state=12)"
      ]
     },
     "execution_count": 133,
     "metadata": {},
     "output_type": "execute_result"
    }
   ],
   "source": [
    "# creating instance & model fitting\n",
    "rf=RandomForestClassifier(random_state=12)\n",
    "\n",
    "rf.fit(x_train, y_train)"
   ]
  },
  {
   "cell_type": "markdown",
   "id": "049d2c9e",
   "metadata": {},
   "source": [
    "### Model Evaluation of RF"
   ]
  },
  {
   "cell_type": "code",
   "execution_count": 134,
   "id": "a6181186",
   "metadata": {},
   "outputs": [
    {
     "name": "stdout",
     "output_type": "stream",
     "text": [
      "Confusion Matrix -->\n",
      " [[37688     0]\n",
      " [    0 37312]]\n",
      "************************************************************\n",
      "Accuracy is --> 1.0\n",
      "************************************************************\n",
      "Classification report -->\n",
      "               precision    recall  f1-score   support\n",
      "\n",
      "           0       1.00      1.00      1.00     37688\n",
      "           1       1.00      1.00      1.00     37312\n",
      "\n",
      "    accuracy                           1.00     75000\n",
      "   macro avg       1.00      1.00      1.00     75000\n",
      "weighted avg       1.00      1.00      1.00     75000\n",
      "\n"
     ]
    }
   ],
   "source": [
    "# Evaluation of Training Data\n",
    "y_pred_train=rf.predict(x_train)\n",
    "\n",
    "cnf_matrix = confusion_matrix(y_train, y_pred_train)\n",
    "print(\"Confusion Matrix -->\\n\", cnf_matrix)\n",
    "print(\"*\"*60)\n",
    "\n",
    "accurracy_train_rf = accuracy_score(y_train, y_pred_train)\n",
    "print(\"Accuracy is -->\", accurracy_train_rf)\n",
    "print(\"*\"*60)\n",
    "\n",
    "clf_report = classification_report(y_train, y_pred_train)\n",
    "print(\"Classification report -->\\n\",clf_report)"
   ]
  },
  {
   "cell_type": "code",
   "execution_count": 135,
   "id": "7ba68b7e",
   "metadata": {},
   "outputs": [
    {
     "name": "stdout",
     "output_type": "stream",
     "text": [
      "Confusion Matrix -->\n",
      " [[6560 5973]\n",
      " [6578 5889]]\n",
      "************************************************************\n",
      "Accuracy is --> 0.49796\n",
      "************************************************************\n",
      "Classification report -->\n",
      "               precision    recall  f1-score   support\n",
      "\n",
      "           0       0.50      0.52      0.51     12533\n",
      "           1       0.50      0.47      0.48     12467\n",
      "\n",
      "    accuracy                           0.50     25000\n",
      "   macro avg       0.50      0.50      0.50     25000\n",
      "weighted avg       0.50      0.50      0.50     25000\n",
      "\n"
     ]
    }
   ],
   "source": [
    "# Evaluation of Testing Data\n",
    "y_pred=rf.predict(x_test)\n",
    "\n",
    "cnf_matrix = confusion_matrix(y_test, y_pred)\n",
    "print(\"Confusion Matrix -->\\n\", cnf_matrix)\n",
    "print(\"*\"*60)\n",
    "\n",
    "accurracy_test_rf = accuracy_score(y_test, y_pred)\n",
    "print(\"Accuracy is -->\", accurracy_test_rf)\n",
    "print(\"*\"*60)\n",
    "\n",
    "clf_report = classification_report(y_test, y_pred)\n",
    "print(\"Classification report -->\\n\",clf_report)\n",
    "\n",
    "precision_rf = precision_score(y_test, y_pred)\n",
    "recall_rf = recall_score(y_test, y_pred)\n",
    "f1_score_rf = f1_score(y_test, y_pred)"
   ]
  },
  {
   "cell_type": "code",
   "execution_count": 136,
   "id": "26889c23",
   "metadata": {},
   "outputs": [
    {
     "data": {
      "text/html": [
       "<style>#sk-container-id-8 {color: black;}#sk-container-id-8 pre{padding: 0;}#sk-container-id-8 div.sk-toggleable {background-color: white;}#sk-container-id-8 label.sk-toggleable__label {cursor: pointer;display: block;width: 100%;margin-bottom: 0;padding: 0.3em;box-sizing: border-box;text-align: center;}#sk-container-id-8 label.sk-toggleable__label-arrow:before {content: \"▸\";float: left;margin-right: 0.25em;color: #696969;}#sk-container-id-8 label.sk-toggleable__label-arrow:hover:before {color: black;}#sk-container-id-8 div.sk-estimator:hover label.sk-toggleable__label-arrow:before {color: black;}#sk-container-id-8 div.sk-toggleable__content {max-height: 0;max-width: 0;overflow: hidden;text-align: left;background-color: #f0f8ff;}#sk-container-id-8 div.sk-toggleable__content pre {margin: 0.2em;color: black;border-radius: 0.25em;background-color: #f0f8ff;}#sk-container-id-8 input.sk-toggleable__control:checked~div.sk-toggleable__content {max-height: 200px;max-width: 100%;overflow: auto;}#sk-container-id-8 input.sk-toggleable__control:checked~label.sk-toggleable__label-arrow:before {content: \"▾\";}#sk-container-id-8 div.sk-estimator input.sk-toggleable__control:checked~label.sk-toggleable__label {background-color: #d4ebff;}#sk-container-id-8 div.sk-label input.sk-toggleable__control:checked~label.sk-toggleable__label {background-color: #d4ebff;}#sk-container-id-8 input.sk-hidden--visually {border: 0;clip: rect(1px 1px 1px 1px);clip: rect(1px, 1px, 1px, 1px);height: 1px;margin: -1px;overflow: hidden;padding: 0;position: absolute;width: 1px;}#sk-container-id-8 div.sk-estimator {font-family: monospace;background-color: #f0f8ff;border: 1px dotted black;border-radius: 0.25em;box-sizing: border-box;margin-bottom: 0.5em;}#sk-container-id-8 div.sk-estimator:hover {background-color: #d4ebff;}#sk-container-id-8 div.sk-parallel-item::after {content: \"\";width: 100%;border-bottom: 1px solid gray;flex-grow: 1;}#sk-container-id-8 div.sk-label:hover label.sk-toggleable__label {background-color: #d4ebff;}#sk-container-id-8 div.sk-serial::before {content: \"\";position: absolute;border-left: 1px solid gray;box-sizing: border-box;top: 0;bottom: 0;left: 50%;z-index: 0;}#sk-container-id-8 div.sk-serial {display: flex;flex-direction: column;align-items: center;background-color: white;padding-right: 0.2em;padding-left: 0.2em;position: relative;}#sk-container-id-8 div.sk-item {position: relative;z-index: 1;}#sk-container-id-8 div.sk-parallel {display: flex;align-items: stretch;justify-content: center;background-color: white;position: relative;}#sk-container-id-8 div.sk-item::before, #sk-container-id-8 div.sk-parallel-item::before {content: \"\";position: absolute;border-left: 1px solid gray;box-sizing: border-box;top: 0;bottom: 0;left: 50%;z-index: -1;}#sk-container-id-8 div.sk-parallel-item {display: flex;flex-direction: column;z-index: 1;position: relative;background-color: white;}#sk-container-id-8 div.sk-parallel-item:first-child::after {align-self: flex-end;width: 50%;}#sk-container-id-8 div.sk-parallel-item:last-child::after {align-self: flex-start;width: 50%;}#sk-container-id-8 div.sk-parallel-item:only-child::after {width: 0;}#sk-container-id-8 div.sk-dashed-wrapped {border: 1px dashed gray;margin: 0 0.4em 0.5em 0.4em;box-sizing: border-box;padding-bottom: 0.4em;background-color: white;}#sk-container-id-8 div.sk-label label {font-family: monospace;font-weight: bold;display: inline-block;line-height: 1.2em;}#sk-container-id-8 div.sk-label-container {text-align: center;}#sk-container-id-8 div.sk-container {/* jupyter's `normalize.less` sets `[hidden] { display: none; }` but bootstrap.min.css set `[hidden] { display: none !important; }` so we also need the `!important` here to be able to override the default hidden behavior on the sphinx rendered scikit-learn.org. See: https://github.com/scikit-learn/scikit-learn/issues/21755 */display: inline-block !important;position: relative;}#sk-container-id-8 div.sk-text-repr-fallback {display: none;}</style><div id=\"sk-container-id-8\" class=\"sk-top-container\"><div class=\"sk-text-repr-fallback\"><pre>DecisionTreeClassifier(max_features=&#x27;sqrt&#x27;, random_state=1916507803)</pre><b>In a Jupyter environment, please rerun this cell to show the HTML representation or trust the notebook. <br />On GitHub, the HTML representation is unable to render, please try loading this page with nbviewer.org.</b></div><div class=\"sk-container\" hidden><div class=\"sk-item\"><div class=\"sk-estimator sk-toggleable\"><input class=\"sk-toggleable__control sk-hidden--visually\" id=\"sk-estimator-id-12\" type=\"checkbox\" checked><label for=\"sk-estimator-id-12\" class=\"sk-toggleable__label sk-toggleable__label-arrow\">DecisionTreeClassifier</label><div class=\"sk-toggleable__content\"><pre>DecisionTreeClassifier(max_features=&#x27;sqrt&#x27;, random_state=1916507803)</pre></div></div></div></div></div>"
      ],
      "text/plain": [
       "DecisionTreeClassifier(max_features='sqrt', random_state=1916507803)"
      ]
     },
     "execution_count": 136,
     "metadata": {},
     "output_type": "execute_result"
    }
   ],
   "source": [
    "rf.estimators_[1]"
   ]
  },
  {
   "cell_type": "code",
   "execution_count": 137,
   "id": "2f22390d",
   "metadata": {},
   "outputs": [],
   "source": [
    "# plt.figure(figsize=(250, 250))\n",
    "# plot_tree(rf.estimators_[1], feature_names=x.columns, filled=True, rounded=True, precision=3)\n",
    "# print()\n",
    "\n",
    "# It took high computation time, so skipping it for now."
   ]
  },
  {
   "cell_type": "markdown",
   "id": "b6f87e90",
   "metadata": {},
   "source": [
    "## Prunning Technique"
   ]
  },
  {
   "cell_type": "raw",
   "id": "76ff9bb8",
   "metadata": {},
   "source": [
    "Cutting the branches of trees which is having less importance to improve performance of model.\n",
    "Used to avaoid overfitting\n",
    "\n",
    "Types: Pre-Prunning - Hyperparameter Tunning"
   ]
  },
  {
   "cell_type": "markdown",
   "id": "f3781ff0",
   "metadata": {},
   "source": [
    "## Hyperparameter Tunning (Pre-Prunning)"
   ]
  },
  {
   "cell_type": "markdown",
   "id": "fbeee3a2",
   "metadata": {},
   "source": [
    "### RandomizedSearchCV "
   ]
  },
  {
   "cell_type": "code",
   "execution_count": 140,
   "id": "25153511",
   "metadata": {},
   "outputs": [
    {
     "name": "stdout",
     "output_type": "stream",
     "text": [
      "Required Time : 318.79680848121643 sec\n"
     ]
    }
   ],
   "source": [
    "import time\n",
    "t1 = time.time()\n",
    "\n",
    "# Defined param_grid\n",
    "\n",
    "param_grid = {\"n_estimators\" : np.arange(10,100),\n",
    "                 \"criterion\":[\"gini\", \"entropy\"], \n",
    "                 \"max_depth\": np.arange(3,10),\n",
    "                 \"min_samples_split\": np.arange(1,15),\n",
    "                 \"min_samples_leaf\": np.arange(2,15), \n",
    "                 \"max_features\": ['sqrt', 'log2'],\n",
    "             } \n",
    "\n",
    "# Create Instance & Model Fitting\n",
    "rscv_rf = RandomizedSearchCV(rf, param_grid, cv=7, n_jobs=-1)\n",
    "rscv_rf.fit(x_train, y_train)\n",
    "\n",
    "t2 = time.time()\n",
    "print(\"Required Time :\", t2-t1, \"sec\")"
   ]
  },
  {
   "cell_type": "code",
   "execution_count": 141,
   "id": "342b0c1f",
   "metadata": {},
   "outputs": [
    {
     "data": {
      "text/plain": [
       "{'n_estimators': 67,\n",
       " 'min_samples_split': 12,\n",
       " 'min_samples_leaf': 7,\n",
       " 'max_features': 'log2',\n",
       " 'max_depth': 6,\n",
       " 'criterion': 'gini'}"
      ]
     },
     "execution_count": 141,
     "metadata": {},
     "output_type": "execute_result"
    }
   ],
   "source": [
    "# best parameters from gridsearchcv\n",
    "rscv_rf.best_params_"
   ]
  },
  {
   "cell_type": "markdown",
   "id": "0cd4d951",
   "metadata": {},
   "source": [
    "#### Model Evaluation of GridSearchCV "
   ]
  },
  {
   "cell_type": "code",
   "execution_count": 142,
   "id": "45618901",
   "metadata": {},
   "outputs": [
    {
     "name": "stdout",
     "output_type": "stream",
     "text": [
      "Confusion Matrix -->\n",
      " [[27792  9896]\n",
      " [24218 13094]]\n",
      "************************************************************\n",
      "Accuracy is --> 0.5451466666666667\n",
      "************************************************************\n",
      "Classification report -->\n",
      "               precision    recall  f1-score   support\n",
      "\n",
      "           0       0.53      0.74      0.62     37688\n",
      "           1       0.57      0.35      0.43     37312\n",
      "\n",
      "    accuracy                           0.55     75000\n",
      "   macro avg       0.55      0.54      0.53     75000\n",
      "weighted avg       0.55      0.55      0.53     75000\n",
      "\n"
     ]
    }
   ],
   "source": [
    "# Evaluation of Training Data\n",
    "y_pred_train=rscv_rf.predict(x_train)\n",
    "\n",
    "cnf_matrix = confusion_matrix(y_train, y_pred_train)\n",
    "print(\"Confusion Matrix -->\\n\", cnf_matrix)\n",
    "print(\"*\"*60)\n",
    "\n",
    "accurracy_train_rscv_rf = accuracy_score(y_train, y_pred_train)\n",
    "print(\"Accuracy is -->\", accurracy_train_rscv_rf)\n",
    "print(\"*\"*60)\n",
    "\n",
    "clf_report = classification_report(y_train, y_pred_train)\n",
    "print(\"Classification report -->\\n\",clf_report)"
   ]
  },
  {
   "cell_type": "code",
   "execution_count": 143,
   "id": "ca04b00d",
   "metadata": {},
   "outputs": [
    {
     "name": "stdout",
     "output_type": "stream",
     "text": [
      "Confusion Matrix -->\n",
      " [[8789 3744]\n",
      " [8544 3923]]\n",
      "************************************************************\n",
      "Accuracy is --> 0.50848\n",
      "************************************************************\n",
      "Classification report -->\n",
      "               precision    recall  f1-score   support\n",
      "\n",
      "           0       0.51      0.70      0.59     12533\n",
      "           1       0.51      0.31      0.39     12467\n",
      "\n",
      "    accuracy                           0.51     25000\n",
      "   macro avg       0.51      0.51      0.49     25000\n",
      "weighted avg       0.51      0.51      0.49     25000\n",
      "\n"
     ]
    }
   ],
   "source": [
    "# Evaluation of Testing Data\n",
    "y_pred=rscv_rf.predict(x_test)\n",
    "\n",
    "cnf_matrix = confusion_matrix(y_test, y_pred)\n",
    "print(\"Confusion Matrix -->\\n\", cnf_matrix)\n",
    "print(\"*\"*60)\n",
    "\n",
    "accurracy_test_rscv_rf = accuracy_score(y_test, y_pred)\n",
    "print(\"Accuracy is -->\", accurracy_test_rscv_rf)\n",
    "print(\"*\"*60)\n",
    "\n",
    "clf_report = classification_report(y_test, y_pred)\n",
    "print(\"Classification report -->\\n\",clf_report)\n",
    "\n",
    "precision_rscv_rf = precision_score(y_test, y_pred)\n",
    "recall_rscv_rf = recall_score(y_test, y_pred)\n",
    "f1_score_rscv_rf = f1_score(y_test, y_pred)"
   ]
  },
  {
   "cell_type": "markdown",
   "id": "dc2bf15b",
   "metadata": {},
   "source": [
    "### Feature Selection Techniques"
   ]
  },
  {
   "cell_type": "raw",
   "id": "8c98a4f1",
   "metadata": {},
   "source": [
    "3. Embedded Method --> RF feature importance method"
   ]
  },
  {
   "cell_type": "code",
   "execution_count": 144,
   "id": "933cc7bf",
   "metadata": {},
   "outputs": [
    {
     "data": {
      "text/plain": [
       "array([0.1959043 , 0.01430514, 0.14598058, 0.31971906, 0.2970124 ,\n",
       "       0.00584979, 0.00471994, 0.00534873, 0.00517777, 0.00598229])"
      ]
     },
     "execution_count": 144,
     "metadata": {},
     "output_type": "execute_result"
    }
   ],
   "source": [
    "array = rf.feature_importances_\n",
    "array"
   ]
  },
  {
   "cell_type": "code",
   "execution_count": 145,
   "id": "36ff8aee",
   "metadata": {},
   "outputs": [
    {
     "data": {
      "image/png": "[encoded data removed]",
      "text/plain": [
       "<Figure size 640x480 with 1 Axes>"
      ]
     },
     "metadata": {},
     "output_type": "display_data"
    }
   ],
   "source": [
    "s1 = pd.Series(array * 100, index=x.columns)\n",
    "s1.sort_values().plot(kind = \"barh\")\n",
    "plt.show()"
   ]
  },
  {
   "cell_type": "markdown",
   "id": "a21fb986",
   "metadata": {},
   "source": [
    "# Results Summary :"
   ]
  },
  {
   "cell_type": "code",
   "execution_count": 147,
   "id": "d4197f67",
   "metadata": {
    "scrolled": true
   },
   "outputs": [
    {
     "data": {
      "text/html": [
       "<div>\n",
       "<style scoped>\n",
       "    .dataframe tbody tr th:only-of-type {\n",
       "        vertical-align: middle;\n",
       "    }\n",
       "\n",
       "    .dataframe tbody tr th {\n",
       "        vertical-align: top;\n",
       "    }\n",
       "\n",
       "    .dataframe thead th {\n",
       "        text-align: right;\n",
       "    }\n",
       "</style>\n",
       "<table border=\"1\" class=\"dataframe\">\n",
       "  <thead>\n",
       "    <tr style=\"text-align: right;\">\n",
       "      <th></th>\n",
       "      <th>Model</th>\n",
       "      <th>Accuracy (Train)</th>\n",
       "      <th>Accuracy (Test)</th>\n",
       "      <th>Precision (Test)</th>\n",
       "      <th>Recall (Test)</th>\n",
       "      <th>F1 Score (Test)</th>\n",
       "    </tr>\n",
       "  </thead>\n",
       "  <tbody>\n",
       "    <tr>\n",
       "      <th>0</th>\n",
       "      <td>Regular RF Model</td>\n",
       "      <td>1.000000</td>\n",
       "      <td>0.49796</td>\n",
       "      <td>0.496459</td>\n",
       "      <td>0.472367</td>\n",
       "      <td>0.484114</td>\n",
       "    </tr>\n",
       "    <tr>\n",
       "      <th>1</th>\n",
       "      <td>gscv rf Model</td>\n",
       "      <td>0.545147</td>\n",
       "      <td>0.50848</td>\n",
       "      <td>0.511673</td>\n",
       "      <td>0.314671</td>\n",
       "      <td>0.389689</td>\n",
       "    </tr>\n",
       "  </tbody>\n",
       "</table>\n",
       "</div>"
      ],
      "text/plain": [
       "              Model  Accuracy (Train)  Accuracy (Test)  Precision (Test)  \\\n",
       "0  Regular RF Model          1.000000          0.49796          0.496459   \n",
       "1     gscv rf Model          0.545147          0.50848          0.511673   \n",
       "\n",
       "   Recall (Test)  F1 Score (Test)  \n",
       "0       0.472367         0.484114  \n",
       "1       0.314671         0.389689  "
      ]
     },
     "metadata": {},
     "output_type": "display_data"
    }
   ],
   "source": [
    "results_rf=pd.DataFrame(\n",
    "{'Model':['Regular RF Model','gscv rf Model'],\n",
    " 'Accuracy (Train)':[accurracy_train_rf, accurracy_train_rscv_rf],\n",
    " 'Accuracy (Test)':[accurracy_test_rf, accurracy_test_rscv_rf],\n",
    " 'Precision (Test)':[precision_rf, precision_rscv_rf],\n",
    " 'Recall (Test)':[recall_rf, recall_rscv_rf],\n",
    " 'F1 Score (Test)':[f1_score_rf, f1_score_rscv_rf],\n",
    "})\n",
    "display(results_rf)"
   ]
  },
  {
   "cell_type": "markdown",
   "id": "be718f21",
   "metadata": {},
   "source": [
    "# [5] Ada Boost Algorithm"
   ]
  },
  {
   "cell_type": "markdown",
   "id": "0c16d25e",
   "metadata": {},
   "source": [
    "###  Spliting the Dataset"
   ]
  },
  {
   "cell_type": "code",
   "execution_count": 148,
   "id": "7096fe5a",
   "metadata": {},
   "outputs": [],
   "source": [
    "x_train,x_test,y_train,y_test=train_test_split(x,y, test_size=0.25, random_state=12)"
   ]
  },
  {
   "cell_type": "code",
   "execution_count": 149,
   "id": "96c9fd33",
   "metadata": {},
   "outputs": [
    {
     "data": {
      "text/html": [
       "<style>#sk-container-id-9 {color: black;}#sk-container-id-9 pre{padding: 0;}#sk-container-id-9 div.sk-toggleable {background-color: white;}#sk-container-id-9 label.sk-toggleable__label {cursor: pointer;display: block;width: 100%;margin-bottom: 0;padding: 0.3em;box-sizing: border-box;text-align: center;}#sk-container-id-9 label.sk-toggleable__label-arrow:before {content: \"▸\";float: left;margin-right: 0.25em;color: #696969;}#sk-container-id-9 label.sk-toggleable__label-arrow:hover:before {color: black;}#sk-container-id-9 div.sk-estimator:hover label.sk-toggleable__label-arrow:before {color: black;}#sk-container-id-9 div.sk-toggleable__content {max-height: 0;max-width: 0;overflow: hidden;text-align: left;background-color: #f0f8ff;}#sk-container-id-9 div.sk-toggleable__content pre {margin: 0.2em;color: black;border-radius: 0.25em;background-color: #f0f8ff;}#sk-container-id-9 input.sk-toggleable__control:checked~div.sk-toggleable__content {max-height: 200px;max-width: 100%;overflow: auto;}#sk-container-id-9 input.sk-toggleable__control:checked~label.sk-toggleable__label-arrow:before {content: \"▾\";}#sk-container-id-9 div.sk-estimator input.sk-toggleable__control:checked~label.sk-toggleable__label {background-color: #d4ebff;}#sk-container-id-9 div.sk-label input.sk-toggleable__control:checked~label.sk-toggleable__label {background-color: #d4ebff;}#sk-container-id-9 input.sk-hidden--visually {border: 0;clip: rect(1px 1px 1px 1px);clip: rect(1px, 1px, 1px, 1px);height: 1px;margin: -1px;overflow: hidden;padding: 0;position: absolute;width: 1px;}#sk-container-id-9 div.sk-estimator {font-family: monospace;background-color: #f0f8ff;border: 1px dotted black;border-radius: 0.25em;box-sizing: border-box;margin-bottom: 0.5em;}#sk-container-id-9 div.sk-estimator:hover {background-color: #d4ebff;}#sk-container-id-9 div.sk-parallel-item::after {content: \"\";width: 100%;border-bottom: 1px solid gray;flex-grow: 1;}#sk-container-id-9 div.sk-label:hover label.sk-toggleable__label {background-color: #d4ebff;}#sk-container-id-9 div.sk-serial::before {content: \"\";position: absolute;border-left: 1px solid gray;box-sizing: border-box;top: 0;bottom: 0;left: 50%;z-index: 0;}#sk-container-id-9 div.sk-serial {display: flex;flex-direction: column;align-items: center;background-color: white;padding-right: 0.2em;padding-left: 0.2em;position: relative;}#sk-container-id-9 div.sk-item {position: relative;z-index: 1;}#sk-container-id-9 div.sk-parallel {display: flex;align-items: stretch;justify-content: center;background-color: white;position: relative;}#sk-container-id-9 div.sk-item::before, #sk-container-id-9 div.sk-parallel-item::before {content: \"\";position: absolute;border-left: 1px solid gray;box-sizing: border-box;top: 0;bottom: 0;left: 50%;z-index: -1;}#sk-container-id-9 div.sk-parallel-item {display: flex;flex-direction: column;z-index: 1;position: relative;background-color: white;}#sk-container-id-9 div.sk-parallel-item:first-child::after {align-self: flex-end;width: 50%;}#sk-container-id-9 div.sk-parallel-item:last-child::after {align-self: flex-start;width: 50%;}#sk-container-id-9 div.sk-parallel-item:only-child::after {width: 0;}#sk-container-id-9 div.sk-dashed-wrapped {border: 1px dashed gray;margin: 0 0.4em 0.5em 0.4em;box-sizing: border-box;padding-bottom: 0.4em;background-color: white;}#sk-container-id-9 div.sk-label label {font-family: monospace;font-weight: bold;display: inline-block;line-height: 1.2em;}#sk-container-id-9 div.sk-label-container {text-align: center;}#sk-container-id-9 div.sk-container {/* jupyter's `normalize.less` sets `[hidden] { display: none; }` but bootstrap.min.css set `[hidden] { display: none !important; }` so we also need the `!important` here to be able to override the default hidden behavior on the sphinx rendered scikit-learn.org. See: https://github.com/scikit-learn/scikit-learn/issues/21755 */display: inline-block !important;position: relative;}#sk-container-id-9 div.sk-text-repr-fallback {display: none;}</style><div id=\"sk-container-id-9\" class=\"sk-top-container\"><div class=\"sk-text-repr-fallback\"><pre>AdaBoostClassifier(random_state=12)</pre><b>In a Jupyter environment, please rerun this cell to show the HTML representation or trust the notebook. <br />On GitHub, the HTML representation is unable to render, please try loading this page with nbviewer.org.</b></div><div class=\"sk-container\" hidden><div class=\"sk-item\"><div class=\"sk-estimator sk-toggleable\"><input class=\"sk-toggleable__control sk-hidden--visually\" id=\"sk-estimator-id-13\" type=\"checkbox\" checked><label for=\"sk-estimator-id-13\" class=\"sk-toggleable__label sk-toggleable__label-arrow\">AdaBoostClassifier</label><div class=\"sk-toggleable__content\"><pre>AdaBoostClassifier(random_state=12)</pre></div></div></div></div></div>"
      ],
      "text/plain": [
       "AdaBoostClassifier(random_state=12)"
      ]
     },
     "execution_count": 149,
     "metadata": {},
     "output_type": "execute_result"
    }
   ],
   "source": [
    "# creating instance & model fitting\n",
    "ada=AdaBoostClassifier(random_state=12)\n",
    "\n",
    "ada.fit(x_train, y_train)"
   ]
  },
  {
   "cell_type": "markdown",
   "id": "179595eb",
   "metadata": {},
   "source": [
    "### Model Evaluation of AdaBoost"
   ]
  },
  {
   "cell_type": "code",
   "execution_count": 150,
   "id": "6ce89ffe",
   "metadata": {},
   "outputs": [
    {
     "name": "stdout",
     "output_type": "stream",
     "text": [
      "Confusion Matrix -->\n",
      " [[23753 13935]\n",
      " [22403 14909]]\n",
      "************************************************************\n",
      "Accuracy is --> 0.5154933333333334\n",
      "************************************************************\n",
      "Classification report -->\n",
      "               precision    recall  f1-score   support\n",
      "\n",
      "           0       0.51      0.63      0.57     37688\n",
      "           1       0.52      0.40      0.45     37312\n",
      "\n",
      "    accuracy                           0.52     75000\n",
      "   macro avg       0.52      0.51      0.51     75000\n",
      "weighted avg       0.52      0.52      0.51     75000\n",
      "\n"
     ]
    }
   ],
   "source": [
    "# Evaluation of Training Data\n",
    "y_pred_train=ada.predict(x_train)\n",
    "\n",
    "cnf_matrix = confusion_matrix(y_train, y_pred_train)\n",
    "print(\"Confusion Matrix -->\\n\", cnf_matrix)\n",
    "print(\"*\"*60)\n",
    "\n",
    "accurracy_train_ada = accuracy_score(y_train, y_pred_train)\n",
    "print(\"Accuracy is -->\", accurracy_train_ada)\n",
    "print(\"*\"*60)\n",
    "\n",
    "clf_report = classification_report(y_train, y_pred_train)\n",
    "print(\"Classification report -->\\n\",clf_report)"
   ]
  },
  {
   "cell_type": "code",
   "execution_count": 151,
   "id": "88fc9cfb",
   "metadata": {
    "scrolled": true
   },
   "outputs": [
    {
     "name": "stdout",
     "output_type": "stream",
     "text": [
      "Confusion Matrix -->\n",
      " [[7727 4806]\n",
      " [7679 4788]]\n",
      "************************************************************\n",
      "Accuracy is --> 0.5006\n",
      "************************************************************\n",
      "Classification report -->\n",
      "               precision    recall  f1-score   support\n",
      "\n",
      "           0       0.50      0.62      0.55     12533\n",
      "           1       0.50      0.38      0.43     12467\n",
      "\n",
      "    accuracy                           0.50     25000\n",
      "   macro avg       0.50      0.50      0.49     25000\n",
      "weighted avg       0.50      0.50      0.49     25000\n",
      "\n"
     ]
    }
   ],
   "source": [
    "# Evaluation of Testing Data\n",
    "y_pred=ada.predict(x_test)\n",
    "\n",
    "cnf_matrix = confusion_matrix(y_test, y_pred)\n",
    "print(\"Confusion Matrix -->\\n\", cnf_matrix)\n",
    "print(\"*\"*60)\n",
    "\n",
    "accurracy_test_ada = accuracy_score(y_test, y_pred)\n",
    "print(\"Accuracy is -->\", accurracy_test_ada)\n",
    "print(\"*\"*60)\n",
    "\n",
    "clf_report = classification_report(y_test, y_pred)\n",
    "print(\"Classification report -->\\n\",clf_report)\n",
    "\n",
    "precision_ada = precision_score(y_test, y_pred)\n",
    "recall_ada = recall_score(y_test, y_pred)\n",
    "f1_score_ada = f1_score(y_test, y_pred)"
   ]
  },
  {
   "cell_type": "code",
   "execution_count": 152,
   "id": "ca4c1857",
   "metadata": {},
   "outputs": [
    {
     "data": {
      "text/html": [
       "<style>#sk-container-id-10 {color: black;}#sk-container-id-10 pre{padding: 0;}#sk-container-id-10 div.sk-toggleable {background-color: white;}#sk-container-id-10 label.sk-toggleable__label {cursor: pointer;display: block;width: 100%;margin-bottom: 0;padding: 0.3em;box-sizing: border-box;text-align: center;}#sk-container-id-10 label.sk-toggleable__label-arrow:before {content: \"▸\";float: left;margin-right: 0.25em;color: #696969;}#sk-container-id-10 label.sk-toggleable__label-arrow:hover:before {color: black;}#sk-container-id-10 div.sk-estimator:hover label.sk-toggleable__label-arrow:before {color: black;}#sk-container-id-10 div.sk-toggleable__content {max-height: 0;max-width: 0;overflow: hidden;text-align: left;background-color: #f0f8ff;}#sk-container-id-10 div.sk-toggleable__content pre {margin: 0.2em;color: black;border-radius: 0.25em;background-color: #f0f8ff;}#sk-container-id-10 input.sk-toggleable__control:checked~div.sk-toggleable__content {max-height: 200px;max-width: 100%;overflow: auto;}#sk-container-id-10 input.sk-toggleable__control:checked~label.sk-toggleable__label-arrow:before {content: \"▾\";}#sk-container-id-10 div.sk-estimator input.sk-toggleable__control:checked~label.sk-toggleable__label {background-color: #d4ebff;}#sk-container-id-10 div.sk-label input.sk-toggleable__control:checked~label.sk-toggleable__label {background-color: #d4ebff;}#sk-container-id-10 input.sk-hidden--visually {border: 0;clip: rect(1px 1px 1px 1px);clip: rect(1px, 1px, 1px, 1px);height: 1px;margin: -1px;overflow: hidden;padding: 0;position: absolute;width: 1px;}#sk-container-id-10 div.sk-estimator {font-family: monospace;background-color: #f0f8ff;border: 1px dotted black;border-radius: 0.25em;box-sizing: border-box;margin-bottom: 0.5em;}#sk-container-id-10 div.sk-estimator:hover {background-color: #d4ebff;}#sk-container-id-10 div.sk-parallel-item::after {content: \"\";width: 100%;border-bottom: 1px solid gray;flex-grow: 1;}#sk-container-id-10 div.sk-label:hover label.sk-toggleable__label {background-color: #d4ebff;}#sk-container-id-10 div.sk-serial::before {content: \"\";position: absolute;border-left: 1px solid gray;box-sizing: border-box;top: 0;bottom: 0;left: 50%;z-index: 0;}#sk-container-id-10 div.sk-serial {display: flex;flex-direction: column;align-items: center;background-color: white;padding-right: 0.2em;padding-left: 0.2em;position: relative;}#sk-container-id-10 div.sk-item {position: relative;z-index: 1;}#sk-container-id-10 div.sk-parallel {display: flex;align-items: stretch;justify-content: center;background-color: white;position: relative;}#sk-container-id-10 div.sk-item::before, #sk-container-id-10 div.sk-parallel-item::before {content: \"\";position: absolute;border-left: 1px solid gray;box-sizing: border-box;top: 0;bottom: 0;left: 50%;z-index: -1;}#sk-container-id-10 div.sk-parallel-item {display: flex;flex-direction: column;z-index: 1;position: relative;background-color: white;}#sk-container-id-10 div.sk-parallel-item:first-child::after {align-self: flex-end;width: 50%;}#sk-container-id-10 div.sk-parallel-item:last-child::after {align-self: flex-start;width: 50%;}#sk-container-id-10 div.sk-parallel-item:only-child::after {width: 0;}#sk-container-id-10 div.sk-dashed-wrapped {border: 1px dashed gray;margin: 0 0.4em 0.5em 0.4em;box-sizing: border-box;padding-bottom: 0.4em;background-color: white;}#sk-container-id-10 div.sk-label label {font-family: monospace;font-weight: bold;display: inline-block;line-height: 1.2em;}#sk-container-id-10 div.sk-label-container {text-align: center;}#sk-container-id-10 div.sk-container {/* jupyter's `normalize.less` sets `[hidden] { display: none; }` but bootstrap.min.css set `[hidden] { display: none !important; }` so we also need the `!important` here to be able to override the default hidden behavior on the sphinx rendered scikit-learn.org. See: https://github.com/scikit-learn/scikit-learn/issues/21755 */display: inline-block !important;position: relative;}#sk-container-id-10 div.sk-text-repr-fallback {display: none;}</style><div id=\"sk-container-id-10\" class=\"sk-top-container\"><div class=\"sk-text-repr-fallback\"><pre>DecisionTreeClassifier(max_depth=1, random_state=1916507803)</pre><b>In a Jupyter environment, please rerun this cell to show the HTML representation or trust the notebook. <br />On GitHub, the HTML representation is unable to render, please try loading this page with nbviewer.org.</b></div><div class=\"sk-container\" hidden><div class=\"sk-item\"><div class=\"sk-estimator sk-toggleable\"><input class=\"sk-toggleable__control sk-hidden--visually\" id=\"sk-estimator-id-14\" type=\"checkbox\" checked><label for=\"sk-estimator-id-14\" class=\"sk-toggleable__label sk-toggleable__label-arrow\">DecisionTreeClassifier</label><div class=\"sk-toggleable__content\"><pre>DecisionTreeClassifier(max_depth=1, random_state=1916507803)</pre></div></div></div></div></div>"
      ],
      "text/plain": [
       "DecisionTreeClassifier(max_depth=1, random_state=1916507803)"
      ]
     },
     "execution_count": 152,
     "metadata": {},
     "output_type": "execute_result"
    }
   ],
   "source": [
    "ada.estimators_[1]"
   ]
  },
  {
   "cell_type": "code",
   "execution_count": 153,
   "id": "987aebd5",
   "metadata": {},
   "outputs": [],
   "source": [
    "# plt.figure(figsize=(250, 250))\n",
    "# plot_tree(ada.estimators_[1], feature_names=x[f9].columns, filled=True, rounded=True, precision=3)\n",
    "# print()\n",
    "# plt.show()\n",
    "# plt.savefig(\"Ada Boost.png\")"
   ]
  },
  {
   "cell_type": "markdown",
   "id": "91e3422f",
   "metadata": {},
   "source": [
    "## Hyperparameter Tunning"
   ]
  },
  {
   "cell_type": "markdown",
   "id": "147facc8",
   "metadata": {},
   "source": [
    "### RandomizedSearchCV "
   ]
  },
  {
   "cell_type": "code",
   "execution_count": 155,
   "id": "206ddf06",
   "metadata": {},
   "outputs": [
    {
     "name": "stdout",
     "output_type": "stream",
     "text": [
      "Required Time : 165.85421013832092 sec\n"
     ]
    }
   ],
   "source": [
    "import time\n",
    "t1 = time.time()\n",
    "\n",
    "# Defined param_grid\n",
    "\n",
    "param_grid = {\n",
    "            \"n_estimators\" : np.arange(10,200,2),\n",
    "            \"learning_rate\" : np.arange(0,2,0.001)\n",
    "                }\n",
    "\n",
    "# Create Instance & Model Fitting\n",
    "rscv_ada = RandomizedSearchCV(ada, param_grid, cv=7, n_jobs=-1)\n",
    "rscv_ada.fit(x_train, y_train)\n",
    "\n",
    "t2 = time.time()\n",
    "print(\"Required Time :\", t2-t1, \"sec\")"
   ]
  },
  {
   "cell_type": "code",
   "execution_count": 156,
   "id": "47521fac",
   "metadata": {},
   "outputs": [
    {
     "data": {
      "text/plain": [
       "{'n_estimators': 110, 'learning_rate': 1.666}"
      ]
     },
     "execution_count": 156,
     "metadata": {},
     "output_type": "execute_result"
    }
   ],
   "source": [
    "# best parameters from gridsearchcv\n",
    "rscv_ada.best_params_"
   ]
  },
  {
   "cell_type": "markdown",
   "id": "312f7ebf",
   "metadata": {},
   "source": [
    "#### Model Evaluation of GridSearchCV "
   ]
  },
  {
   "cell_type": "code",
   "execution_count": 157,
   "id": "7714e858",
   "metadata": {},
   "outputs": [
    {
     "name": "stdout",
     "output_type": "stream",
     "text": [
      "Confusion Matrix -->\n",
      " [[21678 16010]\n",
      " [19886 17426]]\n",
      "************************************************************\n",
      "Accuracy is --> 0.5213866666666667\n",
      "************************************************************\n",
      "Classification report -->\n",
      "               precision    recall  f1-score   support\n",
      "\n",
      "           0       0.52      0.58      0.55     37688\n",
      "           1       0.52      0.47      0.49     37312\n",
      "\n",
      "    accuracy                           0.52     75000\n",
      "   macro avg       0.52      0.52      0.52     75000\n",
      "weighted avg       0.52      0.52      0.52     75000\n",
      "\n"
     ]
    }
   ],
   "source": [
    "# Evaluation of Training Data\n",
    "y_pred_train=rscv_ada.predict(x_train)\n",
    "\n",
    "cnf_matrix = confusion_matrix(y_train, y_pred_train)\n",
    "print(\"Confusion Matrix -->\\n\", cnf_matrix)\n",
    "print(\"*\"*60)\n",
    "\n",
    "accurracy_train_rscv_ada = accuracy_score(y_train, y_pred_train)\n",
    "print(\"Accuracy is -->\", accurracy_train_rscv_ada)\n",
    "print(\"*\"*60)\n",
    "\n",
    "clf_report = classification_report(y_train, y_pred_train)\n",
    "print(\"Classification report -->\\n\",clf_report)"
   ]
  },
  {
   "cell_type": "code",
   "execution_count": 158,
   "id": "f697b2ae",
   "metadata": {},
   "outputs": [
    {
     "name": "stdout",
     "output_type": "stream",
     "text": [
      "Confusion Matrix -->\n",
      " [[6962 5571]\n",
      " [6860 5607]]\n",
      "************************************************************\n",
      "Accuracy is --> 0.50276\n",
      "************************************************************\n",
      "Classification report -->\n",
      "               precision    recall  f1-score   support\n",
      "\n",
      "           0       0.50      0.56      0.53     12533\n",
      "           1       0.50      0.45      0.47     12467\n",
      "\n",
      "    accuracy                           0.50     25000\n",
      "   macro avg       0.50      0.50      0.50     25000\n",
      "weighted avg       0.50      0.50      0.50     25000\n",
      "\n"
     ]
    }
   ],
   "source": [
    "# Evaluation of Testing Data\n",
    "y_pred = rscv_ada.predict(x_test)\n",
    "\n",
    "cnf_matrix = confusion_matrix(y_test, y_pred)\n",
    "print(\"Confusion Matrix -->\\n\", cnf_matrix)\n",
    "print(\"*\"*60)\n",
    "\n",
    "accurracy_test_rscv_ada = accuracy_score(y_test, y_pred)\n",
    "print(\"Accuracy is -->\", accurracy_test_rscv_ada)\n",
    "print(\"*\"*60)\n",
    "\n",
    "clf_report = classification_report(y_test, y_pred)\n",
    "print(\"Classification report -->\\n\",clf_report)\n",
    "\n",
    "precision_rscv_ada = precision_score(y_test, y_pred)\n",
    "recall_rscv_ada = recall_score(y_test, y_pred)\n",
    "f1_score_rscv_ada = f1_score(y_test, y_pred)"
   ]
  },
  {
   "cell_type": "markdown",
   "id": "a680b084",
   "metadata": {},
   "source": [
    "### Feature Selection Techniques"
   ]
  },
  {
   "cell_type": "raw",
   "id": "74145e37",
   "metadata": {},
   "source": [
    "3. Embedded Method --> Ada Boost feature importance method"
   ]
  },
  {
   "cell_type": "code",
   "execution_count": 159,
   "id": "1b415e46",
   "metadata": {},
   "outputs": [
    {
     "data": {
      "text/plain": [
       "array([0.2 , 0.  , 0.06, 0.44, 0.26, 0.  , 0.02, 0.02, 0.  , 0.  ])"
      ]
     },
     "execution_count": 159,
     "metadata": {},
     "output_type": "execute_result"
    }
   ],
   "source": [
    "array = ada.feature_importances_\n",
    "array"
   ]
  },
  {
   "cell_type": "code",
   "execution_count": 160,
   "id": "46c31363",
   "metadata": {},
   "outputs": [
    {
     "data": {
      "image/png": "[encoded data removed]",
      "text/plain": [
       "<Figure size 640x480 with 1 Axes>"
      ]
     },
     "metadata": {},
     "output_type": "display_data"
    }
   ],
   "source": [
    "s1 = pd.Series(array * 100, index=x.columns)\n",
    "s1.sort_values().plot(kind = \"barh\")\n",
    "plt.show()"
   ]
  },
  {
   "cell_type": "markdown",
   "id": "80b8bac1",
   "metadata": {},
   "source": [
    "# Results Summary :"
   ]
  },
  {
   "cell_type": "code",
   "execution_count": 161,
   "id": "b52f7b1b",
   "metadata": {
    "scrolled": true
   },
   "outputs": [
    {
     "data": {
      "text/html": [
       "<div>\n",
       "<style scoped>\n",
       "    .dataframe tbody tr th:only-of-type {\n",
       "        vertical-align: middle;\n",
       "    }\n",
       "\n",
       "    .dataframe tbody tr th {\n",
       "        vertical-align: top;\n",
       "    }\n",
       "\n",
       "    .dataframe thead th {\n",
       "        text-align: right;\n",
       "    }\n",
       "</style>\n",
       "<table border=\"1\" class=\"dataframe\">\n",
       "  <thead>\n",
       "    <tr style=\"text-align: right;\">\n",
       "      <th></th>\n",
       "      <th>Model</th>\n",
       "      <th>Accuracy (Train)</th>\n",
       "      <th>Accuracy (Test)</th>\n",
       "      <th>Precision (Test)</th>\n",
       "      <th>Recall (Test)</th>\n",
       "      <th>F1 Score (Test)</th>\n",
       "    </tr>\n",
       "  </thead>\n",
       "  <tbody>\n",
       "    <tr>\n",
       "      <th>0</th>\n",
       "      <td>Ada Boost Model</td>\n",
       "      <td>0.515493</td>\n",
       "      <td>0.50060</td>\n",
       "      <td>0.499062</td>\n",
       "      <td>0.384054</td>\n",
       "      <td>0.434069</td>\n",
       "    </tr>\n",
       "    <tr>\n",
       "      <th>1</th>\n",
       "      <td>rscv ada Model</td>\n",
       "      <td>0.521387</td>\n",
       "      <td>0.50276</td>\n",
       "      <td>0.501610</td>\n",
       "      <td>0.449747</td>\n",
       "      <td>0.474265</td>\n",
       "    </tr>\n",
       "  </tbody>\n",
       "</table>\n",
       "</div>"
      ],
      "text/plain": [
       "             Model  Accuracy (Train)  Accuracy (Test)  Precision (Test)  \\\n",
       "0  Ada Boost Model          0.515493          0.50060          0.499062   \n",
       "1   rscv ada Model          0.521387          0.50276          0.501610   \n",
       "\n",
       "   Recall (Test)  F1 Score (Test)  \n",
       "0       0.384054         0.434069  \n",
       "1       0.449747         0.474265  "
      ]
     },
     "metadata": {},
     "output_type": "display_data"
    }
   ],
   "source": [
    "results_ada=pd.DataFrame(\n",
    "{'Model':['Ada Boost Model','rscv ada Model'],\n",
    " 'Accuracy (Train)':[accurracy_train_ada, accurracy_train_rscv_ada],\n",
    " 'Accuracy (Test)':[accurracy_test_ada, accurracy_test_rscv_ada],\n",
    " 'Precision (Test)':[precision_ada, precision_rscv_ada],\n",
    " 'Recall (Test)':[recall_ada, recall_rscv_ada],\n",
    " 'F1 Score (Test)':[f1_score_ada, f1_score_rscv_ada],\n",
    "})\n",
    "display(results_ada)"
   ]
  },
  {
   "cell_type": "markdown",
   "id": "3259cbc1",
   "metadata": {},
   "source": [
    "# [6] Support Vector Machine Algorithm"
   ]
  },
  {
   "cell_type": "markdown",
   "id": "e8865d6a",
   "metadata": {},
   "source": [
    "###  Spliting the Dataset"
   ]
  },
  {
   "cell_type": "code",
   "execution_count": 162,
   "id": "02e509ed",
   "metadata": {},
   "outputs": [],
   "source": [
    "x_train,x_test,y_train,y_test=train_test_split(x,y, test_size=0.25, random_state=12, stratify=y)"
   ]
  },
  {
   "cell_type": "code",
   "execution_count": 163,
   "id": "200d68b7",
   "metadata": {},
   "outputs": [
    {
     "data": {
      "text/html": [
       "<style>#sk-container-id-11 {color: black;}#sk-container-id-11 pre{padding: 0;}#sk-container-id-11 div.sk-toggleable {background-color: white;}#sk-container-id-11 label.sk-toggleable__label {cursor: pointer;display: block;width: 100%;margin-bottom: 0;padding: 0.3em;box-sizing: border-box;text-align: center;}#sk-container-id-11 label.sk-toggleable__label-arrow:before {content: \"▸\";float: left;margin-right: 0.25em;color: #696969;}#sk-container-id-11 label.sk-toggleable__label-arrow:hover:before {color: black;}#sk-container-id-11 div.sk-estimator:hover label.sk-toggleable__label-arrow:before {color: black;}#sk-container-id-11 div.sk-toggleable__content {max-height: 0;max-width: 0;overflow: hidden;text-align: left;background-color: #f0f8ff;}#sk-container-id-11 div.sk-toggleable__content pre {margin: 0.2em;color: black;border-radius: 0.25em;background-color: #f0f8ff;}#sk-container-id-11 input.sk-toggleable__control:checked~div.sk-toggleable__content {max-height: 200px;max-width: 100%;overflow: auto;}#sk-container-id-11 input.sk-toggleable__control:checked~label.sk-toggleable__label-arrow:before {content: \"▾\";}#sk-container-id-11 div.sk-estimator input.sk-toggleable__control:checked~label.sk-toggleable__label {background-color: #d4ebff;}#sk-container-id-11 div.sk-label input.sk-toggleable__control:checked~label.sk-toggleable__label {background-color: #d4ebff;}#sk-container-id-11 input.sk-hidden--visually {border: 0;clip: rect(1px 1px 1px 1px);clip: rect(1px, 1px, 1px, 1px);height: 1px;margin: -1px;overflow: hidden;padding: 0;position: absolute;width: 1px;}#sk-container-id-11 div.sk-estimator {font-family: monospace;background-color: #f0f8ff;border: 1px dotted black;border-radius: 0.25em;box-sizing: border-box;margin-bottom: 0.5em;}#sk-container-id-11 div.sk-estimator:hover {background-color: #d4ebff;}#sk-container-id-11 div.sk-parallel-item::after {content: \"\";width: 100%;border-bottom: 1px solid gray;flex-grow: 1;}#sk-container-id-11 div.sk-label:hover label.sk-toggleable__label {background-color: #d4ebff;}#sk-container-id-11 div.sk-serial::before {content: \"\";position: absolute;border-left: 1px solid gray;box-sizing: border-box;top: 0;bottom: 0;left: 50%;z-index: 0;}#sk-container-id-11 div.sk-serial {display: flex;flex-direction: column;align-items: center;background-color: white;padding-right: 0.2em;padding-left: 0.2em;position: relative;}#sk-container-id-11 div.sk-item {position: relative;z-index: 1;}#sk-container-id-11 div.sk-parallel {display: flex;align-items: stretch;justify-content: center;background-color: white;position: relative;}#sk-container-id-11 div.sk-item::before, #sk-container-id-11 div.sk-parallel-item::before {content: \"\";position: absolute;border-left: 1px solid gray;box-sizing: border-box;top: 0;bottom: 0;left: 50%;z-index: -1;}#sk-container-id-11 div.sk-parallel-item {display: flex;flex-direction: column;z-index: 1;position: relative;background-color: white;}#sk-container-id-11 div.sk-parallel-item:first-child::after {align-self: flex-end;width: 50%;}#sk-container-id-11 div.sk-parallel-item:last-child::after {align-self: flex-start;width: 50%;}#sk-container-id-11 div.sk-parallel-item:only-child::after {width: 0;}#sk-container-id-11 div.sk-dashed-wrapped {border: 1px dashed gray;margin: 0 0.4em 0.5em 0.4em;box-sizing: border-box;padding-bottom: 0.4em;background-color: white;}#sk-container-id-11 div.sk-label label {font-family: monospace;font-weight: bold;display: inline-block;line-height: 1.2em;}#sk-container-id-11 div.sk-label-container {text-align: center;}#sk-container-id-11 div.sk-container {/* jupyter's `normalize.less` sets `[hidden] { display: none; }` but bootstrap.min.css set `[hidden] { display: none !important; }` so we also need the `!important` here to be able to override the default hidden behavior on the sphinx rendered scikit-learn.org. See: https://github.com/scikit-learn/scikit-learn/issues/21755 */display: inline-block !important;position: relative;}#sk-container-id-11 div.sk-text-repr-fallback {display: none;}</style><div id=\"sk-container-id-11\" class=\"sk-top-container\"><div class=\"sk-text-repr-fallback\"><pre>SVC()</pre><b>In a Jupyter environment, please rerun this cell to show the HTML representation or trust the notebook. <br />On GitHub, the HTML representation is unable to render, please try loading this page with nbviewer.org.</b></div><div class=\"sk-container\" hidden><div class=\"sk-item\"><div class=\"sk-estimator sk-toggleable\"><input class=\"sk-toggleable__control sk-hidden--visually\" id=\"sk-estimator-id-15\" type=\"checkbox\" checked><label for=\"sk-estimator-id-15\" class=\"sk-toggleable__label sk-toggleable__label-arrow\">SVC</label><div class=\"sk-toggleable__content\"><pre>SVC()</pre></div></div></div></div></div>"
      ],
      "text/plain": [
       "SVC()"
      ]
     },
     "execution_count": 163,
     "metadata": {},
     "output_type": "execute_result"
    }
   ],
   "source": [
    "# creating instance & model fitting\n",
    "svc=SVC()\n",
    "\n",
    "svc.fit(x_train, y_train)"
   ]
  },
  {
   "cell_type": "markdown",
   "id": "da7868d8",
   "metadata": {},
   "source": [
    "### Model Evaluation"
   ]
  },
  {
   "cell_type": "code",
   "execution_count": 164,
   "id": "6d1f67fa",
   "metadata": {},
   "outputs": [
    {
     "name": "stdout",
     "output_type": "stream",
     "text": [
      "Confusion Matrix -->\n",
      " [[35624  2042]\n",
      " [35193  2141]]\n",
      "************************************************************\n",
      "Accuracy is --> 0.5035333333333334\n",
      "************************************************************\n",
      "Classification report -->\n",
      "               precision    recall  f1-score   support\n",
      "\n",
      "           0       0.50      0.95      0.66     37666\n",
      "           1       0.51      0.06      0.10     37334\n",
      "\n",
      "    accuracy                           0.50     75000\n",
      "   macro avg       0.51      0.50      0.38     75000\n",
      "weighted avg       0.51      0.50      0.38     75000\n",
      "\n"
     ]
    }
   ],
   "source": [
    "# Evaluation of Training Data\n",
    "y_pred_train=svc.predict(x_train)\n",
    "\n",
    "cnf_matrix = confusion_matrix(y_train, y_pred_train)\n",
    "print(\"Confusion Matrix -->\\n\", cnf_matrix)\n",
    "print(\"*\"*60)\n",
    "\n",
    "accurracy_train_svc = accuracy_score(y_train, y_pred_train)\n",
    "print(\"Accuracy is -->\", accurracy_train_svc)\n",
    "print(\"*\"*60)\n",
    "\n",
    "clf_report = classification_report(y_train, y_pred_train)\n",
    "print(\"Classification report -->\\n\",clf_report)"
   ]
  },
  {
   "cell_type": "code",
   "execution_count": 165,
   "id": "bc498670",
   "metadata": {},
   "outputs": [
    {
     "name": "stdout",
     "output_type": "stream",
     "text": [
      "Confusion Matrix -->\n",
      " [[11835   720]\n",
      " [11738   707]]\n",
      "************************************************************\n",
      "Accuracy is --> 0.50168\n",
      "************************************************************\n",
      "Classification report -->\n",
      "               precision    recall  f1-score   support\n",
      "\n",
      "           0       0.50      0.94      0.66     12555\n",
      "           1       0.50      0.06      0.10     12445\n",
      "\n",
      "    accuracy                           0.50     25000\n",
      "   macro avg       0.50      0.50      0.38     25000\n",
      "weighted avg       0.50      0.50      0.38     25000\n",
      "\n"
     ]
    }
   ],
   "source": [
    "# Evaluation of Testing Data\n",
    "y_pred = svc.predict(x_test)\n",
    "\n",
    "cnf_matrix = confusion_matrix(y_test, y_pred)\n",
    "print(\"Confusion Matrix -->\\n\", cnf_matrix)\n",
    "print(\"*\"*60)\n",
    "\n",
    "accurracy_test_svc = accuracy_score(y_test, y_pred)\n",
    "print(\"Accuracy is -->\", accurracy_test_svc)\n",
    "print(\"*\"*60)\n",
    "\n",
    "clf_report = classification_report(y_test, y_pred)\n",
    "print(\"Classification report -->\\n\",clf_report)\n",
    "\n",
    "precision_svc = precision_score(y_test, y_pred)\n",
    "recall_svc = recall_score(y_test, y_pred)\n",
    "f1_score_svc = f1_score(y_test, y_pred)"
   ]
  },
  {
   "cell_type": "markdown",
   "id": "18e1aa5b",
   "metadata": {},
   "source": [
    "## 1) Standardization"
   ]
  },
  {
   "cell_type": "markdown",
   "id": "61ca2808",
   "metadata": {},
   "source": [
    "###  Spliting the Dataset"
   ]
  },
  {
   "cell_type": "code",
   "execution_count": 166,
   "id": "7560ad8a",
   "metadata": {},
   "outputs": [],
   "source": [
    "x_train,x_test,y_train,y_test=train_test_split(x_std,y, test_size=0.25, random_state=12, stratify=y)"
   ]
  },
  {
   "cell_type": "code",
   "execution_count": 167,
   "id": "8d777ea0",
   "metadata": {},
   "outputs": [
    {
     "data": {
      "text/html": [
       "<style>#sk-container-id-12 {color: black;}#sk-container-id-12 pre{padding: 0;}#sk-container-id-12 div.sk-toggleable {background-color: white;}#sk-container-id-12 label.sk-toggleable__label {cursor: pointer;display: block;width: 100%;margin-bottom: 0;padding: 0.3em;box-sizing: border-box;text-align: center;}#sk-container-id-12 label.sk-toggleable__label-arrow:before {content: \"▸\";float: left;margin-right: 0.25em;color: #696969;}#sk-container-id-12 label.sk-toggleable__label-arrow:hover:before {color: black;}#sk-container-id-12 div.sk-estimator:hover label.sk-toggleable__label-arrow:before {color: black;}#sk-container-id-12 div.sk-toggleable__content {max-height: 0;max-width: 0;overflow: hidden;text-align: left;background-color: #f0f8ff;}#sk-container-id-12 div.sk-toggleable__content pre {margin: 0.2em;color: black;border-radius: 0.25em;background-color: #f0f8ff;}#sk-container-id-12 input.sk-toggleable__control:checked~div.sk-toggleable__content {max-height: 200px;max-width: 100%;overflow: auto;}#sk-container-id-12 input.sk-toggleable__control:checked~label.sk-toggleable__label-arrow:before {content: \"▾\";}#sk-container-id-12 div.sk-estimator input.sk-toggleable__control:checked~label.sk-toggleable__label {background-color: #d4ebff;}#sk-container-id-12 div.sk-label input.sk-toggleable__control:checked~label.sk-toggleable__label {background-color: #d4ebff;}#sk-container-id-12 input.sk-hidden--visually {border: 0;clip: rect(1px 1px 1px 1px);clip: rect(1px, 1px, 1px, 1px);height: 1px;margin: -1px;overflow: hidden;padding: 0;position: absolute;width: 1px;}#sk-container-id-12 div.sk-estimator {font-family: monospace;background-color: #f0f8ff;border: 1px dotted black;border-radius: 0.25em;box-sizing: border-box;margin-bottom: 0.5em;}#sk-container-id-12 div.sk-estimator:hover {background-color: #d4ebff;}#sk-container-id-12 div.sk-parallel-item::after {content: \"\";width: 100%;border-bottom: 1px solid gray;flex-grow: 1;}#sk-container-id-12 div.sk-label:hover label.sk-toggleable__label {background-color: #d4ebff;}#sk-container-id-12 div.sk-serial::before {content: \"\";position: absolute;border-left: 1px solid gray;box-sizing: border-box;top: 0;bottom: 0;left: 50%;z-index: 0;}#sk-container-id-12 div.sk-serial {display: flex;flex-direction: column;align-items: center;background-color: white;padding-right: 0.2em;padding-left: 0.2em;position: relative;}#sk-container-id-12 div.sk-item {position: relative;z-index: 1;}#sk-container-id-12 div.sk-parallel {display: flex;align-items: stretch;justify-content: center;background-color: white;position: relative;}#sk-container-id-12 div.sk-item::before, #sk-container-id-12 div.sk-parallel-item::before {content: \"\";position: absolute;border-left: 1px solid gray;box-sizing: border-box;top: 0;bottom: 0;left: 50%;z-index: -1;}#sk-container-id-12 div.sk-parallel-item {display: flex;flex-direction: column;z-index: 1;position: relative;background-color: white;}#sk-container-id-12 div.sk-parallel-item:first-child::after {align-self: flex-end;width: 50%;}#sk-container-id-12 div.sk-parallel-item:last-child::after {align-self: flex-start;width: 50%;}#sk-container-id-12 div.sk-parallel-item:only-child::after {width: 0;}#sk-container-id-12 div.sk-dashed-wrapped {border: 1px dashed gray;margin: 0 0.4em 0.5em 0.4em;box-sizing: border-box;padding-bottom: 0.4em;background-color: white;}#sk-container-id-12 div.sk-label label {font-family: monospace;font-weight: bold;display: inline-block;line-height: 1.2em;}#sk-container-id-12 div.sk-label-container {text-align: center;}#sk-container-id-12 div.sk-container {/* jupyter's `normalize.less` sets `[hidden] { display: none; }` but bootstrap.min.css set `[hidden] { display: none !important; }` so we also need the `!important` here to be able to override the default hidden behavior on the sphinx rendered scikit-learn.org. See: https://github.com/scikit-learn/scikit-learn/issues/21755 */display: inline-block !important;position: relative;}#sk-container-id-12 div.sk-text-repr-fallback {display: none;}</style><div id=\"sk-container-id-12\" class=\"sk-top-container\"><div class=\"sk-text-repr-fallback\"><pre>SVC()</pre><b>In a Jupyter environment, please rerun this cell to show the HTML representation or trust the notebook. <br />On GitHub, the HTML representation is unable to render, please try loading this page with nbviewer.org.</b></div><div class=\"sk-container\" hidden><div class=\"sk-item\"><div class=\"sk-estimator sk-toggleable\"><input class=\"sk-toggleable__control sk-hidden--visually\" id=\"sk-estimator-id-16\" type=\"checkbox\" checked><label for=\"sk-estimator-id-16\" class=\"sk-toggleable__label sk-toggleable__label-arrow\">SVC</label><div class=\"sk-toggleable__content\"><pre>SVC()</pre></div></div></div></div></div>"
      ],
      "text/plain": [
       "SVC()"
      ]
     },
     "execution_count": 167,
     "metadata": {},
     "output_type": "execute_result"
    }
   ],
   "source": [
    "# creating instance & model fitting\n",
    "svc_std=SVC()\n",
    "\n",
    "svc_std.fit(x_train, y_train)"
   ]
  },
  {
   "cell_type": "markdown",
   "id": "70c21a0e",
   "metadata": {},
   "source": [
    "### Model Evaluation"
   ]
  },
  {
   "cell_type": "code",
   "execution_count": 168,
   "id": "419dd665",
   "metadata": {},
   "outputs": [
    {
     "name": "stdout",
     "output_type": "stream",
     "text": [
      "Confusion Matrix -->\n",
      " [[23157 14509]\n",
      " [21535 15799]]\n",
      "************************************************************\n",
      "Accuracy is --> 0.5194133333333333\n",
      "************************************************************\n",
      "Classification report -->\n",
      "               precision    recall  f1-score   support\n",
      "\n",
      "           0       0.52      0.61      0.56     37666\n",
      "           1       0.52      0.42      0.47     37334\n",
      "\n",
      "    accuracy                           0.52     75000\n",
      "   macro avg       0.52      0.52      0.51     75000\n",
      "weighted avg       0.52      0.52      0.51     75000\n",
      "\n"
     ]
    }
   ],
   "source": [
    "# Evaluation of Training Data\n",
    "y_pred_train=svc_std.predict(x_train)\n",
    "\n",
    "cnf_matrix = confusion_matrix(y_train, y_pred_train)\n",
    "print(\"Confusion Matrix -->\\n\", cnf_matrix)\n",
    "print(\"*\"*60)\n",
    "\n",
    "accurracy_train_svc_std = accuracy_score(y_train, y_pred_train)\n",
    "print(\"Accuracy is -->\", accurracy_train_svc_std)\n",
    "print(\"*\"*60)\n",
    "\n",
    "clf_report = classification_report(y_train, y_pred_train)\n",
    "print(\"Classification report -->\\n\",clf_report)"
   ]
  },
  {
   "cell_type": "code",
   "execution_count": 169,
   "id": "fbcdb3b3",
   "metadata": {},
   "outputs": [
    {
     "name": "stdout",
     "output_type": "stream",
     "text": [
      "Confusion Matrix -->\n",
      " [[7458 5097]\n",
      " [7341 5104]]\n",
      "************************************************************\n",
      "Accuracy is --> 0.50248\n",
      "************************************************************\n",
      "Classification report -->\n",
      "               precision    recall  f1-score   support\n",
      "\n",
      "           0       0.50      0.59      0.55     12555\n",
      "           1       0.50      0.41      0.45     12445\n",
      "\n",
      "    accuracy                           0.50     25000\n",
      "   macro avg       0.50      0.50      0.50     25000\n",
      "weighted avg       0.50      0.50      0.50     25000\n",
      "\n"
     ]
    }
   ],
   "source": [
    "# Evaluation of Testing Data\n",
    "y_pred=svc_std.predict(x_test)\n",
    "\n",
    "cnf_matrix = confusion_matrix(y_test, y_pred)\n",
    "print(\"Confusion Matrix -->\\n\", cnf_matrix)\n",
    "print(\"*\"*60)\n",
    "\n",
    "accurracy_test_svc_std = accuracy_score(y_test, y_pred)\n",
    "print(\"Accuracy is -->\", accurracy_test_svc_std)\n",
    "print(\"*\"*60)\n",
    "\n",
    "clf_report = classification_report(y_test, y_pred)\n",
    "print(\"Classification report -->\\n\",clf_report)\n",
    "\n",
    "precision_svc_std = precision_score(y_test, y_pred)\n",
    "recall_svc_std = recall_score(y_test, y_pred)\n",
    "f1_score_svc_std = f1_score(y_test, y_pred)"
   ]
  },
  {
   "cell_type": "markdown",
   "id": "3c4d8fa9",
   "metadata": {},
   "source": [
    "## 2) Normalization"
   ]
  },
  {
   "cell_type": "markdown",
   "id": "19cea466",
   "metadata": {},
   "source": [
    "###  Spliting the Dataset"
   ]
  },
  {
   "cell_type": "code",
   "execution_count": 170,
   "id": "2fd01b13",
   "metadata": {},
   "outputs": [],
   "source": [
    "x_train,x_test,y_train,y_test=train_test_split(x_norm,y, test_size=0.25, random_state=12, stratify=y)"
   ]
  },
  {
   "cell_type": "code",
   "execution_count": 171,
   "id": "1698b881",
   "metadata": {},
   "outputs": [
    {
     "data": {
      "text/html": [
       "<style>#sk-container-id-13 {color: black;}#sk-container-id-13 pre{padding: 0;}#sk-container-id-13 div.sk-toggleable {background-color: white;}#sk-container-id-13 label.sk-toggleable__label {cursor: pointer;display: block;width: 100%;margin-bottom: 0;padding: 0.3em;box-sizing: border-box;text-align: center;}#sk-container-id-13 label.sk-toggleable__label-arrow:before {content: \"▸\";float: left;margin-right: 0.25em;color: #696969;}#sk-container-id-13 label.sk-toggleable__label-arrow:hover:before {color: black;}#sk-container-id-13 div.sk-estimator:hover label.sk-toggleable__label-arrow:before {color: black;}#sk-container-id-13 div.sk-toggleable__content {max-height: 0;max-width: 0;overflow: hidden;text-align: left;background-color: #f0f8ff;}#sk-container-id-13 div.sk-toggleable__content pre {margin: 0.2em;color: black;border-radius: 0.25em;background-color: #f0f8ff;}#sk-container-id-13 input.sk-toggleable__control:checked~div.sk-toggleable__content {max-height: 200px;max-width: 100%;overflow: auto;}#sk-container-id-13 input.sk-toggleable__control:checked~label.sk-toggleable__label-arrow:before {content: \"▾\";}#sk-container-id-13 div.sk-estimator input.sk-toggleable__control:checked~label.sk-toggleable__label {background-color: #d4ebff;}#sk-container-id-13 div.sk-label input.sk-toggleable__control:checked~label.sk-toggleable__label {background-color: #d4ebff;}#sk-container-id-13 input.sk-hidden--visually {border: 0;clip: rect(1px 1px 1px 1px);clip: rect(1px, 1px, 1px, 1px);height: 1px;margin: -1px;overflow: hidden;padding: 0;position: absolute;width: 1px;}#sk-container-id-13 div.sk-estimator {font-family: monospace;background-color: #f0f8ff;border: 1px dotted black;border-radius: 0.25em;box-sizing: border-box;margin-bottom: 0.5em;}#sk-container-id-13 div.sk-estimator:hover {background-color: #d4ebff;}#sk-container-id-13 div.sk-parallel-item::after {content: \"\";width: 100%;border-bottom: 1px solid gray;flex-grow: 1;}#sk-container-id-13 div.sk-label:hover label.sk-toggleable__label {background-color: #d4ebff;}#sk-container-id-13 div.sk-serial::before {content: \"\";position: absolute;border-left: 1px solid gray;box-sizing: border-box;top: 0;bottom: 0;left: 50%;z-index: 0;}#sk-container-id-13 div.sk-serial {display: flex;flex-direction: column;align-items: center;background-color: white;padding-right: 0.2em;padding-left: 0.2em;position: relative;}#sk-container-id-13 div.sk-item {position: relative;z-index: 1;}#sk-container-id-13 div.sk-parallel {display: flex;align-items: stretch;justify-content: center;background-color: white;position: relative;}#sk-container-id-13 div.sk-item::before, #sk-container-id-13 div.sk-parallel-item::before {content: \"\";position: absolute;border-left: 1px solid gray;box-sizing: border-box;top: 0;bottom: 0;left: 50%;z-index: -1;}#sk-container-id-13 div.sk-parallel-item {display: flex;flex-direction: column;z-index: 1;position: relative;background-color: white;}#sk-container-id-13 div.sk-parallel-item:first-child::after {align-self: flex-end;width: 50%;}#sk-container-id-13 div.sk-parallel-item:last-child::after {align-self: flex-start;width: 50%;}#sk-container-id-13 div.sk-parallel-item:only-child::after {width: 0;}#sk-container-id-13 div.sk-dashed-wrapped {border: 1px dashed gray;margin: 0 0.4em 0.5em 0.4em;box-sizing: border-box;padding-bottom: 0.4em;background-color: white;}#sk-container-id-13 div.sk-label label {font-family: monospace;font-weight: bold;display: inline-block;line-height: 1.2em;}#sk-container-id-13 div.sk-label-container {text-align: center;}#sk-container-id-13 div.sk-container {/* jupyter's `normalize.less` sets `[hidden] { display: none; }` but bootstrap.min.css set `[hidden] { display: none !important; }` so we also need the `!important` here to be able to override the default hidden behavior on the sphinx rendered scikit-learn.org. See: https://github.com/scikit-learn/scikit-learn/issues/21755 */display: inline-block !important;position: relative;}#sk-container-id-13 div.sk-text-repr-fallback {display: none;}</style><div id=\"sk-container-id-13\" class=\"sk-top-container\"><div class=\"sk-text-repr-fallback\"><pre>SVC()</pre><b>In a Jupyter environment, please rerun this cell to show the HTML representation or trust the notebook. <br />On GitHub, the HTML representation is unable to render, please try loading this page with nbviewer.org.</b></div><div class=\"sk-container\" hidden><div class=\"sk-item\"><div class=\"sk-estimator sk-toggleable\"><input class=\"sk-toggleable__control sk-hidden--visually\" id=\"sk-estimator-id-17\" type=\"checkbox\" checked><label for=\"sk-estimator-id-17\" class=\"sk-toggleable__label sk-toggleable__label-arrow\">SVC</label><div class=\"sk-toggleable__content\"><pre>SVC()</pre></div></div></div></div></div>"
      ],
      "text/plain": [
       "SVC()"
      ]
     },
     "execution_count": 171,
     "metadata": {},
     "output_type": "execute_result"
    }
   ],
   "source": [
    "# creating instance & model fitting\n",
    "svc_norm=SVC()\n",
    "\n",
    "svc_norm.fit(x_train, y_train)"
   ]
  },
  {
   "cell_type": "markdown",
   "id": "8ac7eadf",
   "metadata": {},
   "source": [
    "### Model Evaluation"
   ]
  },
  {
   "cell_type": "code",
   "execution_count": 172,
   "id": "a69275b1",
   "metadata": {},
   "outputs": [
    {
     "name": "stdout",
     "output_type": "stream",
     "text": [
      "Confusion Matrix -->\n",
      " [[24330 13336]\n",
      " [23054 14280]]\n",
      "************************************************************\n",
      "Accuracy is --> 0.5148\n",
      "************************************************************\n",
      "Classification report -->\n",
      "               precision    recall  f1-score   support\n",
      "\n",
      "           0       0.51      0.65      0.57     37666\n",
      "           1       0.52      0.38      0.44     37334\n",
      "\n",
      "    accuracy                           0.51     75000\n",
      "   macro avg       0.52      0.51      0.51     75000\n",
      "weighted avg       0.52      0.51      0.51     75000\n",
      "\n"
     ]
    }
   ],
   "source": [
    "# Evaluation of Training Data\n",
    "y_pred_train=svc_norm.predict(x_train)\n",
    "\n",
    "cnf_matrix = confusion_matrix(y_train, y_pred_train)\n",
    "print(\"Confusion Matrix -->\\n\", cnf_matrix)\n",
    "print(\"*\"*60)\n",
    "\n",
    "accurracy_train_svc_norm = accuracy_score(y_train, y_pred_train)\n",
    "print(\"Accuracy is -->\", accurracy_train_svc_norm)\n",
    "print(\"*\"*60)\n",
    "\n",
    "clf_report = classification_report(y_train, y_pred_train)\n",
    "print(\"Classification report -->\\n\",clf_report)"
   ]
  },
  {
   "cell_type": "code",
   "execution_count": 173,
   "id": "75128da6",
   "metadata": {},
   "outputs": [
    {
     "name": "stdout",
     "output_type": "stream",
     "text": [
      "Confusion Matrix -->\n",
      " [[7930 4625]\n",
      " [7814 4631]]\n",
      "************************************************************\n",
      "Accuracy is --> 0.50244\n",
      "************************************************************\n",
      "Classification report -->\n",
      "               precision    recall  f1-score   support\n",
      "\n",
      "           0       0.50      0.63      0.56     12555\n",
      "           1       0.50      0.37      0.43     12445\n",
      "\n",
      "    accuracy                           0.50     25000\n",
      "   macro avg       0.50      0.50      0.49     25000\n",
      "weighted avg       0.50      0.50      0.49     25000\n",
      "\n"
     ]
    }
   ],
   "source": [
    "# Evaluation of Testing Data\n",
    "y_pred=svc_norm.predict(x_test)\n",
    "\n",
    "cnf_matrix = confusion_matrix(y_test, y_pred)\n",
    "print(\"Confusion Matrix -->\\n\", cnf_matrix)\n",
    "print(\"*\"*60)\n",
    "\n",
    "accurracy_test_svc_norm = accuracy_score(y_test, y_pred)\n",
    "print(\"Accuracy is -->\", accurracy_test_svc_norm)\n",
    "print(\"*\"*60)\n",
    "\n",
    "clf_report = classification_report(y_test, y_pred)\n",
    "print(\"Classification report -->\\n\",clf_report)\n",
    "\n",
    "precision_svc_norm = precision_score(y_test, y_pred)\n",
    "recall_svc_norm = recall_score(y_test, y_pred)\n",
    "f1_score_svc_norm = f1_score(y_test, y_pred)"
   ]
  },
  {
   "cell_type": "markdown",
   "id": "006b0099",
   "metadata": {},
   "source": [
    "# Results"
   ]
  },
  {
   "cell_type": "code",
   "execution_count": 174,
   "id": "9e5caa39",
   "metadata": {},
   "outputs": [
    {
     "data": {
      "text/html": [
       "<div>\n",
       "<style scoped>\n",
       "    .dataframe tbody tr th:only-of-type {\n",
       "        vertical-align: middle;\n",
       "    }\n",
       "\n",
       "    .dataframe tbody tr th {\n",
       "        vertical-align: top;\n",
       "    }\n",
       "\n",
       "    .dataframe thead th {\n",
       "        text-align: right;\n",
       "    }\n",
       "</style>\n",
       "<table border=\"1\" class=\"dataframe\">\n",
       "  <thead>\n",
       "    <tr style=\"text-align: right;\">\n",
       "      <th></th>\n",
       "      <th>Model</th>\n",
       "      <th>Accuracy (Train)</th>\n",
       "      <th>Accuracy (Test)</th>\n",
       "      <th>Precision (Test)</th>\n",
       "      <th>Recall (Test)</th>\n",
       "      <th>F1 Score (Test)</th>\n",
       "    </tr>\n",
       "  </thead>\n",
       "  <tbody>\n",
       "    <tr>\n",
       "      <th>0</th>\n",
       "      <td>SVM Model</td>\n",
       "      <td>0.503533</td>\n",
       "      <td>0.50168</td>\n",
       "      <td>0.495445</td>\n",
       "      <td>0.056810</td>\n",
       "      <td>0.101932</td>\n",
       "    </tr>\n",
       "    <tr>\n",
       "      <th>1</th>\n",
       "      <td>SVM Std</td>\n",
       "      <td>0.519413</td>\n",
       "      <td>0.50248</td>\n",
       "      <td>0.500343</td>\n",
       "      <td>0.410125</td>\n",
       "      <td>0.450764</td>\n",
       "    </tr>\n",
       "    <tr>\n",
       "      <th>2</th>\n",
       "      <td>SVM Normal</td>\n",
       "      <td>0.514800</td>\n",
       "      <td>0.50244</td>\n",
       "      <td>0.500324</td>\n",
       "      <td>0.372117</td>\n",
       "      <td>0.426801</td>\n",
       "    </tr>\n",
       "  </tbody>\n",
       "</table>\n",
       "</div>"
      ],
      "text/plain": [
       "        Model  Accuracy (Train)  Accuracy (Test)  Precision (Test)  \\\n",
       "0   SVM Model          0.503533          0.50168          0.495445   \n",
       "1     SVM Std          0.519413          0.50248          0.500343   \n",
       "2  SVM Normal          0.514800          0.50244          0.500324   \n",
       "\n",
       "   Recall (Test)  F1 Score (Test)  \n",
       "0       0.056810         0.101932  \n",
       "1       0.410125         0.450764  \n",
       "2       0.372117         0.426801  "
      ]
     },
     "metadata": {},
     "output_type": "display_data"
    }
   ],
   "source": [
    "results_svc=pd.DataFrame(\n",
    "{'Model':['SVM Model', 'SVM Std', 'SVM Normal'],\n",
    " 'Accuracy (Train)':[accurracy_train_svc, accurracy_train_svc_std, accurracy_train_svc_norm],\n",
    " 'Accuracy (Test)':[accurracy_test_svc, accurracy_test_svc_std, accurracy_test_svc_norm],\n",
    " 'Precision (Test)':[precision_svc, precision_svc_std, precision_svc_norm],\n",
    " 'Recall (Test)':[recall_svc, recall_svc_std, recall_svc_norm],\n",
    " 'F1 Score (Test)':[f1_score_svc, f1_score_svc_std, f1_score_svc_norm], \n",
    "})\n",
    "display(results_svc)"
   ]
  },
  {
   "cell_type": "markdown",
   "id": "e4ee9101",
   "metadata": {},
   "source": [
    "# Comparison of all Results"
   ]
  },
  {
   "cell_type": "code",
   "execution_count": 175,
   "id": "45de0346",
   "metadata": {},
   "outputs": [
    {
     "data": {
      "text/html": [
       "<div>\n",
       "<style scoped>\n",
       "    .dataframe tbody tr th:only-of-type {\n",
       "        vertical-align: middle;\n",
       "    }\n",
       "\n",
       "    .dataframe tbody tr th {\n",
       "        vertical-align: top;\n",
       "    }\n",
       "\n",
       "    .dataframe thead th {\n",
       "        text-align: right;\n",
       "    }\n",
       "</style>\n",
       "<table border=\"1\" class=\"dataframe\">\n",
       "  <thead>\n",
       "    <tr style=\"text-align: right;\">\n",
       "      <th></th>\n",
       "      <th>Model</th>\n",
       "      <th>Accuracy (Train)</th>\n",
       "      <th>Accuracy (Test)</th>\n",
       "      <th>Precision (Test)</th>\n",
       "      <th>Recall (Test)</th>\n",
       "      <th>F1 Score (Test)</th>\n",
       "      <th>% Diff.</th>\n",
       "    </tr>\n",
       "  </thead>\n",
       "  <tbody>\n",
       "    <tr>\n",
       "      <th>0</th>\n",
       "      <td>Logistic Regression Model</td>\n",
       "      <td>0.504187</td>\n",
       "      <td>0.50440</td>\n",
       "      <td>0.502630</td>\n",
       "      <td>0.422338</td>\n",
       "      <td>0.458999</td>\n",
       "      <td>-0.021333</td>\n",
       "    </tr>\n",
       "    <tr>\n",
       "      <th>1</th>\n",
       "      <td>Standardize KNN</td>\n",
       "      <td>0.688013</td>\n",
       "      <td>0.49660</td>\n",
       "      <td>0.494366</td>\n",
       "      <td>0.493532</td>\n",
       "      <td>0.493948</td>\n",
       "      <td>19.141333</td>\n",
       "    </tr>\n",
       "    <tr>\n",
       "      <th>2</th>\n",
       "      <td>Normalized KNN</td>\n",
       "      <td>0.687733</td>\n",
       "      <td>0.49716</td>\n",
       "      <td>0.494922</td>\n",
       "      <td>0.493371</td>\n",
       "      <td>0.494145</td>\n",
       "      <td>19.057333</td>\n",
       "    </tr>\n",
       "    <tr>\n",
       "      <th>3</th>\n",
       "      <td>GSCV STD KNN</td>\n",
       "      <td>0.687213</td>\n",
       "      <td>0.49992</td>\n",
       "      <td>0.496350</td>\n",
       "      <td>0.311450</td>\n",
       "      <td>0.382739</td>\n",
       "      <td>18.729333</td>\n",
       "    </tr>\n",
       "    <tr>\n",
       "      <th>4</th>\n",
       "      <td>GSCV Normal KNN</td>\n",
       "      <td>0.657547</td>\n",
       "      <td>0.49756</td>\n",
       "      <td>0.493149</td>\n",
       "      <td>0.335476</td>\n",
       "      <td>0.399311</td>\n",
       "      <td>15.998667</td>\n",
       "    </tr>\n",
       "    <tr>\n",
       "      <th>5</th>\n",
       "      <td>Regular DT Model</td>\n",
       "      <td>1.000000</td>\n",
       "      <td>0.49796</td>\n",
       "      <td>0.496605</td>\n",
       "      <td>0.492821</td>\n",
       "      <td>0.494706</td>\n",
       "      <td>50.204000</td>\n",
       "    </tr>\n",
       "    <tr>\n",
       "      <th>6</th>\n",
       "      <td>gscv DT Model</td>\n",
       "      <td>0.507587</td>\n",
       "      <td>0.50268</td>\n",
       "      <td>0.509091</td>\n",
       "      <td>0.076362</td>\n",
       "      <td>0.132803</td>\n",
       "      <td>0.490667</td>\n",
       "    </tr>\n",
       "    <tr>\n",
       "      <th>7</th>\n",
       "      <td>Regular RF Model</td>\n",
       "      <td>1.000000</td>\n",
       "      <td>0.49796</td>\n",
       "      <td>0.496459</td>\n",
       "      <td>0.472367</td>\n",
       "      <td>0.484114</td>\n",
       "      <td>50.204000</td>\n",
       "    </tr>\n",
       "    <tr>\n",
       "      <th>8</th>\n",
       "      <td>gscv rf Model</td>\n",
       "      <td>0.545147</td>\n",
       "      <td>0.50848</td>\n",
       "      <td>0.511673</td>\n",
       "      <td>0.314671</td>\n",
       "      <td>0.389689</td>\n",
       "      <td>3.666667</td>\n",
       "    </tr>\n",
       "    <tr>\n",
       "      <th>9</th>\n",
       "      <td>Ada Boost Model</td>\n",
       "      <td>0.515493</td>\n",
       "      <td>0.50060</td>\n",
       "      <td>0.499062</td>\n",
       "      <td>0.384054</td>\n",
       "      <td>0.434069</td>\n",
       "      <td>1.489333</td>\n",
       "    </tr>\n",
       "    <tr>\n",
       "      <th>10</th>\n",
       "      <td>rscv ada Model</td>\n",
       "      <td>0.521387</td>\n",
       "      <td>0.50276</td>\n",
       "      <td>0.501610</td>\n",
       "      <td>0.449747</td>\n",
       "      <td>0.474265</td>\n",
       "      <td>1.862667</td>\n",
       "    </tr>\n",
       "    <tr>\n",
       "      <th>11</th>\n",
       "      <td>SVM Model</td>\n",
       "      <td>0.503533</td>\n",
       "      <td>0.50168</td>\n",
       "      <td>0.495445</td>\n",
       "      <td>0.056810</td>\n",
       "      <td>0.101932</td>\n",
       "      <td>0.185333</td>\n",
       "    </tr>\n",
       "    <tr>\n",
       "      <th>12</th>\n",
       "      <td>SVM Std</td>\n",
       "      <td>0.519413</td>\n",
       "      <td>0.50248</td>\n",
       "      <td>0.500343</td>\n",
       "      <td>0.410125</td>\n",
       "      <td>0.450764</td>\n",
       "      <td>1.693333</td>\n",
       "    </tr>\n",
       "    <tr>\n",
       "      <th>13</th>\n",
       "      <td>SVM Normal</td>\n",
       "      <td>0.514800</td>\n",
       "      <td>0.50244</td>\n",
       "      <td>0.500324</td>\n",
       "      <td>0.372117</td>\n",
       "      <td>0.426801</td>\n",
       "      <td>1.236000</td>\n",
       "    </tr>\n",
       "  </tbody>\n",
       "</table>\n",
       "</div>"
      ],
      "text/plain": [
       "                        Model  Accuracy (Train)  Accuracy (Test)  \\\n",
       "0   Logistic Regression Model          0.504187          0.50440   \n",
       "1             Standardize KNN          0.688013          0.49660   \n",
       "2              Normalized KNN          0.687733          0.49716   \n",
       "3                GSCV STD KNN          0.687213          0.49992   \n",
       "4             GSCV Normal KNN          0.657547          0.49756   \n",
       "5            Regular DT Model          1.000000          0.49796   \n",
       "6               gscv DT Model          0.507587          0.50268   \n",
       "7            Regular RF Model          1.000000          0.49796   \n",
       "8               gscv rf Model          0.545147          0.50848   \n",
       "9             Ada Boost Model          0.515493          0.50060   \n",
       "10             rscv ada Model          0.521387          0.50276   \n",
       "11                  SVM Model          0.503533          0.50168   \n",
       "12                    SVM Std          0.519413          0.50248   \n",
       "13                 SVM Normal          0.514800          0.50244   \n",
       "\n",
       "    Precision (Test)  Recall (Test)  F1 Score (Test)    % Diff.  \n",
       "0           0.502630       0.422338         0.458999  -0.021333  \n",
       "1           0.494366       0.493532         0.493948  19.141333  \n",
       "2           0.494922       0.493371         0.494145  19.057333  \n",
       "3           0.496350       0.311450         0.382739  18.729333  \n",
       "4           0.493149       0.335476         0.399311  15.998667  \n",
       "5           0.496605       0.492821         0.494706  50.204000  \n",
       "6           0.509091       0.076362         0.132803   0.490667  \n",
       "7           0.496459       0.472367         0.484114  50.204000  \n",
       "8           0.511673       0.314671         0.389689   3.666667  \n",
       "9           0.499062       0.384054         0.434069   1.489333  \n",
       "10          0.501610       0.449747         0.474265   1.862667  \n",
       "11          0.495445       0.056810         0.101932   0.185333  \n",
       "12          0.500343       0.410125         0.450764   1.693333  \n",
       "13          0.500324       0.372117         0.426801   1.236000  "
      ]
     },
     "execution_count": 175,
     "metadata": {},
     "output_type": "execute_result"
    }
   ],
   "source": [
    "result=pd.concat([results_log,results_knn,results_dt,results_rf,results_ada, results_svc],axis=0,ignore_index=True)\n",
    "result['% Diff.']=(result['Accuracy (Train)']-result['Accuracy (Test)'])*100\n",
    "result"
   ]
  },
  {
   "cell_type": "code",
   "execution_count": 176,
   "id": "245eb9f7",
   "metadata": {},
   "outputs": [],
   "source": [
    "# From above comparison SVM Std model gives good acuracy with less variance\n",
    "# Hence, selecting SVM model "
   ]
  },
  {
   "cell_type": "markdown",
   "id": "d86c2f9b",
   "metadata": {},
   "source": [
    "### Storring the feature names, label encoded values in JSON file"
   ]
  },
  {
   "cell_type": "code",
   "execution_count": 186,
   "id": "76334037",
   "metadata": {},
   "outputs": [],
   "source": [
    "feature_names = x.columns\n",
    "Gender_value={'Female': 0, 'Male': 1}\n",
    "\n",
    "json_data = {\"Gender\":Gender_value, \n",
    "             \"columns\":list(feature_names),\n",
    "            }\n",
    "\n",
    "with open(\"Project_data.json\", \"w\") as f:\n",
    "    json.dump(json_data, f)"
   ]
  },
  {
   "cell_type": "markdown",
   "id": "393cafc6",
   "metadata": {},
   "source": [
    "### Storring all fitted model in pickle file"
   ]
  },
  {
   "cell_type": "code",
   "execution_count": 189,
   "id": "96a4fe1d",
   "metadata": {},
   "outputs": [],
   "source": [
    "# all fitted model are storring for reference.\n",
    "with open(\"models/log_model.pkl\", \"wb\") as f:\n",
    "    pickle.dump(log_model, f)\n",
    "\n",
    "with open(\"models/knn_std.pkl\", \"wb\") as f:\n",
    "    pickle.dump(knn_std, f)\n",
    "    \n",
    "with open(\"models/gscv_knn_std.pkl\", \"wb\") as f:\n",
    "    pickle.dump(gscv_knn_std, f)\n",
    "\n",
    "with open(\"models/knn_norm.pkl\", \"wb\") as f:\n",
    "    pickle.dump(knn_norm, f)\n",
    "    \n",
    "with open(\"models/gscv_knn_norm.pkl\", \"wb\") as f:\n",
    "    pickle.dump(gscv_knn_norm, f)\n",
    "    \n",
    "with open(\"models/dt_model.pkl\", \"wb\") as f:\n",
    "    pickle.dump(dt_model, f)\n",
    "    \n",
    "with open(\"models/gscv_dt.pkl\", \"wb\") as f:\n",
    "    pickle.dump(gscv_dt, f)\n",
    "    \n",
    "with open(\"models/rf.pkl\", \"wb\") as f:\n",
    "    pickle.dump(rf, f)\n",
    "    \n",
    "with open(\"models/rscv_rf.pkl\", \"wb\") as f:\n",
    "    pickle.dump(rscv_rf, f)\n",
    "    \n",
    "with open(\"models/ada.pkl\", \"wb\") as f:\n",
    "    pickle.dump(ada, f)\n",
    "    \n",
    "with open(\"models/rscv_ada.pkl\", \"wb\") as f:\n",
    "    pickle.dump(rscv_ada, f)\n",
    "    \n",
    "with open(\"models/svc.pkl\", \"wb\") as f:\n",
    "    pickle.dump(svc, f)\n",
    "    \n",
    "with open(\"models/svc_std.pkl\", \"wb\") as f:\n",
    "    pickle.dump(svc_std, f)\n",
    "    \n",
    "with open(\"models/svc_norm.pkl\", \"wb\") as f:\n",
    "    pickle.dump(svc_norm, f)\n",
    "    \n",
    "    \n",
    "#fitted related Standardize scalling term\n",
    "with open(\"models/StandardScaler.pkl\", \"wb\") as f:\n",
    "    pickle.dump(std_scaler, f)\n",
    "\n",
    "#fitted related Normalize scalling term\n",
    "with open(\"models/MinMaxScaler.pkl\", \"wb\") as f:\n",
    "    pickle.dump(norm_scaler, f)"
   ]
  },
  {
   "cell_type": "markdown",
   "id": "67cbd8aa",
   "metadata": {},
   "source": [
    "### loading models"
   ]
  },
  {
   "cell_type": "code",
   "execution_count": 190,
   "id": "99b9762a",
   "metadata": {},
   "outputs": [],
   "source": [
    "with open(\"Project_data.json\", \"r\") as f:\n",
    "    json_data=json.load(f)\n",
    "\n",
    "#fitted model\n",
    "with open(\"models/svc_std.pkl\", \"rb\") as f:\n",
    "    model=pickle.load(f)"
   ]
  },
  {
   "cell_type": "markdown",
   "id": "084f991c",
   "metadata": {},
   "source": [
    "# Prediction on User entered value for testing"
   ]
  },
  {
   "cell_type": "code",
   "execution_count": 191,
   "id": "1b544380",
   "metadata": {},
   "outputs": [],
   "source": [
    "Age                         = 36\n",
    "Gender                      = \"Female\"\n",
    "Location                    = \"Miami\"\n",
    "Subscription_Length_Months  = 3\n",
    "Monthly_Bill                = 97.94\n",
    "Total_Usage_GB              = 297\n",
    "\n",
    "# Feature\"CustomerID\" and \"Name\" have no contribution on prediction"
   ]
  },
  {
   "cell_type": "markdown",
   "id": "960e4aed",
   "metadata": {},
   "source": [
    "### conversion for One-Hot Encoded values"
   ]
  },
  {
   "cell_type": "code",
   "execution_count": 192,
   "id": "30ff09a7",
   "metadata": {},
   "outputs": [],
   "source": [
    "Location = \"Location_\" + Location\n",
    "# index of one-hot encodded columns\n",
    "Location_index = json_data['columns'].index(Location)"
   ]
  },
  {
   "cell_type": "markdown",
   "id": "824214a4",
   "metadata": {},
   "source": [
    "### conversion for label Encoded values"
   ]
  },
  {
   "cell_type": "code",
   "execution_count": 193,
   "id": "f83f855c",
   "metadata": {},
   "outputs": [],
   "source": [
    "Gender=json_data['Gender'][Gender]"
   ]
  },
  {
   "cell_type": "markdown",
   "id": "fb51c476",
   "metadata": {},
   "source": [
    "### Creating array of user input values"
   ]
  },
  {
   "cell_type": "code",
   "execution_count": 194,
   "id": "e4fec387",
   "metadata": {},
   "outputs": [
    {
     "data": {
      "text/plain": [
       "array([ 36.  ,   0.  ,   3.  ,  97.94, 297.  ,   0.  ,   0.  ,   0.  ,\n",
       "         1.  ,   0.  ])"
      ]
     },
     "execution_count": 194,
     "metadata": {},
     "output_type": "execute_result"
    }
   ],
   "source": [
    "test_array = np.zeros(len(json_data['columns']))\n",
    "\n",
    "# Note: put feature values in front of correct feature index according to training dataset\n",
    "test_array[0] = Age\n",
    "test_array[1] = Gender    #label encodded\n",
    "test_array[2] = Subscription_Length_Months\n",
    "test_array[3] = Monthly_Bill\n",
    "test_array[4] = Total_Usage_GB\n",
    "test_array[Location_index] = 1   # one-hot encodded\n",
    "\n",
    "test_array"
   ]
  },
  {
   "cell_type": "markdown",
   "id": "80a56b9d",
   "metadata": {},
   "source": [
    "## Manual Prediction Output Testing"
   ]
  },
  {
   "cell_type": "code",
   "execution_count": 196,
   "id": "f50de12f",
   "metadata": {
    "scrolled": true
   },
   "outputs": [
    {
     "name": "stdout",
     "output_type": "stream",
     "text": [
      "Customer would be Churn\n"
     ]
    }
   ],
   "source": [
    "prediction = model.predict([test_array])[0]\n",
    "\n",
    "if prediction==1:\n",
    "    print(\"Customer would be Churn\")\n",
    "else:\n",
    "    print(\"Customer would not be Churn\")"
   ]
  },
  {
   "cell_type": "markdown",
   "id": "def40533",
   "metadata": {},
   "source": [
    "## Model Deployment"
   ]
  },
  {
   "cell_type": "code",
   "execution_count": null,
   "id": "2a9b79ac",
   "metadata": {},
   "outputs": [],
   "source": [
    "# Model is ready to deploy in main.py file to test using Flask web framework using HTML file rendering to get input from user. \n",
    "# Also provision of testing using postman is also provided in main.py file, Kindly Go through that."
   ]
  }
 ],
 "metadata": {
  "kernelspec": {
   "display_name": "Python 3 (ipykernel)",
   "language": "python",
   "name": "python3"
  },
  "language_info": {
   "codemirror_mode": {
    "name": "ipython",
    "version": 3
   },
   "file_extension": ".py",
   "mimetype": "text/x-python",
   "name": "python",
   "nbconvert_exporter": "python",
   "pygments_lexer": "ipython3",
   "version": "3.9.13"
  }
 },
 "nbformat": 4,
 "nbformat_minor": 5
}
